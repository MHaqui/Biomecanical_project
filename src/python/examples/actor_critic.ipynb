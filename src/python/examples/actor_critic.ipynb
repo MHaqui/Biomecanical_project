{
 "cells": [
  {
   "cell_type": "markdown",
   "metadata": {
    "id": "_jQ1tEQCxwRx"
   },
   "source": [
    "##### Copyright 2020 The TensorFlow Authors."
   ]
  },
  {
   "cell_type": "code",
   "execution_count": 1,
   "metadata": {
    "cellView": "form",
    "execution": {
     "iopub.execute_input": "2022-11-29T02:26:47.246585Z",
     "iopub.status.busy": "2022-11-29T02:26:47.246171Z",
     "iopub.status.idle": "2022-11-29T02:26:47.251309Z",
     "shell.execute_reply": "2022-11-29T02:26:47.250500Z"
    },
    "id": "V_sgB_5dx1f1"
   },
   "outputs": [],
   "source": [
    "#@title Licensed under the Apache License, Version 2.0 (the \"License\");\n",
    "# you may not use this file except in compliance with the License.\n",
    "# You may obtain a copy of the License at\n",
    "#\n",
    "# https://www.apache.org/licenses/LICENSE-2.0\n",
    "#\n",
    "# Unless required by applicable law or agreed to in writing, software\n",
    "# distributed under the License is distributed on an \"AS IS\" BASIS,\n",
    "# WITHOUT WARRANTIES OR CONDITIONS OF ANY KIND, either express or implied.\n",
    "# See the License for the specific language governing permissions and\n",
    "# limitations under the License."
   ]
  },
  {
   "cell_type": "markdown",
   "metadata": {
    "id": "p62G8M_viUJp"
   },
   "source": [
    "# Playing CartPole with the Actor-Critic method\n"
   ]
  },
  {
   "cell_type": "markdown",
   "metadata": {
    "id": "-mJ2i6jvZ3sK"
   },
   "source": [
    "<table class=\"tfo-notebook-buttons\" align=\"left\">\n",
    "  <td>\n",
    "    <a target=\"_blank\" href=\"https://www.tensorflow.org/tutorials/reinforcement_learning/actor_critic\">\n",
    "    <img src=\"https://www.tensorflow.org/images/tf_logo_32px.png\" />\n",
    "    View on TensorFlow.org</a>\n",
    "  </td>\n",
    "  <td>\n",
    "    <a target=\"_blank\" href=\"https://colab.research.google.com/github/tensorflow/docs/blob/master/site/en/tutorials/reinforcement_learning/actor_critic.ipynb\">\n",
    "    <img src=\"https://www.tensorflow.org/images/colab_logo_32px.png\" />\n",
    "    Run in Google Colab</a>\n",
    "  </td>\n",
    "  <td>\n",
    "    <a target=\"_blank\" href=\"https://github.com/tensorflow/docs/blob/master/site/en/tutorials/reinforcement_learning/actor_critic.ipynb\">\n",
    "    <img src=\"https://www.tensorflow.org/images/GitHub-Mark-32px.png\" />\n",
    "    View source on GitHub</a>\n",
    "  </td>\n",
    "  <td>\n",
    "    <a href=\"https://storage.googleapis.com/tensorflow_docs/docs/site/en/tutorials/reinforcement_learning/actor_critic.ipynb\"><img src=\"https://www.tensorflow.org/images/download_logo_32px.png\" />Download notebook</a>\n",
    "  </td>\n",
    "</table>"
   ]
  },
  {
   "cell_type": "markdown",
   "metadata": {
    "id": "kFgN7h_wiUJq"
   },
   "source": [
    "This tutorial demonstrates how to implement the [Actor-Critic](https://papers.nips.cc/paper/1786-actor-critic-algorithms.pdf) method using TensorFlow to train an agent on the [Open AI Gym](https://gym.openai.com/) [`CartPole-v0`](https://www.gymlibrary.dev/environments/classic_control/cart_pole/) environment.\n",
    "The reader is assumed to have some familiarity with [policy gradient methods](https://papers.nips.cc/paper/1713-policy-gradient-methods-for-reinforcement-learning-with-function-approximation.pdf) of [(deep) reinforcement learning](https://en.wikipedia.org/wiki/Deep_reinforcement_learning). \n"
   ]
  },
  {
   "cell_type": "markdown",
   "metadata": {
    "id": "_kA10ZKRR0hi"
   },
   "source": [
    "**Actor-Critic methods**\n",
    "\n",
    "Actor-Critic methods are [temporal difference (TD) learning](https://en.wikipedia.org/wiki/Temporal_difference_learning) methods that represent the policy function independent of the value function.\n",
    "\n",
    "A policy function (or policy) returns a probability distribution over actions that the agent can take based on the given state.\n",
    "A value function determines the expected return for an agent starting at a given state and acting according to a particular policy forever after.\n",
    "\n",
    "In the Actor-Critic method, the policy is referred to as the *actor* that proposes a set of possible actions given a state, and the estimated value function is referred to as the *critic*, which evaluates actions taken by the *actor* based on the given policy.\n",
    "\n",
    "In this tutorial, both the *Actor* and *Critic* will be represented using one neural network with two outputs.\n"
   ]
  },
  {
   "cell_type": "markdown",
   "metadata": {
    "id": "rBfiafKSRs2k"
   },
   "source": [
    "**`CartPole-v0`**\n",
    "\n",
    "In the [`CartPole-v0` environment](https://www.gymlibrary.dev/environments/classic_control/cart_pole/), a pole is attached to a cart moving along a frictionless track.\n",
    "The pole starts upright and the goal of the agent is to prevent it from falling over by applying a force of `-1` or `+1` to the cart.\n",
    "A reward of `+1` is given for every time step the pole remains upright.\n",
    "An episode ends when: 1) the pole is more than 15 degrees from vertical; or 2) the cart moves more than 2.4 units from the center.\n",
    "\n",
    "<center>\n",
    "  <figure>\n",
    "    <image src=\"https://tensorflow.org/tutorials/reinforcement_learning/images/cartpole-v0.gif\">\n",
    "    <figcaption>\n",
    "      Trained actor-critic model in Cartpole-v0 environment\n",
    "    </figcaption>\n",
    "  </figure>\n",
    "</center>\n"
   ]
  },
  {
   "cell_type": "markdown",
   "metadata": {
    "id": "XSNVK0AeRoJd"
   },
   "source": [
    "The problem is considered \"solved\" when the average total reward for the episode reaches 195 over 100 consecutive trials."
   ]
  },
  {
   "cell_type": "markdown",
   "metadata": {
    "id": "glLwIctHiUJq"
   },
   "source": [
    "## Setup\n",
    "\n",
    "Import necessary packages and configure global settings.\n"
   ]
  },
  {
   "cell_type": "code",
   "execution_count": 2,
   "metadata": {
    "execution": {
     "iopub.execute_input": "2022-11-29T02:26:47.257935Z",
     "iopub.status.busy": "2022-11-29T02:26:47.257383Z",
     "iopub.status.idle": "2022-11-29T02:26:59.079084Z",
     "shell.execute_reply": "2022-11-29T02:26:59.077934Z"
    },
    "id": "13l6BbxKhCKp"
   },
   "outputs": [
    {
     "name": "stdout",
     "output_type": "stream",
     "text": [
      "Collecting gym[classic_control]\r\n"
     ]
    },
    {
     "name": "stdout",
     "output_type": "stream",
     "text": [
      "  Downloading gym-0.26.2.tar.gz (721 kB)\r\n"
     ]
    },
    {
     "name": "stdout",
     "output_type": "stream",
     "text": [
      "  Installing build dependencies ... \u001b[?25l-"
     ]
    },
    {
     "name": "stdout",
     "output_type": "stream",
     "text": [
      "\b \b\\"
     ]
    },
    {
     "name": "stdout",
     "output_type": "stream",
     "text": [
      "\b \b|"
     ]
    },
    {
     "name": "stdout",
     "output_type": "stream",
     "text": [
      "\b \bdone\r\n"
     ]
    },
    {
     "name": "stdout",
     "output_type": "stream",
     "text": [
      "\u001b[?25h  Getting requirements to build wheel ... \u001b[?25l-"
     ]
    },
    {
     "name": "stdout",
     "output_type": "stream",
     "text": [
      "\b \bdone\r\n"
     ]
    },
    {
     "name": "stdout",
     "output_type": "stream",
     "text": [
      "\u001b[?25h  Preparing metadata (pyproject.toml) ... \u001b[?25l-"
     ]
    },
    {
     "name": "stdout",
     "output_type": "stream",
     "text": [
      "\b \bdone\r\n"
     ]
    },
    {
     "name": "stdout",
     "output_type": "stream",
     "text": [
      "\u001b[?25hRequirement already satisfied: numpy>=1.18.0 in /tmpfs/src/tf_docs_env/lib/python3.9/site-packages (from gym[classic_control]) (1.24.0rc1)\r\n"
     ]
    },
    {
     "name": "stdout",
     "output_type": "stream",
     "text": [
      "Collecting cloudpickle>=1.2.0\r\n",
      "  Downloading cloudpickle-2.2.0-py3-none-any.whl (25 kB)\r\n"
     ]
    },
    {
     "name": "stdout",
     "output_type": "stream",
     "text": [
      "Collecting gym-notices>=0.0.4\r\n"
     ]
    },
    {
     "name": "stdout",
     "output_type": "stream",
     "text": [
      "  Downloading gym_notices-0.0.8-py3-none-any.whl (3.0 kB)\r\n",
      "Requirement already satisfied: importlib-metadata>=4.8.0 in /tmpfs/src/tf_docs_env/lib/python3.9/site-packages (from gym[classic_control]) (5.1.0)\r\n"
     ]
    },
    {
     "name": "stdout",
     "output_type": "stream",
     "text": [
      "Collecting pygame==2.1.0\r\n",
      "  Downloading pygame-2.1.0-cp39-cp39-manylinux_2_17_x86_64.manylinux2014_x86_64.whl (18.3 MB)\r\n"
     ]
    },
    {
     "name": "stdout",
     "output_type": "stream",
     "text": [
      "Requirement already satisfied: zipp>=0.5 in /tmpfs/src/tf_docs_env/lib/python3.9/site-packages (from importlib-metadata>=4.8.0->gym[classic_control]) (3.11.0)\r\n",
      "Building wheels for collected packages: gym\r\n"
     ]
    },
    {
     "name": "stdout",
     "output_type": "stream",
     "text": [
      "  Building wheel for gym (pyproject.toml) ... \u001b[?25l-"
     ]
    },
    {
     "name": "stdout",
     "output_type": "stream",
     "text": [
      "\b \b\\"
     ]
    },
    {
     "name": "stdout",
     "output_type": "stream",
     "text": [
      "\b \b|"
     ]
    },
    {
     "name": "stdout",
     "output_type": "stream",
     "text": [
      "\b \bdone\r\n",
      "\u001b[?25h  Created wheel for gym: filename=gym-0.26.2-py3-none-any.whl size=827633 sha256=6ee1b00b0ab97f1d7d8f076e998d538be738ecece62e9559c3cadcd0f3a2d048\r\n",
      "  Stored in directory: /home/kbuilder/.cache/pip/wheels/fc/bf/16/63ad354aa94e522b5fddf1729d8dfc47ad5980079054d4f714\r\n",
      "Successfully built gym\r\n"
     ]
    },
    {
     "name": "stdout",
     "output_type": "stream",
     "text": [
      "Installing collected packages: gym-notices, pygame, cloudpickle, gym\r\n"
     ]
    },
    {
     "name": "stdout",
     "output_type": "stream",
     "text": [
      "Successfully installed cloudpickle-2.2.0 gym-0.26.2 gym-notices-0.0.8 pygame-2.1.0\r\n"
     ]
    },
    {
     "name": "stdout",
     "output_type": "stream",
     "text": [
      "Collecting pyglet\r\n"
     ]
    },
    {
     "name": "stdout",
     "output_type": "stream",
     "text": [
      "  Downloading pyglet-2.0.0-py3-none-any.whl (966 kB)\r\n"
     ]
    },
    {
     "name": "stdout",
     "output_type": "stream",
     "text": [
      "Installing collected packages: pyglet\r\n"
     ]
    },
    {
     "name": "stdout",
     "output_type": "stream",
     "text": [
      "Successfully installed pyglet-2.0.0\r\n"
     ]
    }
   ],
   "source": [
    "!pip install gym[classic_control]\n",
    "!pip install pyglet"
   ]
  },
  {
   "cell_type": "code",
   "execution_count": 3,
   "metadata": {
    "execution": {
     "iopub.execute_input": "2022-11-29T02:26:59.084017Z",
     "iopub.status.busy": "2022-11-29T02:26:59.083728Z",
     "iopub.status.idle": "2022-11-29T02:27:13.445878Z",
     "shell.execute_reply": "2022-11-29T02:27:13.444615Z"
    },
    "id": "WBeQhPi2S4m5"
   },
   "outputs": [],
   "source": [
    "%%bash\n",
    "# Install additional packages for visualization\n",
    "sudo apt-get install -y python-opengl > /dev/null 2>&1\n",
    "pip install git+https://github.com/tensorflow/docs > /dev/null 2>&1"
   ]
  },
  {
   "cell_type": "code",
   "execution_count": 4,
   "metadata": {
    "execution": {
     "iopub.execute_input": "2022-11-29T02:27:13.450774Z",
     "iopub.status.busy": "2022-11-29T02:27:13.450491Z",
     "iopub.status.idle": "2022-11-29T02:27:16.562334Z",
     "shell.execute_reply": "2022-11-29T02:27:16.561001Z"
    },
    "id": "tT4N3qYviUJr"
   },
   "outputs": [
    {
     "name": "stderr",
     "output_type": "stream",
     "text": [
      "2022-11-29 02:27:14.647672: W tensorflow/compiler/xla/stream_executor/platform/default/dso_loader.cc:64] Could not load dynamic library 'libnvinfer.so.7'; dlerror: libnvinfer.so.7: cannot open shared object file: No such file or directory\n",
      "2022-11-29 02:27:14.647860: W tensorflow/compiler/xla/stream_executor/platform/default/dso_loader.cc:64] Could not load dynamic library 'libnvinfer_plugin.so.7'; dlerror: libnvinfer_plugin.so.7: cannot open shared object file: No such file or directory\n",
      "2022-11-29 02:27:14.647875: W tensorflow/compiler/tf2tensorrt/utils/py_utils.cc:38] TF-TRT Warning: Cannot dlopen some TensorRT libraries. If you would like to use Nvidia GPU with TensorRT, please make sure the missing libraries mentioned above are installed properly.\n"
     ]
    }
   ],
   "source": [
    "import collections\n",
    "import gym\n",
    "import numpy as np\n",
    "import statistics\n",
    "import tensorflow as tf\n",
    "import tqdm\n",
    "\n",
    "from matplotlib import pyplot as plt\n",
    "from tensorflow.keras import layers\n",
    "from typing import Any, List, Sequence, Tuple\n",
    "\n",
    "\n",
    "# Create the environment\n",
    "env = gym.make(\"CartPole-v1\")\n",
    "\n",
    "# Set seed for experiment reproducibility\n",
    "seed = 42\n",
    "tf.random.set_seed(seed)\n",
    "np.random.seed(seed)\n",
    "\n",
    "# Small epsilon value for stabilizing division operations\n",
    "eps = np.finfo(np.float32).eps.item()"
   ]
  },
  {
   "cell_type": "markdown",
   "metadata": {
    "id": "AOUCe2D0iUJu"
   },
   "source": [
    "## The model\n",
    "\n",
    "The *Actor* and *Critic* will be modeled using one neural network that generates the action probabilities and Critic value respectively. This tutorial uses model subclassing to define the model. \n",
    "\n",
    "During the forward pass, the model will take in the state as the input and will output both action probabilities and critic value $V$, which models the state-dependent [value function](https://spinningup.openai.com/en/latest/spinningup/rl_intro.html#value-functions). The goal is to train a model that chooses actions based on a policy $\\pi$ that maximizes expected [return](https://spinningup.openai.com/en/latest/spinningup/rl_intro.html#reward-and-return).\n",
    "\n",
    "For `CartPole-v0`, there are four values representing the state: cart position, cart-velocity, pole angle and pole velocity respectively. The agent can take two actions to push the cart left (`0`) and right (`1`), respectively.\n",
    "\n",
    "Refer to [Gym's Cart Pole documentation page](https://www.gymlibrary.dev/environments/classic_control/cart_pole/) and [_Neuronlike adaptive elements that can solve difficult learning control problems_](http://www.derongliu.org/adp/adp-cdrom/Barto1983.pdf) by Barto, Sutton and Anderson (1983) for more information.\n"
   ]
  },
  {
   "cell_type": "code",
   "execution_count": 5,
   "metadata": {
    "execution": {
     "iopub.execute_input": "2022-11-29T02:27:16.568233Z",
     "iopub.status.busy": "2022-11-29T02:27:16.567744Z",
     "iopub.status.idle": "2022-11-29T02:27:16.575362Z",
     "shell.execute_reply": "2022-11-29T02:27:16.574046Z"
    },
    "id": "aXKbbMC-kmuv"
   },
   "outputs": [],
   "source": [
    "class ActorCritic(tf.keras.Model):\n",
    "  \"\"\"Combined actor-critic network.\"\"\"\n",
    "\n",
    "  def __init__(\n",
    "      self, \n",
    "      num_actions: int, \n",
    "      num_hidden_units: int):\n",
    "    \"\"\"Initialize.\"\"\"\n",
    "    super().__init__()\n",
    "\n",
    "    self.common = layers.Dense(num_hidden_units, activation=\"relu\")\n",
    "    self.actor = layers.Dense(num_actions)\n",
    "    self.critic = layers.Dense(1)\n",
    "\n",
    "  def call(self, inputs: tf.Tensor) -> Tuple[tf.Tensor, tf.Tensor]:\n",
    "    x = self.common(inputs)\n",
    "    return self.actor(x), self.critic(x)"
   ]
  },
  {
   "cell_type": "code",
   "execution_count": 6,
   "metadata": {
    "execution": {
     "iopub.execute_input": "2022-11-29T02:27:16.579574Z",
     "iopub.status.busy": "2022-11-29T02:27:16.579263Z",
     "iopub.status.idle": "2022-11-29T02:27:20.862063Z",
     "shell.execute_reply": "2022-11-29T02:27:20.861091Z"
    },
    "id": "nWyxJgjLn68c"
   },
   "outputs": [],
   "source": [
    "num_actions = env.action_space.n  # 2\n",
    "num_hidden_units = 128\n",
    "\n",
    "model = ActorCritic(num_actions, num_hidden_units)"
   ]
  },
  {
   "cell_type": "markdown",
   "metadata": {
    "id": "hk92njFziUJw"
   },
   "source": [
    "## Train the agent\n",
    "\n",
    "To train the agent, you will follow these steps:\n",
    "\n",
    "1. Run the agent on the environment to collect training data per episode.\n",
    "2. Compute expected return at each time step.\n",
    "3. Compute the loss for the combined Actor-Critic model.\n",
    "4. Compute gradients and update network parameters.\n",
    "5. Repeat 1-4 until either success criterion or max episodes has been reached.\n"
   ]
  },
  {
   "cell_type": "markdown",
   "metadata": {
    "id": "R2nde2XDs8Gh"
   },
   "source": [
    "### 1. Collect training data\n",
    "\n",
    "As in supervised learning, in order to train the actor-critic model, you need\n",
    "to have training data. However, in order to collect such data, the model would\n",
    "need to be \"run\" in the environment.\n",
    "\n",
    "Training data is collected for each episode. Then at each time step, the model's forward pass will be run on the environment's state in order to generate action probabilities and the critic value based on the current policy parameterized by the model's weights.\n",
    "\n",
    "The next action will be sampled from the action probabilities generated by the model, which would then be applied to the environment, causing the next state and reward to be generated.\n",
    "\n",
    "This process is implemented in the `run_episode` function, which uses TensorFlow operations so that it can later be compiled into a TensorFlow graph for faster training. Note that `tf.TensorArray`s were used to support Tensor iteration on variable length arrays."
   ]
  },
  {
   "cell_type": "code",
   "execution_count": 7,
   "metadata": {
    "execution": {
     "iopub.execute_input": "2022-11-29T02:27:20.867310Z",
     "iopub.status.busy": "2022-11-29T02:27:20.866643Z",
     "iopub.status.idle": "2022-11-29T02:27:20.872909Z",
     "shell.execute_reply": "2022-11-29T02:27:20.872070Z"
    },
    "id": "5URrbGlDSAGx"
   },
   "outputs": [],
   "source": [
    "# Wrap Gym's `env.step` call as an operation in a TensorFlow function.\n",
    "# This would allow it to be included in a callable TensorFlow graph.\n",
    "\n",
    "def env_step(action: np.ndarray) -> Tuple[np.ndarray, np.ndarray, np.ndarray]:\n",
    "  \"\"\"Returns state, reward and done flag given an action.\"\"\"\n",
    "\n",
    "  state, reward, done, truncated, info = env.step(action)\n",
    "  return (state.astype(np.float32), \n",
    "          np.array(reward, np.int32), \n",
    "          np.array(done, np.int32))\n",
    "\n",
    "\n",
    "def tf_env_step(action: tf.Tensor) -> List[tf.Tensor]:\n",
    "  return tf.numpy_function(env_step, [action], \n",
    "                           [tf.float32, tf.int32, tf.int32])"
   ]
  },
  {
   "cell_type": "code",
   "execution_count": 8,
   "metadata": {
    "execution": {
     "iopub.execute_input": "2022-11-29T02:27:20.876400Z",
     "iopub.status.busy": "2022-11-29T02:27:20.876112Z",
     "iopub.status.idle": "2022-11-29T02:27:20.884332Z",
     "shell.execute_reply": "2022-11-29T02:27:20.883497Z"
    },
    "id": "a4qVRV063Cl9"
   },
   "outputs": [],
   "source": [
    "def run_episode(\n",
    "    initial_state: tf.Tensor,  \n",
    "    model: tf.keras.Model, \n",
    "    max_steps: int) -> Tuple[tf.Tensor, tf.Tensor, tf.Tensor]:\n",
    "  \"\"\"Runs a single episode to collect training data.\"\"\"\n",
    "\n",
    "  action_probs = tf.TensorArray(dtype=tf.float32, size=0, dynamic_size=True)\n",
    "  values = tf.TensorArray(dtype=tf.float32, size=0, dynamic_size=True)\n",
    "  rewards = tf.TensorArray(dtype=tf.int32, size=0, dynamic_size=True)\n",
    "\n",
    "  initial_state_shape = initial_state.shape\n",
    "  state = initial_state\n",
    "\n",
    "  for t in tf.range(max_steps):\n",
    "    # Convert state into a batched tensor (batch size = 1)\n",
    "    state = tf.expand_dims(state, 0)\n",
    "  \n",
    "    # Run the model and to get action probabilities and critic value\n",
    "    action_logits_t, value = model(state)\n",
    "  \n",
    "    # Sample next action from the action probability distribution\n",
    "    action = tf.random.categorical(action_logits_t, 1)[0, 0]\n",
    "    action_probs_t = tf.nn.softmax(action_logits_t)\n",
    "\n",
    "    # Store critic values\n",
    "    values = values.write(t, tf.squeeze(value))\n",
    "\n",
    "    # Store log probability of the action chosen\n",
    "    action_probs = action_probs.write(t, action_probs_t[0, action])\n",
    "  \n",
    "    # Apply action to the environment to get next state and reward\n",
    "    state, reward, done = tf_env_step(action)\n",
    "    state.set_shape(initial_state_shape)\n",
    "  \n",
    "    # Store reward\n",
    "    rewards = rewards.write(t, reward)\n",
    "\n",
    "    if tf.cast(done, tf.bool):\n",
    "      break\n",
    "\n",
    "  action_probs = action_probs.stack()\n",
    "  values = values.stack()\n",
    "  rewards = rewards.stack()\n",
    "  \n",
    "  return action_probs, values, rewards"
   ]
  },
  {
   "cell_type": "markdown",
   "metadata": {
    "id": "lBnIHdz22dIx"
   },
   "source": [
    "### 2. Compute the expected returns\n",
    "\n",
    "The sequence of rewards for each timestep $t$, $\\{r_{t}\\}^{T}_{t=1}$ collected during one episode is converted into a sequence of expected returns $\\{G_{t}\\}^{T}_{t=1}$ in which the sum of rewards is taken from the current timestep $t$ to $T$ and each reward is multiplied with an exponentially decaying discount factor $\\gamma$:\n",
    "\n",
    "$$G_{t} = \\sum^{T}_{t'=t} \\gamma^{t'-t}r_{t'}$$\n",
    "\n",
    "Since $\\gamma\\in(0,1)$, rewards further out from the current timestep are given less weight.\n",
    "\n",
    "Intuitively, expected return simply implies that rewards now are better than rewards later. In a mathematical sense, it is to ensure that the sum of the rewards converges.\n",
    "\n",
    "To stabilize training, the resulting sequence of returns is also standardized (i.e. to have zero mean and unit standard deviation).\n"
   ]
  },
  {
   "cell_type": "code",
   "execution_count": 9,
   "metadata": {
    "execution": {
     "iopub.execute_input": "2022-11-29T02:27:20.888408Z",
     "iopub.status.busy": "2022-11-29T02:27:20.888116Z",
     "iopub.status.idle": "2022-11-29T02:27:20.894535Z",
     "shell.execute_reply": "2022-11-29T02:27:20.893680Z"
    },
    "id": "jpEwFyl315dl"
   },
   "outputs": [],
   "source": [
    "def get_expected_return(\n",
    "    rewards: tf.Tensor, \n",
    "    gamma: float, \n",
    "    standardize: bool = True) -> tf.Tensor:\n",
    "  \"\"\"Compute expected returns per timestep.\"\"\"\n",
    "\n",
    "  n = tf.shape(rewards)[0]\n",
    "  returns = tf.TensorArray(dtype=tf.float32, size=n)\n",
    "\n",
    "  # Start from the end of `rewards` and accumulate reward sums\n",
    "  # into the `returns` array\n",
    "  rewards = tf.cast(rewards[::-1], dtype=tf.float32)\n",
    "  discounted_sum = tf.constant(0.0)\n",
    "  discounted_sum_shape = discounted_sum.shape\n",
    "  for i in tf.range(n):\n",
    "    reward = rewards[i]\n",
    "    discounted_sum = reward + gamma * discounted_sum\n",
    "    discounted_sum.set_shape(discounted_sum_shape)\n",
    "    returns = returns.write(i, discounted_sum)\n",
    "  returns = returns.stack()[::-1]\n",
    "\n",
    "  if standardize:\n",
    "    returns = ((returns - tf.math.reduce_mean(returns)) / \n",
    "               (tf.math.reduce_std(returns) + eps))\n",
    "\n",
    "  return returns"
   ]
  },
  {
   "cell_type": "markdown",
   "metadata": {
    "id": "qhr50_Czxazw"
   },
   "source": [
    "### 3. The Actor-Critic loss\n",
    "\n",
    "Since you're using a hybrid Actor-Critic model, the chosen loss function is a combination of Actor and Critic losses for training, as shown below:\n",
    "\n",
    "$$L = L_{actor} + L_{critic}$$"
   ]
  },
  {
   "cell_type": "markdown",
   "metadata": {
    "id": "nOQIJuG1xdTH"
   },
   "source": [
    "#### The Actor loss\n",
    "\n",
    "The Actor loss is based on [policy gradients with the Critic as a state dependent baseline](https://www.youtube.com/watch?v=EKqxumCuAAY&t=62m23s) and computed with single-sample (per-episode) estimates.\n",
    "\n",
    "$$L_{actor} = -\\sum^{T}_{t=1} \\log\\pi_{\\theta}(a_{t} | s_{t})[G(s_{t}, a_{t})  - V^{\\pi}_{\\theta}(s_{t})]$$\n",
    "\n",
    "where:\n",
    "- $T$: the number of timesteps per episode, which can vary per episode\n",
    "- $s_{t}$: the state at timestep $t$\n",
    "- $a_{t}$: chosen action at timestep $t$ given state $s$\n",
    "- $\\pi_{\\theta}$: is the policy (Actor) parameterized by $\\theta$\n",
    "- $V^{\\pi}_{\\theta}$: is the value function (Critic) also parameterized by $\\theta$\n",
    "- $G = G_{t}$: the expected return for a given state, action pair at timestep $t$\n",
    "\n",
    "A negative term is added to the sum since the idea is to maximize the probabilities of actions yielding higher rewards by minimizing the combined loss.\n",
    "\n",
    "<br>"
   ]
  },
  {
   "cell_type": "markdown",
   "metadata": {
    "id": "Y304O4OAxiAv"
   },
   "source": [
    "##### The Advantage\n",
    "\n",
    "The $G - V$ term in our $L_{actor}$ formulation is called the [Advantage](https://spinningup.openai.com/en/latest/spinningup/rl_intro.html#advantage-functions), which indicates how much better an action is given a particular state over a random action selected according to the policy $\\pi$ for that state.\n",
    "\n",
    "While it's possible to exclude a baseline, this may result in high variance during training. And the nice thing about choosing the critic $V$ as a baseline is that it trained to be as close as possible to $G$, leading to a lower variance.\n",
    "\n",
    "In addition, without the Critic, the algorithm would try to increase probabilities for actions taken on a particular state based on expected return, which may not make much of a difference if the relative probabilities between actions remain the same.\n",
    "\n",
    "For instance, suppose that two actions for a given state would yield the same expected return. Without the Critic, the algorithm would try to raise the probability of these actions based on the objective $J$. With the Critic, it may turn out that there's no Advantage ($G - V = 0$), and thus no benefit gained in increasing the actions' probabilities and the algorithm would set the gradients to zero.\n",
    "\n",
    "<br>"
   ]
  },
  {
   "cell_type": "markdown",
   "metadata": {
    "id": "1hrPLrgGxlvb"
   },
   "source": [
    "#### The Critic loss\n",
    "\n",
    "Training $V$ to be as close possible to $G$ can be set up as a regression problem with the following loss function:\n",
    "\n",
    "$$L_{critic} = L_{\\delta}(G, V^{\\pi}_{\\theta})$$\n",
    "\n",
    "where $L_{\\delta}$ is the [Huber loss](https://en.wikipedia.org/wiki/Huber_loss), which is less sensitive to outliers in data than squared-error loss.\n"
   ]
  },
  {
   "cell_type": "code",
   "execution_count": 10,
   "metadata": {
    "execution": {
     "iopub.execute_input": "2022-11-29T02:27:20.899734Z",
     "iopub.status.busy": "2022-11-29T02:27:20.899446Z",
     "iopub.status.idle": "2022-11-29T02:27:20.904687Z",
     "shell.execute_reply": "2022-11-29T02:27:20.903863Z"
    },
    "id": "9EXwbEez6n9m"
   },
   "outputs": [],
   "source": [
    "huber_loss = tf.keras.losses.Huber(reduction=tf.keras.losses.Reduction.SUM)\n",
    "\n",
    "def compute_loss(\n",
    "    action_probs: tf.Tensor,  \n",
    "    values: tf.Tensor,  \n",
    "    returns: tf.Tensor) -> tf.Tensor:\n",
    "  \"\"\"Computes the combined Actor-Critic loss.\"\"\"\n",
    "\n",
    "  advantage = returns - values\n",
    "\n",
    "  action_log_probs = tf.math.log(action_probs)\n",
    "  actor_loss = -tf.math.reduce_sum(action_log_probs * advantage)\n",
    "\n",
    "  critic_loss = huber_loss(values, returns)\n",
    "\n",
    "  return actor_loss + critic_loss"
   ]
  },
  {
   "cell_type": "markdown",
   "metadata": {
    "id": "HSYkQOmRfV75"
   },
   "source": [
    "### 4. Define the training step to update parameters\n",
    "\n",
    "All of the steps above are combined into a training step that is run every episode. All steps leading up to the loss function are executed with the `tf.GradientTape` context to enable automatic differentiation.\n",
    "\n",
    "This tutorial uses the Adam optimizer to apply the gradients to the model parameters.\n",
    "\n",
    "The sum of the undiscounted rewards, `episode_reward`, is also computed in this step. This value will be used later on to evaluate if the success criterion is met.\n",
    "\n",
    "The `tf.function` context is applied to the `train_step` function so that it can be compiled into a callable TensorFlow graph, which can lead to 10x speedup in training.\n"
   ]
  },
  {
   "cell_type": "code",
   "execution_count": 11,
   "metadata": {
    "execution": {
     "iopub.execute_input": "2022-11-29T02:27:20.909169Z",
     "iopub.status.busy": "2022-11-29T02:27:20.908457Z",
     "iopub.status.idle": "2022-11-29T02:27:20.920051Z",
     "shell.execute_reply": "2022-11-29T02:27:20.919211Z"
    },
    "id": "QoccrkF3IFCg"
   },
   "outputs": [],
   "source": [
    "optimizer = tf.keras.optimizers.Adam(learning_rate=0.01)\n",
    "\n",
    "\n",
    "@tf.function\n",
    "def train_step(\n",
    "    initial_state: tf.Tensor, \n",
    "    model: tf.keras.Model, \n",
    "    optimizer: tf.keras.optimizers.Optimizer, \n",
    "    gamma: float, \n",
    "    max_steps_per_episode: int) -> tf.Tensor:\n",
    "  \"\"\"Runs a model training step.\"\"\"\n",
    "\n",
    "  with tf.GradientTape() as tape:\n",
    "\n",
    "    # Run the model for one episode to collect training data\n",
    "    action_probs, values, rewards = run_episode(\n",
    "        initial_state, model, max_steps_per_episode) \n",
    "\n",
    "    # Calculate the expected returns\n",
    "    returns = get_expected_return(rewards, gamma)\n",
    "\n",
    "    # Convert training data to appropriate TF tensor shapes\n",
    "    action_probs, values, returns = [\n",
    "        tf.expand_dims(x, 1) for x in [action_probs, values, returns]] \n",
    "\n",
    "    # Calculate the loss values to update our network\n",
    "    loss = compute_loss(action_probs, values, returns)\n",
    "\n",
    "  # Compute the gradients from the loss\n",
    "  grads = tape.gradient(loss, model.trainable_variables)\n",
    "\n",
    "  # Apply the gradients to the model's parameters\n",
    "  optimizer.apply_gradients(zip(grads, model.trainable_variables))\n",
    "\n",
    "  episode_reward = tf.math.reduce_sum(rewards)\n",
    "\n",
    "  return episode_reward"
   ]
  },
  {
   "cell_type": "markdown",
   "metadata": {
    "id": "HFvZiDoAflGK"
   },
   "source": [
    "### 5. Run the training loop\n",
    "\n",
    "Training is executed by running the training step until either the success criterion or maximum number of episodes is reached.  \n",
    "\n",
    "A running record of episode rewards is kept in a queue. Once 100 trials are reached, the oldest reward is removed at the left (tail) end of the queue and the newest one is added at the head (right). A running sum of the rewards is also maintained for computational efficiency.\n",
    "\n",
    "Depending on your runtime, training can finish in less than a minute."
   ]
  },
  {
   "cell_type": "code",
   "execution_count": 12,
   "metadata": {
    "execution": {
     "iopub.execute_input": "2022-11-29T02:27:20.924228Z",
     "iopub.status.busy": "2022-11-29T02:27:20.923938Z",
     "iopub.status.idle": "2022-11-29T02:32:45.714696Z",
     "shell.execute_reply": "2022-11-29T02:32:45.713644Z"
    },
    "id": "kbmBxnzLiUJx"
   },
   "outputs": [
    {
     "name": "stderr",
     "output_type": "stream",
     "text": [
      "\r\n",
      "  0%|          | 0/10000 [00:00<?, ?it/s]"
     ]
    },
    {
     "name": "stderr",
     "output_type": "stream",
     "text": [
      "/tmpfs/src/tf_docs_env/lib/python3.9/site-packages/gym/utils/passive_env_checker.py:233: DeprecationWarning: `np.bool8` is a deprecated alias for `np.bool_`.  (Deprecated NumPy 1.24)\n",
      "  if not isinstance(terminated, (bool, np.bool8)):\n"
     ]
    },
    {
     "name": "stderr",
     "output_type": "stream",
     "text": [
      "\r\n",
      "  0%|          | 0/10000 [00:05<?, ?it/s, episode_reward=14, running_reward=14]"
     ]
    },
    {
     "name": "stderr",
     "output_type": "stream",
     "text": [
      "\r\n",
      "  0%|          | 1/10000 [00:05<15:11:39,  5.47s/it, episode_reward=14, running_reward=14]"
     ]
    },
    {
     "name": "stderr",
     "output_type": "stream",
     "text": [
      "\r\n",
      "  0%|          | 1/10000 [00:05<15:11:39,  5.47s/it, episode_reward=19, running_reward=16.5]"
     ]
    },
    {
     "name": "stderr",
     "output_type": "stream",
     "text": [
      "\r\n",
      "  0%|          | 1/10000 [00:05<15:11:39,  5.47s/it, episode_reward=18, running_reward=17]  "
     ]
    },
    {
     "name": "stderr",
     "output_type": "stream",
     "text": [
      "\r\n",
      "  0%|          | 1/10000 [00:05<15:11:39,  5.47s/it, episode_reward=23, running_reward=18.5]"
     ]
    },
    {
     "name": "stderr",
     "output_type": "stream",
     "text": [
      "\r\n",
      "  0%|          | 4/10000 [00:05<2:57:09,  1.06s/it, episode_reward=23, running_reward=18.5] "
     ]
    },
    {
     "name": "stderr",
     "output_type": "stream",
     "text": [
      "\r\n",
      "  0%|          | 4/10000 [00:05<2:57:09,  1.06s/it, episode_reward=42, running_reward=23.2]"
     ]
    },
    {
     "name": "stderr",
     "output_type": "stream",
     "text": [
      "\r\n",
      "  0%|          | 4/10000 [00:05<2:57:09,  1.06s/it, episode_reward=44, running_reward=26.7]"
     ]
    },
    {
     "name": "stderr",
     "output_type": "stream",
     "text": [
      "\r\n",
      "  0%|          | 6/10000 [00:05<1:45:40,  1.58it/s, episode_reward=44, running_reward=26.7]"
     ]
    },
    {
     "name": "stderr",
     "output_type": "stream",
     "text": [
      "\r\n",
      "  0%|          | 6/10000 [00:05<1:45:40,  1.58it/s, episode_reward=11, running_reward=24.4]"
     ]
    },
    {
     "name": "stderr",
     "output_type": "stream",
     "text": [
      "\r\n",
      "  0%|          | 6/10000 [00:05<1:45:40,  1.58it/s, episode_reward=57, running_reward=28.5]"
     ]
    },
    {
     "name": "stderr",
     "output_type": "stream",
     "text": [
      "\r\n",
      "  0%|          | 8/10000 [00:05<1:09:15,  2.40it/s, episode_reward=57, running_reward=28.5]"
     ]
    },
    {
     "name": "stderr",
     "output_type": "stream",
     "text": [
      "\r\n",
      "  0%|          | 8/10000 [00:05<1:09:15,  2.40it/s, episode_reward=31, running_reward=28.8]"
     ]
    },
    {
     "name": "stderr",
     "output_type": "stream",
     "text": [
      "\r\n",
      "  0%|          | 8/10000 [00:05<1:09:15,  2.40it/s, episode_reward=12, running_reward=27.1]"
     ]
    },
    {
     "name": "stderr",
     "output_type": "stream",
     "text": [
      "\r\n",
      "  0%|          | 8/10000 [00:05<1:09:15,  2.40it/s, episode_reward=15, running_reward=26]  "
     ]
    },
    {
     "name": "stderr",
     "output_type": "stream",
     "text": [
      "\r\n",
      "  0%|          | 11/10000 [00:05<40:42,  4.09it/s, episode_reward=15, running_reward=26] "
     ]
    },
    {
     "name": "stderr",
     "output_type": "stream",
     "text": [
      "\r\n",
      "  0%|          | 11/10000 [00:06<40:42,  4.09it/s, episode_reward=62, running_reward=29]"
     ]
    },
    {
     "name": "stderr",
     "output_type": "stream",
     "text": [
      "\r\n",
      "  0%|          | 11/10000 [00:06<40:42,  4.09it/s, episode_reward=47, running_reward=30.4]"
     ]
    },
    {
     "name": "stderr",
     "output_type": "stream",
     "text": [
      "\r\n",
      "  0%|          | 13/10000 [00:06<33:15,  5.00it/s, episode_reward=47, running_reward=30.4]"
     ]
    },
    {
     "name": "stderr",
     "output_type": "stream",
     "text": [
      "\r\n",
      "  0%|          | 13/10000 [00:06<33:15,  5.00it/s, episode_reward=24, running_reward=29.9]"
     ]
    },
    {
     "name": "stderr",
     "output_type": "stream",
     "text": [
      "\r\n",
      "  0%|          | 13/10000 [00:06<33:15,  5.00it/s, episode_reward=23, running_reward=29.5]"
     ]
    },
    {
     "name": "stderr",
     "output_type": "stream",
     "text": [
      "\r\n",
      "  0%|          | 13/10000 [00:06<33:15,  5.00it/s, episode_reward=56, running_reward=31.1]"
     ]
    },
    {
     "name": "stderr",
     "output_type": "stream",
     "text": [
      "\r\n",
      "  0%|          | 16/10000 [00:06<24:00,  6.93it/s, episode_reward=56, running_reward=31.1]"
     ]
    },
    {
     "name": "stderr",
     "output_type": "stream",
     "text": [
      "\r\n",
      "  0%|          | 16/10000 [00:06<24:00,  6.93it/s, episode_reward=30, running_reward=31.1]"
     ]
    },
    {
     "name": "stderr",
     "output_type": "stream",
     "text": [
      "\r\n",
      "  0%|          | 16/10000 [00:06<24:00,  6.93it/s, episode_reward=16, running_reward=30.2]"
     ]
    },
    {
     "name": "stderr",
     "output_type": "stream",
     "text": [
      "\r\n",
      "  0%|          | 16/10000 [00:06<24:00,  6.93it/s, episode_reward=35, running_reward=30.5]"
     ]
    },
    {
     "name": "stderr",
     "output_type": "stream",
     "text": [
      "\r\n",
      "  0%|          | 19/10000 [00:06<18:13,  9.13it/s, episode_reward=35, running_reward=30.5]"
     ]
    },
    {
     "name": "stderr",
     "output_type": "stream",
     "text": [
      "\r\n",
      "  0%|          | 19/10000 [00:06<18:13,  9.13it/s, episode_reward=16, running_reward=29.8]"
     ]
    },
    {
     "name": "stderr",
     "output_type": "stream",
     "text": [
      "\r\n",
      "  0%|          | 19/10000 [00:06<18:13,  9.13it/s, episode_reward=23, running_reward=29.4]"
     ]
    },
    {
     "name": "stderr",
     "output_type": "stream",
     "text": [
      "\r\n",
      "  0%|          | 19/10000 [00:06<18:13,  9.13it/s, episode_reward=21, running_reward=29]  "
     ]
    },
    {
     "name": "stderr",
     "output_type": "stream",
     "text": [
      "\r\n",
      "  0%|          | 22/10000 [00:06<14:02, 11.84it/s, episode_reward=21, running_reward=29]"
     ]
    },
    {
     "name": "stderr",
     "output_type": "stream",
     "text": [
      "\r\n",
      "  0%|          | 22/10000 [00:06<14:02, 11.84it/s, episode_reward=31, running_reward=29.1]"
     ]
    },
    {
     "name": "stderr",
     "output_type": "stream",
     "text": [
      "\r\n",
      "  0%|          | 22/10000 [00:06<14:02, 11.84it/s, episode_reward=45, running_reward=29.8]"
     ]
    },
    {
     "name": "stderr",
     "output_type": "stream",
     "text": [
      "\r\n",
      "  0%|          | 22/10000 [00:06<14:02, 11.84it/s, episode_reward=32, running_reward=29.9]"
     ]
    },
    {
     "name": "stderr",
     "output_type": "stream",
     "text": [
      "\r\n",
      "  0%|          | 25/10000 [00:06<13:11, 12.60it/s, episode_reward=32, running_reward=29.9]"
     ]
    },
    {
     "name": "stderr",
     "output_type": "stream",
     "text": [
      "\r\n",
      "  0%|          | 25/10000 [00:06<13:11, 12.60it/s, episode_reward=41, running_reward=30.3]"
     ]
    },
    {
     "name": "stderr",
     "output_type": "stream",
     "text": [
      "\r\n",
      "  0%|          | 25/10000 [00:06<13:11, 12.60it/s, episode_reward=46, running_reward=30.9]"
     ]
    },
    {
     "name": "stderr",
     "output_type": "stream",
     "text": [
      "\r\n",
      "  0%|          | 27/10000 [00:06<13:17, 12.50it/s, episode_reward=46, running_reward=30.9]"
     ]
    },
    {
     "name": "stderr",
     "output_type": "stream",
     "text": [
      "\r\n",
      "  0%|          | 27/10000 [00:07<13:17, 12.50it/s, episode_reward=22, running_reward=30.6]"
     ]
    },
    {
     "name": "stderr",
     "output_type": "stream",
     "text": [
      "\r\n",
      "  0%|          | 27/10000 [00:07<13:17, 12.50it/s, episode_reward=13, running_reward=30]  "
     ]
    },
    {
     "name": "stderr",
     "output_type": "stream",
     "text": [
      "\r\n",
      "  0%|          | 27/10000 [00:07<13:17, 12.50it/s, episode_reward=38, running_reward=30.2]"
     ]
    },
    {
     "name": "stderr",
     "output_type": "stream",
     "text": [
      "\r\n",
      "  0%|          | 30/10000 [00:07<11:27, 14.49it/s, episode_reward=38, running_reward=30.2]"
     ]
    },
    {
     "name": "stderr",
     "output_type": "stream",
     "text": [
      "\r\n",
      "  0%|          | 30/10000 [00:07<11:27, 14.49it/s, episode_reward=122, running_reward=33.2]"
     ]
    },
    {
     "name": "stderr",
     "output_type": "stream",
     "text": [
      "\r\n",
      "  0%|          | 30/10000 [00:07<11:27, 14.49it/s, episode_reward=68, running_reward=34.3] "
     ]
    },
    {
     "name": "stderr",
     "output_type": "stream",
     "text": [
      "\r\n",
      "  0%|          | 32/10000 [00:07<15:22, 10.80it/s, episode_reward=68, running_reward=34.3]"
     ]
    },
    {
     "name": "stderr",
     "output_type": "stream",
     "text": [
      "\r\n",
      "  0%|          | 32/10000 [00:07<15:22, 10.80it/s, episode_reward=111, running_reward=36.6]"
     ]
    },
    {
     "name": "stderr",
     "output_type": "stream",
     "text": [
      "\r\n",
      "  0%|          | 32/10000 [00:07<15:22, 10.80it/s, episode_reward=161, running_reward=40.3]"
     ]
    },
    {
     "name": "stderr",
     "output_type": "stream",
     "text": [
      "\r\n",
      "  0%|          | 34/10000 [00:07<21:11,  7.83it/s, episode_reward=161, running_reward=40.3]"
     ]
    },
    {
     "name": "stderr",
     "output_type": "stream",
     "text": [
      "\r\n",
      "  0%|          | 34/10000 [00:07<21:11,  7.83it/s, episode_reward=52, running_reward=40.6] "
     ]
    },
    {
     "name": "stderr",
     "output_type": "stream",
     "text": [
      "\r\n",
      "  0%|          | 34/10000 [00:08<21:11,  7.83it/s, episode_reward=51, running_reward=40.9]"
     ]
    },
    {
     "name": "stderr",
     "output_type": "stream",
     "text": [
      "\r\n",
      "  0%|          | 36/10000 [00:08<19:24,  8.56it/s, episode_reward=51, running_reward=40.9]"
     ]
    },
    {
     "name": "stderr",
     "output_type": "stream",
     "text": [
      "\r\n",
      "  0%|          | 36/10000 [00:08<19:24,  8.56it/s, episode_reward=40, running_reward=40.9]"
     ]
    },
    {
     "name": "stderr",
     "output_type": "stream",
     "text": [
      "\r\n",
      "  0%|          | 36/10000 [00:08<19:24,  8.56it/s, episode_reward=84, running_reward=42]  "
     ]
    },
    {
     "name": "stderr",
     "output_type": "stream",
     "text": [
      "\r\n",
      "  0%|          | 38/10000 [00:08<18:56,  8.77it/s, episode_reward=84, running_reward=42]"
     ]
    },
    {
     "name": "stderr",
     "output_type": "stream",
     "text": [
      "\r\n",
      "  0%|          | 38/10000 [00:08<18:56,  8.77it/s, episode_reward=46, running_reward=42.1]"
     ]
    },
    {
     "name": "stderr",
     "output_type": "stream",
     "text": [
      "\r\n",
      "  0%|          | 38/10000 [00:08<18:56,  8.77it/s, episode_reward=116, running_reward=44] "
     ]
    },
    {
     "name": "stderr",
     "output_type": "stream",
     "text": [
      "\r\n",
      "  0%|          | 40/10000 [00:08<20:02,  8.28it/s, episode_reward=116, running_reward=44]"
     ]
    },
    {
     "name": "stderr",
     "output_type": "stream",
     "text": [
      "\r\n",
      "  0%|          | 40/10000 [00:08<20:02,  8.28it/s, episode_reward=58, running_reward=44.3]"
     ]
    },
    {
     "name": "stderr",
     "output_type": "stream",
     "text": [
      "\r\n",
      "  0%|          | 41/10000 [00:08<19:28,  8.52it/s, episode_reward=58, running_reward=44.3]"
     ]
    },
    {
     "name": "stderr",
     "output_type": "stream",
     "text": [
      "\r\n",
      "  0%|          | 41/10000 [00:08<19:28,  8.52it/s, episode_reward=96, running_reward=45.5]"
     ]
    },
    {
     "name": "stderr",
     "output_type": "stream",
     "text": [
      "\r\n",
      "  0%|          | 42/10000 [00:08<20:44,  8.00it/s, episode_reward=96, running_reward=45.5]"
     ]
    },
    {
     "name": "stderr",
     "output_type": "stream",
     "text": [
      "\r\n",
      "  0%|          | 42/10000 [00:08<20:44,  8.00it/s, episode_reward=89, running_reward=46.5]"
     ]
    },
    {
     "name": "stderr",
     "output_type": "stream",
     "text": [
      "\r\n",
      "  0%|          | 43/10000 [00:08<21:37,  7.67it/s, episode_reward=89, running_reward=46.5]"
     ]
    },
    {
     "name": "stderr",
     "output_type": "stream",
     "text": [
      "\r\n",
      "  0%|          | 43/10000 [00:09<21:37,  7.67it/s, episode_reward=145, running_reward=48.8]"
     ]
    },
    {
     "name": "stderr",
     "output_type": "stream",
     "text": [
      "\r\n",
      "  0%|          | 44/10000 [00:09<25:57,  6.39it/s, episode_reward=145, running_reward=48.8]"
     ]
    },
    {
     "name": "stderr",
     "output_type": "stream",
     "text": [
      "\r\n",
      "  0%|          | 44/10000 [00:09<25:57,  6.39it/s, episode_reward=53, running_reward=48.9] "
     ]
    },
    {
     "name": "stderr",
     "output_type": "stream",
     "text": [
      "\r\n",
      "  0%|          | 44/10000 [00:09<25:57,  6.39it/s, episode_reward=31, running_reward=48.5]"
     ]
    },
    {
     "name": "stderr",
     "output_type": "stream",
     "text": [
      "\r\n",
      "  0%|          | 46/10000 [00:09<20:29,  8.10it/s, episode_reward=31, running_reward=48.5]"
     ]
    },
    {
     "name": "stderr",
     "output_type": "stream",
     "text": [
      "\r\n",
      "  0%|          | 46/10000 [00:09<20:29,  8.10it/s, episode_reward=55, running_reward=48.6]"
     ]
    },
    {
     "name": "stderr",
     "output_type": "stream",
     "text": [
      "\r\n",
      "  0%|          | 46/10000 [00:09<20:29,  8.10it/s, episode_reward=80, running_reward=49.3]"
     ]
    },
    {
     "name": "stderr",
     "output_type": "stream",
     "text": [
      "\r\n",
      "  0%|          | 48/10000 [00:09<19:53,  8.34it/s, episode_reward=80, running_reward=49.3]"
     ]
    },
    {
     "name": "stderr",
     "output_type": "stream",
     "text": [
      "\r\n",
      "  0%|          | 48/10000 [00:09<19:53,  8.34it/s, episode_reward=59, running_reward=49.5]"
     ]
    },
    {
     "name": "stderr",
     "output_type": "stream",
     "text": [
      "\r\n",
      "  0%|          | 49/10000 [00:09<19:17,  8.60it/s, episode_reward=59, running_reward=49.5]"
     ]
    },
    {
     "name": "stderr",
     "output_type": "stream",
     "text": [
      "\r\n",
      "  0%|          | 49/10000 [00:09<19:17,  8.60it/s, episode_reward=54, running_reward=49.6]"
     ]
    },
    {
     "name": "stderr",
     "output_type": "stream",
     "text": [
      "\r\n",
      "  0%|          | 49/10000 [00:10<19:17,  8.60it/s, episode_reward=155, running_reward=51.6]"
     ]
    },
    {
     "name": "stderr",
     "output_type": "stream",
     "text": [
      "\r\n",
      "  1%|          | 51/10000 [00:10<22:24,  7.40it/s, episode_reward=155, running_reward=51.6]"
     ]
    },
    {
     "name": "stderr",
     "output_type": "stream",
     "text": [
      "\r\n",
      "  1%|          | 51/10000 [00:10<22:24,  7.40it/s, episode_reward=63, running_reward=51.8] "
     ]
    },
    {
     "name": "stderr",
     "output_type": "stream",
     "text": [
      "\r\n",
      "  1%|          | 52/10000 [00:10<21:34,  7.69it/s, episode_reward=63, running_reward=51.8]"
     ]
    },
    {
     "name": "stderr",
     "output_type": "stream",
     "text": [
      "\r\n",
      "  1%|          | 52/10000 [00:10<21:34,  7.69it/s, episode_reward=154, running_reward=53.8]"
     ]
    },
    {
     "name": "stderr",
     "output_type": "stream",
     "text": [
      "\r\n",
      "  1%|          | 53/10000 [00:10<25:50,  6.41it/s, episode_reward=154, running_reward=53.8]"
     ]
    },
    {
     "name": "stderr",
     "output_type": "stream",
     "text": [
      "\r\n",
      "  1%|          | 53/10000 [00:10<25:50,  6.41it/s, episode_reward=53, running_reward=53.8] "
     ]
    },
    {
     "name": "stderr",
     "output_type": "stream",
     "text": [
      "\r\n",
      "  1%|          | 53/10000 [00:10<25:50,  6.41it/s, episode_reward=113, running_reward=54.8]"
     ]
    },
    {
     "name": "stderr",
     "output_type": "stream",
     "text": [
      "\r\n",
      "  1%|          | 55/10000 [00:10<24:46,  6.69it/s, episode_reward=113, running_reward=54.8]"
     ]
    },
    {
     "name": "stderr",
     "output_type": "stream",
     "text": [
      "\r\n",
      "  1%|          | 55/10000 [00:11<24:46,  6.69it/s, episode_reward=257, running_reward=58.4]"
     ]
    },
    {
     "name": "stderr",
     "output_type": "stream",
     "text": [
      "\r\n",
      "  1%|          | 56/10000 [00:11<33:54,  4.89it/s, episode_reward=257, running_reward=58.4]"
     ]
    },
    {
     "name": "stderr",
     "output_type": "stream",
     "text": [
      "\r\n",
      "  1%|          | 56/10000 [00:11<33:54,  4.89it/s, episode_reward=77, running_reward=58.8] "
     ]
    },
    {
     "name": "stderr",
     "output_type": "stream",
     "text": [
      "\r\n",
      "  1%|          | 57/10000 [00:11<31:16,  5.30it/s, episode_reward=77, running_reward=58.8]"
     ]
    },
    {
     "name": "stderr",
     "output_type": "stream",
     "text": [
      "\r\n",
      "  1%|          | 57/10000 [00:11<31:16,  5.30it/s, episode_reward=83, running_reward=59.2]"
     ]
    },
    {
     "name": "stderr",
     "output_type": "stream",
     "text": [
      "\r\n",
      "  1%|          | 58/10000 [00:11<29:28,  5.62it/s, episode_reward=83, running_reward=59.2]"
     ]
    },
    {
     "name": "stderr",
     "output_type": "stream",
     "text": [
      "\r\n",
      "  1%|          | 58/10000 [00:11<29:28,  5.62it/s, episode_reward=15, running_reward=58.4]"
     ]
    },
    {
     "name": "stderr",
     "output_type": "stream",
     "text": [
      "\r\n",
      "  1%|          | 58/10000 [00:11<29:28,  5.62it/s, episode_reward=93, running_reward=59]  "
     ]
    },
    {
     "name": "stderr",
     "output_type": "stream",
     "text": [
      "\r\n",
      "  1%|          | 60/10000 [00:11<23:13,  7.13it/s, episode_reward=93, running_reward=59]"
     ]
    },
    {
     "name": "stderr",
     "output_type": "stream",
     "text": [
      "\r\n",
      "  1%|          | 60/10000 [00:11<23:13,  7.13it/s, episode_reward=26, running_reward=58.5]"
     ]
    },
    {
     "name": "stderr",
     "output_type": "stream",
     "text": [
      "\r\n",
      "  1%|          | 60/10000 [00:11<23:13,  7.13it/s, episode_reward=39, running_reward=58.2]"
     ]
    },
    {
     "name": "stderr",
     "output_type": "stream",
     "text": [
      "\r\n",
      "  1%|          | 62/10000 [00:11<17:54,  9.25it/s, episode_reward=39, running_reward=58.2]"
     ]
    },
    {
     "name": "stderr",
     "output_type": "stream",
     "text": [
      "\r\n",
      "  1%|          | 62/10000 [00:11<17:54,  9.25it/s, episode_reward=24, running_reward=57.6]"
     ]
    },
    {
     "name": "stderr",
     "output_type": "stream",
     "text": [
      "\r\n",
      "  1%|          | 62/10000 [00:11<17:54,  9.25it/s, episode_reward=77, running_reward=57.9]"
     ]
    },
    {
     "name": "stderr",
     "output_type": "stream",
     "text": [
      "\r\n",
      "  1%|          | 64/10000 [00:11<16:43,  9.90it/s, episode_reward=77, running_reward=57.9]"
     ]
    },
    {
     "name": "stderr",
     "output_type": "stream",
     "text": [
      "\r\n",
      "  1%|          | 64/10000 [00:11<16:43,  9.90it/s, episode_reward=43, running_reward=57.7]"
     ]
    },
    {
     "name": "stderr",
     "output_type": "stream",
     "text": [
      "\r\n",
      "  1%|          | 64/10000 [00:11<16:43,  9.90it/s, episode_reward=34, running_reward=57.3]"
     ]
    },
    {
     "name": "stderr",
     "output_type": "stream",
     "text": [
      "\r\n",
      "  1%|          | 66/10000 [00:11<14:48, 11.17it/s, episode_reward=34, running_reward=57.3]"
     ]
    },
    {
     "name": "stderr",
     "output_type": "stream",
     "text": [
      "\r\n",
      "  1%|          | 66/10000 [00:11<14:48, 11.17it/s, episode_reward=41, running_reward=57.1]"
     ]
    },
    {
     "name": "stderr",
     "output_type": "stream",
     "text": [
      "\r\n",
      "  1%|          | 66/10000 [00:12<14:48, 11.17it/s, episode_reward=61, running_reward=57.1]"
     ]
    },
    {
     "name": "stderr",
     "output_type": "stream",
     "text": [
      "\r\n",
      "  1%|          | 68/10000 [00:12<14:48, 11.17it/s, episode_reward=61, running_reward=57.1]"
     ]
    },
    {
     "name": "stderr",
     "output_type": "stream",
     "text": [
      "\r\n",
      "  1%|          | 68/10000 [00:12<14:48, 11.17it/s, episode_reward=29, running_reward=56.7]"
     ]
    },
    {
     "name": "stderr",
     "output_type": "stream",
     "text": [
      "\r\n",
      "  1%|          | 68/10000 [00:12<14:48, 11.17it/s, episode_reward=38, running_reward=56.5]"
     ]
    },
    {
     "name": "stderr",
     "output_type": "stream",
     "text": [
      "\r\n",
      "  1%|          | 70/10000 [00:12<13:09, 12.57it/s, episode_reward=38, running_reward=56.5]"
     ]
    },
    {
     "name": "stderr",
     "output_type": "stream",
     "text": [
      "\r\n",
      "  1%|          | 70/10000 [00:12<13:09, 12.57it/s, episode_reward=37, running_reward=56.2]"
     ]
    },
    {
     "name": "stderr",
     "output_type": "stream",
     "text": [
      "\r\n",
      "  1%|          | 70/10000 [00:12<13:09, 12.57it/s, episode_reward=48, running_reward=56.1]"
     ]
    },
    {
     "name": "stderr",
     "output_type": "stream",
     "text": [
      "\r\n",
      "  1%|          | 72/10000 [00:12<12:54, 12.82it/s, episode_reward=48, running_reward=56.1]"
     ]
    },
    {
     "name": "stderr",
     "output_type": "stream",
     "text": [
      "\r\n",
      "  1%|          | 72/10000 [00:12<12:54, 12.82it/s, episode_reward=30, running_reward=55.7]"
     ]
    },
    {
     "name": "stderr",
     "output_type": "stream",
     "text": [
      "\r\n",
      "  1%|          | 72/10000 [00:12<12:54, 12.82it/s, episode_reward=54, running_reward=55.7]"
     ]
    },
    {
     "name": "stderr",
     "output_type": "stream",
     "text": [
      "\r\n",
      "  1%|          | 74/10000 [00:12<12:44, 12.98it/s, episode_reward=54, running_reward=55.7]"
     ]
    },
    {
     "name": "stderr",
     "output_type": "stream",
     "text": [
      "\r\n",
      "  1%|          | 74/10000 [00:12<12:44, 12.98it/s, episode_reward=22, running_reward=55.3]"
     ]
    },
    {
     "name": "stderr",
     "output_type": "stream",
     "text": [
      "\r\n",
      "  1%|          | 74/10000 [00:12<12:44, 12.98it/s, episode_reward=65, running_reward=55.4]"
     ]
    },
    {
     "name": "stderr",
     "output_type": "stream",
     "text": [
      "\r\n",
      "  1%|          | 76/10000 [00:12<12:38, 13.09it/s, episode_reward=65, running_reward=55.4]"
     ]
    },
    {
     "name": "stderr",
     "output_type": "stream",
     "text": [
      "\r\n",
      "  1%|          | 76/10000 [00:12<12:38, 13.09it/s, episode_reward=51, running_reward=55.3]"
     ]
    },
    {
     "name": "stderr",
     "output_type": "stream",
     "text": [
      "\r\n",
      "  1%|          | 76/10000 [00:12<12:38, 13.09it/s, episode_reward=116, running_reward=56.1]"
     ]
    },
    {
     "name": "stderr",
     "output_type": "stream",
     "text": [
      "\r\n",
      "  1%|          | 78/10000 [00:12<15:40, 10.55it/s, episode_reward=116, running_reward=56.1]"
     ]
    },
    {
     "name": "stderr",
     "output_type": "stream",
     "text": [
      "\r\n",
      "  1%|          | 78/10000 [00:13<15:40, 10.55it/s, episode_reward=104, running_reward=56.7]"
     ]
    },
    {
     "name": "stderr",
     "output_type": "stream",
     "text": [
      "\r\n",
      "  1%|          | 78/10000 [00:13<15:40, 10.55it/s, episode_reward=35, running_reward=56.4] "
     ]
    },
    {
     "name": "stderr",
     "output_type": "stream",
     "text": [
      "\r\n",
      "  1%|          | 80/10000 [00:13<16:46,  9.86it/s, episode_reward=35, running_reward=56.4]"
     ]
    },
    {
     "name": "stderr",
     "output_type": "stream",
     "text": [
      "\r\n",
      "  1%|          | 80/10000 [00:13<16:46,  9.86it/s, episode_reward=138, running_reward=57.4]"
     ]
    },
    {
     "name": "stderr",
     "output_type": "stream",
     "text": [
      "\r\n",
      "  1%|          | 80/10000 [00:13<16:46,  9.86it/s, episode_reward=63, running_reward=57.5] "
     ]
    },
    {
     "name": "stderr",
     "output_type": "stream",
     "text": [
      "\r\n",
      "  1%|          | 82/10000 [00:13<20:17,  8.15it/s, episode_reward=63, running_reward=57.5]"
     ]
    },
    {
     "name": "stderr",
     "output_type": "stream",
     "text": [
      "\r\n",
      "  1%|          | 82/10000 [00:13<20:17,  8.15it/s, episode_reward=166, running_reward=58.8]"
     ]
    },
    {
     "name": "stderr",
     "output_type": "stream",
     "text": [
      "\r\n",
      "  1%|          | 83/10000 [00:13<24:26,  6.76it/s, episode_reward=166, running_reward=58.8]"
     ]
    },
    {
     "name": "stderr",
     "output_type": "stream",
     "text": [
      "\r\n",
      "  1%|          | 83/10000 [00:13<24:26,  6.76it/s, episode_reward=45, running_reward=58.7] "
     ]
    },
    {
     "name": "stderr",
     "output_type": "stream",
     "text": [
      "\r\n",
      "  1%|          | 83/10000 [00:14<24:26,  6.76it/s, episode_reward=83, running_reward=58.9]"
     ]
    },
    {
     "name": "stderr",
     "output_type": "stream",
     "text": [
      "\r\n",
      "  1%|          | 85/10000 [00:14<22:14,  7.43it/s, episode_reward=83, running_reward=58.9]"
     ]
    },
    {
     "name": "stderr",
     "output_type": "stream",
     "text": [
      "\r\n",
      "  1%|          | 85/10000 [00:14<22:14,  7.43it/s, episode_reward=144, running_reward=59.9]"
     ]
    },
    {
     "name": "stderr",
     "output_type": "stream",
     "text": [
      "\r\n",
      "  1%|          | 86/10000 [00:14<25:06,  6.58it/s, episode_reward=144, running_reward=59.9]"
     ]
    },
    {
     "name": "stderr",
     "output_type": "stream",
     "text": [
      "\r\n",
      "  1%|          | 86/10000 [00:14<25:06,  6.58it/s, episode_reward=387, running_reward=63.7]"
     ]
    },
    {
     "name": "stderr",
     "output_type": "stream",
     "text": [
      "\r\n",
      "  1%|          | 87/10000 [00:14<40:34,  4.07it/s, episode_reward=387, running_reward=63.7]"
     ]
    },
    {
     "name": "stderr",
     "output_type": "stream",
     "text": [
      "\r\n",
      "  1%|          | 87/10000 [00:14<40:34,  4.07it/s, episode_reward=93, running_reward=64]   "
     ]
    },
    {
     "name": "stderr",
     "output_type": "stream",
     "text": [
      "\r\n",
      "  1%|          | 88/10000 [00:14<36:59,  4.47it/s, episode_reward=93, running_reward=64]"
     ]
    },
    {
     "name": "stderr",
     "output_type": "stream",
     "text": [
      "\r\n",
      "  1%|          | 88/10000 [00:15<36:59,  4.47it/s, episode_reward=116, running_reward=64.6]"
     ]
    },
    {
     "name": "stderr",
     "output_type": "stream",
     "text": [
      "\r\n",
      "  1%|          | 89/10000 [00:15<36:08,  4.57it/s, episode_reward=116, running_reward=64.6]"
     ]
    },
    {
     "name": "stderr",
     "output_type": "stream",
     "text": [
      "\r\n",
      "  1%|          | 89/10000 [00:15<36:08,  4.57it/s, episode_reward=94, running_reward=64.9] "
     ]
    },
    {
     "name": "stderr",
     "output_type": "stream",
     "text": [
      "\r\n",
      "  1%|          | 90/10000 [00:15<33:40,  4.90it/s, episode_reward=94, running_reward=64.9]"
     ]
    },
    {
     "name": "stderr",
     "output_type": "stream",
     "text": [
      "\r\n",
      "  1%|          | 90/10000 [00:15<33:40,  4.90it/s, episode_reward=35, running_reward=64.6]"
     ]
    },
    {
     "name": "stderr",
     "output_type": "stream",
     "text": [
      "\r\n",
      "  1%|          | 90/10000 [00:15<33:40,  4.90it/s, episode_reward=42, running_reward=64.4]"
     ]
    },
    {
     "name": "stderr",
     "output_type": "stream",
     "text": [
      "\r\n",
      "  1%|          | 92/10000 [00:15<24:07,  6.84it/s, episode_reward=42, running_reward=64.4]"
     ]
    },
    {
     "name": "stderr",
     "output_type": "stream",
     "text": [
      "\r\n",
      "  1%|          | 92/10000 [00:15<24:07,  6.84it/s, episode_reward=62, running_reward=64.3]"
     ]
    },
    {
     "name": "stderr",
     "output_type": "stream",
     "text": [
      "\r\n",
      "  1%|          | 93/10000 [00:15<22:43,  7.26it/s, episode_reward=62, running_reward=64.3]"
     ]
    },
    {
     "name": "stderr",
     "output_type": "stream",
     "text": [
      "\r\n",
      "  1%|          | 93/10000 [00:15<22:43,  7.26it/s, episode_reward=67, running_reward=64.4]"
     ]
    },
    {
     "name": "stderr",
     "output_type": "stream",
     "text": [
      "\r\n",
      "  1%|          | 94/10000 [00:15<22:16,  7.41it/s, episode_reward=67, running_reward=64.4]"
     ]
    },
    {
     "name": "stderr",
     "output_type": "stream",
     "text": [
      "\r\n",
      "  1%|          | 94/10000 [00:15<22:16,  7.41it/s, episode_reward=38, running_reward=64.1]"
     ]
    },
    {
     "name": "stderr",
     "output_type": "stream",
     "text": [
      "\r\n",
      "  1%|          | 94/10000 [00:15<22:16,  7.41it/s, episode_reward=78, running_reward=64.2]"
     ]
    },
    {
     "name": "stderr",
     "output_type": "stream",
     "text": [
      "\r\n",
      "  1%|          | 96/10000 [00:15<19:56,  8.28it/s, episode_reward=78, running_reward=64.2]"
     ]
    },
    {
     "name": "stderr",
     "output_type": "stream",
     "text": [
      "\r\n",
      "  1%|          | 96/10000 [00:16<19:56,  8.28it/s, episode_reward=76, running_reward=64.4]"
     ]
    },
    {
     "name": "stderr",
     "output_type": "stream",
     "text": [
      "\r\n",
      "  1%|          | 97/10000 [00:16<20:17,  8.13it/s, episode_reward=76, running_reward=64.4]"
     ]
    },
    {
     "name": "stderr",
     "output_type": "stream",
     "text": [
      "\r\n",
      "  1%|          | 97/10000 [00:16<20:17,  8.13it/s, episode_reward=32, running_reward=64]  "
     ]
    },
    {
     "name": "stderr",
     "output_type": "stream",
     "text": [
      "\r\n",
      "  1%|          | 97/10000 [00:16<20:17,  8.13it/s, episode_reward=87, running_reward=64.3]"
     ]
    },
    {
     "name": "stderr",
     "output_type": "stream",
     "text": [
      "\r\n",
      "  1%|          | 99/10000 [00:16<18:41,  8.83it/s, episode_reward=87, running_reward=64.3]"
     ]
    },
    {
     "name": "stderr",
     "output_type": "stream",
     "text": [
      "\r\n",
      "  1%|          | 99/10000 [00:16<18:41,  8.83it/s, episode_reward=90, running_reward=64.5]"
     ]
    },
    {
     "name": "stderr",
     "output_type": "stream",
     "text": [
      "\r\n",
      "  1%|          | 100/10000 [00:16<19:53,  8.30it/s, episode_reward=90, running_reward=64.5]"
     ]
    },
    {
     "name": "stderr",
     "output_type": "stream",
     "text": [
      "\r\n",
      "  1%|          | 100/10000 [00:16<19:53,  8.30it/s, episode_reward=64, running_reward=65]  "
     ]
    },
    {
     "name": "stderr",
     "output_type": "stream",
     "text": [
      "\r\n",
      "  1%|          | 101/10000 [00:16<19:31,  8.45it/s, episode_reward=64, running_reward=65]"
     ]
    },
    {
     "name": "stderr",
     "output_type": "stream",
     "text": [
      "\r\n",
      "  1%|          | 101/10000 [00:16<19:31,  8.45it/s, episode_reward=307, running_reward=67.9]"
     ]
    },
    {
     "name": "stderr",
     "output_type": "stream",
     "text": [
      "\r\n",
      "  1%|          | 102/10000 [00:16<35:14,  4.68it/s, episode_reward=307, running_reward=67.9]"
     ]
    },
    {
     "name": "stderr",
     "output_type": "stream",
     "text": [
      "\r\n",
      "  1%|          | 102/10000 [00:17<35:14,  4.68it/s, episode_reward=214, running_reward=69.8]"
     ]
    },
    {
     "name": "stderr",
     "output_type": "stream",
     "text": [
      "\r\n",
      "  1%|          | 103/10000 [00:17<40:42,  4.05it/s, episode_reward=214, running_reward=69.8]"
     ]
    },
    {
     "name": "stderr",
     "output_type": "stream",
     "text": [
      "\r\n",
      "  1%|          | 103/10000 [00:17<40:42,  4.05it/s, episode_reward=262, running_reward=72.2]"
     ]
    },
    {
     "name": "stderr",
     "output_type": "stream",
     "text": [
      "\r\n",
      "  1%|          | 104/10000 [00:17<50:32,  3.26it/s, episode_reward=262, running_reward=72.2]"
     ]
    },
    {
     "name": "stderr",
     "output_type": "stream",
     "text": [
      "\r\n",
      "  1%|          | 104/10000 [00:18<50:32,  3.26it/s, episode_reward=262, running_reward=74.4]"
     ]
    },
    {
     "name": "stderr",
     "output_type": "stream",
     "text": [
      "\r\n",
      "  1%|          | 105/10000 [00:18<55:43,  2.96it/s, episode_reward=262, running_reward=74.4]"
     ]
    },
    {
     "name": "stderr",
     "output_type": "stream",
     "text": [
      "\r\n",
      "  1%|          | 105/10000 [00:18<55:43,  2.96it/s, episode_reward=129, running_reward=75.3]"
     ]
    },
    {
     "name": "stderr",
     "output_type": "stream",
     "text": [
      "\r\n",
      "  1%|          | 106/10000 [00:18<50:08,  3.29it/s, episode_reward=129, running_reward=75.3]"
     ]
    },
    {
     "name": "stderr",
     "output_type": "stream",
     "text": [
      "\r\n",
      "  1%|          | 106/10000 [00:18<50:08,  3.29it/s, episode_reward=169, running_reward=76.9]"
     ]
    },
    {
     "name": "stderr",
     "output_type": "stream",
     "text": [
      "\r\n",
      "  1%|          | 107/10000 [00:18<48:25,  3.40it/s, episode_reward=169, running_reward=76.9]"
     ]
    },
    {
     "name": "stderr",
     "output_type": "stream",
     "text": [
      "\r\n",
      "  1%|          | 107/10000 [00:19<48:25,  3.40it/s, episode_reward=377, running_reward=80.1]"
     ]
    },
    {
     "name": "stderr",
     "output_type": "stream",
     "text": [
      "\r\n",
      "  1%|          | 108/10000 [00:19<1:03:16,  2.61it/s, episode_reward=377, running_reward=80.1]"
     ]
    },
    {
     "name": "stderr",
     "output_type": "stream",
     "text": [
      "\r\n",
      "  1%|          | 108/10000 [00:19<1:03:16,  2.61it/s, episode_reward=194, running_reward=81.7]"
     ]
    },
    {
     "name": "stderr",
     "output_type": "stream",
     "text": [
      "\r\n",
      "  1%|          | 109/10000 [00:19<1:01:03,  2.70it/s, episode_reward=194, running_reward=81.7]"
     ]
    },
    {
     "name": "stderr",
     "output_type": "stream",
     "text": [
      "\r\n",
      "  1%|          | 109/10000 [00:20<1:01:03,  2.70it/s, episode_reward=371, running_reward=85.3]"
     ]
    },
    {
     "name": "stderr",
     "output_type": "stream",
     "text": [
      "\r\n",
      "  1%|          | 110/10000 [00:20<1:14:48,  2.20it/s, episode_reward=371, running_reward=85.3]"
     ]
    },
    {
     "name": "stderr",
     "output_type": "stream",
     "text": [
      "\r\n",
      "  1%|          | 110/10000 [00:20<1:14:48,  2.20it/s, episode_reward=138, running_reward=86.5]"
     ]
    },
    {
     "name": "stderr",
     "output_type": "stream",
     "text": [
      "\r\n",
      "  1%|          | 111/10000 [00:20<1:05:08,  2.53it/s, episode_reward=138, running_reward=86.5]"
     ]
    },
    {
     "name": "stderr",
     "output_type": "stream",
     "text": [
      "\r\n",
      "  1%|          | 111/10000 [00:21<1:05:08,  2.53it/s, episode_reward=346, running_reward=89.4]"
     ]
    },
    {
     "name": "stderr",
     "output_type": "stream",
     "text": [
      "\r\n",
      "  1%|          | 112/10000 [00:21<1:15:21,  2.19it/s, episode_reward=346, running_reward=89.4]"
     ]
    },
    {
     "name": "stderr",
     "output_type": "stream",
     "text": [
      "\r\n",
      "  1%|          | 112/10000 [00:21<1:15:21,  2.19it/s, episode_reward=349, running_reward=92.4]"
     ]
    },
    {
     "name": "stderr",
     "output_type": "stream",
     "text": [
      "\r\n",
      "  1%|          | 113/10000 [00:21<1:23:20,  1.98it/s, episode_reward=349, running_reward=92.4]"
     ]
    },
    {
     "name": "stderr",
     "output_type": "stream",
     "text": [
      "\r\n",
      "  1%|          | 113/10000 [00:22<1:23:20,  1.98it/s, episode_reward=159, running_reward=93.7]"
     ]
    },
    {
     "name": "stderr",
     "output_type": "stream",
     "text": [
      "\r\n",
      "  1%|          | 114/10000 [00:22<1:10:50,  2.33it/s, episode_reward=159, running_reward=93.7]"
     ]
    },
    {
     "name": "stderr",
     "output_type": "stream",
     "text": [
      "\r\n",
      "  1%|          | 114/10000 [00:22<1:10:50,  2.33it/s, episode_reward=182, running_reward=95.3]"
     ]
    },
    {
     "name": "stderr",
     "output_type": "stream",
     "text": [
      "\r\n",
      "  1%|          | 115/10000 [00:22<1:06:05,  2.49it/s, episode_reward=182, running_reward=95.3]"
     ]
    },
    {
     "name": "stderr",
     "output_type": "stream",
     "text": [
      "\r\n",
      "  1%|          | 115/10000 [00:22<1:06:05,  2.49it/s, episode_reward=289, running_reward=97.7]"
     ]
    },
    {
     "name": "stderr",
     "output_type": "stream",
     "text": [
      "\r\n",
      "  1%|          | 116/10000 [00:22<1:09:04,  2.38it/s, episode_reward=289, running_reward=97.7]"
     ]
    },
    {
     "name": "stderr",
     "output_type": "stream",
     "text": [
      "\r\n",
      "  1%|          | 116/10000 [00:23<1:09:04,  2.38it/s, episode_reward=500, running_reward=102] "
     ]
    },
    {
     "name": "stderr",
     "output_type": "stream",
     "text": [
      "\r\n",
      "  1%|          | 117/10000 [00:23<1:32:48,  1.77it/s, episode_reward=500, running_reward=102]"
     ]
    },
    {
     "name": "stderr",
     "output_type": "stream",
     "text": [
      "\r\n",
      "  1%|          | 117/10000 [00:24<1:32:48,  1.77it/s, episode_reward=251, running_reward=105]"
     ]
    },
    {
     "name": "stderr",
     "output_type": "stream",
     "text": [
      "\r\n",
      "  1%|          | 118/10000 [00:24<1:26:17,  1.91it/s, episode_reward=251, running_reward=105]"
     ]
    },
    {
     "name": "stderr",
     "output_type": "stream",
     "text": [
      "\r\n",
      "  1%|          | 118/10000 [00:24<1:26:17,  1.91it/s, episode_reward=474, running_reward=109]"
     ]
    },
    {
     "name": "stderr",
     "output_type": "stream",
     "text": [
      "\r\n",
      "  1%|          | 119/10000 [00:24<1:36:56,  1.70it/s, episode_reward=474, running_reward=109]"
     ]
    },
    {
     "name": "stderr",
     "output_type": "stream",
     "text": [
      "\r\n",
      "  1%|          | 119/10000 [00:25<1:36:56,  1.70it/s, episode_reward=500, running_reward=114]"
     ]
    },
    {
     "name": "stderr",
     "output_type": "stream",
     "text": [
      "\r\n",
      "  1%|          | 120/10000 [00:25<1:45:18,  1.56it/s, episode_reward=500, running_reward=114]"
     ]
    },
    {
     "name": "stderr",
     "output_type": "stream",
     "text": [
      "\r\n",
      "  1%|          | 120/10000 [00:26<1:45:18,  1.56it/s, episode_reward=223, running_reward=116]"
     ]
    },
    {
     "name": "stderr",
     "output_type": "stream",
     "text": [
      "\r\n",
      "  1%|          | 121/10000 [00:26<1:34:20,  1.75it/s, episode_reward=223, running_reward=116]"
     ]
    },
    {
     "name": "stderr",
     "output_type": "stream",
     "text": [
      "\r\n",
      "  1%|          | 121/10000 [00:26<1:34:20,  1.75it/s, episode_reward=500, running_reward=121]"
     ]
    },
    {
     "name": "stderr",
     "output_type": "stream",
     "text": [
      "\r\n",
      "  1%|          | 122/10000 [00:26<1:50:39,  1.49it/s, episode_reward=500, running_reward=121]"
     ]
    },
    {
     "name": "stderr",
     "output_type": "stream",
     "text": [
      "\r\n",
      "  1%|          | 122/10000 [00:27<1:50:39,  1.49it/s, episode_reward=482, running_reward=125]"
     ]
    },
    {
     "name": "stderr",
     "output_type": "stream",
     "text": [
      "\r\n",
      "  1%|          | 123/10000 [00:27<1:58:04,  1.39it/s, episode_reward=482, running_reward=125]"
     ]
    },
    {
     "name": "stderr",
     "output_type": "stream",
     "text": [
      "\r\n",
      "  1%|          | 123/10000 [00:28<1:58:04,  1.39it/s, episode_reward=364, running_reward=128]"
     ]
    },
    {
     "name": "stderr",
     "output_type": "stream",
     "text": [
      "\r\n",
      "  1%|          | 124/10000 [00:28<1:57:23,  1.40it/s, episode_reward=364, running_reward=128]"
     ]
    },
    {
     "name": "stderr",
     "output_type": "stream",
     "text": [
      "\r\n",
      "  1%|          | 124/10000 [00:29<1:57:23,  1.40it/s, episode_reward=500, running_reward=133]"
     ]
    },
    {
     "name": "stderr",
     "output_type": "stream",
     "text": [
      "\r\n",
      "  1%|▏         | 125/10000 [00:29<2:05:34,  1.31it/s, episode_reward=500, running_reward=133]"
     ]
    },
    {
     "name": "stderr",
     "output_type": "stream",
     "text": [
      "\r\n",
      "  1%|▏         | 125/10000 [00:30<2:05:34,  1.31it/s, episode_reward=401, running_reward=137]"
     ]
    },
    {
     "name": "stderr",
     "output_type": "stream",
     "text": [
      "\r\n",
      "  1%|▏         | 126/10000 [00:30<1:59:37,  1.38it/s, episode_reward=401, running_reward=137]"
     ]
    },
    {
     "name": "stderr",
     "output_type": "stream",
     "text": [
      "\r\n",
      "  1%|▏         | 126/10000 [00:30<1:59:37,  1.38it/s, episode_reward=316, running_reward=139]"
     ]
    },
    {
     "name": "stderr",
     "output_type": "stream",
     "text": [
      "\r\n",
      "  1%|▏         | 127/10000 [00:30<1:49:10,  1.51it/s, episode_reward=316, running_reward=139]"
     ]
    },
    {
     "name": "stderr",
     "output_type": "stream",
     "text": [
      "\r\n",
      "  1%|▏         | 127/10000 [00:31<1:49:10,  1.51it/s, episode_reward=500, running_reward=144]"
     ]
    },
    {
     "name": "stderr",
     "output_type": "stream",
     "text": [
      "\r\n",
      "  1%|▏         | 128/10000 [00:31<1:54:31,  1.44it/s, episode_reward=500, running_reward=144]"
     ]
    },
    {
     "name": "stderr",
     "output_type": "stream",
     "text": [
      "\r\n",
      "  1%|▏         | 128/10000 [00:31<1:54:31,  1.44it/s, episode_reward=213, running_reward=146]"
     ]
    },
    {
     "name": "stderr",
     "output_type": "stream",
     "text": [
      "\r\n",
      "  1%|▏         | 129/10000 [00:31<1:37:41,  1.68it/s, episode_reward=213, running_reward=146]"
     ]
    },
    {
     "name": "stderr",
     "output_type": "stream",
     "text": [
      "\r\n",
      "  1%|▏         | 129/10000 [00:32<1:37:41,  1.68it/s, episode_reward=500, running_reward=151]"
     ]
    },
    {
     "name": "stderr",
     "output_type": "stream",
     "text": [
      "\r\n",
      "  1%|▏         | 130/10000 [00:32<1:51:28,  1.48it/s, episode_reward=500, running_reward=151]"
     ]
    },
    {
     "name": "stderr",
     "output_type": "stream",
     "text": [
      "\r\n",
      "  1%|▏         | 130/10000 [00:33<1:51:28,  1.48it/s, episode_reward=500, running_reward=155]"
     ]
    },
    {
     "name": "stderr",
     "output_type": "stream",
     "text": [
      "\r\n",
      "  1%|▏         | 131/10000 [00:33<1:56:54,  1.41it/s, episode_reward=500, running_reward=155]"
     ]
    },
    {
     "name": "stderr",
     "output_type": "stream",
     "text": [
      "\r\n",
      "  1%|▏         | 131/10000 [00:34<1:56:54,  1.41it/s, episode_reward=500, running_reward=159]"
     ]
    },
    {
     "name": "stderr",
     "output_type": "stream",
     "text": [
      "\r\n",
      "  1%|▏         | 132/10000 [00:34<2:01:57,  1.35it/s, episode_reward=500, running_reward=159]"
     ]
    },
    {
     "name": "stderr",
     "output_type": "stream",
     "text": [
      "\r\n",
      "  1%|▏         | 132/10000 [00:34<2:01:57,  1.35it/s, episode_reward=500, running_reward=163]"
     ]
    },
    {
     "name": "stderr",
     "output_type": "stream",
     "text": [
      "\r\n",
      "  1%|▏         | 133/10000 [00:34<2:04:13,  1.32it/s, episode_reward=500, running_reward=163]"
     ]
    },
    {
     "name": "stderr",
     "output_type": "stream",
     "text": [
      "\r\n",
      "  1%|▏         | 133/10000 [00:35<2:04:13,  1.32it/s, episode_reward=500, running_reward=166]"
     ]
    },
    {
     "name": "stderr",
     "output_type": "stream",
     "text": [
      "\r\n",
      "  1%|▏         | 134/10000 [00:35<2:04:26,  1.32it/s, episode_reward=500, running_reward=166]"
     ]
    },
    {
     "name": "stderr",
     "output_type": "stream",
     "text": [
      "\r\n",
      "  1%|▏         | 134/10000 [00:36<2:04:26,  1.32it/s, episode_reward=500, running_reward=171]"
     ]
    },
    {
     "name": "stderr",
     "output_type": "stream",
     "text": [
      "\r\n",
      "  1%|▏         | 135/10000 [00:36<2:07:31,  1.29it/s, episode_reward=500, running_reward=171]"
     ]
    },
    {
     "name": "stderr",
     "output_type": "stream",
     "text": [
      "\r\n",
      "  1%|▏         | 135/10000 [00:37<2:07:31,  1.29it/s, episode_reward=384, running_reward=174]"
     ]
    },
    {
     "name": "stderr",
     "output_type": "stream",
     "text": [
      "\r\n",
      "  1%|▏         | 136/10000 [00:37<2:02:18,  1.34it/s, episode_reward=384, running_reward=174]"
     ]
    },
    {
     "name": "stderr",
     "output_type": "stream",
     "text": [
      "\r\n",
      "  1%|▏         | 136/10000 [00:38<2:02:18,  1.34it/s, episode_reward=500, running_reward=179]"
     ]
    },
    {
     "name": "stderr",
     "output_type": "stream",
     "text": [
      "\r\n",
      "  1%|▏         | 137/10000 [00:38<2:09:41,  1.27it/s, episode_reward=500, running_reward=179]"
     ]
    },
    {
     "name": "stderr",
     "output_type": "stream",
     "text": [
      "\r\n",
      "  1%|▏         | 137/10000 [00:38<2:09:41,  1.27it/s, episode_reward=500, running_reward=183]"
     ]
    },
    {
     "name": "stderr",
     "output_type": "stream",
     "text": [
      "\r\n",
      "  1%|▏         | 138/10000 [00:38<2:07:44,  1.29it/s, episode_reward=500, running_reward=183]"
     ]
    },
    {
     "name": "stderr",
     "output_type": "stream",
     "text": [
      "\r\n",
      "  1%|▏         | 138/10000 [00:39<2:07:44,  1.29it/s, episode_reward=500, running_reward=187]"
     ]
    },
    {
     "name": "stderr",
     "output_type": "stream",
     "text": [
      "\r\n",
      "  1%|▏         | 139/10000 [00:39<2:08:40,  1.28it/s, episode_reward=500, running_reward=187]"
     ]
    },
    {
     "name": "stderr",
     "output_type": "stream",
     "text": [
      "\r\n",
      "  1%|▏         | 139/10000 [00:40<2:08:40,  1.28it/s, episode_reward=281, running_reward=189]"
     ]
    },
    {
     "name": "stderr",
     "output_type": "stream",
     "text": [
      "\r\n",
      "  1%|▏         | 140/10000 [00:40<1:51:07,  1.48it/s, episode_reward=281, running_reward=189]"
     ]
    },
    {
     "name": "stderr",
     "output_type": "stream",
     "text": [
      "\r\n",
      "  1%|▏         | 140/10000 [00:40<1:51:07,  1.48it/s, episode_reward=500, running_reward=193]"
     ]
    },
    {
     "name": "stderr",
     "output_type": "stream",
     "text": [
      "\r\n",
      "  1%|▏         | 141/10000 [00:40<1:55:13,  1.43it/s, episode_reward=500, running_reward=193]"
     ]
    },
    {
     "name": "stderr",
     "output_type": "stream",
     "text": [
      "\r\n",
      "  1%|▏         | 141/10000 [00:41<1:55:13,  1.43it/s, episode_reward=500, running_reward=197]"
     ]
    },
    {
     "name": "stderr",
     "output_type": "stream",
     "text": [
      "\r\n",
      "  1%|▏         | 142/10000 [00:41<1:57:28,  1.40it/s, episode_reward=500, running_reward=197]"
     ]
    },
    {
     "name": "stderr",
     "output_type": "stream",
     "text": [
      "\r\n",
      "  1%|▏         | 142/10000 [00:42<1:57:28,  1.40it/s, episode_reward=500, running_reward=202]"
     ]
    },
    {
     "name": "stderr",
     "output_type": "stream",
     "text": [
      "\r\n",
      "  1%|▏         | 143/10000 [00:42<1:59:43,  1.37it/s, episode_reward=500, running_reward=202]"
     ]
    },
    {
     "name": "stderr",
     "output_type": "stream",
     "text": [
      "\r\n",
      "  1%|▏         | 143/10000 [00:43<1:59:43,  1.37it/s, episode_reward=493, running_reward=205]"
     ]
    },
    {
     "name": "stderr",
     "output_type": "stream",
     "text": [
      "\r\n",
      "  1%|▏         | 144/10000 [00:43<2:04:08,  1.32it/s, episode_reward=493, running_reward=205]"
     ]
    },
    {
     "name": "stderr",
     "output_type": "stream",
     "text": [
      "\r\n",
      "  1%|▏         | 144/10000 [00:43<2:04:08,  1.32it/s, episode_reward=476, running_reward=209]"
     ]
    },
    {
     "name": "stderr",
     "output_type": "stream",
     "text": [
      "\r\n",
      "  1%|▏         | 145/10000 [00:43<2:01:44,  1.35it/s, episode_reward=476, running_reward=209]"
     ]
    },
    {
     "name": "stderr",
     "output_type": "stream",
     "text": [
      "\r\n",
      "  1%|▏         | 145/10000 [00:44<2:01:44,  1.35it/s, episode_reward=500, running_reward=214]"
     ]
    },
    {
     "name": "stderr",
     "output_type": "stream",
     "text": [
      "\r\n",
      "  1%|▏         | 146/10000 [00:44<2:04:49,  1.32it/s, episode_reward=500, running_reward=214]"
     ]
    },
    {
     "name": "stderr",
     "output_type": "stream",
     "text": [
      "\r\n",
      "  1%|▏         | 146/10000 [00:45<2:04:49,  1.32it/s, episode_reward=500, running_reward=218]"
     ]
    },
    {
     "name": "stderr",
     "output_type": "stream",
     "text": [
      "\r\n",
      "  1%|▏         | 147/10000 [00:45<2:06:35,  1.30it/s, episode_reward=500, running_reward=218]"
     ]
    },
    {
     "name": "stderr",
     "output_type": "stream",
     "text": [
      "\r\n",
      "  1%|▏         | 147/10000 [00:45<2:06:35,  1.30it/s, episode_reward=147, running_reward=219]"
     ]
    },
    {
     "name": "stderr",
     "output_type": "stream",
     "text": [
      "\r\n",
      "  1%|▏         | 148/10000 [00:45<1:40:46,  1.63it/s, episode_reward=147, running_reward=219]"
     ]
    },
    {
     "name": "stderr",
     "output_type": "stream",
     "text": [
      "\r\n",
      "  1%|▏         | 148/10000 [00:46<1:40:46,  1.63it/s, episode_reward=500, running_reward=223]"
     ]
    },
    {
     "name": "stderr",
     "output_type": "stream",
     "text": [
      "\r\n",
      "  1%|▏         | 149/10000 [00:46<1:50:08,  1.49it/s, episode_reward=500, running_reward=223]"
     ]
    },
    {
     "name": "stderr",
     "output_type": "stream",
     "text": [
      "\r\n",
      "  1%|▏         | 149/10000 [00:47<1:50:08,  1.49it/s, episode_reward=471, running_reward=228]"
     ]
    },
    {
     "name": "stderr",
     "output_type": "stream",
     "text": [
      "\r\n",
      "  2%|▏         | 150/10000 [00:47<1:52:10,  1.46it/s, episode_reward=471, running_reward=228]"
     ]
    },
    {
     "name": "stderr",
     "output_type": "stream",
     "text": [
      "\r\n",
      "  2%|▏         | 150/10000 [00:47<1:52:10,  1.46it/s, episode_reward=500, running_reward=231]"
     ]
    },
    {
     "name": "stderr",
     "output_type": "stream",
     "text": [
      "\r\n",
      "  2%|▏         | 151/10000 [00:47<1:56:07,  1.41it/s, episode_reward=500, running_reward=231]"
     ]
    },
    {
     "name": "stderr",
     "output_type": "stream",
     "text": [
      "\r\n",
      "  2%|▏         | 151/10000 [00:48<1:56:07,  1.41it/s, episode_reward=244, running_reward=233]"
     ]
    },
    {
     "name": "stderr",
     "output_type": "stream",
     "text": [
      "\r\n",
      "  2%|▏         | 152/10000 [00:48<1:42:17,  1.60it/s, episode_reward=244, running_reward=233]"
     ]
    },
    {
     "name": "stderr",
     "output_type": "stream",
     "text": [
      "\r\n",
      "  2%|▏         | 152/10000 [00:49<1:42:17,  1.60it/s, episode_reward=500, running_reward=236]"
     ]
    },
    {
     "name": "stderr",
     "output_type": "stream",
     "text": [
      "\r\n",
      "  2%|▏         | 153/10000 [00:49<1:49:59,  1.49it/s, episode_reward=500, running_reward=236]"
     ]
    },
    {
     "name": "stderr",
     "output_type": "stream",
     "text": [
      "\r\n",
      "  2%|▏         | 153/10000 [00:49<1:49:59,  1.49it/s, episode_reward=500, running_reward=241]"
     ]
    },
    {
     "name": "stderr",
     "output_type": "stream",
     "text": [
      "\r\n",
      "  2%|▏         | 154/10000 [00:49<1:56:24,  1.41it/s, episode_reward=500, running_reward=241]"
     ]
    },
    {
     "name": "stderr",
     "output_type": "stream",
     "text": [
      "\r\n",
      "  2%|▏         | 154/10000 [00:50<1:56:24,  1.41it/s, episode_reward=500, running_reward=245]"
     ]
    },
    {
     "name": "stderr",
     "output_type": "stream",
     "text": [
      "\r\n",
      "  2%|▏         | 155/10000 [00:50<2:02:36,  1.34it/s, episode_reward=500, running_reward=245]"
     ]
    },
    {
     "name": "stderr",
     "output_type": "stream",
     "text": [
      "\r\n",
      "  2%|▏         | 155/10000 [00:51<2:02:36,  1.34it/s, episode_reward=154, running_reward=244]"
     ]
    },
    {
     "name": "stderr",
     "output_type": "stream",
     "text": [
      "\r\n",
      "  2%|▏         | 156/10000 [00:51<1:38:53,  1.66it/s, episode_reward=154, running_reward=244]"
     ]
    },
    {
     "name": "stderr",
     "output_type": "stream",
     "text": [
      "\r\n",
      "  2%|▏         | 156/10000 [00:51<1:38:53,  1.66it/s, episode_reward=410, running_reward=247]"
     ]
    },
    {
     "name": "stderr",
     "output_type": "stream",
     "text": [
      "\r\n",
      "  2%|▏         | 157/10000 [00:51<1:42:27,  1.60it/s, episode_reward=410, running_reward=247]"
     ]
    },
    {
     "name": "stderr",
     "output_type": "stream",
     "text": [
      "\r\n",
      "  2%|▏         | 157/10000 [00:52<1:42:27,  1.60it/s, episode_reward=500, running_reward=251]"
     ]
    },
    {
     "name": "stderr",
     "output_type": "stream",
     "text": [
      "\r\n",
      "  2%|▏         | 158/10000 [00:52<1:50:52,  1.48it/s, episode_reward=500, running_reward=251]"
     ]
    },
    {
     "name": "stderr",
     "output_type": "stream",
     "text": [
      "\r\n",
      "  2%|▏         | 158/10000 [00:53<1:50:52,  1.48it/s, episode_reward=500, running_reward=256]"
     ]
    },
    {
     "name": "stderr",
     "output_type": "stream",
     "text": [
      "\r\n",
      "  2%|▏         | 159/10000 [00:53<1:56:40,  1.41it/s, episode_reward=500, running_reward=256]"
     ]
    },
    {
     "name": "stderr",
     "output_type": "stream",
     "text": [
      "\r\n",
      "  2%|▏         | 159/10000 [00:53<1:56:40,  1.41it/s, episode_reward=383, running_reward=259]"
     ]
    },
    {
     "name": "stderr",
     "output_type": "stream",
     "text": [
      "\r\n",
      "  2%|▏         | 160/10000 [00:53<1:50:10,  1.49it/s, episode_reward=383, running_reward=259]"
     ]
    },
    {
     "name": "stderr",
     "output_type": "stream",
     "text": [
      "\r\n",
      "  2%|▏         | 160/10000 [00:54<1:50:10,  1.49it/s, episode_reward=195, running_reward=261]"
     ]
    },
    {
     "name": "stderr",
     "output_type": "stream",
     "text": [
      "\r\n",
      "  2%|▏         | 161/10000 [00:54<1:35:09,  1.72it/s, episode_reward=195, running_reward=261]"
     ]
    },
    {
     "name": "stderr",
     "output_type": "stream",
     "text": [
      "\r\n",
      "  2%|▏         | 161/10000 [00:55<1:35:09,  1.72it/s, episode_reward=500, running_reward=265]"
     ]
    },
    {
     "name": "stderr",
     "output_type": "stream",
     "text": [
      "\r\n",
      "  2%|▏         | 162/10000 [00:55<1:49:51,  1.49it/s, episode_reward=500, running_reward=265]"
     ]
    },
    {
     "name": "stderr",
     "output_type": "stream",
     "text": [
      "\r\n",
      "  2%|▏         | 162/10000 [00:55<1:49:51,  1.49it/s, episode_reward=372, running_reward=269]"
     ]
    },
    {
     "name": "stderr",
     "output_type": "stream",
     "text": [
      "\r\n",
      "  2%|▏         | 163/10000 [00:55<1:49:25,  1.50it/s, episode_reward=372, running_reward=269]"
     ]
    },
    {
     "name": "stderr",
     "output_type": "stream",
     "text": [
      "\r\n",
      "  2%|▏         | 163/10000 [00:56<1:49:25,  1.50it/s, episode_reward=295, running_reward=271]"
     ]
    },
    {
     "name": "stderr",
     "output_type": "stream",
     "text": [
      "\r\n",
      "  2%|▏         | 164/10000 [00:56<1:42:09,  1.60it/s, episode_reward=295, running_reward=271]"
     ]
    },
    {
     "name": "stderr",
     "output_type": "stream",
     "text": [
      "\r\n",
      "  2%|▏         | 164/10000 [00:57<1:42:09,  1.60it/s, episode_reward=500, running_reward=275]"
     ]
    },
    {
     "name": "stderr",
     "output_type": "stream",
     "text": [
      "\r\n",
      "  2%|▏         | 165/10000 [00:57<1:51:47,  1.47it/s, episode_reward=500, running_reward=275]"
     ]
    },
    {
     "name": "stderr",
     "output_type": "stream",
     "text": [
      "\r\n",
      "  2%|▏         | 165/10000 [00:57<1:51:47,  1.47it/s, episode_reward=198, running_reward=277]"
     ]
    },
    {
     "name": "stderr",
     "output_type": "stream",
     "text": [
      "\r\n",
      "  2%|▏         | 166/10000 [00:57<1:34:39,  1.73it/s, episode_reward=198, running_reward=277]"
     ]
    },
    {
     "name": "stderr",
     "output_type": "stream",
     "text": [
      "\r\n",
      "  2%|▏         | 166/10000 [00:58<1:34:39,  1.73it/s, episode_reward=500, running_reward=282]"
     ]
    },
    {
     "name": "stderr",
     "output_type": "stream",
     "text": [
      "\r\n",
      "  2%|▏         | 167/10000 [00:58<1:46:56,  1.53it/s, episode_reward=500, running_reward=282]"
     ]
    },
    {
     "name": "stderr",
     "output_type": "stream",
     "text": [
      "\r\n",
      "  2%|▏         | 167/10000 [00:59<1:46:56,  1.53it/s, episode_reward=500, running_reward=286]"
     ]
    },
    {
     "name": "stderr",
     "output_type": "stream",
     "text": [
      "\r\n",
      "  2%|▏         | 168/10000 [00:59<1:55:00,  1.42it/s, episode_reward=500, running_reward=286]"
     ]
    },
    {
     "name": "stderr",
     "output_type": "stream",
     "text": [
      "\r\n",
      "  2%|▏         | 168/10000 [00:59<1:55:00,  1.42it/s, episode_reward=500, running_reward=291]"
     ]
    },
    {
     "name": "stderr",
     "output_type": "stream",
     "text": [
      "\r\n",
      "  2%|▏         | 169/10000 [00:59<1:57:25,  1.40it/s, episode_reward=500, running_reward=291]"
     ]
    },
    {
     "name": "stderr",
     "output_type": "stream",
     "text": [
      "\r\n",
      "  2%|▏         | 169/10000 [01:00<1:57:25,  1.40it/s, episode_reward=500, running_reward=295]"
     ]
    },
    {
     "name": "stderr",
     "output_type": "stream",
     "text": [
      "\r\n",
      "  2%|▏         | 170/10000 [01:00<1:59:20,  1.37it/s, episode_reward=500, running_reward=295]"
     ]
    },
    {
     "name": "stderr",
     "output_type": "stream",
     "text": [
      "\r\n",
      "  2%|▏         | 170/10000 [01:01<1:59:20,  1.37it/s, episode_reward=286, running_reward=298]"
     ]
    },
    {
     "name": "stderr",
     "output_type": "stream",
     "text": [
      "\r\n",
      "  2%|▏         | 171/10000 [01:01<1:48:19,  1.51it/s, episode_reward=286, running_reward=298]"
     ]
    },
    {
     "name": "stderr",
     "output_type": "stream",
     "text": [
      "\r\n",
      "  2%|▏         | 171/10000 [01:01<1:48:19,  1.51it/s, episode_reward=500, running_reward=302]"
     ]
    },
    {
     "name": "stderr",
     "output_type": "stream",
     "text": [
      "\r\n",
      "  2%|▏         | 172/10000 [01:01<1:56:24,  1.41it/s, episode_reward=500, running_reward=302]"
     ]
    },
    {
     "name": "stderr",
     "output_type": "stream",
     "text": [
      "\r\n",
      "  2%|▏         | 172/10000 [01:02<1:56:24,  1.41it/s, episode_reward=500, running_reward=307]"
     ]
    },
    {
     "name": "stderr",
     "output_type": "stream",
     "text": [
      "\r\n",
      "  2%|▏         | 173/10000 [01:02<2:00:36,  1.36it/s, episode_reward=500, running_reward=307]"
     ]
    },
    {
     "name": "stderr",
     "output_type": "stream",
     "text": [
      "\r\n",
      "  2%|▏         | 173/10000 [01:03<2:00:36,  1.36it/s, episode_reward=483, running_reward=311]"
     ]
    },
    {
     "name": "stderr",
     "output_type": "stream",
     "text": [
      "\r\n",
      "  2%|▏         | 174/10000 [01:03<2:00:31,  1.36it/s, episode_reward=483, running_reward=311]"
     ]
    },
    {
     "name": "stderr",
     "output_type": "stream",
     "text": [
      "\r\n",
      "  2%|▏         | 174/10000 [01:04<2:00:31,  1.36it/s, episode_reward=500, running_reward=316]"
     ]
    },
    {
     "name": "stderr",
     "output_type": "stream",
     "text": [
      "\r\n",
      "  2%|▏         | 175/10000 [01:04<2:04:41,  1.31it/s, episode_reward=500, running_reward=316]"
     ]
    },
    {
     "name": "stderr",
     "output_type": "stream",
     "text": [
      "\r\n",
      "  2%|▏         | 175/10000 [01:05<2:04:41,  1.31it/s, episode_reward=500, running_reward=320]"
     ]
    },
    {
     "name": "stderr",
     "output_type": "stream",
     "text": [
      "\r\n",
      "  2%|▏         | 176/10000 [01:05<2:05:40,  1.30it/s, episode_reward=500, running_reward=320]"
     ]
    },
    {
     "name": "stderr",
     "output_type": "stream",
     "text": [
      "\r\n",
      "  2%|▏         | 176/10000 [01:05<2:05:40,  1.30it/s, episode_reward=305, running_reward=323]"
     ]
    },
    {
     "name": "stderr",
     "output_type": "stream",
     "text": [
      "\r\n",
      "  2%|▏         | 177/10000 [01:05<1:52:31,  1.45it/s, episode_reward=305, running_reward=323]"
     ]
    },
    {
     "name": "stderr",
     "output_type": "stream",
     "text": [
      "\r\n",
      "  2%|▏         | 177/10000 [01:05<1:52:31,  1.45it/s, episode_reward=147, running_reward=323]"
     ]
    },
    {
     "name": "stderr",
     "output_type": "stream",
     "text": [
      "\r\n",
      "  2%|▏         | 178/10000 [01:05<1:30:56,  1.80it/s, episode_reward=147, running_reward=323]"
     ]
    },
    {
     "name": "stderr",
     "output_type": "stream",
     "text": [
      "\r\n",
      "  2%|▏         | 178/10000 [01:06<1:30:56,  1.80it/s, episode_reward=208, running_reward=324]"
     ]
    },
    {
     "name": "stderr",
     "output_type": "stream",
     "text": [
      "\r\n",
      "  2%|▏         | 179/10000 [01:06<1:19:52,  2.05it/s, episode_reward=208, running_reward=324]"
     ]
    },
    {
     "name": "stderr",
     "output_type": "stream",
     "text": [
      "\r\n",
      "  2%|▏         | 179/10000 [01:06<1:19:52,  2.05it/s, episode_reward=110, running_reward=325]"
     ]
    },
    {
     "name": "stderr",
     "output_type": "stream",
     "text": [
      "\r\n",
      "  2%|▏         | 180/10000 [01:06<1:05:00,  2.52it/s, episode_reward=110, running_reward=325]"
     ]
    },
    {
     "name": "stderr",
     "output_type": "stream",
     "text": [
      "\r\n",
      "  2%|▏         | 180/10000 [01:06<1:05:00,  2.52it/s, episode_reward=116, running_reward=325]"
     ]
    },
    {
     "name": "stderr",
     "output_type": "stream",
     "text": [
      "\r\n",
      "  2%|▏         | 181/10000 [01:06<55:08,  2.97it/s, episode_reward=116, running_reward=325]  "
     ]
    },
    {
     "name": "stderr",
     "output_type": "stream",
     "text": [
      "\r\n",
      "  2%|▏         | 181/10000 [01:06<55:08,  2.97it/s, episode_reward=133, running_reward=326]"
     ]
    },
    {
     "name": "stderr",
     "output_type": "stream",
     "text": [
      "\r\n",
      "  2%|▏         | 182/10000 [01:06<49:06,  3.33it/s, episode_reward=133, running_reward=326]"
     ]
    },
    {
     "name": "stderr",
     "output_type": "stream",
     "text": [
      "\r\n",
      "  2%|▏         | 182/10000 [01:07<49:06,  3.33it/s, episode_reward=147, running_reward=325]"
     ]
    },
    {
     "name": "stderr",
     "output_type": "stream",
     "text": [
      "\r\n",
      "  2%|▏         | 183/10000 [01:07<45:46,  3.57it/s, episode_reward=147, running_reward=325]"
     ]
    },
    {
     "name": "stderr",
     "output_type": "stream",
     "text": [
      "\r\n",
      "  2%|▏         | 183/10000 [01:07<45:46,  3.57it/s, episode_reward=105, running_reward=326]"
     ]
    },
    {
     "name": "stderr",
     "output_type": "stream",
     "text": [
      "\r\n",
      "  2%|▏         | 184/10000 [01:07<40:30,  4.04it/s, episode_reward=105, running_reward=326]"
     ]
    },
    {
     "name": "stderr",
     "output_type": "stream",
     "text": [
      "\r\n",
      "  2%|▏         | 184/10000 [01:07<40:30,  4.04it/s, episode_reward=106, running_reward=326]"
     ]
    },
    {
     "name": "stderr",
     "output_type": "stream",
     "text": [
      "\r\n",
      "  2%|▏         | 185/10000 [01:07<36:45,  4.45it/s, episode_reward=106, running_reward=326]"
     ]
    },
    {
     "name": "stderr",
     "output_type": "stream",
     "text": [
      "\r\n",
      "  2%|▏         | 185/10000 [01:07<36:45,  4.45it/s, episode_reward=126, running_reward=326]"
     ]
    },
    {
     "name": "stderr",
     "output_type": "stream",
     "text": [
      "\r\n",
      "  2%|▏         | 186/10000 [01:07<36:32,  4.48it/s, episode_reward=126, running_reward=326]"
     ]
    },
    {
     "name": "stderr",
     "output_type": "stream",
     "text": [
      "\r\n",
      "  2%|▏         | 186/10000 [01:07<36:32,  4.48it/s, episode_reward=105, running_reward=323]"
     ]
    },
    {
     "name": "stderr",
     "output_type": "stream",
     "text": [
      "\r\n",
      "  2%|▏         | 187/10000 [01:07<34:20,  4.76it/s, episode_reward=105, running_reward=323]"
     ]
    },
    {
     "name": "stderr",
     "output_type": "stream",
     "text": [
      "\r\n",
      "  2%|▏         | 187/10000 [01:07<34:20,  4.76it/s, episode_reward=107, running_reward=323]"
     ]
    },
    {
     "name": "stderr",
     "output_type": "stream",
     "text": [
      "\r\n",
      "  2%|▏         | 188/10000 [01:07<32:36,  5.02it/s, episode_reward=107, running_reward=323]"
     ]
    },
    {
     "name": "stderr",
     "output_type": "stream",
     "text": [
      "\r\n",
      "  2%|▏         | 188/10000 [01:08<32:36,  5.02it/s, episode_reward=123, running_reward=323]"
     ]
    },
    {
     "name": "stderr",
     "output_type": "stream",
     "text": [
      "\r\n",
      "  2%|▏         | 189/10000 [01:08<32:28,  5.03it/s, episode_reward=123, running_reward=323]"
     ]
    },
    {
     "name": "stderr",
     "output_type": "stream",
     "text": [
      "\r\n",
      "  2%|▏         | 189/10000 [01:08<32:28,  5.03it/s, episode_reward=110, running_reward=324]"
     ]
    },
    {
     "name": "stderr",
     "output_type": "stream",
     "text": [
      "\r\n",
      "  2%|▏         | 190/10000 [01:08<31:55,  5.12it/s, episode_reward=110, running_reward=324]"
     ]
    },
    {
     "name": "stderr",
     "output_type": "stream",
     "text": [
      "\r\n",
      "  2%|▏         | 190/10000 [01:08<31:55,  5.12it/s, episode_reward=99, running_reward=324] "
     ]
    },
    {
     "name": "stderr",
     "output_type": "stream",
     "text": [
      "\r\n",
      "  2%|▏         | 191/10000 [01:08<31:42,  5.16it/s, episode_reward=99, running_reward=324]"
     ]
    },
    {
     "name": "stderr",
     "output_type": "stream",
     "text": [
      "\r\n",
      "  2%|▏         | 191/10000 [01:08<31:42,  5.16it/s, episode_reward=19, running_reward=324]"
     ]
    },
    {
     "name": "stderr",
     "output_type": "stream",
     "text": [
      "\r\n",
      "  2%|▏         | 191/10000 [01:08<31:42,  5.16it/s, episode_reward=107, running_reward=324]"
     ]
    },
    {
     "name": "stderr",
     "output_type": "stream",
     "text": [
      "\r\n",
      "  2%|▏         | 193/10000 [01:08<24:50,  6.58it/s, episode_reward=107, running_reward=324]"
     ]
    },
    {
     "name": "stderr",
     "output_type": "stream",
     "text": [
      "\r\n",
      "  2%|▏         | 193/10000 [01:08<24:50,  6.58it/s, episode_reward=108, running_reward=325]"
     ]
    },
    {
     "name": "stderr",
     "output_type": "stream",
     "text": [
      "\r\n",
      "  2%|▏         | 194/10000 [01:08<25:49,  6.33it/s, episode_reward=108, running_reward=325]"
     ]
    },
    {
     "name": "stderr",
     "output_type": "stream",
     "text": [
      "\r\n",
      "  2%|▏         | 194/10000 [01:09<25:49,  6.33it/s, episode_reward=103, running_reward=326]"
     ]
    },
    {
     "name": "stderr",
     "output_type": "stream",
     "text": [
      "\r\n",
      "  2%|▏         | 195/10000 [01:09<27:07,  6.03it/s, episode_reward=103, running_reward=326]"
     ]
    },
    {
     "name": "stderr",
     "output_type": "stream",
     "text": [
      "\r\n",
      "  2%|▏         | 195/10000 [01:09<27:07,  6.03it/s, episode_reward=21, running_reward=325] "
     ]
    },
    {
     "name": "stderr",
     "output_type": "stream",
     "text": [
      "\r\n",
      "  2%|▏         | 195/10000 [01:09<27:07,  6.03it/s, episode_reward=21, running_reward=324]"
     ]
    },
    {
     "name": "stderr",
     "output_type": "stream",
     "text": [
      "\r\n",
      "  2%|▏         | 195/10000 [01:09<27:07,  6.03it/s, episode_reward=34, running_reward=324]"
     ]
    },
    {
     "name": "stderr",
     "output_type": "stream",
     "text": [
      "\r\n",
      "  2%|▏         | 198/10000 [01:09<16:47,  9.73it/s, episode_reward=34, running_reward=324]"
     ]
    },
    {
     "name": "stderr",
     "output_type": "stream",
     "text": [
      "\r\n",
      "  2%|▏         | 198/10000 [01:09<16:47,  9.73it/s, episode_reward=97, running_reward=325]"
     ]
    },
    {
     "name": "stderr",
     "output_type": "stream",
     "text": [
      "\r\n",
      "  2%|▏         | 198/10000 [01:09<16:47,  9.73it/s, episode_reward=29, running_reward=324]"
     ]
    },
    {
     "name": "stderr",
     "output_type": "stream",
     "text": [
      "\r\n",
      "  2%|▏         | 200/10000 [01:09<17:22,  9.40it/s, episode_reward=29, running_reward=324]"
     ]
    },
    {
     "name": "stderr",
     "output_type": "stream",
     "text": [
      "\r\n",
      "  2%|▏         | 200/10000 [01:09<17:22,  9.40it/s, episode_reward=116, running_reward=324]"
     ]
    },
    {
     "name": "stderr",
     "output_type": "stream",
     "text": [
      "\r\n",
      "  2%|▏         | 200/10000 [01:09<17:22,  9.40it/s, episode_reward=19, running_reward=322] "
     ]
    },
    {
     "name": "stderr",
     "output_type": "stream",
     "text": [
      "\r\n",
      "  2%|▏         | 202/10000 [01:09<17:53,  9.13it/s, episode_reward=19, running_reward=322]"
     ]
    },
    {
     "name": "stderr",
     "output_type": "stream",
     "text": [
      "\r\n",
      "  2%|▏         | 202/10000 [01:09<17:53,  9.13it/s, episode_reward=29, running_reward=320]"
     ]
    },
    {
     "name": "stderr",
     "output_type": "stream",
     "text": [
      "\r\n",
      "  2%|▏         | 202/10000 [01:09<17:53,  9.13it/s, episode_reward=126, running_reward=318]"
     ]
    },
    {
     "name": "stderr",
     "output_type": "stream",
     "text": [
      "\r\n",
      "  2%|▏         | 204/10000 [01:09<19:08,  8.53it/s, episode_reward=126, running_reward=318]"
     ]
    },
    {
     "name": "stderr",
     "output_type": "stream",
     "text": [
      "\r\n",
      "  2%|▏         | 204/10000 [01:10<19:08,  8.53it/s, episode_reward=107, running_reward=317]"
     ]
    },
    {
     "name": "stderr",
     "output_type": "stream",
     "text": [
      "\r\n",
      "  2%|▏         | 205/10000 [01:10<21:14,  7.69it/s, episode_reward=107, running_reward=317]"
     ]
    },
    {
     "name": "stderr",
     "output_type": "stream",
     "text": [
      "\r\n",
      "  2%|▏         | 205/10000 [01:10<21:14,  7.69it/s, episode_reward=29, running_reward=316] "
     ]
    },
    {
     "name": "stderr",
     "output_type": "stream",
     "text": [
      "\r\n",
      "  2%|▏         | 205/10000 [01:10<21:14,  7.69it/s, episode_reward=33, running_reward=314]"
     ]
    },
    {
     "name": "stderr",
     "output_type": "stream",
     "text": [
      "\r\n",
      "  2%|▏         | 207/10000 [01:10<17:02,  9.57it/s, episode_reward=33, running_reward=314]"
     ]
    },
    {
     "name": "stderr",
     "output_type": "stream",
     "text": [
      "\r\n",
      "  2%|▏         | 207/10000 [01:10<17:02,  9.57it/s, episode_reward=114, running_reward=312]"
     ]
    },
    {
     "name": "stderr",
     "output_type": "stream",
     "text": [
      "\r\n",
      "  2%|▏         | 207/10000 [01:10<17:02,  9.57it/s, episode_reward=21, running_reward=310] "
     ]
    },
    {
     "name": "stderr",
     "output_type": "stream",
     "text": [
      "\r\n",
      "  2%|▏         | 209/10000 [01:10<17:52,  9.13it/s, episode_reward=21, running_reward=310]"
     ]
    },
    {
     "name": "stderr",
     "output_type": "stream",
     "text": [
      "\r\n",
      "  2%|▏         | 209/10000 [01:10<17:52,  9.13it/s, episode_reward=108, running_reward=307]"
     ]
    },
    {
     "name": "stderr",
     "output_type": "stream",
     "text": [
      "\r\n",
      "  2%|▏         | 209/10000 [01:10<17:52,  9.13it/s, episode_reward=133, running_reward=307]"
     ]
    },
    {
     "name": "stderr",
     "output_type": "stream",
     "text": [
      "\r\n",
      "  2%|▏         | 211/10000 [01:10<22:45,  7.17it/s, episode_reward=133, running_reward=307]"
     ]
    },
    {
     "name": "stderr",
     "output_type": "stream",
     "text": [
      "\r\n",
      "  2%|▏         | 211/10000 [01:11<22:45,  7.17it/s, episode_reward=133, running_reward=305]"
     ]
    },
    {
     "name": "stderr",
     "output_type": "stream",
     "text": [
      "\r\n",
      "  2%|▏         | 212/10000 [01:11<25:03,  6.51it/s, episode_reward=133, running_reward=305]"
     ]
    },
    {
     "name": "stderr",
     "output_type": "stream",
     "text": [
      "\r\n",
      "  2%|▏         | 212/10000 [01:11<25:03,  6.51it/s, episode_reward=159, running_reward=303]"
     ]
    },
    {
     "name": "stderr",
     "output_type": "stream",
     "text": [
      "\r\n",
      "  2%|▏         | 213/10000 [01:11<29:12,  5.59it/s, episode_reward=159, running_reward=303]"
     ]
    },
    {
     "name": "stderr",
     "output_type": "stream",
     "text": [
      "\r\n",
      "  2%|▏         | 213/10000 [01:11<29:12,  5.59it/s, episode_reward=150, running_reward=303]"
     ]
    },
    {
     "name": "stderr",
     "output_type": "stream",
     "text": [
      "\r\n",
      "  2%|▏         | 214/10000 [01:11<33:19,  4.89it/s, episode_reward=150, running_reward=303]"
     ]
    },
    {
     "name": "stderr",
     "output_type": "stream",
     "text": [
      "\r\n",
      "  2%|▏         | 214/10000 [01:11<33:19,  4.89it/s, episode_reward=151, running_reward=303]"
     ]
    },
    {
     "name": "stderr",
     "output_type": "stream",
     "text": [
      "\r\n",
      "  2%|▏         | 215/10000 [01:11<36:26,  4.47it/s, episode_reward=151, running_reward=303]"
     ]
    },
    {
     "name": "stderr",
     "output_type": "stream",
     "text": [
      "\r\n",
      "  2%|▏         | 215/10000 [01:12<36:26,  4.47it/s, episode_reward=174, running_reward=302]"
     ]
    },
    {
     "name": "stderr",
     "output_type": "stream",
     "text": [
      "\r\n",
      "  2%|▏         | 216/10000 [01:12<39:27,  4.13it/s, episode_reward=174, running_reward=302]"
     ]
    },
    {
     "name": "stderr",
     "output_type": "stream",
     "text": [
      "\r\n",
      "  2%|▏         | 216/10000 [01:12<39:27,  4.13it/s, episode_reward=192, running_reward=299]"
     ]
    },
    {
     "name": "stderr",
     "output_type": "stream",
     "text": [
      "\r\n",
      "  2%|▏         | 217/10000 [01:12<44:22,  3.67it/s, episode_reward=192, running_reward=299]"
     ]
    },
    {
     "name": "stderr",
     "output_type": "stream",
     "text": [
      "\r\n",
      "  2%|▏         | 217/10000 [01:12<44:22,  3.67it/s, episode_reward=176, running_reward=298]"
     ]
    },
    {
     "name": "stderr",
     "output_type": "stream",
     "text": [
      "\r\n",
      "  2%|▏         | 218/10000 [01:12<47:01,  3.47it/s, episode_reward=176, running_reward=298]"
     ]
    },
    {
     "name": "stderr",
     "output_type": "stream",
     "text": [
      "\r\n",
      "  2%|▏         | 218/10000 [01:13<47:01,  3.47it/s, episode_reward=173, running_reward=295]"
     ]
    },
    {
     "name": "stderr",
     "output_type": "stream",
     "text": [
      "\r\n",
      "  2%|▏         | 219/10000 [01:13<46:58,  3.47it/s, episode_reward=173, running_reward=295]"
     ]
    },
    {
     "name": "stderr",
     "output_type": "stream",
     "text": [
      "\r\n",
      "  2%|▏         | 219/10000 [01:13<46:58,  3.47it/s, episode_reward=171, running_reward=292]"
     ]
    },
    {
     "name": "stderr",
     "output_type": "stream",
     "text": [
      "\r\n",
      "  2%|▏         | 220/10000 [01:13<46:11,  3.53it/s, episode_reward=171, running_reward=292]"
     ]
    },
    {
     "name": "stderr",
     "output_type": "stream",
     "text": [
      "\r\n",
      "  2%|▏         | 220/10000 [01:13<46:11,  3.53it/s, episode_reward=173, running_reward=291]"
     ]
    },
    {
     "name": "stderr",
     "output_type": "stream",
     "text": [
      "\r\n",
      "  2%|▏         | 221/10000 [01:13<45:37,  3.57it/s, episode_reward=173, running_reward=291]"
     ]
    },
    {
     "name": "stderr",
     "output_type": "stream",
     "text": [
      "\r\n",
      "  2%|▏         | 221/10000 [01:14<45:37,  3.57it/s, episode_reward=168, running_reward=288]"
     ]
    },
    {
     "name": "stderr",
     "output_type": "stream",
     "text": [
      "\r\n",
      "  2%|▏         | 222/10000 [01:14<44:49,  3.64it/s, episode_reward=168, running_reward=288]"
     ]
    },
    {
     "name": "stderr",
     "output_type": "stream",
     "text": [
      "\r\n",
      "  2%|▏         | 222/10000 [01:14<44:49,  3.64it/s, episode_reward=185, running_reward=285]"
     ]
    },
    {
     "name": "stderr",
     "output_type": "stream",
     "text": [
      "\r\n",
      "  2%|▏         | 223/10000 [01:14<45:21,  3.59it/s, episode_reward=185, running_reward=285]"
     ]
    },
    {
     "name": "stderr",
     "output_type": "stream",
     "text": [
      "\r\n",
      "  2%|▏         | 223/10000 [01:14<45:21,  3.59it/s, episode_reward=173, running_reward=283]"
     ]
    },
    {
     "name": "stderr",
     "output_type": "stream",
     "text": [
      "\r\n",
      "  2%|▏         | 224/10000 [01:14<44:59,  3.62it/s, episode_reward=173, running_reward=283]"
     ]
    },
    {
     "name": "stderr",
     "output_type": "stream",
     "text": [
      "\r\n",
      "  2%|▏         | 224/10000 [01:14<44:59,  3.62it/s, episode_reward=176, running_reward=280]"
     ]
    },
    {
     "name": "stderr",
     "output_type": "stream",
     "text": [
      "\r\n",
      "  2%|▏         | 225/10000 [01:14<44:57,  3.62it/s, episode_reward=176, running_reward=280]"
     ]
    },
    {
     "name": "stderr",
     "output_type": "stream",
     "text": [
      "\r\n",
      "  2%|▏         | 225/10000 [01:15<44:57,  3.62it/s, episode_reward=176, running_reward=278]"
     ]
    },
    {
     "name": "stderr",
     "output_type": "stream",
     "text": [
      "\r\n",
      "  2%|▏         | 226/10000 [01:15<45:00,  3.62it/s, episode_reward=176, running_reward=278]"
     ]
    },
    {
     "name": "stderr",
     "output_type": "stream",
     "text": [
      "\r\n",
      "  2%|▏         | 226/10000 [01:15<45:00,  3.62it/s, episode_reward=201, running_reward=276]"
     ]
    },
    {
     "name": "stderr",
     "output_type": "stream",
     "text": [
      "\r\n",
      "  2%|▏         | 227/10000 [01:15<46:44,  3.49it/s, episode_reward=201, running_reward=276]"
     ]
    },
    {
     "name": "stderr",
     "output_type": "stream",
     "text": [
      "\r\n",
      "  2%|▏         | 227/10000 [01:15<46:44,  3.49it/s, episode_reward=150, running_reward=273]"
     ]
    },
    {
     "name": "stderr",
     "output_type": "stream",
     "text": [
      "\r\n",
      "  2%|▏         | 228/10000 [01:15<44:28,  3.66it/s, episode_reward=150, running_reward=273]"
     ]
    },
    {
     "name": "stderr",
     "output_type": "stream",
     "text": [
      "\r\n",
      "  2%|▏         | 228/10000 [01:15<44:28,  3.66it/s, episode_reward=163, running_reward=272]"
     ]
    },
    {
     "name": "stderr",
     "output_type": "stream",
     "text": [
      "\r\n",
      "  2%|▏         | 229/10000 [01:15<43:48,  3.72it/s, episode_reward=163, running_reward=272]"
     ]
    },
    {
     "name": "stderr",
     "output_type": "stream",
     "text": [
      "\r\n",
      "  2%|▏         | 229/10000 [01:16<43:48,  3.72it/s, episode_reward=187, running_reward=269]"
     ]
    },
    {
     "name": "stderr",
     "output_type": "stream",
     "text": [
      "\r\n",
      "  2%|▏         | 230/10000 [01:16<44:41,  3.64it/s, episode_reward=187, running_reward=269]"
     ]
    },
    {
     "name": "stderr",
     "output_type": "stream",
     "text": [
      "\r\n",
      "  2%|▏         | 230/10000 [01:16<44:41,  3.64it/s, episode_reward=190, running_reward=266]"
     ]
    },
    {
     "name": "stderr",
     "output_type": "stream",
     "text": [
      "\r\n",
      "  2%|▏         | 231/10000 [01:16<45:55,  3.54it/s, episode_reward=190, running_reward=266]"
     ]
    },
    {
     "name": "stderr",
     "output_type": "stream",
     "text": [
      "\r\n",
      "  2%|▏         | 231/10000 [01:16<45:55,  3.54it/s, episode_reward=188, running_reward=263]"
     ]
    },
    {
     "name": "stderr",
     "output_type": "stream",
     "text": [
      "\r\n",
      "  2%|▏         | 232/10000 [01:16<46:33,  3.50it/s, episode_reward=188, running_reward=263]"
     ]
    },
    {
     "name": "stderr",
     "output_type": "stream",
     "text": [
      "\r\n",
      "  2%|▏         | 232/10000 [01:17<46:33,  3.50it/s, episode_reward=186, running_reward=260]"
     ]
    },
    {
     "name": "stderr",
     "output_type": "stream",
     "text": [
      "\r\n",
      "  2%|▏         | 233/10000 [01:17<46:44,  3.48it/s, episode_reward=186, running_reward=260]"
     ]
    },
    {
     "name": "stderr",
     "output_type": "stream",
     "text": [
      "\r\n",
      "  2%|▏         | 233/10000 [01:17<46:44,  3.48it/s, episode_reward=185, running_reward=257]"
     ]
    },
    {
     "name": "stderr",
     "output_type": "stream",
     "text": [
      "\r\n",
      "  2%|▏         | 234/10000 [01:17<46:39,  3.49it/s, episode_reward=185, running_reward=257]"
     ]
    },
    {
     "name": "stderr",
     "output_type": "stream",
     "text": [
      "\r\n",
      "  2%|▏         | 234/10000 [01:17<46:39,  3.49it/s, episode_reward=178, running_reward=254]"
     ]
    },
    {
     "name": "stderr",
     "output_type": "stream",
     "text": [
      "\r\n",
      "  2%|▏         | 235/10000 [01:17<46:21,  3.51it/s, episode_reward=178, running_reward=254]"
     ]
    },
    {
     "name": "stderr",
     "output_type": "stream",
     "text": [
      "\r\n",
      "  2%|▏         | 235/10000 [01:17<46:21,  3.51it/s, episode_reward=208, running_reward=252]"
     ]
    },
    {
     "name": "stderr",
     "output_type": "stream",
     "text": [
      "\r\n",
      "  2%|▏         | 236/10000 [01:17<48:04,  3.39it/s, episode_reward=208, running_reward=252]"
     ]
    },
    {
     "name": "stderr",
     "output_type": "stream",
     "text": [
      "\r\n",
      "  2%|▏         | 236/10000 [01:18<48:04,  3.39it/s, episode_reward=168, running_reward=248]"
     ]
    },
    {
     "name": "stderr",
     "output_type": "stream",
     "text": [
      "\r\n",
      "  2%|▏         | 237/10000 [01:18<46:32,  3.50it/s, episode_reward=168, running_reward=248]"
     ]
    },
    {
     "name": "stderr",
     "output_type": "stream",
     "text": [
      "\r\n",
      "  2%|▏         | 237/10000 [01:18<46:32,  3.50it/s, episode_reward=203, running_reward=245]"
     ]
    },
    {
     "name": "stderr",
     "output_type": "stream",
     "text": [
      "\r\n",
      "  2%|▏         | 238/10000 [01:18<50:21,  3.23it/s, episode_reward=203, running_reward=245]"
     ]
    },
    {
     "name": "stderr",
     "output_type": "stream",
     "text": [
      "\r\n",
      "  2%|▏         | 238/10000 [01:18<50:21,  3.23it/s, episode_reward=183, running_reward=242]"
     ]
    },
    {
     "name": "stderr",
     "output_type": "stream",
     "text": [
      "\r\n",
      "  2%|▏         | 239/10000 [01:18<51:06,  3.18it/s, episode_reward=183, running_reward=242]"
     ]
    },
    {
     "name": "stderr",
     "output_type": "stream",
     "text": [
      "\r\n",
      "  2%|▏         | 239/10000 [01:19<51:06,  3.18it/s, episode_reward=193, running_reward=241]"
     ]
    },
    {
     "name": "stderr",
     "output_type": "stream",
     "text": [
      "\r\n",
      "  2%|▏         | 240/10000 [01:19<51:16,  3.17it/s, episode_reward=193, running_reward=241]"
     ]
    },
    {
     "name": "stderr",
     "output_type": "stream",
     "text": [
      "\r\n",
      "  2%|▏         | 240/10000 [01:19<51:16,  3.17it/s, episode_reward=205, running_reward=238]"
     ]
    },
    {
     "name": "stderr",
     "output_type": "stream",
     "text": [
      "\r\n",
      "  2%|▏         | 241/10000 [01:19<51:33,  3.15it/s, episode_reward=205, running_reward=238]"
     ]
    },
    {
     "name": "stderr",
     "output_type": "stream",
     "text": [
      "\r\n",
      "  2%|▏         | 241/10000 [01:19<51:33,  3.15it/s, episode_reward=214, running_reward=236]"
     ]
    },
    {
     "name": "stderr",
     "output_type": "stream",
     "text": [
      "\r\n",
      "  2%|▏         | 242/10000 [01:19<52:04,  3.12it/s, episode_reward=214, running_reward=236]"
     ]
    },
    {
     "name": "stderr",
     "output_type": "stream",
     "text": [
      "\r\n",
      "  2%|▏         | 242/10000 [01:20<52:04,  3.12it/s, episode_reward=290, running_reward=234]"
     ]
    },
    {
     "name": "stderr",
     "output_type": "stream",
     "text": [
      "\r\n",
      "  2%|▏         | 243/10000 [01:20<57:45,  2.82it/s, episode_reward=290, running_reward=234]"
     ]
    },
    {
     "name": "stderr",
     "output_type": "stream",
     "text": [
      "\r\n",
      "  2%|▏         | 243/10000 [01:20<57:45,  2.82it/s, episode_reward=339, running_reward=232]"
     ]
    },
    {
     "name": "stderr",
     "output_type": "stream",
     "text": [
      "\r\n",
      "  2%|▏         | 244/10000 [01:20<1:05:06,  2.50it/s, episode_reward=339, running_reward=232]"
     ]
    },
    {
     "name": "stderr",
     "output_type": "stream",
     "text": [
      "\r\n",
      "  2%|▏         | 244/10000 [01:21<1:05:06,  2.50it/s, episode_reward=232, running_reward=230]"
     ]
    },
    {
     "name": "stderr",
     "output_type": "stream",
     "text": [
      "\r\n",
      "  2%|▏         | 245/10000 [01:21<1:03:08,  2.57it/s, episode_reward=232, running_reward=230]"
     ]
    },
    {
     "name": "stderr",
     "output_type": "stream",
     "text": [
      "\r\n",
      "  2%|▏         | 245/10000 [01:21<1:03:08,  2.57it/s, episode_reward=209, running_reward=227]"
     ]
    },
    {
     "name": "stderr",
     "output_type": "stream",
     "text": [
      "\r\n",
      "  2%|▏         | 246/10000 [01:21<59:56,  2.71it/s, episode_reward=209, running_reward=227]  "
     ]
    },
    {
     "name": "stderr",
     "output_type": "stream",
     "text": [
      "\r\n",
      "  2%|▏         | 246/10000 [01:21<59:56,  2.71it/s, episode_reward=253, running_reward=224]"
     ]
    },
    {
     "name": "stderr",
     "output_type": "stream",
     "text": [
      "\r\n",
      "  2%|▏         | 247/10000 [01:21<1:02:07,  2.62it/s, episode_reward=253, running_reward=224]"
     ]
    },
    {
     "name": "stderr",
     "output_type": "stream",
     "text": [
      "\r\n",
      "  2%|▏         | 247/10000 [01:22<1:02:07,  2.62it/s, episode_reward=213, running_reward=225]"
     ]
    },
    {
     "name": "stderr",
     "output_type": "stream",
     "text": [
      "\r\n",
      "  2%|▏         | 248/10000 [01:22<59:44,  2.72it/s, episode_reward=213, running_reward=225]  "
     ]
    },
    {
     "name": "stderr",
     "output_type": "stream",
     "text": [
      "\r\n",
      "  2%|▏         | 248/10000 [01:22<59:44,  2.72it/s, episode_reward=183, running_reward=222]"
     ]
    },
    {
     "name": "stderr",
     "output_type": "stream",
     "text": [
      "\r\n",
      "  2%|▏         | 249/10000 [01:22<57:04,  2.85it/s, episode_reward=183, running_reward=222]"
     ]
    },
    {
     "name": "stderr",
     "output_type": "stream",
     "text": [
      "\r\n",
      "  2%|▏         | 249/10000 [01:22<57:04,  2.85it/s, episode_reward=206, running_reward=219]"
     ]
    },
    {
     "name": "stderr",
     "output_type": "stream",
     "text": [
      "\r\n",
      "  2%|▎         | 250/10000 [01:22<55:28,  2.93it/s, episode_reward=206, running_reward=219]"
     ]
    },
    {
     "name": "stderr",
     "output_type": "stream",
     "text": [
      "\r\n",
      "  2%|▎         | 250/10000 [01:23<55:28,  2.93it/s, episode_reward=184, running_reward=216]"
     ]
    },
    {
     "name": "stderr",
     "output_type": "stream",
     "text": [
      "\r\n",
      "  3%|▎         | 251/10000 [01:23<52:50,  3.07it/s, episode_reward=184, running_reward=216]"
     ]
    },
    {
     "name": "stderr",
     "output_type": "stream",
     "text": [
      "\r\n",
      "  3%|▎         | 251/10000 [01:23<52:50,  3.07it/s, episode_reward=236, running_reward=216]"
     ]
    },
    {
     "name": "stderr",
     "output_type": "stream",
     "text": [
      "\r\n",
      "  3%|▎         | 252/10000 [01:23<55:29,  2.93it/s, episode_reward=236, running_reward=216]"
     ]
    },
    {
     "name": "stderr",
     "output_type": "stream",
     "text": [
      "\r\n",
      "  3%|▎         | 252/10000 [01:23<55:29,  2.93it/s, episode_reward=166, running_reward=212]"
     ]
    },
    {
     "name": "stderr",
     "output_type": "stream",
     "text": [
      "\r\n",
      "  3%|▎         | 253/10000 [01:23<51:34,  3.15it/s, episode_reward=166, running_reward=212]"
     ]
    },
    {
     "name": "stderr",
     "output_type": "stream",
     "text": [
      "\r\n",
      "  3%|▎         | 253/10000 [01:24<51:34,  3.15it/s, episode_reward=247, running_reward=210]"
     ]
    },
    {
     "name": "stderr",
     "output_type": "stream",
     "text": [
      "\r\n",
      "  3%|▎         | 254/10000 [01:24<54:31,  2.98it/s, episode_reward=247, running_reward=210]"
     ]
    },
    {
     "name": "stderr",
     "output_type": "stream",
     "text": [
      "\r\n",
      "  3%|▎         | 254/10000 [01:24<54:31,  2.98it/s, episode_reward=182, running_reward=207]"
     ]
    },
    {
     "name": "stderr",
     "output_type": "stream",
     "text": [
      "\r\n",
      "  3%|▎         | 255/10000 [01:24<51:53,  3.13it/s, episode_reward=182, running_reward=207]"
     ]
    },
    {
     "name": "stderr",
     "output_type": "stream",
     "text": [
      "\r\n",
      "  3%|▎         | 255/10000 [01:24<51:53,  3.13it/s, episode_reward=183, running_reward=207]"
     ]
    },
    {
     "name": "stderr",
     "output_type": "stream",
     "text": [
      "\r\n",
      "  3%|▎         | 256/10000 [01:24<50:19,  3.23it/s, episode_reward=183, running_reward=207]"
     ]
    },
    {
     "name": "stderr",
     "output_type": "stream",
     "text": [
      "\r\n",
      "  3%|▎         | 256/10000 [01:25<50:19,  3.23it/s, episode_reward=159, running_reward=204]"
     ]
    },
    {
     "name": "stderr",
     "output_type": "stream",
     "text": [
      "\r\n",
      "  3%|▎         | 257/10000 [01:25<47:32,  3.42it/s, episode_reward=159, running_reward=204]"
     ]
    },
    {
     "name": "stderr",
     "output_type": "stream",
     "text": [
      "\r\n",
      "  3%|▎         | 257/10000 [01:25<47:32,  3.42it/s, episode_reward=180, running_reward=201]"
     ]
    },
    {
     "name": "stderr",
     "output_type": "stream",
     "text": [
      "\r\n",
      "  3%|▎         | 258/10000 [01:25<47:00,  3.45it/s, episode_reward=180, running_reward=201]"
     ]
    },
    {
     "name": "stderr",
     "output_type": "stream",
     "text": [
      "\r\n",
      "  3%|▎         | 258/10000 [01:25<47:00,  3.45it/s, episode_reward=170, running_reward=198]"
     ]
    },
    {
     "name": "stderr",
     "output_type": "stream",
     "text": [
      "\r\n",
      "  3%|▎         | 259/10000 [01:25<47:45,  3.40it/s, episode_reward=170, running_reward=198]"
     ]
    },
    {
     "name": "stderr",
     "output_type": "stream",
     "text": [
      "\r\n",
      "  3%|▎         | 259/10000 [01:25<47:45,  3.40it/s, episode_reward=195, running_reward=196]"
     ]
    },
    {
     "name": "stderr",
     "output_type": "stream",
     "text": [
      "\r\n",
      "  3%|▎         | 260/10000 [01:25<49:01,  3.31it/s, episode_reward=195, running_reward=196]"
     ]
    },
    {
     "name": "stderr",
     "output_type": "stream",
     "text": [
      "\r\n",
      "  3%|▎         | 260/10000 [01:26<49:01,  3.31it/s, episode_reward=166, running_reward=196]"
     ]
    },
    {
     "name": "stderr",
     "output_type": "stream",
     "text": [
      "\r\n",
      "  3%|▎         | 261/10000 [01:26<47:04,  3.45it/s, episode_reward=166, running_reward=196]"
     ]
    },
    {
     "name": "stderr",
     "output_type": "stream",
     "text": [
      "\r\n",
      "  3%|▎         | 261/10000 [01:26<47:04,  3.45it/s, episode_reward=180, running_reward=193]"
     ]
    },
    {
     "name": "stderr",
     "output_type": "stream",
     "text": [
      "\r\n",
      "  3%|▎         | 262/10000 [01:26<46:56,  3.46it/s, episode_reward=180, running_reward=193]"
     ]
    },
    {
     "name": "stderr",
     "output_type": "stream",
     "text": [
      "\r\n",
      "  3%|▎         | 262/10000 [01:26<46:56,  3.46it/s, episode_reward=205, running_reward=191]"
     ]
    },
    {
     "name": "stderr",
     "output_type": "stream",
     "text": [
      "\r\n",
      "  3%|▎         | 263/10000 [01:26<48:33,  3.34it/s, episode_reward=205, running_reward=191]"
     ]
    },
    {
     "name": "stderr",
     "output_type": "stream",
     "text": [
      "\r\n",
      "  3%|▎         | 263/10000 [01:27<48:33,  3.34it/s, episode_reward=148, running_reward=189]"
     ]
    },
    {
     "name": "stderr",
     "output_type": "stream",
     "text": [
      "\r\n",
      "  3%|▎         | 264/10000 [01:27<45:48,  3.54it/s, episode_reward=148, running_reward=189]"
     ]
    },
    {
     "name": "stderr",
     "output_type": "stream",
     "text": [
      "\r\n",
      "  3%|▎         | 264/10000 [01:27<45:48,  3.54it/s, episode_reward=183, running_reward=186]"
     ]
    },
    {
     "name": "stderr",
     "output_type": "stream",
     "text": [
      "\r\n",
      "  3%|▎         | 265/10000 [01:27<46:42,  3.47it/s, episode_reward=183, running_reward=186]"
     ]
    },
    {
     "name": "stderr",
     "output_type": "stream",
     "text": [
      "\r\n",
      "  3%|▎         | 265/10000 [01:27<46:42,  3.47it/s, episode_reward=153, running_reward=186]"
     ]
    },
    {
     "name": "stderr",
     "output_type": "stream",
     "text": [
      "\r\n",
      "  3%|▎         | 266/10000 [01:27<45:35,  3.56it/s, episode_reward=153, running_reward=186]"
     ]
    },
    {
     "name": "stderr",
     "output_type": "stream",
     "text": [
      "\r\n",
      "  3%|▎         | 266/10000 [01:27<45:35,  3.56it/s, episode_reward=121, running_reward=182]"
     ]
    },
    {
     "name": "stderr",
     "output_type": "stream",
     "text": [
      "\r\n",
      "  3%|▎         | 267/10000 [01:27<43:00,  3.77it/s, episode_reward=121, running_reward=182]"
     ]
    },
    {
     "name": "stderr",
     "output_type": "stream",
     "text": [
      "\r\n",
      "  3%|▎         | 267/10000 [01:28<43:00,  3.77it/s, episode_reward=131, running_reward=178]"
     ]
    },
    {
     "name": "stderr",
     "output_type": "stream",
     "text": [
      "\r\n",
      "  3%|▎         | 268/10000 [01:28<40:27,  4.01it/s, episode_reward=131, running_reward=178]"
     ]
    },
    {
     "name": "stderr",
     "output_type": "stream",
     "text": [
      "\r\n",
      "  3%|▎         | 268/10000 [01:28<40:27,  4.01it/s, episode_reward=135, running_reward=175]"
     ]
    },
    {
     "name": "stderr",
     "output_type": "stream",
     "text": [
      "\r\n",
      "  3%|▎         | 269/10000 [01:28<40:00,  4.05it/s, episode_reward=135, running_reward=175]"
     ]
    },
    {
     "name": "stderr",
     "output_type": "stream",
     "text": [
      "\r\n",
      "  3%|▎         | 269/10000 [01:28<40:00,  4.05it/s, episode_reward=145, running_reward=171]"
     ]
    },
    {
     "name": "stderr",
     "output_type": "stream",
     "text": [
      "\r\n",
      "  3%|▎         | 270/10000 [01:28<41:29,  3.91it/s, episode_reward=145, running_reward=171]"
     ]
    },
    {
     "name": "stderr",
     "output_type": "stream",
     "text": [
      "\r\n",
      "  3%|▎         | 270/10000 [01:28<41:29,  3.91it/s, episode_reward=137, running_reward=170]"
     ]
    },
    {
     "name": "stderr",
     "output_type": "stream",
     "text": [
      "\r\n",
      "  3%|▎         | 271/10000 [01:28<42:03,  3.85it/s, episode_reward=137, running_reward=170]"
     ]
    },
    {
     "name": "stderr",
     "output_type": "stream",
     "text": [
      "\r\n",
      "  3%|▎         | 271/10000 [01:29<42:03,  3.85it/s, episode_reward=179, running_reward=166]"
     ]
    },
    {
     "name": "stderr",
     "output_type": "stream",
     "text": [
      "\r\n",
      "  3%|▎         | 272/10000 [01:29<46:41,  3.47it/s, episode_reward=179, running_reward=166]"
     ]
    },
    {
     "name": "stderr",
     "output_type": "stream",
     "text": [
      "\r\n",
      "  3%|▎         | 272/10000 [01:29<46:41,  3.47it/s, episode_reward=176, running_reward=163]"
     ]
    },
    {
     "name": "stderr",
     "output_type": "stream",
     "text": [
      "\r\n",
      "  3%|▎         | 273/10000 [01:29<49:03,  3.30it/s, episode_reward=176, running_reward=163]"
     ]
    },
    {
     "name": "stderr",
     "output_type": "stream",
     "text": [
      "\r\n",
      "  3%|▎         | 273/10000 [01:29<49:03,  3.30it/s, episode_reward=139, running_reward=160]"
     ]
    },
    {
     "name": "stderr",
     "output_type": "stream",
     "text": [
      "\r\n",
      "  3%|▎         | 274/10000 [01:29<46:08,  3.51it/s, episode_reward=139, running_reward=160]"
     ]
    },
    {
     "name": "stderr",
     "output_type": "stream",
     "text": [
      "\r\n",
      "  3%|▎         | 274/10000 [01:30<46:08,  3.51it/s, episode_reward=126, running_reward=156]"
     ]
    },
    {
     "name": "stderr",
     "output_type": "stream",
     "text": [
      "\r\n",
      "  3%|▎         | 275/10000 [01:30<43:03,  3.76it/s, episode_reward=126, running_reward=156]"
     ]
    },
    {
     "name": "stderr",
     "output_type": "stream",
     "text": [
      "\r\n",
      "  3%|▎         | 275/10000 [01:30<43:03,  3.76it/s, episode_reward=141, running_reward=152]"
     ]
    },
    {
     "name": "stderr",
     "output_type": "stream",
     "text": [
      "\r\n",
      "  3%|▎         | 276/10000 [01:30<42:13,  3.84it/s, episode_reward=141, running_reward=152]"
     ]
    },
    {
     "name": "stderr",
     "output_type": "stream",
     "text": [
      "\r\n",
      "  3%|▎         | 276/10000 [01:30<42:13,  3.84it/s, episode_reward=174, running_reward=151]"
     ]
    },
    {
     "name": "stderr",
     "output_type": "stream",
     "text": [
      "\r\n",
      "  3%|▎         | 277/10000 [01:30<44:15,  3.66it/s, episode_reward=174, running_reward=151]"
     ]
    },
    {
     "name": "stderr",
     "output_type": "stream",
     "text": [
      "\r\n",
      "  3%|▎         | 277/10000 [01:30<44:15,  3.66it/s, episode_reward=156, running_reward=151]"
     ]
    },
    {
     "name": "stderr",
     "output_type": "stream",
     "text": [
      "\r\n",
      "  3%|▎         | 278/10000 [01:30<44:38,  3.63it/s, episode_reward=156, running_reward=151]"
     ]
    },
    {
     "name": "stderr",
     "output_type": "stream",
     "text": [
      "\r\n",
      "  3%|▎         | 278/10000 [01:31<44:38,  3.63it/s, episode_reward=170, running_reward=151]"
     ]
    },
    {
     "name": "stderr",
     "output_type": "stream",
     "text": [
      "\r\n",
      "  3%|▎         | 279/10000 [01:31<46:33,  3.48it/s, episode_reward=170, running_reward=151]"
     ]
    },
    {
     "name": "stderr",
     "output_type": "stream",
     "text": [
      "\r\n",
      "  3%|▎         | 279/10000 [01:31<46:33,  3.48it/s, episode_reward=163, running_reward=151]"
     ]
    },
    {
     "name": "stderr",
     "output_type": "stream",
     "text": [
      "\r\n",
      "  3%|▎         | 280/10000 [01:31<46:19,  3.50it/s, episode_reward=163, running_reward=151]"
     ]
    },
    {
     "name": "stderr",
     "output_type": "stream",
     "text": [
      "\r\n",
      "  3%|▎         | 280/10000 [01:31<46:19,  3.50it/s, episode_reward=165, running_reward=152]"
     ]
    },
    {
     "name": "stderr",
     "output_type": "stream",
     "text": [
      "\r\n",
      "  3%|▎         | 281/10000 [01:31<46:42,  3.47it/s, episode_reward=165, running_reward=152]"
     ]
    },
    {
     "name": "stderr",
     "output_type": "stream",
     "text": [
      "\r\n",
      "  3%|▎         | 281/10000 [01:32<46:42,  3.47it/s, episode_reward=186, running_reward=152]"
     ]
    },
    {
     "name": "stderr",
     "output_type": "stream",
     "text": [
      "\r\n",
      "  3%|▎         | 282/10000 [01:32<49:09,  3.29it/s, episode_reward=186, running_reward=152]"
     ]
    },
    {
     "name": "stderr",
     "output_type": "stream",
     "text": [
      "\r\n",
      "  3%|▎         | 282/10000 [01:32<49:09,  3.29it/s, episode_reward=163, running_reward=153]"
     ]
    },
    {
     "name": "stderr",
     "output_type": "stream",
     "text": [
      "\r\n",
      "  3%|▎         | 283/10000 [01:32<48:17,  3.35it/s, episode_reward=163, running_reward=153]"
     ]
    },
    {
     "name": "stderr",
     "output_type": "stream",
     "text": [
      "\r\n",
      "  3%|▎         | 283/10000 [01:32<48:17,  3.35it/s, episode_reward=188, running_reward=153]"
     ]
    },
    {
     "name": "stderr",
     "output_type": "stream",
     "text": [
      "\r\n",
      "  3%|▎         | 284/10000 [01:32<49:45,  3.25it/s, episode_reward=188, running_reward=153]"
     ]
    },
    {
     "name": "stderr",
     "output_type": "stream",
     "text": [
      "\r\n",
      "  3%|▎         | 284/10000 [01:32<49:45,  3.25it/s, episode_reward=176, running_reward=154]"
     ]
    },
    {
     "name": "stderr",
     "output_type": "stream",
     "text": [
      "\r\n",
      "  3%|▎         | 285/10000 [01:32<49:23,  3.28it/s, episode_reward=176, running_reward=154]"
     ]
    },
    {
     "name": "stderr",
     "output_type": "stream",
     "text": [
      "\r\n",
      "  3%|▎         | 285/10000 [01:33<49:23,  3.28it/s, episode_reward=180, running_reward=155]"
     ]
    },
    {
     "name": "stderr",
     "output_type": "stream",
     "text": [
      "\r\n",
      "  3%|▎         | 286/10000 [01:33<50:13,  3.22it/s, episode_reward=180, running_reward=155]"
     ]
    },
    {
     "name": "stderr",
     "output_type": "stream",
     "text": [
      "\r\n",
      "  3%|▎         | 286/10000 [01:33<50:13,  3.22it/s, episode_reward=149, running_reward=155]"
     ]
    },
    {
     "name": "stderr",
     "output_type": "stream",
     "text": [
      "\r\n",
      "  3%|▎         | 287/10000 [01:33<46:36,  3.47it/s, episode_reward=149, running_reward=155]"
     ]
    },
    {
     "name": "stderr",
     "output_type": "stream",
     "text": [
      "\r\n",
      "  3%|▎         | 287/10000 [01:33<46:36,  3.47it/s, episode_reward=133, running_reward=155]"
     ]
    },
    {
     "name": "stderr",
     "output_type": "stream",
     "text": [
      "\r\n",
      "  3%|▎         | 288/10000 [01:33<44:59,  3.60it/s, episode_reward=133, running_reward=155]"
     ]
    },
    {
     "name": "stderr",
     "output_type": "stream",
     "text": [
      "\r\n",
      "  3%|▎         | 288/10000 [01:34<44:59,  3.60it/s, episode_reward=143, running_reward=156]"
     ]
    },
    {
     "name": "stderr",
     "output_type": "stream",
     "text": [
      "\r\n",
      "  3%|▎         | 289/10000 [01:34<43:46,  3.70it/s, episode_reward=143, running_reward=156]"
     ]
    },
    {
     "name": "stderr",
     "output_type": "stream",
     "text": [
      "\r\n",
      "  3%|▎         | 289/10000 [01:34<43:46,  3.70it/s, episode_reward=187, running_reward=156]"
     ]
    },
    {
     "name": "stderr",
     "output_type": "stream",
     "text": [
      "\r\n",
      "  3%|▎         | 290/10000 [01:34<44:57,  3.60it/s, episode_reward=187, running_reward=156]"
     ]
    },
    {
     "name": "stderr",
     "output_type": "stream",
     "text": [
      "\r\n",
      "  3%|▎         | 290/10000 [01:34<44:57,  3.60it/s, episode_reward=155, running_reward=157]"
     ]
    },
    {
     "name": "stderr",
     "output_type": "stream",
     "text": [
      "\r\n",
      "  3%|▎         | 291/10000 [01:34<44:30,  3.64it/s, episode_reward=155, running_reward=157]"
     ]
    },
    {
     "name": "stderr",
     "output_type": "stream",
     "text": [
      "\r\n",
      "  3%|▎         | 291/10000 [01:34<44:30,  3.64it/s, episode_reward=146, running_reward=158]"
     ]
    },
    {
     "name": "stderr",
     "output_type": "stream",
     "text": [
      "\r\n",
      "  3%|▎         | 292/10000 [01:34<45:23,  3.56it/s, episode_reward=146, running_reward=158]"
     ]
    },
    {
     "name": "stderr",
     "output_type": "stream",
     "text": [
      "\r\n",
      "  3%|▎         | 292/10000 [01:35<45:23,  3.56it/s, episode_reward=159, running_reward=159]"
     ]
    },
    {
     "name": "stderr",
     "output_type": "stream",
     "text": [
      "\r\n",
      "  3%|▎         | 293/10000 [01:35<45:54,  3.52it/s, episode_reward=159, running_reward=159]"
     ]
    },
    {
     "name": "stderr",
     "output_type": "stream",
     "text": [
      "\r\n",
      "  3%|▎         | 293/10000 [01:35<45:54,  3.52it/s, episode_reward=142, running_reward=159]"
     ]
    },
    {
     "name": "stderr",
     "output_type": "stream",
     "text": [
      "\r\n",
      "  3%|▎         | 294/10000 [01:35<44:28,  3.64it/s, episode_reward=142, running_reward=159]"
     ]
    },
    {
     "name": "stderr",
     "output_type": "stream",
     "text": [
      "\r\n",
      "  3%|▎         | 294/10000 [01:35<44:28,  3.64it/s, episode_reward=149, running_reward=159]"
     ]
    },
    {
     "name": "stderr",
     "output_type": "stream",
     "text": [
      "\r\n",
      "  3%|▎         | 295/10000 [01:35<44:42,  3.62it/s, episode_reward=149, running_reward=159]"
     ]
    },
    {
     "name": "stderr",
     "output_type": "stream",
     "text": [
      "\r\n",
      "  3%|▎         | 295/10000 [01:35<44:42,  3.62it/s, episode_reward=135, running_reward=161]"
     ]
    },
    {
     "name": "stderr",
     "output_type": "stream",
     "text": [
      "\r\n",
      "  3%|▎         | 296/10000 [01:35<42:16,  3.83it/s, episode_reward=135, running_reward=161]"
     ]
    },
    {
     "name": "stderr",
     "output_type": "stream",
     "text": [
      "\r\n",
      "  3%|▎         | 296/10000 [01:36<42:16,  3.83it/s, episode_reward=131, running_reward=162]"
     ]
    },
    {
     "name": "stderr",
     "output_type": "stream",
     "text": [
      "\r\n",
      "  3%|▎         | 297/10000 [01:36<40:22,  4.01it/s, episode_reward=131, running_reward=162]"
     ]
    },
    {
     "name": "stderr",
     "output_type": "stream",
     "text": [
      "\r\n",
      "  3%|▎         | 297/10000 [01:36<40:22,  4.01it/s, episode_reward=157, running_reward=163]"
     ]
    },
    {
     "name": "stderr",
     "output_type": "stream",
     "text": [
      "\r\n",
      "  3%|▎         | 298/10000 [01:36<42:16,  3.83it/s, episode_reward=157, running_reward=163]"
     ]
    },
    {
     "name": "stderr",
     "output_type": "stream",
     "text": [
      "\r\n",
      "  3%|▎         | 298/10000 [01:36<42:16,  3.83it/s, episode_reward=169, running_reward=164]"
     ]
    },
    {
     "name": "stderr",
     "output_type": "stream",
     "text": [
      "\r\n",
      "  3%|▎         | 299/10000 [01:36<43:31,  3.72it/s, episode_reward=169, running_reward=164]"
     ]
    },
    {
     "name": "stderr",
     "output_type": "stream",
     "text": [
      "\r\n",
      "  3%|▎         | 299/10000 [01:37<43:31,  3.72it/s, episode_reward=183, running_reward=165]"
     ]
    },
    {
     "name": "stderr",
     "output_type": "stream",
     "text": [
      "\r\n",
      "  3%|▎         | 300/10000 [01:37<46:10,  3.50it/s, episode_reward=183, running_reward=165]"
     ]
    },
    {
     "name": "stderr",
     "output_type": "stream",
     "text": [
      "\r\n",
      "  3%|▎         | 300/10000 [01:37<46:10,  3.50it/s, episode_reward=155, running_reward=166]"
     ]
    },
    {
     "name": "stderr",
     "output_type": "stream",
     "text": [
      "\r\n",
      "  3%|▎         | 301/10000 [01:37<45:10,  3.58it/s, episode_reward=155, running_reward=166]"
     ]
    },
    {
     "name": "stderr",
     "output_type": "stream",
     "text": [
      "\r\n",
      "  3%|▎         | 301/10000 [01:37<45:10,  3.58it/s, episode_reward=143, running_reward=167]"
     ]
    },
    {
     "name": "stderr",
     "output_type": "stream",
     "text": [
      "\r\n",
      "  3%|▎         | 302/10000 [01:37<42:36,  3.79it/s, episode_reward=143, running_reward=167]"
     ]
    },
    {
     "name": "stderr",
     "output_type": "stream",
     "text": [
      "\r\n",
      "  3%|▎         | 302/10000 [01:37<42:36,  3.79it/s, episode_reward=176, running_reward=168]"
     ]
    },
    {
     "name": "stderr",
     "output_type": "stream",
     "text": [
      "\r\n",
      "  3%|▎         | 303/10000 [01:37<44:18,  3.65it/s, episode_reward=176, running_reward=168]"
     ]
    },
    {
     "name": "stderr",
     "output_type": "stream",
     "text": [
      "\r\n",
      "  3%|▎         | 303/10000 [01:38<44:18,  3.65it/s, episode_reward=144, running_reward=168]"
     ]
    },
    {
     "name": "stderr",
     "output_type": "stream",
     "text": [
      "\r\n",
      "  3%|▎         | 304/10000 [01:38<42:12,  3.83it/s, episode_reward=144, running_reward=168]"
     ]
    },
    {
     "name": "stderr",
     "output_type": "stream",
     "text": [
      "\r\n",
      "  3%|▎         | 304/10000 [01:38<42:12,  3.83it/s, episode_reward=166, running_reward=169]"
     ]
    },
    {
     "name": "stderr",
     "output_type": "stream",
     "text": [
      "\r\n",
      "  3%|▎         | 305/10000 [01:38<43:23,  3.72it/s, episode_reward=166, running_reward=169]"
     ]
    },
    {
     "name": "stderr",
     "output_type": "stream",
     "text": [
      "\r\n",
      "  3%|▎         | 305/10000 [01:38<43:23,  3.72it/s, episode_reward=172, running_reward=170]"
     ]
    },
    {
     "name": "stderr",
     "output_type": "stream",
     "text": [
      "\r\n",
      "  3%|▎         | 306/10000 [01:38<43:23,  3.72it/s, episode_reward=172, running_reward=170]"
     ]
    },
    {
     "name": "stderr",
     "output_type": "stream",
     "text": [
      "\r\n",
      "  3%|▎         | 306/10000 [01:38<43:23,  3.72it/s, episode_reward=168, running_reward=172]"
     ]
    },
    {
     "name": "stderr",
     "output_type": "stream",
     "text": [
      "\r\n",
      "  3%|▎         | 307/10000 [01:38<43:05,  3.75it/s, episode_reward=168, running_reward=172]"
     ]
    },
    {
     "name": "stderr",
     "output_type": "stream",
     "text": [
      "\r\n",
      "  3%|▎         | 307/10000 [01:39<43:05,  3.75it/s, episode_reward=214, running_reward=173]"
     ]
    },
    {
     "name": "stderr",
     "output_type": "stream",
     "text": [
      "\r\n",
      "  3%|▎         | 308/10000 [01:39<48:21,  3.34it/s, episode_reward=214, running_reward=173]"
     ]
    },
    {
     "name": "stderr",
     "output_type": "stream",
     "text": [
      "\r\n",
      "  3%|▎         | 308/10000 [01:39<48:21,  3.34it/s, episode_reward=145, running_reward=174]"
     ]
    },
    {
     "name": "stderr",
     "output_type": "stream",
     "text": [
      "\r\n",
      "  3%|▎         | 309/10000 [01:39<45:42,  3.53it/s, episode_reward=145, running_reward=174]"
     ]
    },
    {
     "name": "stderr",
     "output_type": "stream",
     "text": [
      "\r\n",
      "  3%|▎         | 309/10000 [01:39<45:42,  3.53it/s, episode_reward=197, running_reward=175]"
     ]
    },
    {
     "name": "stderr",
     "output_type": "stream",
     "text": [
      "\r\n",
      "  3%|▎         | 310/10000 [01:39<47:58,  3.37it/s, episode_reward=197, running_reward=175]"
     ]
    },
    {
     "name": "stderr",
     "output_type": "stream",
     "text": [
      "\r\n",
      "  3%|▎         | 310/10000 [01:40<47:58,  3.37it/s, episode_reward=164, running_reward=175]"
     ]
    },
    {
     "name": "stderr",
     "output_type": "stream",
     "text": [
      "\r\n",
      "  3%|▎         | 311/10000 [01:40<46:16,  3.49it/s, episode_reward=164, running_reward=175]"
     ]
    },
    {
     "name": "stderr",
     "output_type": "stream",
     "text": [
      "\r\n",
      "  3%|▎         | 311/10000 [01:40<46:16,  3.49it/s, episode_reward=174, running_reward=176]"
     ]
    },
    {
     "name": "stderr",
     "output_type": "stream",
     "text": [
      "\r\n",
      "  3%|▎         | 312/10000 [01:40<45:49,  3.52it/s, episode_reward=174, running_reward=176]"
     ]
    },
    {
     "name": "stderr",
     "output_type": "stream",
     "text": [
      "\r\n",
      "  3%|▎         | 312/10000 [01:40<45:49,  3.52it/s, episode_reward=179, running_reward=176]"
     ]
    },
    {
     "name": "stderr",
     "output_type": "stream",
     "text": [
      "\r\n",
      "  3%|▎         | 313/10000 [01:40<46:45,  3.45it/s, episode_reward=179, running_reward=176]"
     ]
    },
    {
     "name": "stderr",
     "output_type": "stream",
     "text": [
      "\r\n",
      "  3%|▎         | 313/10000 [01:41<46:45,  3.45it/s, episode_reward=215, running_reward=177]"
     ]
    },
    {
     "name": "stderr",
     "output_type": "stream",
     "text": [
      "\r\n",
      "  3%|▎         | 314/10000 [01:41<51:47,  3.12it/s, episode_reward=215, running_reward=177]"
     ]
    },
    {
     "name": "stderr",
     "output_type": "stream",
     "text": [
      "\r\n",
      "  3%|▎         | 314/10000 [01:41<51:47,  3.12it/s, episode_reward=224, running_reward=177]"
     ]
    },
    {
     "name": "stderr",
     "output_type": "stream",
     "text": [
      "\r\n",
      "  3%|▎         | 315/10000 [01:41<55:35,  2.90it/s, episode_reward=224, running_reward=177]"
     ]
    },
    {
     "name": "stderr",
     "output_type": "stream",
     "text": [
      "\r\n",
      "  3%|▎         | 315/10000 [01:41<55:35,  2.90it/s, episode_reward=179, running_reward=177]"
     ]
    },
    {
     "name": "stderr",
     "output_type": "stream",
     "text": [
      "\r\n",
      "  3%|▎         | 316/10000 [01:41<53:35,  3.01it/s, episode_reward=179, running_reward=177]"
     ]
    },
    {
     "name": "stderr",
     "output_type": "stream",
     "text": [
      "\r\n",
      "  3%|▎         | 316/10000 [01:42<53:35,  3.01it/s, episode_reward=168, running_reward=177]"
     ]
    },
    {
     "name": "stderr",
     "output_type": "stream",
     "text": [
      "\r\n",
      "  3%|▎         | 317/10000 [01:42<51:20,  3.14it/s, episode_reward=168, running_reward=177]"
     ]
    },
    {
     "name": "stderr",
     "output_type": "stream",
     "text": [
      "\r\n",
      "  3%|▎         | 317/10000 [01:42<51:20,  3.14it/s, episode_reward=169, running_reward=177]"
     ]
    },
    {
     "name": "stderr",
     "output_type": "stream",
     "text": [
      "\r\n",
      "  3%|▎         | 318/10000 [01:42<48:40,  3.32it/s, episode_reward=169, running_reward=177]"
     ]
    },
    {
     "name": "stderr",
     "output_type": "stream",
     "text": [
      "\r\n",
      "  3%|▎         | 318/10000 [01:42<48:40,  3.32it/s, episode_reward=173, running_reward=177]"
     ]
    },
    {
     "name": "stderr",
     "output_type": "stream",
     "text": [
      "\r\n",
      "  3%|▎         | 319/10000 [01:42<47:10,  3.42it/s, episode_reward=173, running_reward=177]"
     ]
    },
    {
     "name": "stderr",
     "output_type": "stream",
     "text": [
      "\r\n",
      "  3%|▎         | 319/10000 [01:42<47:10,  3.42it/s, episode_reward=152, running_reward=177]"
     ]
    },
    {
     "name": "stderr",
     "output_type": "stream",
     "text": [
      "\r\n",
      "  3%|▎         | 320/10000 [01:42<44:36,  3.62it/s, episode_reward=152, running_reward=177]"
     ]
    },
    {
     "name": "stderr",
     "output_type": "stream",
     "text": [
      "\r\n",
      "  3%|▎         | 320/10000 [01:43<44:36,  3.62it/s, episode_reward=190, running_reward=177]"
     ]
    },
    {
     "name": "stderr",
     "output_type": "stream",
     "text": [
      "\r\n",
      "  3%|▎         | 321/10000 [01:43<45:41,  3.53it/s, episode_reward=190, running_reward=177]"
     ]
    },
    {
     "name": "stderr",
     "output_type": "stream",
     "text": [
      "\r\n",
      "  3%|▎         | 321/10000 [01:43<45:41,  3.53it/s, episode_reward=221, running_reward=178]"
     ]
    },
    {
     "name": "stderr",
     "output_type": "stream",
     "text": [
      "\r\n",
      "  3%|▎         | 322/10000 [01:43<49:09,  3.28it/s, episode_reward=221, running_reward=178]"
     ]
    },
    {
     "name": "stderr",
     "output_type": "stream",
     "text": [
      "\r\n",
      "  3%|▎         | 322/10000 [01:43<49:09,  3.28it/s, episode_reward=210, running_reward=178]"
     ]
    },
    {
     "name": "stderr",
     "output_type": "stream",
     "text": [
      "\r\n",
      "  3%|▎         | 323/10000 [01:43<50:03,  3.22it/s, episode_reward=210, running_reward=178]"
     ]
    },
    {
     "name": "stderr",
     "output_type": "stream",
     "text": [
      "\r\n",
      "  3%|▎         | 323/10000 [01:44<50:03,  3.22it/s, episode_reward=189, running_reward=178]"
     ]
    },
    {
     "name": "stderr",
     "output_type": "stream",
     "text": [
      "\r\n",
      "  3%|▎         | 324/10000 [01:44<49:11,  3.28it/s, episode_reward=189, running_reward=178]"
     ]
    },
    {
     "name": "stderr",
     "output_type": "stream",
     "text": [
      "\r\n",
      "  3%|▎         | 324/10000 [01:44<49:11,  3.28it/s, episode_reward=188, running_reward=178]"
     ]
    },
    {
     "name": "stderr",
     "output_type": "stream",
     "text": [
      "\r\n",
      "  3%|▎         | 325/10000 [01:44<48:48,  3.30it/s, episode_reward=188, running_reward=178]"
     ]
    },
    {
     "name": "stderr",
     "output_type": "stream",
     "text": [
      "\r\n",
      "  3%|▎         | 325/10000 [01:44<48:48,  3.30it/s, episode_reward=165, running_reward=178]"
     ]
    },
    {
     "name": "stderr",
     "output_type": "stream",
     "text": [
      "\r\n",
      "  3%|▎         | 326/10000 [01:44<46:37,  3.46it/s, episode_reward=165, running_reward=178]"
     ]
    },
    {
     "name": "stderr",
     "output_type": "stream",
     "text": [
      "\r\n",
      "  3%|▎         | 326/10000 [01:45<46:37,  3.46it/s, episode_reward=240, running_reward=178]"
     ]
    },
    {
     "name": "stderr",
     "output_type": "stream",
     "text": [
      "\r\n",
      "  3%|▎         | 327/10000 [01:45<50:38,  3.18it/s, episode_reward=240, running_reward=178]"
     ]
    },
    {
     "name": "stderr",
     "output_type": "stream",
     "text": [
      "\r\n",
      "  3%|▎         | 327/10000 [01:45<50:38,  3.18it/s, episode_reward=219, running_reward=179]"
     ]
    },
    {
     "name": "stderr",
     "output_type": "stream",
     "text": [
      "\r\n",
      "  3%|▎         | 328/10000 [01:45<51:42,  3.12it/s, episode_reward=219, running_reward=179]"
     ]
    },
    {
     "name": "stderr",
     "output_type": "stream",
     "text": [
      "\r\n",
      "  3%|▎         | 328/10000 [01:45<51:42,  3.12it/s, episode_reward=215, running_reward=180]"
     ]
    },
    {
     "name": "stderr",
     "output_type": "stream",
     "text": [
      "\r\n",
      "  3%|▎         | 329/10000 [01:45<52:08,  3.09it/s, episode_reward=215, running_reward=180]"
     ]
    },
    {
     "name": "stderr",
     "output_type": "stream",
     "text": [
      "\r\n",
      "  3%|▎         | 329/10000 [01:46<52:08,  3.09it/s, episode_reward=223, running_reward=180]"
     ]
    },
    {
     "name": "stderr",
     "output_type": "stream",
     "text": [
      "\r\n",
      "  3%|▎         | 330/10000 [01:46<53:21,  3.02it/s, episode_reward=223, running_reward=180]"
     ]
    },
    {
     "name": "stderr",
     "output_type": "stream",
     "text": [
      "\r\n",
      "  3%|▎         | 330/10000 [01:46<53:21,  3.02it/s, episode_reward=165, running_reward=180]"
     ]
    },
    {
     "name": "stderr",
     "output_type": "stream",
     "text": [
      "\r\n",
      "  3%|▎         | 331/10000 [01:46<49:51,  3.23it/s, episode_reward=165, running_reward=180]"
     ]
    },
    {
     "name": "stderr",
     "output_type": "stream",
     "text": [
      "\r\n",
      "  3%|▎         | 331/10000 [01:46<49:51,  3.23it/s, episode_reward=215, running_reward=180]"
     ]
    },
    {
     "name": "stderr",
     "output_type": "stream",
     "text": [
      "\r\n",
      "  3%|▎         | 332/10000 [01:46<51:14,  3.14it/s, episode_reward=215, running_reward=180]"
     ]
    },
    {
     "name": "stderr",
     "output_type": "stream",
     "text": [
      "\r\n",
      "  3%|▎         | 332/10000 [01:47<51:14,  3.14it/s, episode_reward=169, running_reward=180]"
     ]
    },
    {
     "name": "stderr",
     "output_type": "stream",
     "text": [
      "\r\n",
      "  3%|▎         | 333/10000 [01:47<51:48,  3.11it/s, episode_reward=169, running_reward=180]"
     ]
    },
    {
     "name": "stderr",
     "output_type": "stream",
     "text": [
      "\r\n",
      "  3%|▎         | 333/10000 [01:47<51:48,  3.11it/s, episode_reward=167, running_reward=180]"
     ]
    },
    {
     "name": "stderr",
     "output_type": "stream",
     "text": [
      "\r\n",
      "  3%|▎         | 334/10000 [01:47<50:19,  3.20it/s, episode_reward=167, running_reward=180]"
     ]
    },
    {
     "name": "stderr",
     "output_type": "stream",
     "text": [
      "\r\n",
      "  3%|▎         | 334/10000 [01:47<50:19,  3.20it/s, episode_reward=162, running_reward=179]"
     ]
    },
    {
     "name": "stderr",
     "output_type": "stream",
     "text": [
      "\r\n",
      "  3%|▎         | 335/10000 [01:47<48:39,  3.31it/s, episode_reward=162, running_reward=179]"
     ]
    },
    {
     "name": "stderr",
     "output_type": "stream",
     "text": [
      "\r\n",
      "  3%|▎         | 335/10000 [01:47<48:39,  3.31it/s, episode_reward=185, running_reward=179]"
     ]
    },
    {
     "name": "stderr",
     "output_type": "stream",
     "text": [
      "\r\n",
      "  3%|▎         | 336/10000 [01:47<48:48,  3.30it/s, episode_reward=185, running_reward=179]"
     ]
    },
    {
     "name": "stderr",
     "output_type": "stream",
     "text": [
      "\r\n",
      "  3%|▎         | 336/10000 [01:48<48:48,  3.30it/s, episode_reward=240, running_reward=180]"
     ]
    },
    {
     "name": "stderr",
     "output_type": "stream",
     "text": [
      "\r\n",
      "  3%|▎         | 337/10000 [01:48<51:50,  3.11it/s, episode_reward=240, running_reward=180]"
     ]
    },
    {
     "name": "stderr",
     "output_type": "stream",
     "text": [
      "\r\n",
      "  3%|▎         | 337/10000 [01:48<51:50,  3.11it/s, episode_reward=237, running_reward=180]"
     ]
    },
    {
     "name": "stderr",
     "output_type": "stream",
     "text": [
      "\r\n",
      "  3%|▎         | 338/10000 [01:48<57:01,  2.82it/s, episode_reward=237, running_reward=180]"
     ]
    },
    {
     "name": "stderr",
     "output_type": "stream",
     "text": [
      "\r\n",
      "  3%|▎         | 338/10000 [01:48<57:01,  2.82it/s, episode_reward=188, running_reward=180]"
     ]
    },
    {
     "name": "stderr",
     "output_type": "stream",
     "text": [
      "\r\n",
      "  3%|▎         | 339/10000 [01:48<54:58,  2.93it/s, episode_reward=188, running_reward=180]"
     ]
    },
    {
     "name": "stderr",
     "output_type": "stream",
     "text": [
      "\r\n",
      "  3%|▎         | 339/10000 [01:49<54:58,  2.93it/s, episode_reward=160, running_reward=180]"
     ]
    },
    {
     "name": "stderr",
     "output_type": "stream",
     "text": [
      "\r\n",
      "  3%|▎         | 340/10000 [01:49<51:14,  3.14it/s, episode_reward=160, running_reward=180]"
     ]
    },
    {
     "name": "stderr",
     "output_type": "stream",
     "text": [
      "\r\n",
      "  3%|▎         | 340/10000 [01:49<51:14,  3.14it/s, episode_reward=175, running_reward=180]"
     ]
    },
    {
     "name": "stderr",
     "output_type": "stream",
     "text": [
      "\r\n",
      "  3%|▎         | 341/10000 [01:49<51:00,  3.16it/s, episode_reward=175, running_reward=180]"
     ]
    },
    {
     "name": "stderr",
     "output_type": "stream",
     "text": [
      "\r\n",
      "  3%|▎         | 341/10000 [01:49<51:00,  3.16it/s, episode_reward=199, running_reward=180]"
     ]
    },
    {
     "name": "stderr",
     "output_type": "stream",
     "text": [
      "\r\n",
      "  3%|▎         | 342/10000 [01:49<51:31,  3.12it/s, episode_reward=199, running_reward=180]"
     ]
    },
    {
     "name": "stderr",
     "output_type": "stream",
     "text": [
      "\r\n",
      "  3%|▎         | 342/10000 [01:50<51:31,  3.12it/s, episode_reward=179, running_reward=178]"
     ]
    },
    {
     "name": "stderr",
     "output_type": "stream",
     "text": [
      "\r\n",
      "  3%|▎         | 343/10000 [01:50<49:49,  3.23it/s, episode_reward=179, running_reward=178]"
     ]
    },
    {
     "name": "stderr",
     "output_type": "stream",
     "text": [
      "\r\n",
      "  3%|▎         | 343/10000 [01:50<49:49,  3.23it/s, episode_reward=149, running_reward=176]"
     ]
    },
    {
     "name": "stderr",
     "output_type": "stream",
     "text": [
      "\r\n",
      "  3%|▎         | 344/10000 [01:50<48:21,  3.33it/s, episode_reward=149, running_reward=176]"
     ]
    },
    {
     "name": "stderr",
     "output_type": "stream",
     "text": [
      "\r\n",
      "  3%|▎         | 344/10000 [01:50<48:21,  3.33it/s, episode_reward=185, running_reward=176]"
     ]
    },
    {
     "name": "stderr",
     "output_type": "stream",
     "text": [
      "\r\n",
      "  3%|▎         | 345/10000 [01:50<48:41,  3.31it/s, episode_reward=185, running_reward=176]"
     ]
    },
    {
     "name": "stderr",
     "output_type": "stream",
     "text": [
      "\r\n",
      "  3%|▎         | 345/10000 [01:51<48:41,  3.31it/s, episode_reward=149, running_reward=175]"
     ]
    },
    {
     "name": "stderr",
     "output_type": "stream",
     "text": [
      "\r\n",
      "  3%|▎         | 346/10000 [01:51<45:29,  3.54it/s, episode_reward=149, running_reward=175]"
     ]
    },
    {
     "name": "stderr",
     "output_type": "stream",
     "text": [
      "\r\n",
      "  3%|▎         | 346/10000 [01:51<45:29,  3.54it/s, episode_reward=156, running_reward=174]"
     ]
    },
    {
     "name": "stderr",
     "output_type": "stream",
     "text": [
      "\r\n",
      "  3%|▎         | 347/10000 [01:51<45:09,  3.56it/s, episode_reward=156, running_reward=174]"
     ]
    },
    {
     "name": "stderr",
     "output_type": "stream",
     "text": [
      "\r\n",
      "  3%|▎         | 347/10000 [01:51<45:09,  3.56it/s, episode_reward=167, running_reward=174]"
     ]
    },
    {
     "name": "stderr",
     "output_type": "stream",
     "text": [
      "\r\n",
      "  3%|▎         | 348/10000 [01:51<46:53,  3.43it/s, episode_reward=167, running_reward=174]"
     ]
    },
    {
     "name": "stderr",
     "output_type": "stream",
     "text": [
      "\r\n",
      "  3%|▎         | 348/10000 [01:51<46:53,  3.43it/s, episode_reward=131, running_reward=173]"
     ]
    },
    {
     "name": "stderr",
     "output_type": "stream",
     "text": [
      "\r\n",
      "  3%|▎         | 349/10000 [01:51<43:46,  3.68it/s, episode_reward=131, running_reward=173]"
     ]
    },
    {
     "name": "stderr",
     "output_type": "stream",
     "text": [
      "\r\n",
      "  3%|▎         | 349/10000 [01:52<43:46,  3.68it/s, episode_reward=149, running_reward=173]"
     ]
    },
    {
     "name": "stderr",
     "output_type": "stream",
     "text": [
      "\r\n",
      "  4%|▎         | 350/10000 [01:52<42:52,  3.75it/s, episode_reward=149, running_reward=173]"
     ]
    },
    {
     "name": "stderr",
     "output_type": "stream",
     "text": [
      "\r\n",
      "  4%|▎         | 350/10000 [01:52<42:52,  3.75it/s, episode_reward=150, running_reward=173]"
     ]
    },
    {
     "name": "stderr",
     "output_type": "stream",
     "text": [
      "\r\n",
      "  4%|▎         | 351/10000 [01:52<42:50,  3.75it/s, episode_reward=150, running_reward=173]"
     ]
    },
    {
     "name": "stderr",
     "output_type": "stream",
     "text": [
      "\r\n",
      "  4%|▎         | 351/10000 [01:52<42:50,  3.75it/s, episode_reward=152, running_reward=172]"
     ]
    },
    {
     "name": "stderr",
     "output_type": "stream",
     "text": [
      "\r\n",
      "  4%|▎         | 352/10000 [01:52<43:51,  3.67it/s, episode_reward=152, running_reward=172]"
     ]
    },
    {
     "name": "stderr",
     "output_type": "stream",
     "text": [
      "\r\n",
      "  4%|▎         | 352/10000 [01:52<43:51,  3.67it/s, episode_reward=150, running_reward=172]"
     ]
    },
    {
     "name": "stderr",
     "output_type": "stream",
     "text": [
      "\r\n",
      "  4%|▎         | 353/10000 [01:52<42:56,  3.74it/s, episode_reward=150, running_reward=172]"
     ]
    },
    {
     "name": "stderr",
     "output_type": "stream",
     "text": [
      "\r\n",
      "  4%|▎         | 353/10000 [01:53<42:56,  3.74it/s, episode_reward=164, running_reward=171]"
     ]
    },
    {
     "name": "stderr",
     "output_type": "stream",
     "text": [
      "\r\n",
      "  4%|▎         | 354/10000 [01:53<43:37,  3.68it/s, episode_reward=164, running_reward=171]"
     ]
    },
    {
     "name": "stderr",
     "output_type": "stream",
     "text": [
      "\r\n",
      "  4%|▎         | 354/10000 [01:53<43:37,  3.68it/s, episode_reward=141, running_reward=170]"
     ]
    },
    {
     "name": "stderr",
     "output_type": "stream",
     "text": [
      "\r\n",
      "  4%|▎         | 355/10000 [01:53<42:47,  3.76it/s, episode_reward=141, running_reward=170]"
     ]
    },
    {
     "name": "stderr",
     "output_type": "stream",
     "text": [
      "\r\n",
      "  4%|▎         | 355/10000 [01:53<42:47,  3.76it/s, episode_reward=161, running_reward=170]"
     ]
    },
    {
     "name": "stderr",
     "output_type": "stream",
     "text": [
      "\r\n",
      "  4%|▎         | 356/10000 [01:53<45:14,  3.55it/s, episode_reward=161, running_reward=170]"
     ]
    },
    {
     "name": "stderr",
     "output_type": "stream",
     "text": [
      "\r\n",
      "  4%|▎         | 356/10000 [01:54<45:14,  3.55it/s, episode_reward=207, running_reward=171]"
     ]
    },
    {
     "name": "stderr",
     "output_type": "stream",
     "text": [
      "\r\n",
      "  4%|▎         | 357/10000 [01:54<48:06,  3.34it/s, episode_reward=207, running_reward=171]"
     ]
    },
    {
     "name": "stderr",
     "output_type": "stream",
     "text": [
      "\r\n",
      "  4%|▎         | 357/10000 [01:54<48:06,  3.34it/s, episode_reward=170, running_reward=170]"
     ]
    },
    {
     "name": "stderr",
     "output_type": "stream",
     "text": [
      "\r\n",
      "  4%|▎         | 358/10000 [01:54<47:21,  3.39it/s, episode_reward=170, running_reward=170]"
     ]
    },
    {
     "name": "stderr",
     "output_type": "stream",
     "text": [
      "\r\n",
      "  4%|▎         | 358/10000 [01:54<47:21,  3.39it/s, episode_reward=175, running_reward=171]"
     ]
    },
    {
     "name": "stderr",
     "output_type": "stream",
     "text": [
      "\r\n",
      "  4%|▎         | 359/10000 [01:54<46:16,  3.47it/s, episode_reward=175, running_reward=171]"
     ]
    },
    {
     "name": "stderr",
     "output_type": "stream",
     "text": [
      "\r\n",
      "  4%|▎         | 359/10000 [01:54<46:16,  3.47it/s, episode_reward=166, running_reward=170]"
     ]
    },
    {
     "name": "stderr",
     "output_type": "stream",
     "text": [
      "\r\n",
      "  4%|▎         | 360/10000 [01:54<45:39,  3.52it/s, episode_reward=166, running_reward=170]"
     ]
    },
    {
     "name": "stderr",
     "output_type": "stream",
     "text": [
      "\r\n",
      "  4%|▎         | 360/10000 [01:55<45:39,  3.52it/s, episode_reward=190, running_reward=170]"
     ]
    },
    {
     "name": "stderr",
     "output_type": "stream",
     "text": [
      "\r\n",
      "  4%|▎         | 361/10000 [01:55<46:13,  3.48it/s, episode_reward=190, running_reward=170]"
     ]
    },
    {
     "name": "stderr",
     "output_type": "stream",
     "text": [
      "\r\n",
      "  4%|▎         | 361/10000 [01:55<46:13,  3.48it/s, episode_reward=192, running_reward=171]"
     ]
    },
    {
     "name": "stderr",
     "output_type": "stream",
     "text": [
      "\r\n",
      "  4%|▎         | 362/10000 [01:55<47:33,  3.38it/s, episode_reward=192, running_reward=171]"
     ]
    },
    {
     "name": "stderr",
     "output_type": "stream",
     "text": [
      "\r\n",
      "  4%|▎         | 362/10000 [01:55<47:33,  3.38it/s, episode_reward=210, running_reward=171]"
     ]
    },
    {
     "name": "stderr",
     "output_type": "stream",
     "text": [
      "\r\n",
      "  4%|▎         | 363/10000 [01:55<52:30,  3.06it/s, episode_reward=210, running_reward=171]"
     ]
    },
    {
     "name": "stderr",
     "output_type": "stream",
     "text": [
      "\r\n",
      "  4%|▎         | 363/10000 [01:56<52:30,  3.06it/s, episode_reward=248, running_reward=172]"
     ]
    },
    {
     "name": "stderr",
     "output_type": "stream",
     "text": [
      "\r\n",
      "  4%|▎         | 364/10000 [01:56<56:09,  2.86it/s, episode_reward=248, running_reward=172]"
     ]
    },
    {
     "name": "stderr",
     "output_type": "stream",
     "text": [
      "\r\n",
      "  4%|▎         | 364/10000 [01:56<56:09,  2.86it/s, episode_reward=219, running_reward=172]"
     ]
    },
    {
     "name": "stderr",
     "output_type": "stream",
     "text": [
      "\r\n",
      "  4%|▎         | 365/10000 [01:56<55:39,  2.89it/s, episode_reward=219, running_reward=172]"
     ]
    },
    {
     "name": "stderr",
     "output_type": "stream",
     "text": [
      "\r\n",
      "  4%|▎         | 365/10000 [01:57<55:39,  2.89it/s, episode_reward=258, running_reward=173]"
     ]
    },
    {
     "name": "stderr",
     "output_type": "stream",
     "text": [
      "\r\n",
      "  4%|▎         | 366/10000 [01:57<59:02,  2.72it/s, episode_reward=258, running_reward=173]"
     ]
    },
    {
     "name": "stderr",
     "output_type": "stream",
     "text": [
      "\r\n",
      "  4%|▎         | 366/10000 [01:57<59:02,  2.72it/s, episode_reward=231, running_reward=174]"
     ]
    },
    {
     "name": "stderr",
     "output_type": "stream",
     "text": [
      "\r\n",
      "  4%|▎         | 367/10000 [01:57<59:44,  2.69it/s, episode_reward=231, running_reward=174]"
     ]
    },
    {
     "name": "stderr",
     "output_type": "stream",
     "text": [
      "\r\n",
      "  4%|▎         | 367/10000 [01:57<59:44,  2.69it/s, episode_reward=236, running_reward=175]"
     ]
    },
    {
     "name": "stderr",
     "output_type": "stream",
     "text": [
      "\r\n",
      "  4%|▎         | 368/10000 [01:57<1:02:55,  2.55it/s, episode_reward=236, running_reward=175]"
     ]
    },
    {
     "name": "stderr",
     "output_type": "stream",
     "text": [
      "\r\n",
      "  4%|▎         | 368/10000 [01:58<1:02:55,  2.55it/s, episode_reward=278, running_reward=177]"
     ]
    },
    {
     "name": "stderr",
     "output_type": "stream",
     "text": [
      "\r\n",
      "  4%|▎         | 369/10000 [01:58<1:07:09,  2.39it/s, episode_reward=278, running_reward=177]"
     ]
    },
    {
     "name": "stderr",
     "output_type": "stream",
     "text": [
      "\r\n",
      "  4%|▎         | 369/10000 [01:58<1:07:09,  2.39it/s, episode_reward=263, running_reward=178]"
     ]
    },
    {
     "name": "stderr",
     "output_type": "stream",
     "text": [
      "\r\n",
      "  4%|▎         | 370/10000 [01:58<1:07:24,  2.38it/s, episode_reward=263, running_reward=178]"
     ]
    },
    {
     "name": "stderr",
     "output_type": "stream",
     "text": [
      "\r\n",
      "  4%|▎         | 370/10000 [01:59<1:07:24,  2.38it/s, episode_reward=211, running_reward=179]"
     ]
    },
    {
     "name": "stderr",
     "output_type": "stream",
     "text": [
      "\r\n",
      "  4%|▎         | 371/10000 [01:59<1:05:40,  2.44it/s, episode_reward=211, running_reward=179]"
     ]
    },
    {
     "name": "stderr",
     "output_type": "stream",
     "text": [
      "\r\n",
      "  4%|▎         | 371/10000 [01:59<1:05:40,  2.44it/s, episode_reward=254, running_reward=179]"
     ]
    },
    {
     "name": "stderr",
     "output_type": "stream",
     "text": [
      "\r\n",
      "  4%|▎         | 372/10000 [01:59<1:08:00,  2.36it/s, episode_reward=254, running_reward=179]"
     ]
    },
    {
     "name": "stderr",
     "output_type": "stream",
     "text": [
      "\r\n",
      "  4%|▎         | 372/10000 [01:59<1:08:00,  2.36it/s, episode_reward=189, running_reward=179]"
     ]
    },
    {
     "name": "stderr",
     "output_type": "stream",
     "text": [
      "\r\n",
      "  4%|▎         | 373/10000 [01:59<1:04:08,  2.50it/s, episode_reward=189, running_reward=179]"
     ]
    },
    {
     "name": "stderr",
     "output_type": "stream",
     "text": [
      "\r\n",
      "  4%|▎         | 373/10000 [02:00<1:04:08,  2.50it/s, episode_reward=211, running_reward=180]"
     ]
    },
    {
     "name": "stderr",
     "output_type": "stream",
     "text": [
      "\r\n",
      "  4%|▎         | 374/10000 [02:00<1:02:50,  2.55it/s, episode_reward=211, running_reward=180]"
     ]
    },
    {
     "name": "stderr",
     "output_type": "stream",
     "text": [
      "\r\n",
      "  4%|▎         | 374/10000 [02:00<1:02:50,  2.55it/s, episode_reward=180, running_reward=181]"
     ]
    },
    {
     "name": "stderr",
     "output_type": "stream",
     "text": [
      "\r\n",
      "  4%|▍         | 375/10000 [02:00<59:40,  2.69it/s, episode_reward=180, running_reward=181]  "
     ]
    },
    {
     "name": "stderr",
     "output_type": "stream",
     "text": [
      "\r\n",
      "  4%|▍         | 375/10000 [02:01<59:40,  2.69it/s, episode_reward=233, running_reward=182]"
     ]
    },
    {
     "name": "stderr",
     "output_type": "stream",
     "text": [
      "\r\n",
      "  4%|▍         | 376/10000 [02:01<1:02:29,  2.57it/s, episode_reward=233, running_reward=182]"
     ]
    },
    {
     "name": "stderr",
     "output_type": "stream",
     "text": [
      "\r\n",
      "  4%|▍         | 376/10000 [02:01<1:02:29,  2.57it/s, episode_reward=188, running_reward=182]"
     ]
    },
    {
     "name": "stderr",
     "output_type": "stream",
     "text": [
      "\r\n",
      "  4%|▍         | 377/10000 [02:01<58:41,  2.73it/s, episode_reward=188, running_reward=182]  "
     ]
    },
    {
     "name": "stderr",
     "output_type": "stream",
     "text": [
      "\r\n",
      "  4%|▍         | 377/10000 [02:01<58:41,  2.73it/s, episode_reward=212, running_reward=182]"
     ]
    },
    {
     "name": "stderr",
     "output_type": "stream",
     "text": [
      "\r\n",
      "  4%|▍         | 378/10000 [02:01<58:00,  2.76it/s, episode_reward=212, running_reward=182]"
     ]
    },
    {
     "name": "stderr",
     "output_type": "stream",
     "text": [
      "\r\n",
      "  4%|▍         | 378/10000 [02:02<58:00,  2.76it/s, episode_reward=242, running_reward=183]"
     ]
    },
    {
     "name": "stderr",
     "output_type": "stream",
     "text": [
      "\r\n",
      "  4%|▍         | 379/10000 [02:02<58:52,  2.72it/s, episode_reward=242, running_reward=183]"
     ]
    },
    {
     "name": "stderr",
     "output_type": "stream",
     "text": [
      "\r\n",
      "  4%|▍         | 379/10000 [02:02<58:52,  2.72it/s, episode_reward=199, running_reward=183]"
     ]
    },
    {
     "name": "stderr",
     "output_type": "stream",
     "text": [
      "\r\n",
      "  4%|▍         | 380/10000 [02:02<56:12,  2.85it/s, episode_reward=199, running_reward=183]"
     ]
    },
    {
     "name": "stderr",
     "output_type": "stream",
     "text": [
      "\r\n",
      "  4%|▍         | 380/10000 [02:02<56:12,  2.85it/s, episode_reward=211, running_reward=184]"
     ]
    },
    {
     "name": "stderr",
     "output_type": "stream",
     "text": [
      "\r\n",
      "  4%|▍         | 381/10000 [02:02<55:03,  2.91it/s, episode_reward=211, running_reward=184]"
     ]
    },
    {
     "name": "stderr",
     "output_type": "stream",
     "text": [
      "\r\n",
      "  4%|▍         | 381/10000 [02:03<55:03,  2.91it/s, episode_reward=207, running_reward=184]"
     ]
    },
    {
     "name": "stderr",
     "output_type": "stream",
     "text": [
      "\r\n",
      "  4%|▍         | 382/10000 [02:03<55:26,  2.89it/s, episode_reward=207, running_reward=184]"
     ]
    },
    {
     "name": "stderr",
     "output_type": "stream",
     "text": [
      "\r\n",
      "  4%|▍         | 382/10000 [02:03<55:26,  2.89it/s, episode_reward=236, running_reward=185]"
     ]
    },
    {
     "name": "stderr",
     "output_type": "stream",
     "text": [
      "\r\n",
      "  4%|▍         | 383/10000 [02:03<59:15,  2.70it/s, episode_reward=236, running_reward=185]"
     ]
    },
    {
     "name": "stderr",
     "output_type": "stream",
     "text": [
      "\r\n",
      "  4%|▍         | 383/10000 [02:04<59:15,  2.70it/s, episode_reward=240, running_reward=185]"
     ]
    },
    {
     "name": "stderr",
     "output_type": "stream",
     "text": [
      "\r\n",
      "  4%|▍         | 384/10000 [02:04<1:02:27,  2.57it/s, episode_reward=240, running_reward=185]"
     ]
    },
    {
     "name": "stderr",
     "output_type": "stream",
     "text": [
      "\r\n",
      "  4%|▍         | 384/10000 [02:04<1:02:27,  2.57it/s, episode_reward=219, running_reward=186]"
     ]
    },
    {
     "name": "stderr",
     "output_type": "stream",
     "text": [
      "\r\n",
      "  4%|▍         | 385/10000 [02:04<1:00:52,  2.63it/s, episode_reward=219, running_reward=186]"
     ]
    },
    {
     "name": "stderr",
     "output_type": "stream",
     "text": [
      "\r\n",
      "  4%|▍         | 385/10000 [02:04<1:00:52,  2.63it/s, episode_reward=234, running_reward=186]"
     ]
    },
    {
     "name": "stderr",
     "output_type": "stream",
     "text": [
      "\r\n",
      "  4%|▍         | 386/10000 [02:04<1:00:51,  2.63it/s, episode_reward=234, running_reward=186]"
     ]
    },
    {
     "name": "stderr",
     "output_type": "stream",
     "text": [
      "\r\n",
      "  4%|▍         | 386/10000 [02:05<1:00:51,  2.63it/s, episode_reward=289, running_reward=188]"
     ]
    },
    {
     "name": "stderr",
     "output_type": "stream",
     "text": [
      "\r\n",
      "  4%|▍         | 387/10000 [02:05<1:06:13,  2.42it/s, episode_reward=289, running_reward=188]"
     ]
    },
    {
     "name": "stderr",
     "output_type": "stream",
     "text": [
      "\r\n",
      "  4%|▍         | 387/10000 [02:05<1:06:13,  2.42it/s, episode_reward=295, running_reward=189]"
     ]
    },
    {
     "name": "stderr",
     "output_type": "stream",
     "text": [
      "\r\n",
      "  4%|▍         | 388/10000 [02:05<1:09:23,  2.31it/s, episode_reward=295, running_reward=189]"
     ]
    },
    {
     "name": "stderr",
     "output_type": "stream",
     "text": [
      "\r\n",
      "  4%|▍         | 388/10000 [02:06<1:09:23,  2.31it/s, episode_reward=254, running_reward=190]"
     ]
    },
    {
     "name": "stderr",
     "output_type": "stream",
     "text": [
      "\r\n",
      "  4%|▍         | 389/10000 [02:06<1:09:23,  2.31it/s, episode_reward=254, running_reward=190]"
     ]
    },
    {
     "name": "stderr",
     "output_type": "stream",
     "text": [
      "\r\n",
      "  4%|▍         | 389/10000 [02:06<1:09:23,  2.31it/s, episode_reward=302, running_reward=192]"
     ]
    },
    {
     "name": "stderr",
     "output_type": "stream",
     "text": [
      "\r\n",
      "  4%|▍         | 390/10000 [02:06<1:10:29,  2.27it/s, episode_reward=302, running_reward=192]"
     ]
    },
    {
     "name": "stderr",
     "output_type": "stream",
     "text": [
      "\r\n",
      "  4%|▍         | 390/10000 [02:07<1:10:29,  2.27it/s, episode_reward=334, running_reward=193]"
     ]
    },
    {
     "name": "stderr",
     "output_type": "stream",
     "text": [
      "\r\n",
      "  4%|▍         | 391/10000 [02:07<1:13:31,  2.18it/s, episode_reward=334, running_reward=193]"
     ]
    },
    {
     "name": "stderr",
     "output_type": "stream",
     "text": [
      "\r\n",
      "  4%|▍         | 391/10000 [02:07<1:13:31,  2.18it/s, episode_reward=283, running_reward=195]"
     ]
    },
    {
     "name": "stderr",
     "output_type": "stream",
     "text": [
      "\r\n",
      "  4%|▍         | 392/10000 [02:07<1:13:08,  2.19it/s, episode_reward=283, running_reward=195]"
     ]
    },
    {
     "name": "stderr",
     "output_type": "stream",
     "text": [
      "\r\n",
      "  4%|▍         | 392/10000 [02:08<1:13:08,  2.19it/s, episode_reward=426, running_reward=197]"
     ]
    },
    {
     "name": "stderr",
     "output_type": "stream",
     "text": [
      "\r\n",
      "  4%|▍         | 393/10000 [02:08<1:24:07,  1.90it/s, episode_reward=426, running_reward=197]"
     ]
    },
    {
     "name": "stderr",
     "output_type": "stream",
     "text": [
      "\r\n",
      "  4%|▍         | 393/10000 [02:09<1:24:07,  1.90it/s, episode_reward=500, running_reward=201]"
     ]
    },
    {
     "name": "stderr",
     "output_type": "stream",
     "text": [
      "\r\n",
      "  4%|▍         | 394/10000 [02:09<1:38:43,  1.62it/s, episode_reward=500, running_reward=201]"
     ]
    },
    {
     "name": "stderr",
     "output_type": "stream",
     "text": [
      "\r\n",
      "  4%|▍         | 394/10000 [02:09<1:38:43,  1.62it/s, episode_reward=396, running_reward=203]"
     ]
    },
    {
     "name": "stderr",
     "output_type": "stream",
     "text": [
      "\r\n",
      "  4%|▍         | 395/10000 [02:09<1:42:00,  1.57it/s, episode_reward=396, running_reward=203]"
     ]
    },
    {
     "name": "stderr",
     "output_type": "stream",
     "text": [
      "\r\n",
      "  4%|▍         | 395/10000 [02:10<1:42:00,  1.57it/s, episode_reward=500, running_reward=207]"
     ]
    },
    {
     "name": "stderr",
     "output_type": "stream",
     "text": [
      "\r\n",
      "  4%|▍         | 396/10000 [02:10<1:51:52,  1.43it/s, episode_reward=500, running_reward=207]"
     ]
    },
    {
     "name": "stderr",
     "output_type": "stream",
     "text": [
      "\r\n",
      "  4%|▍         | 396/10000 [02:11<1:51:52,  1.43it/s, episode_reward=371, running_reward=210]"
     ]
    },
    {
     "name": "stderr",
     "output_type": "stream",
     "text": [
      "\r\n",
      "  4%|▍         | 397/10000 [02:11<1:47:37,  1.49it/s, episode_reward=371, running_reward=210]"
     ]
    },
    {
     "name": "stderr",
     "output_type": "stream",
     "text": [
      "\r\n",
      "  4%|▍         | 397/10000 [02:11<1:47:37,  1.49it/s, episode_reward=327, running_reward=211]"
     ]
    },
    {
     "name": "stderr",
     "output_type": "stream",
     "text": [
      "\r\n",
      "  4%|▍         | 398/10000 [02:11<1:41:10,  1.58it/s, episode_reward=327, running_reward=211]"
     ]
    },
    {
     "name": "stderr",
     "output_type": "stream",
     "text": [
      "\r\n",
      "  4%|▍         | 398/10000 [02:12<1:41:10,  1.58it/s, episode_reward=300, running_reward=213]"
     ]
    },
    {
     "name": "stderr",
     "output_type": "stream",
     "text": [
      "\r\n",
      "  4%|▍         | 399/10000 [02:12<1:35:50,  1.67it/s, episode_reward=300, running_reward=213]"
     ]
    },
    {
     "name": "stderr",
     "output_type": "stream",
     "text": [
      "\r\n",
      "  4%|▍         | 399/10000 [02:12<1:35:50,  1.67it/s, episode_reward=340, running_reward=214]"
     ]
    },
    {
     "name": "stderr",
     "output_type": "stream",
     "text": [
      "\r\n",
      "  4%|▍         | 400/10000 [02:12<1:35:49,  1.67it/s, episode_reward=340, running_reward=214]"
     ]
    },
    {
     "name": "stderr",
     "output_type": "stream",
     "text": [
      "\r\n",
      "  4%|▍         | 400/10000 [02:13<1:35:49,  1.67it/s, episode_reward=329, running_reward=216]"
     ]
    },
    {
     "name": "stderr",
     "output_type": "stream",
     "text": [
      "\r\n",
      "  4%|▍         | 401/10000 [02:13<1:33:18,  1.71it/s, episode_reward=329, running_reward=216]"
     ]
    },
    {
     "name": "stderr",
     "output_type": "stream",
     "text": [
      "\r\n",
      "  4%|▍         | 401/10000 [02:13<1:33:18,  1.71it/s, episode_reward=322, running_reward=218]"
     ]
    },
    {
     "name": "stderr",
     "output_type": "stream",
     "text": [
      "\r\n",
      "  4%|▍         | 402/10000 [02:13<1:32:08,  1.74it/s, episode_reward=322, running_reward=218]"
     ]
    },
    {
     "name": "stderr",
     "output_type": "stream",
     "text": [
      "\r\n",
      "  4%|▍         | 402/10000 [02:14<1:32:08,  1.74it/s, episode_reward=323, running_reward=219]"
     ]
    },
    {
     "name": "stderr",
     "output_type": "stream",
     "text": [
      "\r\n",
      "  4%|▍         | 403/10000 [02:14<1:31:52,  1.74it/s, episode_reward=323, running_reward=219]"
     ]
    },
    {
     "name": "stderr",
     "output_type": "stream",
     "text": [
      "\r\n",
      "  4%|▍         | 403/10000 [02:15<1:31:52,  1.74it/s, episode_reward=268, running_reward=220]"
     ]
    },
    {
     "name": "stderr",
     "output_type": "stream",
     "text": [
      "\r\n",
      "  4%|▍         | 404/10000 [02:15<1:27:33,  1.83it/s, episode_reward=268, running_reward=220]"
     ]
    },
    {
     "name": "stderr",
     "output_type": "stream",
     "text": [
      "\r\n",
      "  4%|▍         | 404/10000 [02:15<1:27:33,  1.83it/s, episode_reward=323, running_reward=222]"
     ]
    },
    {
     "name": "stderr",
     "output_type": "stream",
     "text": [
      "\r\n",
      "  4%|▍         | 405/10000 [02:15<1:27:54,  1.82it/s, episode_reward=323, running_reward=222]"
     ]
    },
    {
     "name": "stderr",
     "output_type": "stream",
     "text": [
      "\r\n",
      "  4%|▍         | 405/10000 [02:15<1:27:54,  1.82it/s, episode_reward=215, running_reward=222]"
     ]
    },
    {
     "name": "stderr",
     "output_type": "stream",
     "text": [
      "\r\n",
      "  4%|▍         | 406/10000 [02:15<1:20:19,  1.99it/s, episode_reward=215, running_reward=222]"
     ]
    },
    {
     "name": "stderr",
     "output_type": "stream",
     "text": [
      "\r\n",
      "  4%|▍         | 406/10000 [02:16<1:20:19,  1.99it/s, episode_reward=267, running_reward=223]"
     ]
    },
    {
     "name": "stderr",
     "output_type": "stream",
     "text": [
      "\r\n",
      "  4%|▍         | 407/10000 [02:16<1:19:45,  2.00it/s, episode_reward=267, running_reward=223]"
     ]
    },
    {
     "name": "stderr",
     "output_type": "stream",
     "text": [
      "\r\n",
      "  4%|▍         | 407/10000 [02:16<1:19:45,  2.00it/s, episode_reward=254, running_reward=224]"
     ]
    },
    {
     "name": "stderr",
     "output_type": "stream",
     "text": [
      "\r\n",
      "  4%|▍         | 408/10000 [02:16<1:16:42,  2.08it/s, episode_reward=254, running_reward=224]"
     ]
    },
    {
     "name": "stderr",
     "output_type": "stream",
     "text": [
      "\r\n",
      "  4%|▍         | 408/10000 [02:17<1:16:42,  2.08it/s, episode_reward=259, running_reward=225]"
     ]
    },
    {
     "name": "stderr",
     "output_type": "stream",
     "text": [
      "\r\n",
      "  4%|▍         | 409/10000 [02:17<1:14:51,  2.14it/s, episode_reward=259, running_reward=225]"
     ]
    },
    {
     "name": "stderr",
     "output_type": "stream",
     "text": [
      "\r\n",
      "  4%|▍         | 409/10000 [02:18<1:14:51,  2.14it/s, episode_reward=460, running_reward=227]"
     ]
    },
    {
     "name": "stderr",
     "output_type": "stream",
     "text": [
      "\r\n",
      "  4%|▍         | 410/10000 [02:18<1:28:14,  1.81it/s, episode_reward=460, running_reward=227]"
     ]
    },
    {
     "name": "stderr",
     "output_type": "stream",
     "text": [
      "\r\n",
      "  4%|▍         | 410/10000 [02:18<1:28:14,  1.81it/s, episode_reward=320, running_reward=229]"
     ]
    },
    {
     "name": "stderr",
     "output_type": "stream",
     "text": [
      "\r\n",
      "  4%|▍         | 411/10000 [02:18<1:25:30,  1.87it/s, episode_reward=320, running_reward=229]"
     ]
    },
    {
     "name": "stderr",
     "output_type": "stream",
     "text": [
      "\r\n",
      "  4%|▍         | 411/10000 [02:19<1:25:30,  1.87it/s, episode_reward=324, running_reward=231]"
     ]
    },
    {
     "name": "stderr",
     "output_type": "stream",
     "text": [
      "\r\n",
      "  4%|▍         | 412/10000 [02:19<1:23:45,  1.91it/s, episode_reward=324, running_reward=231]"
     ]
    },
    {
     "name": "stderr",
     "output_type": "stream",
     "text": [
      "\r\n",
      "  4%|▍         | 412/10000 [02:19<1:23:45,  1.91it/s, episode_reward=234, running_reward=231]"
     ]
    },
    {
     "name": "stderr",
     "output_type": "stream",
     "text": [
      "\r\n",
      "  4%|▍         | 413/10000 [02:19<1:18:14,  2.04it/s, episode_reward=234, running_reward=231]"
     ]
    },
    {
     "name": "stderr",
     "output_type": "stream",
     "text": [
      "\r\n",
      "  4%|▍         | 413/10000 [02:19<1:18:14,  2.04it/s, episode_reward=259, running_reward=232]"
     ]
    },
    {
     "name": "stderr",
     "output_type": "stream",
     "text": [
      "\r\n",
      "  4%|▍         | 414/10000 [02:19<1:16:17,  2.09it/s, episode_reward=259, running_reward=232]"
     ]
    },
    {
     "name": "stderr",
     "output_type": "stream",
     "text": [
      "\r\n",
      "  4%|▍         | 414/10000 [02:20<1:16:17,  2.09it/s, episode_reward=239, running_reward=232]"
     ]
    },
    {
     "name": "stderr",
     "output_type": "stream",
     "text": [
      "\r\n",
      "  4%|▍         | 415/10000 [02:20<1:12:53,  2.19it/s, episode_reward=239, running_reward=232]"
     ]
    },
    {
     "name": "stderr",
     "output_type": "stream",
     "text": [
      "\r\n",
      "  4%|▍         | 415/10000 [02:20<1:12:53,  2.19it/s, episode_reward=268, running_reward=233]"
     ]
    },
    {
     "name": "stderr",
     "output_type": "stream",
     "text": [
      "\r\n",
      "  4%|▍         | 416/10000 [02:20<1:13:06,  2.18it/s, episode_reward=268, running_reward=233]"
     ]
    },
    {
     "name": "stderr",
     "output_type": "stream",
     "text": [
      "\r\n",
      "  4%|▍         | 416/10000 [02:21<1:13:06,  2.18it/s, episode_reward=397, running_reward=235]"
     ]
    },
    {
     "name": "stderr",
     "output_type": "stream",
     "text": [
      "\r\n",
      "  4%|▍         | 417/10000 [02:21<1:22:51,  1.93it/s, episode_reward=397, running_reward=235]"
     ]
    },
    {
     "name": "stderr",
     "output_type": "stream",
     "text": [
      "\r\n",
      "  4%|▍         | 417/10000 [02:22<1:22:51,  1.93it/s, episode_reward=347, running_reward=237]"
     ]
    },
    {
     "name": "stderr",
     "output_type": "stream",
     "text": [
      "\r\n",
      "  4%|▍         | 418/10000 [02:22<1:24:03,  1.90it/s, episode_reward=347, running_reward=237]"
     ]
    },
    {
     "name": "stderr",
     "output_type": "stream",
     "text": [
      "\r\n",
      "  4%|▍         | 418/10000 [02:22<1:24:03,  1.90it/s, episode_reward=299, running_reward=238]"
     ]
    },
    {
     "name": "stderr",
     "output_type": "stream",
     "text": [
      "\r\n",
      "  4%|▍         | 419/10000 [02:22<1:20:20,  1.99it/s, episode_reward=299, running_reward=238]"
     ]
    },
    {
     "name": "stderr",
     "output_type": "stream",
     "text": [
      "\r\n",
      "  4%|▍         | 419/10000 [02:22<1:20:20,  1.99it/s, episode_reward=321, running_reward=240]"
     ]
    },
    {
     "name": "stderr",
     "output_type": "stream",
     "text": [
      "\r\n",
      "  4%|▍         | 420/10000 [02:22<1:19:33,  2.01it/s, episode_reward=321, running_reward=240]"
     ]
    },
    {
     "name": "stderr",
     "output_type": "stream",
     "text": [
      "\r\n",
      "  4%|▍         | 420/10000 [02:23<1:19:33,  2.01it/s, episode_reward=342, running_reward=241]"
     ]
    },
    {
     "name": "stderr",
     "output_type": "stream",
     "text": [
      "\r\n",
      "  4%|▍         | 421/10000 [02:23<1:22:47,  1.93it/s, episode_reward=342, running_reward=241]"
     ]
    },
    {
     "name": "stderr",
     "output_type": "stream",
     "text": [
      "\r\n",
      "  4%|▍         | 421/10000 [02:24<1:22:47,  1.93it/s, episode_reward=329, running_reward=242]"
     ]
    },
    {
     "name": "stderr",
     "output_type": "stream",
     "text": [
      "\r\n",
      "  4%|▍         | 422/10000 [02:24<1:22:13,  1.94it/s, episode_reward=329, running_reward=242]"
     ]
    },
    {
     "name": "stderr",
     "output_type": "stream",
     "text": [
      "\r\n",
      "  4%|▍         | 422/10000 [02:24<1:22:13,  1.94it/s, episode_reward=475, running_reward=245]"
     ]
    },
    {
     "name": "stderr",
     "output_type": "stream",
     "text": [
      "\r\n",
      "  4%|▍         | 423/10000 [02:24<1:31:35,  1.74it/s, episode_reward=475, running_reward=245]"
     ]
    },
    {
     "name": "stderr",
     "output_type": "stream",
     "text": [
      "\r\n",
      "  4%|▍         | 423/10000 [02:25<1:31:35,  1.74it/s, episode_reward=351, running_reward=246]"
     ]
    },
    {
     "name": "stderr",
     "output_type": "stream",
     "text": [
      "\r\n",
      "  4%|▍         | 424/10000 [02:25<1:29:51,  1.78it/s, episode_reward=351, running_reward=246]"
     ]
    },
    {
     "name": "stderr",
     "output_type": "stream",
     "text": [
      "\r\n",
      "  4%|▍         | 424/10000 [02:26<1:29:51,  1.78it/s, episode_reward=500, running_reward=250]"
     ]
    },
    {
     "name": "stderr",
     "output_type": "stream",
     "text": [
      "\r\n",
      "  4%|▍         | 425/10000 [02:26<1:42:31,  1.56it/s, episode_reward=500, running_reward=250]"
     ]
    },
    {
     "name": "stderr",
     "output_type": "stream",
     "text": [
      "\r\n",
      "  4%|▍         | 425/10000 [02:26<1:42:31,  1.56it/s, episode_reward=500, running_reward=253]"
     ]
    },
    {
     "name": "stderr",
     "output_type": "stream",
     "text": [
      "\r\n",
      "  4%|▍         | 426/10000 [02:26<1:50:21,  1.45it/s, episode_reward=500, running_reward=253]"
     ]
    },
    {
     "name": "stderr",
     "output_type": "stream",
     "text": [
      "\r\n",
      "  4%|▍         | 426/10000 [02:27<1:50:21,  1.45it/s, episode_reward=500, running_reward=256]"
     ]
    },
    {
     "name": "stderr",
     "output_type": "stream",
     "text": [
      "\r\n",
      "  4%|▍         | 427/10000 [02:27<2:00:22,  1.33it/s, episode_reward=500, running_reward=256]"
     ]
    },
    {
     "name": "stderr",
     "output_type": "stream",
     "text": [
      "\r\n",
      "  4%|▍         | 427/10000 [02:28<2:00:22,  1.33it/s, episode_reward=488, running_reward=258]"
     ]
    },
    {
     "name": "stderr",
     "output_type": "stream",
     "text": [
      "\r\n",
      "  4%|▍         | 428/10000 [02:28<1:59:46,  1.33it/s, episode_reward=488, running_reward=258]"
     ]
    },
    {
     "name": "stderr",
     "output_type": "stream",
     "text": [
      "\r\n",
      "  4%|▍         | 428/10000 [02:29<1:59:46,  1.33it/s, episode_reward=397, running_reward=260]"
     ]
    },
    {
     "name": "stderr",
     "output_type": "stream",
     "text": [
      "\r\n",
      "  4%|▍         | 429/10000 [02:29<1:52:57,  1.41it/s, episode_reward=397, running_reward=260]"
     ]
    },
    {
     "name": "stderr",
     "output_type": "stream",
     "text": [
      "\r\n",
      "  4%|▍         | 429/10000 [02:29<1:52:57,  1.41it/s, episode_reward=331, running_reward=261]"
     ]
    },
    {
     "name": "stderr",
     "output_type": "stream",
     "text": [
      "\r\n",
      "  4%|▍         | 430/10000 [02:29<1:45:46,  1.51it/s, episode_reward=331, running_reward=261]"
     ]
    },
    {
     "name": "stderr",
     "output_type": "stream",
     "text": [
      "\r\n",
      "  4%|▍         | 430/10000 [02:30<1:45:46,  1.51it/s, episode_reward=355, running_reward=263]"
     ]
    },
    {
     "name": "stderr",
     "output_type": "stream",
     "text": [
      "\r\n",
      "  4%|▍         | 431/10000 [02:30<1:39:29,  1.60it/s, episode_reward=355, running_reward=263]"
     ]
    },
    {
     "name": "stderr",
     "output_type": "stream",
     "text": [
      "\r\n",
      "  4%|▍         | 431/10000 [02:30<1:39:29,  1.60it/s, episode_reward=293, running_reward=264]"
     ]
    },
    {
     "name": "stderr",
     "output_type": "stream",
     "text": [
      "\r\n",
      "  4%|▍         | 432/10000 [02:30<1:32:50,  1.72it/s, episode_reward=293, running_reward=264]"
     ]
    },
    {
     "name": "stderr",
     "output_type": "stream",
     "text": [
      "\r\n",
      "  4%|▍         | 432/10000 [02:31<1:32:50,  1.72it/s, episode_reward=267, running_reward=265]"
     ]
    },
    {
     "name": "stderr",
     "output_type": "stream",
     "text": [
      "\r\n",
      "  4%|▍         | 433/10000 [02:31<1:25:59,  1.85it/s, episode_reward=267, running_reward=265]"
     ]
    },
    {
     "name": "stderr",
     "output_type": "stream",
     "text": [
      "\r\n",
      "  4%|▍         | 433/10000 [02:31<1:25:59,  1.85it/s, episode_reward=267, running_reward=266]"
     ]
    },
    {
     "name": "stderr",
     "output_type": "stream",
     "text": [
      "\r\n",
      "  4%|▍         | 434/10000 [02:31<1:23:56,  1.90it/s, episode_reward=267, running_reward=266]"
     ]
    },
    {
     "name": "stderr",
     "output_type": "stream",
     "text": [
      "\r\n",
      "  4%|▍         | 434/10000 [02:32<1:23:56,  1.90it/s, episode_reward=301, running_reward=267]"
     ]
    },
    {
     "name": "stderr",
     "output_type": "stream",
     "text": [
      "\r\n",
      "  4%|▍         | 435/10000 [02:32<1:24:56,  1.88it/s, episode_reward=301, running_reward=267]"
     ]
    },
    {
     "name": "stderr",
     "output_type": "stream",
     "text": [
      "\r\n",
      "  4%|▍         | 435/10000 [02:32<1:24:56,  1.88it/s, episode_reward=369, running_reward=269]"
     ]
    },
    {
     "name": "stderr",
     "output_type": "stream",
     "text": [
      "\r\n",
      "  4%|▍         | 436/10000 [02:32<1:31:41,  1.74it/s, episode_reward=369, running_reward=269]"
     ]
    },
    {
     "name": "stderr",
     "output_type": "stream",
     "text": [
      "\r\n",
      "  4%|▍         | 436/10000 [02:33<1:31:41,  1.74it/s, episode_reward=280, running_reward=269]"
     ]
    },
    {
     "name": "stderr",
     "output_type": "stream",
     "text": [
      "\r\n",
      "  4%|▍         | 437/10000 [02:33<1:26:25,  1.84it/s, episode_reward=280, running_reward=269]"
     ]
    },
    {
     "name": "stderr",
     "output_type": "stream",
     "text": [
      "\r\n",
      "  4%|▍         | 437/10000 [02:33<1:26:25,  1.84it/s, episode_reward=243, running_reward=269]"
     ]
    },
    {
     "name": "stderr",
     "output_type": "stream",
     "text": [
      "\r\n",
      "  4%|▍         | 438/10000 [02:33<1:18:11,  2.04it/s, episode_reward=243, running_reward=269]"
     ]
    },
    {
     "name": "stderr",
     "output_type": "stream",
     "text": [
      "\r\n",
      "  4%|▍         | 438/10000 [02:34<1:18:11,  2.04it/s, episode_reward=350, running_reward=271]"
     ]
    },
    {
     "name": "stderr",
     "output_type": "stream",
     "text": [
      "\r\n",
      "  4%|▍         | 439/10000 [02:34<1:20:17,  1.98it/s, episode_reward=350, running_reward=271]"
     ]
    },
    {
     "name": "stderr",
     "output_type": "stream",
     "text": [
      "\r\n",
      "  4%|▍         | 439/10000 [02:34<1:20:17,  1.98it/s, episode_reward=402, running_reward=274]"
     ]
    },
    {
     "name": "stderr",
     "output_type": "stream",
     "text": [
      "\r\n",
      "  4%|▍         | 440/10000 [02:34<1:25:31,  1.86it/s, episode_reward=402, running_reward=274]"
     ]
    },
    {
     "name": "stderr",
     "output_type": "stream",
     "text": [
      "\r\n",
      "  4%|▍         | 440/10000 [02:35<1:25:31,  1.86it/s, episode_reward=496, running_reward=277]"
     ]
    },
    {
     "name": "stderr",
     "output_type": "stream",
     "text": [
      "\r\n",
      "  4%|▍         | 441/10000 [02:35<1:36:01,  1.66it/s, episode_reward=496, running_reward=277]"
     ]
    },
    {
     "name": "stderr",
     "output_type": "stream",
     "text": [
      "\r\n",
      "  4%|▍         | 441/10000 [02:36<1:36:01,  1.66it/s, episode_reward=403, running_reward=279]"
     ]
    },
    {
     "name": "stderr",
     "output_type": "stream",
     "text": [
      "\r\n",
      "  4%|▍         | 442/10000 [02:36<1:35:55,  1.66it/s, episode_reward=403, running_reward=279]"
     ]
    },
    {
     "name": "stderr",
     "output_type": "stream",
     "text": [
      "\r\n",
      "  4%|▍         | 442/10000 [02:36<1:35:55,  1.66it/s, episode_reward=392, running_reward=281]"
     ]
    },
    {
     "name": "stderr",
     "output_type": "stream",
     "text": [
      "\r\n",
      "  4%|▍         | 443/10000 [02:36<1:35:14,  1.67it/s, episode_reward=392, running_reward=281]"
     ]
    },
    {
     "name": "stderr",
     "output_type": "stream",
     "text": [
      "\r\n",
      "  4%|▍         | 443/10000 [02:37<1:35:14,  1.67it/s, episode_reward=403, running_reward=283]"
     ]
    },
    {
     "name": "stderr",
     "output_type": "stream",
     "text": [
      "\r\n",
      "  4%|▍         | 444/10000 [02:37<1:35:42,  1.66it/s, episode_reward=403, running_reward=283]"
     ]
    },
    {
     "name": "stderr",
     "output_type": "stream",
     "text": [
      "\r\n",
      "  4%|▍         | 444/10000 [02:38<1:35:42,  1.66it/s, episode_reward=324, running_reward=285]"
     ]
    },
    {
     "name": "stderr",
     "output_type": "stream",
     "text": [
      "\r\n",
      "  4%|▍         | 445/10000 [02:38<1:34:06,  1.69it/s, episode_reward=324, running_reward=285]"
     ]
    },
    {
     "name": "stderr",
     "output_type": "stream",
     "text": [
      "\r\n",
      "  4%|▍         | 445/10000 [02:38<1:34:06,  1.69it/s, episode_reward=335, running_reward=287]"
     ]
    },
    {
     "name": "stderr",
     "output_type": "stream",
     "text": [
      "\r\n",
      "  4%|▍         | 446/10000 [02:38<1:33:09,  1.71it/s, episode_reward=335, running_reward=287]"
     ]
    },
    {
     "name": "stderr",
     "output_type": "stream",
     "text": [
      "\r\n",
      "  4%|▍         | 446/10000 [02:39<1:33:09,  1.71it/s, episode_reward=369, running_reward=289]"
     ]
    },
    {
     "name": "stderr",
     "output_type": "stream",
     "text": [
      "\r\n",
      "  4%|▍         | 447/10000 [02:39<1:35:26,  1.67it/s, episode_reward=369, running_reward=289]"
     ]
    },
    {
     "name": "stderr",
     "output_type": "stream",
     "text": [
      "\r\n",
      "  4%|▍         | 447/10000 [02:39<1:35:26,  1.67it/s, episode_reward=500, running_reward=292]"
     ]
    },
    {
     "name": "stderr",
     "output_type": "stream",
     "text": [
      "\r\n",
      "  4%|▍         | 448/10000 [02:39<1:43:36,  1.54it/s, episode_reward=500, running_reward=292]"
     ]
    },
    {
     "name": "stderr",
     "output_type": "stream",
     "text": [
      "\r\n",
      "  4%|▍         | 448/10000 [02:40<1:43:36,  1.54it/s, episode_reward=500, running_reward=296]"
     ]
    },
    {
     "name": "stderr",
     "output_type": "stream",
     "text": [
      "\r\n",
      "  4%|▍         | 449/10000 [02:40<1:49:02,  1.46it/s, episode_reward=500, running_reward=296]"
     ]
    },
    {
     "name": "stderr",
     "output_type": "stream",
     "text": [
      "\r\n",
      "  4%|▍         | 449/10000 [02:41<1:49:02,  1.46it/s, episode_reward=500, running_reward=299]"
     ]
    },
    {
     "name": "stderr",
     "output_type": "stream",
     "text": [
      "\r\n",
      "  4%|▍         | 450/10000 [02:41<1:57:42,  1.35it/s, episode_reward=500, running_reward=299]"
     ]
    },
    {
     "name": "stderr",
     "output_type": "stream",
     "text": [
      "\r\n",
      "  4%|▍         | 450/10000 [02:42<1:57:42,  1.35it/s, episode_reward=500, running_reward=303]"
     ]
    },
    {
     "name": "stderr",
     "output_type": "stream",
     "text": [
      "\r\n",
      "  5%|▍         | 451/10000 [02:42<2:01:44,  1.31it/s, episode_reward=500, running_reward=303]"
     ]
    },
    {
     "name": "stderr",
     "output_type": "stream",
     "text": [
      "\r\n",
      "  5%|▍         | 451/10000 [02:43<2:01:44,  1.31it/s, episode_reward=500, running_reward=306]"
     ]
    },
    {
     "name": "stderr",
     "output_type": "stream",
     "text": [
      "\r\n",
      "  5%|▍         | 452/10000 [02:43<2:02:26,  1.30it/s, episode_reward=500, running_reward=306]"
     ]
    },
    {
     "name": "stderr",
     "output_type": "stream",
     "text": [
      "\r\n",
      "  5%|▍         | 452/10000 [02:43<2:02:26,  1.30it/s, episode_reward=500, running_reward=310]"
     ]
    },
    {
     "name": "stderr",
     "output_type": "stream",
     "text": [
      "\r\n",
      "  5%|▍         | 453/10000 [02:43<2:01:33,  1.31it/s, episode_reward=500, running_reward=310]"
     ]
    },
    {
     "name": "stderr",
     "output_type": "stream",
     "text": [
      "\r\n",
      "  5%|▍         | 453/10000 [02:44<2:01:33,  1.31it/s, episode_reward=500, running_reward=313]"
     ]
    },
    {
     "name": "stderr",
     "output_type": "stream",
     "text": [
      "\r\n",
      "  5%|▍         | 454/10000 [02:44<2:03:23,  1.29it/s, episode_reward=500, running_reward=313]"
     ]
    },
    {
     "name": "stderr",
     "output_type": "stream",
     "text": [
      "\r\n",
      "  5%|▍         | 454/10000 [02:45<2:03:23,  1.29it/s, episode_reward=500, running_reward=317]"
     ]
    },
    {
     "name": "stderr",
     "output_type": "stream",
     "text": [
      "\r\n",
      "  5%|▍         | 455/10000 [02:45<2:01:55,  1.30it/s, episode_reward=500, running_reward=317]"
     ]
    },
    {
     "name": "stderr",
     "output_type": "stream",
     "text": [
      "\r\n",
      "  5%|▍         | 455/10000 [02:46<2:01:55,  1.30it/s, episode_reward=500, running_reward=320]"
     ]
    },
    {
     "name": "stderr",
     "output_type": "stream",
     "text": [
      "\r\n",
      "  5%|▍         | 456/10000 [02:46<2:09:19,  1.23it/s, episode_reward=500, running_reward=320]"
     ]
    },
    {
     "name": "stderr",
     "output_type": "stream",
     "text": [
      "\r\n",
      "  5%|▍         | 456/10000 [02:47<2:09:19,  1.23it/s, episode_reward=500, running_reward=323]"
     ]
    },
    {
     "name": "stderr",
     "output_type": "stream",
     "text": [
      "\r\n",
      "  5%|▍         | 457/10000 [02:47<2:09:36,  1.23it/s, episode_reward=500, running_reward=323]"
     ]
    },
    {
     "name": "stderr",
     "output_type": "stream",
     "text": [
      "\r\n",
      "  5%|▍         | 457/10000 [02:48<2:09:36,  1.23it/s, episode_reward=500, running_reward=326]"
     ]
    },
    {
     "name": "stderr",
     "output_type": "stream",
     "text": [
      "\r\n",
      "  5%|▍         | 458/10000 [02:48<2:06:21,  1.26it/s, episode_reward=500, running_reward=326]"
     ]
    },
    {
     "name": "stderr",
     "output_type": "stream",
     "text": [
      "\r\n",
      "  5%|▍         | 458/10000 [02:48<2:06:21,  1.26it/s, episode_reward=500, running_reward=330]"
     ]
    },
    {
     "name": "stderr",
     "output_type": "stream",
     "text": [
      "\r\n",
      "  5%|▍         | 459/10000 [02:48<2:04:20,  1.28it/s, episode_reward=500, running_reward=330]"
     ]
    },
    {
     "name": "stderr",
     "output_type": "stream",
     "text": [
      "\r\n",
      "  5%|▍         | 459/10000 [02:49<2:04:20,  1.28it/s, episode_reward=500, running_reward=333]"
     ]
    },
    {
     "name": "stderr",
     "output_type": "stream",
     "text": [
      "\r\n",
      "  5%|▍         | 460/10000 [02:49<2:04:03,  1.28it/s, episode_reward=500, running_reward=333]"
     ]
    },
    {
     "name": "stderr",
     "output_type": "stream",
     "text": [
      "\r\n",
      "  5%|▍         | 460/10000 [02:50<2:04:03,  1.28it/s, episode_reward=500, running_reward=336]"
     ]
    },
    {
     "name": "stderr",
     "output_type": "stream",
     "text": [
      "\r\n",
      "  5%|▍         | 461/10000 [02:50<2:04:13,  1.28it/s, episode_reward=500, running_reward=336]"
     ]
    },
    {
     "name": "stderr",
     "output_type": "stream",
     "text": [
      "\r\n",
      "  5%|▍         | 461/10000 [02:50<2:04:13,  1.28it/s, episode_reward=393, running_reward=338]"
     ]
    },
    {
     "name": "stderr",
     "output_type": "stream",
     "text": [
      "\r\n",
      "  5%|▍         | 462/10000 [02:50<1:57:52,  1.35it/s, episode_reward=393, running_reward=338]"
     ]
    },
    {
     "name": "stderr",
     "output_type": "stream",
     "text": [
      "\r\n",
      "  5%|▍         | 462/10000 [02:51<1:57:52,  1.35it/s, episode_reward=237, running_reward=338]"
     ]
    },
    {
     "name": "stderr",
     "output_type": "stream",
     "text": [
      "\r\n",
      "  5%|▍         | 463/10000 [02:51<1:39:53,  1.59it/s, episode_reward=237, running_reward=338]"
     ]
    },
    {
     "name": "stderr",
     "output_type": "stream",
     "text": [
      "\r\n",
      "  5%|▍         | 463/10000 [02:51<1:39:53,  1.59it/s, episode_reward=226, running_reward=338]"
     ]
    },
    {
     "name": "stderr",
     "output_type": "stream",
     "text": [
      "\r\n",
      "  5%|▍         | 464/10000 [02:51<1:26:39,  1.83it/s, episode_reward=226, running_reward=338]"
     ]
    },
    {
     "name": "stderr",
     "output_type": "stream",
     "text": [
      "\r\n",
      "  5%|▍         | 464/10000 [02:52<1:26:39,  1.83it/s, episode_reward=200, running_reward=338]"
     ]
    },
    {
     "name": "stderr",
     "output_type": "stream",
     "text": [
      "\r\n",
      "  5%|▍         | 465/10000 [02:52<1:15:35,  2.10it/s, episode_reward=200, running_reward=338]"
     ]
    },
    {
     "name": "stderr",
     "output_type": "stream",
     "text": [
      "\r\n",
      "  5%|▍         | 465/10000 [02:52<1:15:35,  2.10it/s, episode_reward=223, running_reward=338]"
     ]
    },
    {
     "name": "stderr",
     "output_type": "stream",
     "text": [
      "\r\n",
      "  5%|▍         | 466/10000 [02:52<1:09:05,  2.30it/s, episode_reward=223, running_reward=338]"
     ]
    },
    {
     "name": "stderr",
     "output_type": "stream",
     "text": [
      "\r\n",
      "  5%|▍         | 466/10000 [02:52<1:09:05,  2.30it/s, episode_reward=152, running_reward=337]"
     ]
    },
    {
     "name": "stderr",
     "output_type": "stream",
     "text": [
      "\r\n",
      "  5%|▍         | 467/10000 [02:52<59:49,  2.66it/s, episode_reward=152, running_reward=337]  "
     ]
    },
    {
     "name": "stderr",
     "output_type": "stream",
     "text": [
      "\r\n",
      "  5%|▍         | 467/10000 [02:52<59:49,  2.66it/s, episode_reward=128, running_reward=336]"
     ]
    },
    {
     "name": "stderr",
     "output_type": "stream",
     "text": [
      "\r\n",
      "  5%|▍         | 468/10000 [02:52<51:51,  3.06it/s, episode_reward=128, running_reward=336]"
     ]
    },
    {
     "name": "stderr",
     "output_type": "stream",
     "text": [
      "\r\n",
      "  5%|▍         | 468/10000 [02:53<51:51,  3.06it/s, episode_reward=163, running_reward=335]"
     ]
    },
    {
     "name": "stderr",
     "output_type": "stream",
     "text": [
      "\r\n",
      "  5%|▍         | 469/10000 [02:53<48:32,  3.27it/s, episode_reward=163, running_reward=335]"
     ]
    },
    {
     "name": "stderr",
     "output_type": "stream",
     "text": [
      "\r\n",
      "  5%|▍         | 469/10000 [02:53<48:32,  3.27it/s, episode_reward=151, running_reward=333]"
     ]
    },
    {
     "name": "stderr",
     "output_type": "stream",
     "text": [
      "\r\n",
      "  5%|▍         | 470/10000 [02:53<45:24,  3.50it/s, episode_reward=151, running_reward=333]"
     ]
    },
    {
     "name": "stderr",
     "output_type": "stream",
     "text": [
      "\r\n",
      "  5%|▍         | 470/10000 [02:53<45:24,  3.50it/s, episode_reward=223, running_reward=334]"
     ]
    },
    {
     "name": "stderr",
     "output_type": "stream",
     "text": [
      "\r\n",
      "  5%|▍         | 471/10000 [02:53<49:02,  3.24it/s, episode_reward=223, running_reward=334]"
     ]
    },
    {
     "name": "stderr",
     "output_type": "stream",
     "text": [
      "\r\n",
      "  5%|▍         | 471/10000 [02:53<49:02,  3.24it/s, episode_reward=182, running_reward=333]"
     ]
    },
    {
     "name": "stderr",
     "output_type": "stream",
     "text": [
      "\r\n",
      "  5%|▍         | 472/10000 [02:53<50:35,  3.14it/s, episode_reward=182, running_reward=333]"
     ]
    },
    {
     "name": "stderr",
     "output_type": "stream",
     "text": [
      "\r\n",
      "  5%|▍         | 472/10000 [02:54<50:35,  3.14it/s, episode_reward=196, running_reward=333]"
     ]
    },
    {
     "name": "stderr",
     "output_type": "stream",
     "text": [
      "\r\n",
      "  5%|▍         | 473/10000 [02:54<51:30,  3.08it/s, episode_reward=196, running_reward=333]"
     ]
    },
    {
     "name": "stderr",
     "output_type": "stream",
     "text": [
      "\r\n",
      "  5%|▍         | 473/10000 [02:54<51:30,  3.08it/s, episode_reward=224, running_reward=333]"
     ]
    },
    {
     "name": "stderr",
     "output_type": "stream",
     "text": [
      "\r\n",
      "  5%|▍         | 474/10000 [02:54<52:45,  3.01it/s, episode_reward=224, running_reward=333]"
     ]
    },
    {
     "name": "stderr",
     "output_type": "stream",
     "text": [
      "\r\n",
      "  5%|▍         | 474/10000 [02:55<52:45,  3.01it/s, episode_reward=236, running_reward=334]"
     ]
    },
    {
     "name": "stderr",
     "output_type": "stream",
     "text": [
      "\r\n",
      "  5%|▍         | 475/10000 [02:55<54:06,  2.93it/s, episode_reward=236, running_reward=334]"
     ]
    },
    {
     "name": "stderr",
     "output_type": "stream",
     "text": [
      "\r\n",
      "  5%|▍         | 475/10000 [02:55<54:06,  2.93it/s, episode_reward=163, running_reward=333]"
     ]
    },
    {
     "name": "stderr",
     "output_type": "stream",
     "text": [
      "\r\n",
      "  5%|▍         | 476/10000 [02:55<52:47,  3.01it/s, episode_reward=163, running_reward=333]"
     ]
    },
    {
     "name": "stderr",
     "output_type": "stream",
     "text": [
      "\r\n",
      "  5%|▍         | 476/10000 [02:55<52:47,  3.01it/s, episode_reward=184, running_reward=333]"
     ]
    },
    {
     "name": "stderr",
     "output_type": "stream",
     "text": [
      "\r\n",
      "  5%|▍         | 477/10000 [02:55<50:31,  3.14it/s, episode_reward=184, running_reward=333]"
     ]
    },
    {
     "name": "stderr",
     "output_type": "stream",
     "text": [
      "\r\n",
      "  5%|▍         | 477/10000 [02:56<50:31,  3.14it/s, episode_reward=229, running_reward=333]"
     ]
    },
    {
     "name": "stderr",
     "output_type": "stream",
     "text": [
      "\r\n",
      "  5%|▍         | 478/10000 [02:56<52:51,  3.00it/s, episode_reward=229, running_reward=333]"
     ]
    },
    {
     "name": "stderr",
     "output_type": "stream",
     "text": [
      "\r\n",
      "  5%|▍         | 478/10000 [02:56<52:51,  3.00it/s, episode_reward=258, running_reward=333]"
     ]
    },
    {
     "name": "stderr",
     "output_type": "stream",
     "text": [
      "\r\n",
      "  5%|▍         | 479/10000 [02:56<57:16,  2.77it/s, episode_reward=258, running_reward=333]"
     ]
    },
    {
     "name": "stderr",
     "output_type": "stream",
     "text": [
      "\r\n",
      "  5%|▍         | 479/10000 [02:56<57:16,  2.77it/s, episode_reward=259, running_reward=334]"
     ]
    },
    {
     "name": "stderr",
     "output_type": "stream",
     "text": [
      "\r\n",
      "  5%|▍         | 480/10000 [02:56<1:00:20,  2.63it/s, episode_reward=259, running_reward=334]"
     ]
    },
    {
     "name": "stderr",
     "output_type": "stream",
     "text": [
      "\r\n",
      "  5%|▍         | 480/10000 [02:57<1:00:20,  2.63it/s, episode_reward=256, running_reward=334]"
     ]
    },
    {
     "name": "stderr",
     "output_type": "stream",
     "text": [
      "\r\n",
      "  5%|▍         | 481/10000 [02:57<1:01:00,  2.60it/s, episode_reward=256, running_reward=334]"
     ]
    },
    {
     "name": "stderr",
     "output_type": "stream",
     "text": [
      "\r\n",
      "  5%|▍         | 481/10000 [02:57<1:01:00,  2.60it/s, episode_reward=330, running_reward=335]"
     ]
    },
    {
     "name": "stderr",
     "output_type": "stream",
     "text": [
      "\r\n",
      "  5%|▍         | 482/10000 [02:57<1:06:51,  2.37it/s, episode_reward=330, running_reward=335]"
     ]
    },
    {
     "name": "stderr",
     "output_type": "stream",
     "text": [
      "\r\n",
      "  5%|▍         | 482/10000 [02:58<1:06:51,  2.37it/s, episode_reward=275, running_reward=336]"
     ]
    },
    {
     "name": "stderr",
     "output_type": "stream",
     "text": [
      "\r\n",
      "  5%|▍         | 483/10000 [02:58<1:10:53,  2.24it/s, episode_reward=275, running_reward=336]"
     ]
    },
    {
     "name": "stderr",
     "output_type": "stream",
     "text": [
      "\r\n",
      "  5%|▍         | 483/10000 [02:58<1:10:53,  2.24it/s, episode_reward=285, running_reward=336]"
     ]
    },
    {
     "name": "stderr",
     "output_type": "stream",
     "text": [
      "\r\n",
      "  5%|▍         | 484/10000 [02:58<1:15:27,  2.10it/s, episode_reward=285, running_reward=336]"
     ]
    },
    {
     "name": "stderr",
     "output_type": "stream",
     "text": [
      "\r\n",
      "  5%|▍         | 484/10000 [02:59<1:15:27,  2.10it/s, episode_reward=252, running_reward=337]"
     ]
    },
    {
     "name": "stderr",
     "output_type": "stream",
     "text": [
      "\r\n",
      "  5%|▍         | 485/10000 [02:59<1:11:51,  2.21it/s, episode_reward=252, running_reward=337]"
     ]
    },
    {
     "name": "stderr",
     "output_type": "stream",
     "text": [
      "\r\n",
      "  5%|▍         | 485/10000 [02:59<1:11:51,  2.21it/s, episode_reward=251, running_reward=337]"
     ]
    },
    {
     "name": "stderr",
     "output_type": "stream",
     "text": [
      "\r\n",
      "  5%|▍         | 486/10000 [02:59<1:10:50,  2.24it/s, episode_reward=251, running_reward=337]"
     ]
    },
    {
     "name": "stderr",
     "output_type": "stream",
     "text": [
      "\r\n",
      "  5%|▍         | 486/10000 [03:00<1:10:50,  2.24it/s, episode_reward=342, running_reward=337]"
     ]
    },
    {
     "name": "stderr",
     "output_type": "stream",
     "text": [
      "\r\n",
      "  5%|▍         | 487/10000 [03:00<1:15:33,  2.10it/s, episode_reward=342, running_reward=337]"
     ]
    },
    {
     "name": "stderr",
     "output_type": "stream",
     "text": [
      "\r\n",
      "  5%|▍         | 487/10000 [03:00<1:15:33,  2.10it/s, episode_reward=375, running_reward=338]"
     ]
    },
    {
     "name": "stderr",
     "output_type": "stream",
     "text": [
      "\r\n",
      "  5%|▍         | 488/10000 [03:00<1:22:18,  1.93it/s, episode_reward=375, running_reward=338]"
     ]
    },
    {
     "name": "stderr",
     "output_type": "stream",
     "text": [
      "\r\n",
      "  5%|▍         | 488/10000 [03:01<1:22:18,  1.93it/s, episode_reward=500, running_reward=341]"
     ]
    },
    {
     "name": "stderr",
     "output_type": "stream",
     "text": [
      "\r\n",
      "  5%|▍         | 489/10000 [03:01<1:37:17,  1.63it/s, episode_reward=500, running_reward=341]"
     ]
    },
    {
     "name": "stderr",
     "output_type": "stream",
     "text": [
      "\r\n",
      "  5%|▍         | 489/10000 [03:02<1:37:17,  1.63it/s, episode_reward=357, running_reward=341]"
     ]
    },
    {
     "name": "stderr",
     "output_type": "stream",
     "text": [
      "\r\n",
      "  5%|▍         | 490/10000 [03:02<1:35:55,  1.65it/s, episode_reward=357, running_reward=341]"
     ]
    },
    {
     "name": "stderr",
     "output_type": "stream",
     "text": [
      "\r\n",
      "  5%|▍         | 490/10000 [03:02<1:35:55,  1.65it/s, episode_reward=281, running_reward=341]"
     ]
    },
    {
     "name": "stderr",
     "output_type": "stream",
     "text": [
      "\r\n",
      "  5%|▍         | 491/10000 [03:02<1:28:40,  1.79it/s, episode_reward=281, running_reward=341]"
     ]
    },
    {
     "name": "stderr",
     "output_type": "stream",
     "text": [
      "\r\n",
      "  5%|▍         | 491/10000 [03:03<1:28:40,  1.79it/s, episode_reward=260, running_reward=340]"
     ]
    },
    {
     "name": "stderr",
     "output_type": "stream",
     "text": [
      "\r\n",
      "  5%|▍         | 492/10000 [03:03<1:24:06,  1.88it/s, episode_reward=260, running_reward=340]"
     ]
    },
    {
     "name": "stderr",
     "output_type": "stream",
     "text": [
      "\r\n",
      "  5%|▍         | 492/10000 [03:03<1:24:06,  1.88it/s, episode_reward=500, running_reward=341]"
     ]
    },
    {
     "name": "stderr",
     "output_type": "stream",
     "text": [
      "\r\n",
      "  5%|▍         | 493/10000 [03:03<1:35:06,  1.67it/s, episode_reward=500, running_reward=341]"
     ]
    },
    {
     "name": "stderr",
     "output_type": "stream",
     "text": [
      "\r\n",
      "  5%|▍         | 493/10000 [03:04<1:35:06,  1.67it/s, episode_reward=500, running_reward=341]"
     ]
    },
    {
     "name": "stderr",
     "output_type": "stream",
     "text": [
      "\r\n",
      "  5%|▍         | 494/10000 [03:04<1:45:17,  1.50it/s, episode_reward=500, running_reward=341]"
     ]
    },
    {
     "name": "stderr",
     "output_type": "stream",
     "text": [
      "\r\n",
      "  5%|▍         | 494/10000 [03:05<1:45:17,  1.50it/s, episode_reward=455, running_reward=342]"
     ]
    },
    {
     "name": "stderr",
     "output_type": "stream",
     "text": [
      "\r\n",
      "  5%|▍         | 495/10000 [03:05<1:47:16,  1.48it/s, episode_reward=455, running_reward=342]"
     ]
    },
    {
     "name": "stderr",
     "output_type": "stream",
     "text": [
      "\r\n",
      "  5%|▍         | 495/10000 [03:05<1:47:16,  1.48it/s, episode_reward=275, running_reward=339]"
     ]
    },
    {
     "name": "stderr",
     "output_type": "stream",
     "text": [
      "\r\n",
      "  5%|▍         | 496/10000 [03:05<1:36:33,  1.64it/s, episode_reward=275, running_reward=339]"
     ]
    },
    {
     "name": "stderr",
     "output_type": "stream",
     "text": [
      "\r\n",
      "  5%|▍         | 496/10000 [03:06<1:36:33,  1.64it/s, episode_reward=291, running_reward=339]"
     ]
    },
    {
     "name": "stderr",
     "output_type": "stream",
     "text": [
      "\r\n",
      "  5%|▍         | 497/10000 [03:06<1:30:13,  1.76it/s, episode_reward=291, running_reward=339]"
     ]
    },
    {
     "name": "stderr",
     "output_type": "stream",
     "text": [
      "\r\n",
      "  5%|▍         | 497/10000 [03:06<1:30:13,  1.76it/s, episode_reward=118, running_reward=337]"
     ]
    },
    {
     "name": "stderr",
     "output_type": "stream",
     "text": [
      "\r\n",
      "  5%|▍         | 498/10000 [03:06<1:13:28,  2.16it/s, episode_reward=118, running_reward=337]"
     ]
    },
    {
     "name": "stderr",
     "output_type": "stream",
     "text": [
      "\r\n",
      "  5%|▍         | 498/10000 [03:07<1:13:28,  2.16it/s, episode_reward=490, running_reward=338]"
     ]
    },
    {
     "name": "stderr",
     "output_type": "stream",
     "text": [
      "\r\n",
      "  5%|▍         | 499/10000 [03:07<1:29:01,  1.78it/s, episode_reward=490, running_reward=338]"
     ]
    },
    {
     "name": "stderr",
     "output_type": "stream",
     "text": [
      "\r\n",
      "  5%|▍         | 499/10000 [03:08<1:29:01,  1.78it/s, episode_reward=500, running_reward=340]"
     ]
    },
    {
     "name": "stderr",
     "output_type": "stream",
     "text": [
      "\r\n",
      "  5%|▌         | 500/10000 [03:08<1:40:02,  1.58it/s, episode_reward=500, running_reward=340]"
     ]
    },
    {
     "name": "stderr",
     "output_type": "stream",
     "text": [
      "\r\n",
      "  5%|▌         | 500/10000 [03:08<1:40:02,  1.58it/s, episode_reward=500, running_reward=342]"
     ]
    },
    {
     "name": "stderr",
     "output_type": "stream",
     "text": [
      "\r\n",
      "  5%|▌         | 501/10000 [03:08<1:48:12,  1.46it/s, episode_reward=500, running_reward=342]"
     ]
    },
    {
     "name": "stderr",
     "output_type": "stream",
     "text": [
      "\r\n",
      "  5%|▌         | 501/10000 [03:09<1:48:12,  1.46it/s, episode_reward=500, running_reward=344]"
     ]
    },
    {
     "name": "stderr",
     "output_type": "stream",
     "text": [
      "\r\n",
      "  5%|▌         | 502/10000 [03:09<1:52:45,  1.40it/s, episode_reward=500, running_reward=344]"
     ]
    },
    {
     "name": "stderr",
     "output_type": "stream",
     "text": [
      "\r\n",
      "  5%|▌         | 502/10000 [03:10<1:52:45,  1.40it/s, episode_reward=500, running_reward=345]"
     ]
    },
    {
     "name": "stderr",
     "output_type": "stream",
     "text": [
      "\r\n",
      "  5%|▌         | 503/10000 [03:10<2:00:12,  1.32it/s, episode_reward=500, running_reward=345]"
     ]
    },
    {
     "name": "stderr",
     "output_type": "stream",
     "text": [
      "\r\n",
      "  5%|▌         | 503/10000 [03:11<2:00:12,  1.32it/s, episode_reward=472, running_reward=347]"
     ]
    },
    {
     "name": "stderr",
     "output_type": "stream",
     "text": [
      "\r\n",
      "  5%|▌         | 504/10000 [03:11<2:01:29,  1.30it/s, episode_reward=472, running_reward=347]"
     ]
    },
    {
     "name": "stderr",
     "output_type": "stream",
     "text": [
      "\r\n",
      "  5%|▌         | 504/10000 [03:11<2:01:29,  1.30it/s, episode_reward=221, running_reward=346]"
     ]
    },
    {
     "name": "stderr",
     "output_type": "stream",
     "text": [
      "\r\n",
      "  5%|▌         | 505/10000 [03:11<1:44:47,  1.51it/s, episode_reward=221, running_reward=346]"
     ]
    },
    {
     "name": "stderr",
     "output_type": "stream",
     "text": [
      "\r\n",
      "  5%|▌         | 505/10000 [03:12<1:44:47,  1.51it/s, episode_reward=196, running_reward=346]"
     ]
    },
    {
     "name": "stderr",
     "output_type": "stream",
     "text": [
      "\r\n",
      "  5%|▌         | 506/10000 [03:12<1:28:26,  1.79it/s, episode_reward=196, running_reward=346]"
     ]
    },
    {
     "name": "stderr",
     "output_type": "stream",
     "text": [
      "\r\n",
      "  5%|▌         | 506/10000 [03:13<1:28:26,  1.79it/s, episode_reward=500, running_reward=349]"
     ]
    },
    {
     "name": "stderr",
     "output_type": "stream",
     "text": [
      "\r\n",
      "  5%|▌         | 507/10000 [03:13<1:45:07,  1.51it/s, episode_reward=500, running_reward=349]"
     ]
    },
    {
     "name": "stderr",
     "output_type": "stream",
     "text": [
      "\r\n",
      "  5%|▌         | 507/10000 [03:13<1:45:07,  1.51it/s, episode_reward=401, running_reward=350]"
     ]
    },
    {
     "name": "stderr",
     "output_type": "stream",
     "text": [
      "\r\n",
      "  5%|▌         | 508/10000 [03:13<1:44:54,  1.51it/s, episode_reward=401, running_reward=350]"
     ]
    },
    {
     "name": "stderr",
     "output_type": "stream",
     "text": [
      "\r\n",
      "  5%|▌         | 508/10000 [03:14<1:44:54,  1.51it/s, episode_reward=500, running_reward=352]"
     ]
    },
    {
     "name": "stderr",
     "output_type": "stream",
     "text": [
      "\r\n",
      "  5%|▌         | 509/10000 [03:14<1:50:24,  1.43it/s, episode_reward=500, running_reward=352]"
     ]
    },
    {
     "name": "stderr",
     "output_type": "stream",
     "text": [
      "\r\n",
      "  5%|▌         | 509/10000 [03:15<1:50:24,  1.43it/s, episode_reward=354, running_reward=351]"
     ]
    },
    {
     "name": "stderr",
     "output_type": "stream",
     "text": [
      "\r\n",
      "  5%|▌         | 510/10000 [03:15<1:42:54,  1.54it/s, episode_reward=354, running_reward=351]"
     ]
    },
    {
     "name": "stderr",
     "output_type": "stream",
     "text": [
      "\r\n",
      "  5%|▌         | 510/10000 [03:15<1:42:54,  1.54it/s, episode_reward=500, running_reward=353]"
     ]
    },
    {
     "name": "stderr",
     "output_type": "stream",
     "text": [
      "\r\n",
      "  5%|▌         | 511/10000 [03:15<1:47:51,  1.47it/s, episode_reward=500, running_reward=353]"
     ]
    },
    {
     "name": "stderr",
     "output_type": "stream",
     "text": [
      "\r\n",
      "  5%|▌         | 511/10000 [03:16<1:47:51,  1.47it/s, episode_reward=500, running_reward=355]"
     ]
    },
    {
     "name": "stderr",
     "output_type": "stream",
     "text": [
      "\r\n",
      "  5%|▌         | 512/10000 [03:16<1:56:55,  1.35it/s, episode_reward=500, running_reward=355]"
     ]
    },
    {
     "name": "stderr",
     "output_type": "stream",
     "text": [
      "\r\n",
      "  5%|▌         | 512/10000 [03:17<1:56:55,  1.35it/s, episode_reward=258, running_reward=355]"
     ]
    },
    {
     "name": "stderr",
     "output_type": "stream",
     "text": [
      "\r\n",
      "  5%|▌         | 513/10000 [03:17<1:44:27,  1.51it/s, episode_reward=258, running_reward=355]"
     ]
    },
    {
     "name": "stderr",
     "output_type": "stream",
     "text": [
      "\r\n",
      "  5%|▌         | 513/10000 [03:17<1:44:27,  1.51it/s, episode_reward=500, running_reward=358]"
     ]
    },
    {
     "name": "stderr",
     "output_type": "stream",
     "text": [
      "\r\n",
      "  5%|▌         | 514/10000 [03:17<1:52:48,  1.40it/s, episode_reward=500, running_reward=358]"
     ]
    },
    {
     "name": "stderr",
     "output_type": "stream",
     "text": [
      "\r\n",
      "  5%|▌         | 514/10000 [03:18<1:52:48,  1.40it/s, episode_reward=390, running_reward=359]"
     ]
    },
    {
     "name": "stderr",
     "output_type": "stream",
     "text": [
      "\r\n",
      "  5%|▌         | 515/10000 [03:18<1:47:09,  1.48it/s, episode_reward=390, running_reward=359]"
     ]
    },
    {
     "name": "stderr",
     "output_type": "stream",
     "text": [
      "\r\n",
      "  5%|▌         | 515/10000 [03:19<1:47:09,  1.48it/s, episode_reward=404, running_reward=360]"
     ]
    },
    {
     "name": "stderr",
     "output_type": "stream",
     "text": [
      "\r\n",
      "  5%|▌         | 516/10000 [03:19<1:48:12,  1.46it/s, episode_reward=404, running_reward=360]"
     ]
    },
    {
     "name": "stderr",
     "output_type": "stream",
     "text": [
      "\r\n",
      "  5%|▌         | 516/10000 [03:20<1:48:12,  1.46it/s, episode_reward=500, running_reward=361]"
     ]
    },
    {
     "name": "stderr",
     "output_type": "stream",
     "text": [
      "\r\n",
      "  5%|▌         | 517/10000 [03:20<2:01:10,  1.30it/s, episode_reward=500, running_reward=361]"
     ]
    },
    {
     "name": "stderr",
     "output_type": "stream",
     "text": [
      "\r\n",
      "  5%|▌         | 517/10000 [03:21<2:01:10,  1.30it/s, episode_reward=500, running_reward=363]"
     ]
    },
    {
     "name": "stderr",
     "output_type": "stream",
     "text": [
      "\r\n",
      "  5%|▌         | 518/10000 [03:21<2:07:31,  1.24it/s, episode_reward=500, running_reward=363]"
     ]
    },
    {
     "name": "stderr",
     "output_type": "stream",
     "text": [
      "\r\n",
      "  5%|▌         | 518/10000 [03:21<2:07:31,  1.24it/s, episode_reward=476, running_reward=365]"
     ]
    },
    {
     "name": "stderr",
     "output_type": "stream",
     "text": [
      "\r\n",
      "  5%|▌         | 519/10000 [03:21<2:05:09,  1.26it/s, episode_reward=476, running_reward=365]"
     ]
    },
    {
     "name": "stderr",
     "output_type": "stream",
     "text": [
      "\r\n",
      "  5%|▌         | 519/10000 [03:22<2:05:09,  1.26it/s, episode_reward=369, running_reward=365]"
     ]
    },
    {
     "name": "stderr",
     "output_type": "stream",
     "text": [
      "\r\n",
      "  5%|▌         | 520/10000 [03:22<1:54:02,  1.39it/s, episode_reward=369, running_reward=365]"
     ]
    },
    {
     "name": "stderr",
     "output_type": "stream",
     "text": [
      "\r\n",
      "  5%|▌         | 520/10000 [03:23<1:54:02,  1.39it/s, episode_reward=445, running_reward=366]"
     ]
    },
    {
     "name": "stderr",
     "output_type": "stream",
     "text": [
      "\r\n",
      "  5%|▌         | 521/10000 [03:23<1:51:35,  1.42it/s, episode_reward=445, running_reward=366]"
     ]
    },
    {
     "name": "stderr",
     "output_type": "stream",
     "text": [
      "\r\n",
      "  5%|▌         | 521/10000 [03:23<1:51:35,  1.42it/s, episode_reward=500, running_reward=368]"
     ]
    },
    {
     "name": "stderr",
     "output_type": "stream",
     "text": [
      "\r\n",
      "  5%|▌         | 522/10000 [03:23<1:53:23,  1.39it/s, episode_reward=500, running_reward=368]"
     ]
    },
    {
     "name": "stderr",
     "output_type": "stream",
     "text": [
      "\r\n",
      "  5%|▌         | 522/10000 [03:24<1:53:23,  1.39it/s, episode_reward=493, running_reward=368]"
     ]
    },
    {
     "name": "stderr",
     "output_type": "stream",
     "text": [
      "\r\n",
      "  5%|▌         | 523/10000 [03:24<1:56:26,  1.36it/s, episode_reward=493, running_reward=368]"
     ]
    },
    {
     "name": "stderr",
     "output_type": "stream",
     "text": [
      "\r\n",
      "  5%|▌         | 523/10000 [03:25<1:56:26,  1.36it/s, episode_reward=379, running_reward=368]"
     ]
    },
    {
     "name": "stderr",
     "output_type": "stream",
     "text": [
      "\r\n",
      "  5%|▌         | 524/10000 [03:25<1:48:33,  1.45it/s, episode_reward=379, running_reward=368]"
     ]
    },
    {
     "name": "stderr",
     "output_type": "stream",
     "text": [
      "\r\n",
      "  5%|▌         | 524/10000 [03:25<1:48:33,  1.45it/s, episode_reward=383, running_reward=367]"
     ]
    },
    {
     "name": "stderr",
     "output_type": "stream",
     "text": [
      "\r\n",
      "  5%|▌         | 525/10000 [03:25<1:47:24,  1.47it/s, episode_reward=383, running_reward=367]"
     ]
    },
    {
     "name": "stderr",
     "output_type": "stream",
     "text": [
      "\r\n",
      "  5%|▌         | 525/10000 [03:26<1:47:24,  1.47it/s, episode_reward=426, running_reward=367]"
     ]
    },
    {
     "name": "stderr",
     "output_type": "stream",
     "text": [
      "\r\n",
      "  5%|▌         | 526/10000 [03:26<1:51:10,  1.42it/s, episode_reward=426, running_reward=367]"
     ]
    },
    {
     "name": "stderr",
     "output_type": "stream",
     "text": [
      "\r\n",
      "  5%|▌         | 526/10000 [03:27<1:51:10,  1.42it/s, episode_reward=440, running_reward=366]"
     ]
    },
    {
     "name": "stderr",
     "output_type": "stream",
     "text": [
      "\r\n",
      "  5%|▌         | 527/10000 [03:27<1:56:07,  1.36it/s, episode_reward=440, running_reward=366]"
     ]
    },
    {
     "name": "stderr",
     "output_type": "stream",
     "text": [
      "\r\n",
      "  5%|▌         | 527/10000 [03:28<1:56:07,  1.36it/s, episode_reward=500, running_reward=366]"
     ]
    },
    {
     "name": "stderr",
     "output_type": "stream",
     "text": [
      "\r\n",
      "  5%|▌         | 528/10000 [03:28<1:59:34,  1.32it/s, episode_reward=500, running_reward=366]"
     ]
    },
    {
     "name": "stderr",
     "output_type": "stream",
     "text": [
      "\r\n",
      "  5%|▌         | 528/10000 [03:28<1:59:34,  1.32it/s, episode_reward=448, running_reward=367]"
     ]
    },
    {
     "name": "stderr",
     "output_type": "stream",
     "text": [
      "\r\n",
      "  5%|▌         | 529/10000 [03:28<1:55:30,  1.37it/s, episode_reward=448, running_reward=367]"
     ]
    },
    {
     "name": "stderr",
     "output_type": "stream",
     "text": [
      "\r\n",
      "  5%|▌         | 529/10000 [03:29<1:55:30,  1.37it/s, episode_reward=155, running_reward=365]"
     ]
    },
    {
     "name": "stderr",
     "output_type": "stream",
     "text": [
      "\r\n",
      "  5%|▌         | 530/10000 [03:29<1:32:20,  1.71it/s, episode_reward=155, running_reward=365]"
     ]
    },
    {
     "name": "stderr",
     "output_type": "stream",
     "text": [
      "\r\n",
      "  5%|▌         | 530/10000 [03:29<1:32:20,  1.71it/s, episode_reward=500, running_reward=366]"
     ]
    },
    {
     "name": "stderr",
     "output_type": "stream",
     "text": [
      "\r\n",
      "  5%|▌         | 531/10000 [03:29<1:43:47,  1.52it/s, episode_reward=500, running_reward=366]"
     ]
    },
    {
     "name": "stderr",
     "output_type": "stream",
     "text": [
      "\r\n",
      "  5%|▌         | 531/10000 [03:30<1:43:47,  1.52it/s, episode_reward=500, running_reward=368]"
     ]
    },
    {
     "name": "stderr",
     "output_type": "stream",
     "text": [
      "\r\n",
      "  5%|▌         | 532/10000 [03:30<1:52:02,  1.41it/s, episode_reward=500, running_reward=368]"
     ]
    },
    {
     "name": "stderr",
     "output_type": "stream",
     "text": [
      "\r\n",
      "  5%|▌         | 532/10000 [03:31<1:52:02,  1.41it/s, episode_reward=160, running_reward=367]"
     ]
    },
    {
     "name": "stderr",
     "output_type": "stream",
     "text": [
      "\r\n",
      "  5%|▌         | 533/10000 [03:31<1:30:56,  1.73it/s, episode_reward=160, running_reward=367]"
     ]
    },
    {
     "name": "stderr",
     "output_type": "stream",
     "text": [
      "\r\n",
      "  5%|▌         | 533/10000 [03:31<1:30:56,  1.73it/s, episode_reward=171, running_reward=366]"
     ]
    },
    {
     "name": "stderr",
     "output_type": "stream",
     "text": [
      "\r\n",
      "  5%|▌         | 534/10000 [03:31<1:16:28,  2.06it/s, episode_reward=171, running_reward=366]"
     ]
    },
    {
     "name": "stderr",
     "output_type": "stream",
     "text": [
      "\r\n",
      "  5%|▌         | 534/10000 [03:31<1:16:28,  2.06it/s, episode_reward=163, running_reward=365]"
     ]
    },
    {
     "name": "stderr",
     "output_type": "stream",
     "text": [
      "\r\n",
      "  5%|▌         | 535/10000 [03:31<1:05:44,  2.40it/s, episode_reward=163, running_reward=365]"
     ]
    },
    {
     "name": "stderr",
     "output_type": "stream",
     "text": [
      "\r\n",
      "  5%|▌         | 535/10000 [03:31<1:05:44,  2.40it/s, episode_reward=130, running_reward=363]"
     ]
    },
    {
     "name": "stderr",
     "output_type": "stream",
     "text": [
      "\r\n",
      "  5%|▌         | 536/10000 [03:31<56:56,  2.77it/s, episode_reward=130, running_reward=363]  "
     ]
    },
    {
     "name": "stderr",
     "output_type": "stream",
     "text": [
      "\r\n",
      "  5%|▌         | 536/10000 [03:32<56:56,  2.77it/s, episode_reward=154, running_reward=361]"
     ]
    },
    {
     "name": "stderr",
     "output_type": "stream",
     "text": [
      "\r\n",
      "  5%|▌         | 537/10000 [03:32<53:26,  2.95it/s, episode_reward=154, running_reward=361]"
     ]
    },
    {
     "name": "stderr",
     "output_type": "stream",
     "text": [
      "\r\n",
      "  5%|▌         | 537/10000 [03:32<53:26,  2.95it/s, episode_reward=141, running_reward=360]"
     ]
    },
    {
     "name": "stderr",
     "output_type": "stream",
     "text": [
      "\r\n",
      "  5%|▌         | 538/10000 [03:32<49:39,  3.18it/s, episode_reward=141, running_reward=360]"
     ]
    },
    {
     "name": "stderr",
     "output_type": "stream",
     "text": [
      "\r\n",
      "  5%|▌         | 538/10000 [03:32<49:39,  3.18it/s, episode_reward=168, running_reward=358]"
     ]
    },
    {
     "name": "stderr",
     "output_type": "stream",
     "text": [
      "\r\n",
      "  5%|▌         | 539/10000 [03:32<48:07,  3.28it/s, episode_reward=168, running_reward=358]"
     ]
    },
    {
     "name": "stderr",
     "output_type": "stream",
     "text": [
      "\r\n",
      "  5%|▌         | 539/10000 [03:32<48:07,  3.28it/s, episode_reward=120, running_reward=356]"
     ]
    },
    {
     "name": "stderr",
     "output_type": "stream",
     "text": [
      "\r\n",
      "  5%|▌         | 540/10000 [03:32<44:09,  3.57it/s, episode_reward=120, running_reward=356]"
     ]
    },
    {
     "name": "stderr",
     "output_type": "stream",
     "text": [
      "\r\n",
      "  5%|▌         | 540/10000 [03:33<44:09,  3.57it/s, episode_reward=149, running_reward=352]"
     ]
    },
    {
     "name": "stderr",
     "output_type": "stream",
     "text": [
      "\r\n",
      "  5%|▌         | 541/10000 [03:33<42:09,  3.74it/s, episode_reward=149, running_reward=352]"
     ]
    },
    {
     "name": "stderr",
     "output_type": "stream",
     "text": [
      "\r\n",
      "  5%|▌         | 541/10000 [03:33<42:09,  3.74it/s, episode_reward=139, running_reward=349]"
     ]
    },
    {
     "name": "stderr",
     "output_type": "stream",
     "text": [
      "\r\n",
      "  5%|▌         | 542/10000 [03:33<39:47,  3.96it/s, episode_reward=139, running_reward=349]"
     ]
    },
    {
     "name": "stderr",
     "output_type": "stream",
     "text": [
      "\r\n",
      "  5%|▌         | 542/10000 [03:33<39:47,  3.96it/s, episode_reward=142, running_reward=347]"
     ]
    },
    {
     "name": "stderr",
     "output_type": "stream",
     "text": [
      "\r\n",
      "  5%|▌         | 543/10000 [03:33<38:37,  4.08it/s, episode_reward=142, running_reward=347]"
     ]
    },
    {
     "name": "stderr",
     "output_type": "stream",
     "text": [
      "\r\n",
      "  5%|▌         | 543/10000 [03:33<38:37,  4.08it/s, episode_reward=159, running_reward=345]"
     ]
    },
    {
     "name": "stderr",
     "output_type": "stream",
     "text": [
      "\r\n",
      "  5%|▌         | 544/10000 [03:33<39:55,  3.95it/s, episode_reward=159, running_reward=345]"
     ]
    },
    {
     "name": "stderr",
     "output_type": "stream",
     "text": [
      "\r\n",
      "  5%|▌         | 544/10000 [03:34<39:55,  3.95it/s, episode_reward=128, running_reward=343]"
     ]
    },
    {
     "name": "stderr",
     "output_type": "stream",
     "text": [
      "\r\n",
      "  5%|▌         | 545/10000 [03:34<37:41,  4.18it/s, episode_reward=128, running_reward=343]"
     ]
    },
    {
     "name": "stderr",
     "output_type": "stream",
     "text": [
      "\r\n",
      "  5%|▌         | 545/10000 [03:34<37:41,  4.18it/s, episode_reward=128, running_reward=341]"
     ]
    },
    {
     "name": "stderr",
     "output_type": "stream",
     "text": [
      "\r\n",
      "  5%|▌         | 546/10000 [03:34<35:55,  4.39it/s, episode_reward=128, running_reward=341]"
     ]
    },
    {
     "name": "stderr",
     "output_type": "stream",
     "text": [
      "\r\n",
      "  5%|▌         | 546/10000 [03:34<35:55,  4.39it/s, episode_reward=130, running_reward=338]"
     ]
    },
    {
     "name": "stderr",
     "output_type": "stream",
     "text": [
      "\r\n",
      "  5%|▌         | 547/10000 [03:34<35:28,  4.44it/s, episode_reward=130, running_reward=338]"
     ]
    },
    {
     "name": "stderr",
     "output_type": "stream",
     "text": [
      "\r\n",
      "  5%|▌         | 547/10000 [03:34<35:28,  4.44it/s, episode_reward=145, running_reward=335]"
     ]
    },
    {
     "name": "stderr",
     "output_type": "stream",
     "text": [
      "\r\n",
      "  5%|▌         | 548/10000 [03:34<38:08,  4.13it/s, episode_reward=145, running_reward=335]"
     ]
    },
    {
     "name": "stderr",
     "output_type": "stream",
     "text": [
      "\r\n",
      "  5%|▌         | 548/10000 [03:35<38:08,  4.13it/s, episode_reward=153, running_reward=331]"
     ]
    },
    {
     "name": "stderr",
     "output_type": "stream",
     "text": [
      "\r\n",
      "  5%|▌         | 549/10000 [03:35<39:19,  4.01it/s, episode_reward=153, running_reward=331]"
     ]
    },
    {
     "name": "stderr",
     "output_type": "stream",
     "text": [
      "\r\n",
      "  5%|▌         | 549/10000 [03:35<39:19,  4.01it/s, episode_reward=153, running_reward=328]"
     ]
    },
    {
     "name": "stderr",
     "output_type": "stream",
     "text": [
      "\r\n",
      "  6%|▌         | 550/10000 [03:35<40:06,  3.93it/s, episode_reward=153, running_reward=328]"
     ]
    },
    {
     "name": "stderr",
     "output_type": "stream",
     "text": [
      "\r\n",
      "  6%|▌         | 550/10000 [03:35<40:06,  3.93it/s, episode_reward=120, running_reward=324]"
     ]
    },
    {
     "name": "stderr",
     "output_type": "stream",
     "text": [
      "\r\n",
      "  6%|▌         | 551/10000 [03:35<37:46,  4.17it/s, episode_reward=120, running_reward=324]"
     ]
    },
    {
     "name": "stderr",
     "output_type": "stream",
     "text": [
      "\r\n",
      "  6%|▌         | 551/10000 [03:35<37:46,  4.17it/s, episode_reward=134, running_reward=320]"
     ]
    },
    {
     "name": "stderr",
     "output_type": "stream",
     "text": [
      "\r\n",
      "  6%|▌         | 552/10000 [03:35<37:16,  4.22it/s, episode_reward=134, running_reward=320]"
     ]
    },
    {
     "name": "stderr",
     "output_type": "stream",
     "text": [
      "\r\n",
      "  6%|▌         | 552/10000 [03:35<37:16,  4.22it/s, episode_reward=136, running_reward=317]"
     ]
    },
    {
     "name": "stderr",
     "output_type": "stream",
     "text": [
      "\r\n",
      "  6%|▌         | 553/10000 [03:35<37:07,  4.24it/s, episode_reward=136, running_reward=317]"
     ]
    },
    {
     "name": "stderr",
     "output_type": "stream",
     "text": [
      "\r\n",
      "  6%|▌         | 553/10000 [03:36<37:07,  4.24it/s, episode_reward=127, running_reward=313]"
     ]
    },
    {
     "name": "stderr",
     "output_type": "stream",
     "text": [
      "\r\n",
      "  6%|▌         | 554/10000 [03:36<35:31,  4.43it/s, episode_reward=127, running_reward=313]"
     ]
    },
    {
     "name": "stderr",
     "output_type": "stream",
     "text": [
      "\r\n",
      "  6%|▌         | 554/10000 [03:36<35:31,  4.43it/s, episode_reward=141, running_reward=309]"
     ]
    },
    {
     "name": "stderr",
     "output_type": "stream",
     "text": [
      "\r\n",
      "  6%|▌         | 555/10000 [03:36<36:14,  4.34it/s, episode_reward=141, running_reward=309]"
     ]
    },
    {
     "name": "stderr",
     "output_type": "stream",
     "text": [
      "\r\n",
      "  6%|▌         | 555/10000 [03:36<36:14,  4.34it/s, episode_reward=126, running_reward=305]"
     ]
    },
    {
     "name": "stderr",
     "output_type": "stream",
     "text": [
      "\r\n",
      "  6%|▌         | 556/10000 [03:36<34:50,  4.52it/s, episode_reward=126, running_reward=305]"
     ]
    },
    {
     "name": "stderr",
     "output_type": "stream",
     "text": [
      "\r\n",
      "  6%|▌         | 556/10000 [03:36<34:50,  4.52it/s, episode_reward=196, running_reward=302]"
     ]
    },
    {
     "name": "stderr",
     "output_type": "stream",
     "text": [
      "\r\n",
      "  6%|▌         | 557/10000 [03:36<38:47,  4.06it/s, episode_reward=196, running_reward=302]"
     ]
    },
    {
     "name": "stderr",
     "output_type": "stream",
     "text": [
      "\r\n",
      "  6%|▌         | 557/10000 [03:37<38:47,  4.06it/s, episode_reward=142, running_reward=299]"
     ]
    },
    {
     "name": "stderr",
     "output_type": "stream",
     "text": [
      "\r\n",
      "  6%|▌         | 558/10000 [03:37<39:40,  3.97it/s, episode_reward=142, running_reward=299]"
     ]
    },
    {
     "name": "stderr",
     "output_type": "stream",
     "text": [
      "\r\n",
      "  6%|▌         | 558/10000 [03:37<39:40,  3.97it/s, episode_reward=124, running_reward=295]"
     ]
    },
    {
     "name": "stderr",
     "output_type": "stream",
     "text": [
      "\r\n",
      "  6%|▌         | 559/10000 [03:37<37:14,  4.22it/s, episode_reward=124, running_reward=295]"
     ]
    },
    {
     "name": "stderr",
     "output_type": "stream",
     "text": [
      "\r\n",
      "  6%|▌         | 559/10000 [03:37<37:14,  4.22it/s, episode_reward=120, running_reward=291]"
     ]
    },
    {
     "name": "stderr",
     "output_type": "stream",
     "text": [
      "\r\n",
      "  6%|▌         | 560/10000 [03:37<35:41,  4.41it/s, episode_reward=120, running_reward=291]"
     ]
    },
    {
     "name": "stderr",
     "output_type": "stream",
     "text": [
      "\r\n",
      "  6%|▌         | 560/10000 [03:37<35:41,  4.41it/s, episode_reward=157, running_reward=288]"
     ]
    },
    {
     "name": "stderr",
     "output_type": "stream",
     "text": [
      "\r\n",
      "  6%|▌         | 561/10000 [03:37<36:37,  4.29it/s, episode_reward=157, running_reward=288]"
     ]
    },
    {
     "name": "stderr",
     "output_type": "stream",
     "text": [
      "\r\n",
      "  6%|▌         | 561/10000 [03:38<36:37,  4.29it/s, episode_reward=122, running_reward=285]"
     ]
    },
    {
     "name": "stderr",
     "output_type": "stream",
     "text": [
      "\r\n",
      "  6%|▌         | 562/10000 [03:38<35:12,  4.47it/s, episode_reward=122, running_reward=285]"
     ]
    },
    {
     "name": "stderr",
     "output_type": "stream",
     "text": [
      "\r\n",
      "  6%|▌         | 562/10000 [03:38<35:12,  4.47it/s, episode_reward=119, running_reward=284]"
     ]
    },
    {
     "name": "stderr",
     "output_type": "stream",
     "text": [
      "\r\n",
      "  6%|▌         | 563/10000 [03:38<34:15,  4.59it/s, episode_reward=119, running_reward=284]"
     ]
    },
    {
     "name": "stderr",
     "output_type": "stream",
     "text": [
      "\r\n",
      "  6%|▌         | 563/10000 [03:38<34:15,  4.59it/s, episode_reward=144, running_reward=283]"
     ]
    },
    {
     "name": "stderr",
     "output_type": "stream",
     "text": [
      "\r\n",
      "  6%|▌         | 564/10000 [03:38<34:46,  4.52it/s, episode_reward=144, running_reward=283]"
     ]
    },
    {
     "name": "stderr",
     "output_type": "stream",
     "text": [
      "\r\n",
      "  6%|▌         | 564/10000 [03:38<34:46,  4.52it/s, episode_reward=128, running_reward=282]"
     ]
    },
    {
     "name": "stderr",
     "output_type": "stream",
     "text": [
      "\r\n",
      "  6%|▌         | 565/10000 [03:38<35:15,  4.46it/s, episode_reward=128, running_reward=282]"
     ]
    },
    {
     "name": "stderr",
     "output_type": "stream",
     "text": [
      "\r\n",
      "  6%|▌         | 565/10000 [03:38<35:15,  4.46it/s, episode_reward=147, running_reward=282]"
     ]
    },
    {
     "name": "stderr",
     "output_type": "stream",
     "text": [
      "\r\n",
      "  6%|▌         | 566/10000 [03:38<36:39,  4.29it/s, episode_reward=147, running_reward=282]"
     ]
    },
    {
     "name": "stderr",
     "output_type": "stream",
     "text": [
      "\r\n",
      "  6%|▌         | 566/10000 [03:39<36:39,  4.29it/s, episode_reward=158, running_reward=282]"
     ]
    },
    {
     "name": "stderr",
     "output_type": "stream",
     "text": [
      "\r\n",
      "  6%|▌         | 567/10000 [03:39<38:21,  4.10it/s, episode_reward=158, running_reward=282]"
     ]
    },
    {
     "name": "stderr",
     "output_type": "stream",
     "text": [
      "\r\n",
      "  6%|▌         | 567/10000 [03:39<38:21,  4.10it/s, episode_reward=145, running_reward=282]"
     ]
    },
    {
     "name": "stderr",
     "output_type": "stream",
     "text": [
      "\r\n",
      "  6%|▌         | 568/10000 [03:39<38:12,  4.11it/s, episode_reward=145, running_reward=282]"
     ]
    },
    {
     "name": "stderr",
     "output_type": "stream",
     "text": [
      "\r\n",
      "  6%|▌         | 568/10000 [03:39<38:12,  4.11it/s, episode_reward=154, running_reward=282]"
     ]
    },
    {
     "name": "stderr",
     "output_type": "stream",
     "text": [
      "\r\n",
      "  6%|▌         | 569/10000 [03:39<38:18,  4.10it/s, episode_reward=154, running_reward=282]"
     ]
    },
    {
     "name": "stderr",
     "output_type": "stream",
     "text": [
      "\r\n",
      "  6%|▌         | 569/10000 [03:39<38:18,  4.10it/s, episode_reward=147, running_reward=282]"
     ]
    },
    {
     "name": "stderr",
     "output_type": "stream",
     "text": [
      "\r\n",
      "  6%|▌         | 570/10000 [03:39<37:57,  4.14it/s, episode_reward=147, running_reward=282]"
     ]
    },
    {
     "name": "stderr",
     "output_type": "stream",
     "text": [
      "\r\n",
      "  6%|▌         | 570/10000 [03:40<37:57,  4.14it/s, episode_reward=141, running_reward=281]"
     ]
    },
    {
     "name": "stderr",
     "output_type": "stream",
     "text": [
      "\r\n",
      "  6%|▌         | 571/10000 [03:40<37:04,  4.24it/s, episode_reward=141, running_reward=281]"
     ]
    },
    {
     "name": "stderr",
     "output_type": "stream",
     "text": [
      "\r\n",
      "  6%|▌         | 571/10000 [03:40<37:04,  4.24it/s, episode_reward=130, running_reward=280]"
     ]
    },
    {
     "name": "stderr",
     "output_type": "stream",
     "text": [
      "\r\n",
      "  6%|▌         | 572/10000 [03:40<35:41,  4.40it/s, episode_reward=130, running_reward=280]"
     ]
    },
    {
     "name": "stderr",
     "output_type": "stream",
     "text": [
      "\r\n",
      "  6%|▌         | 572/10000 [03:40<35:41,  4.40it/s, episode_reward=146, running_reward=280]"
     ]
    },
    {
     "name": "stderr",
     "output_type": "stream",
     "text": [
      "\r\n",
      "  6%|▌         | 573/10000 [03:40<36:49,  4.27it/s, episode_reward=146, running_reward=280]"
     ]
    },
    {
     "name": "stderr",
     "output_type": "stream",
     "text": [
      "\r\n",
      "  6%|▌         | 573/10000 [03:40<36:49,  4.27it/s, episode_reward=168, running_reward=279]"
     ]
    },
    {
     "name": "stderr",
     "output_type": "stream",
     "text": [
      "\r\n",
      "  6%|▌         | 574/10000 [03:40<38:17,  4.10it/s, episode_reward=168, running_reward=279]"
     ]
    },
    {
     "name": "stderr",
     "output_type": "stream",
     "text": [
      "\r\n",
      "  6%|▌         | 574/10000 [03:41<38:17,  4.10it/s, episode_reward=147, running_reward=278]"
     ]
    },
    {
     "name": "stderr",
     "output_type": "stream",
     "text": [
      "\r\n",
      "  6%|▌         | 575/10000 [03:41<37:41,  4.17it/s, episode_reward=147, running_reward=278]"
     ]
    },
    {
     "name": "stderr",
     "output_type": "stream",
     "text": [
      "\r\n",
      "  6%|▌         | 575/10000 [03:41<37:41,  4.17it/s, episode_reward=194, running_reward=279]"
     ]
    },
    {
     "name": "stderr",
     "output_type": "stream",
     "text": [
      "\r\n",
      "  6%|▌         | 576/10000 [03:41<41:28,  3.79it/s, episode_reward=194, running_reward=279]"
     ]
    },
    {
     "name": "stderr",
     "output_type": "stream",
     "text": [
      "\r\n",
      "  6%|▌         | 576/10000 [03:41<41:28,  3.79it/s, episode_reward=153, running_reward=278]"
     ]
    },
    {
     "name": "stderr",
     "output_type": "stream",
     "text": [
      "\r\n",
      "  6%|▌         | 577/10000 [03:41<41:40,  3.77it/s, episode_reward=153, running_reward=278]"
     ]
    },
    {
     "name": "stderr",
     "output_type": "stream",
     "text": [
      "\r\n",
      "  6%|▌         | 577/10000 [03:41<41:40,  3.77it/s, episode_reward=141, running_reward=278]"
     ]
    },
    {
     "name": "stderr",
     "output_type": "stream",
     "text": [
      "\r\n",
      "  6%|▌         | 578/10000 [03:41<40:02,  3.92it/s, episode_reward=141, running_reward=278]"
     ]
    },
    {
     "name": "stderr",
     "output_type": "stream",
     "text": [
      "\r\n",
      "  6%|▌         | 578/10000 [03:42<40:02,  3.92it/s, episode_reward=169, running_reward=277]"
     ]
    },
    {
     "name": "stderr",
     "output_type": "stream",
     "text": [
      "\r\n",
      "  6%|▌         | 579/10000 [03:42<40:17,  3.90it/s, episode_reward=169, running_reward=277]"
     ]
    },
    {
     "name": "stderr",
     "output_type": "stream",
     "text": [
      "\r\n",
      "  6%|▌         | 579/10000 [03:42<40:17,  3.90it/s, episode_reward=158, running_reward=276]"
     ]
    },
    {
     "name": "stderr",
     "output_type": "stream",
     "text": [
      "\r\n",
      "  6%|▌         | 580/10000 [03:42<40:01,  3.92it/s, episode_reward=158, running_reward=276]"
     ]
    },
    {
     "name": "stderr",
     "output_type": "stream",
     "text": [
      "\r\n",
      "  6%|▌         | 580/10000 [03:42<40:01,  3.92it/s, episode_reward=151, running_reward=275]"
     ]
    },
    {
     "name": "stderr",
     "output_type": "stream",
     "text": [
      "\r\n",
      "  6%|▌         | 581/10000 [03:42<39:07,  4.01it/s, episode_reward=151, running_reward=275]"
     ]
    },
    {
     "name": "stderr",
     "output_type": "stream",
     "text": [
      "\r\n",
      "  6%|▌         | 581/10000 [03:42<39:07,  4.01it/s, episode_reward=150, running_reward=273]"
     ]
    },
    {
     "name": "stderr",
     "output_type": "stream",
     "text": [
      "\r\n",
      "  6%|▌         | 582/10000 [03:42<38:28,  4.08it/s, episode_reward=150, running_reward=273]"
     ]
    },
    {
     "name": "stderr",
     "output_type": "stream",
     "text": [
      "\r\n",
      "  6%|▌         | 582/10000 [03:43<38:28,  4.08it/s, episode_reward=168, running_reward=272]"
     ]
    },
    {
     "name": "stderr",
     "output_type": "stream",
     "text": [
      "\r\n",
      "  6%|▌         | 583/10000 [03:43<39:24,  3.98it/s, episode_reward=168, running_reward=272]"
     ]
    },
    {
     "name": "stderr",
     "output_type": "stream",
     "text": [
      "\r\n",
      "  6%|▌         | 583/10000 [03:43<39:24,  3.98it/s, episode_reward=132, running_reward=270]"
     ]
    },
    {
     "name": "stderr",
     "output_type": "stream",
     "text": [
      "\r\n",
      "  6%|▌         | 584/10000 [03:43<37:30,  4.18it/s, episode_reward=132, running_reward=270]"
     ]
    },
    {
     "name": "stderr",
     "output_type": "stream",
     "text": [
      "\r\n",
      "  6%|▌         | 584/10000 [03:43<37:30,  4.18it/s, episode_reward=144, running_reward=269]"
     ]
    },
    {
     "name": "stderr",
     "output_type": "stream",
     "text": [
      "\r\n",
      "  6%|▌         | 585/10000 [03:43<36:49,  4.26it/s, episode_reward=144, running_reward=269]"
     ]
    },
    {
     "name": "stderr",
     "output_type": "stream",
     "text": [
      "\r\n",
      "  6%|▌         | 585/10000 [03:43<36:49,  4.26it/s, episode_reward=144, running_reward=268]"
     ]
    },
    {
     "name": "stderr",
     "output_type": "stream",
     "text": [
      "\r\n",
      "  6%|▌         | 586/10000 [03:43<36:32,  4.29it/s, episode_reward=144, running_reward=268]"
     ]
    },
    {
     "name": "stderr",
     "output_type": "stream",
     "text": [
      "\r\n",
      "  6%|▌         | 586/10000 [03:44<36:32,  4.29it/s, episode_reward=150, running_reward=266]"
     ]
    },
    {
     "name": "stderr",
     "output_type": "stream",
     "text": [
      "\r\n",
      "  6%|▌         | 587/10000 [03:44<36:42,  4.27it/s, episode_reward=150, running_reward=266]"
     ]
    },
    {
     "name": "stderr",
     "output_type": "stream",
     "text": [
      "\r\n",
      "  6%|▌         | 587/10000 [03:44<36:42,  4.27it/s, episode_reward=138, running_reward=264]"
     ]
    },
    {
     "name": "stderr",
     "output_type": "stream",
     "text": [
      "\r\n",
      "  6%|▌         | 588/10000 [03:44<35:56,  4.36it/s, episode_reward=138, running_reward=264]"
     ]
    },
    {
     "name": "stderr",
     "output_type": "stream",
     "text": [
      "\r\n",
      "  6%|▌         | 588/10000 [03:44<35:56,  4.36it/s, episode_reward=130, running_reward=260]"
     ]
    },
    {
     "name": "stderr",
     "output_type": "stream",
     "text": [
      "\r\n",
      "  6%|▌         | 589/10000 [03:44<34:53,  4.50it/s, episode_reward=130, running_reward=260]"
     ]
    },
    {
     "name": "stderr",
     "output_type": "stream",
     "text": [
      "\r\n",
      "  6%|▌         | 589/10000 [03:44<34:53,  4.50it/s, episode_reward=146, running_reward=258]"
     ]
    },
    {
     "name": "stderr",
     "output_type": "stream",
     "text": [
      "\r\n",
      "  6%|▌         | 590/10000 [03:44<37:48,  4.15it/s, episode_reward=146, running_reward=258]"
     ]
    },
    {
     "name": "stderr",
     "output_type": "stream",
     "text": [
      "\r\n",
      "  6%|▌         | 590/10000 [03:45<37:48,  4.15it/s, episode_reward=131, running_reward=256]"
     ]
    },
    {
     "name": "stderr",
     "output_type": "stream",
     "text": [
      "\r\n",
      "  6%|▌         | 591/10000 [03:45<38:07,  4.11it/s, episode_reward=131, running_reward=256]"
     ]
    },
    {
     "name": "stderr",
     "output_type": "stream",
     "text": [
      "\r\n",
      "  6%|▌         | 591/10000 [03:45<38:07,  4.11it/s, episode_reward=132, running_reward=255]"
     ]
    },
    {
     "name": "stderr",
     "output_type": "stream",
     "text": [
      "\r\n",
      "  6%|▌         | 592/10000 [03:45<38:38,  4.06it/s, episode_reward=132, running_reward=255]"
     ]
    },
    {
     "name": "stderr",
     "output_type": "stream",
     "text": [
      "\r\n",
      "  6%|▌         | 592/10000 [03:45<38:38,  4.06it/s, episode_reward=134, running_reward=252]"
     ]
    },
    {
     "name": "stderr",
     "output_type": "stream",
     "text": [
      "\r\n",
      "  6%|▌         | 593/10000 [03:45<37:27,  4.19it/s, episode_reward=134, running_reward=252]"
     ]
    },
    {
     "name": "stderr",
     "output_type": "stream",
     "text": [
      "\r\n",
      "  6%|▌         | 593/10000 [03:45<37:27,  4.19it/s, episode_reward=179, running_reward=248]"
     ]
    },
    {
     "name": "stderr",
     "output_type": "stream",
     "text": [
      "\r\n",
      "  6%|▌         | 594/10000 [03:45<39:29,  3.97it/s, episode_reward=179, running_reward=248]"
     ]
    },
    {
     "name": "stderr",
     "output_type": "stream",
     "text": [
      "\r\n",
      "  6%|▌         | 594/10000 [03:46<39:29,  3.97it/s, episode_reward=133, running_reward=245]"
     ]
    },
    {
     "name": "stderr",
     "output_type": "stream",
     "text": [
      "\r\n",
      "  6%|▌         | 595/10000 [03:46<37:46,  4.15it/s, episode_reward=133, running_reward=245]"
     ]
    },
    {
     "name": "stderr",
     "output_type": "stream",
     "text": [
      "\r\n",
      "  6%|▌         | 595/10000 [03:46<37:46,  4.15it/s, episode_reward=140, running_reward=244]"
     ]
    },
    {
     "name": "stderr",
     "output_type": "stream",
     "text": [
      "\r\n",
      "  6%|▌         | 596/10000 [03:46<37:18,  4.20it/s, episode_reward=140, running_reward=244]"
     ]
    },
    {
     "name": "stderr",
     "output_type": "stream",
     "text": [
      "\r\n",
      "  6%|▌         | 596/10000 [03:46<37:18,  4.20it/s, episode_reward=128, running_reward=242]"
     ]
    },
    {
     "name": "stderr",
     "output_type": "stream",
     "text": [
      "\r\n",
      "  6%|▌         | 597/10000 [03:46<36:15,  4.32it/s, episode_reward=128, running_reward=242]"
     ]
    },
    {
     "name": "stderr",
     "output_type": "stream",
     "text": [
      "\r\n",
      "  6%|▌         | 597/10000 [03:46<36:15,  4.32it/s, episode_reward=165, running_reward=243]"
     ]
    },
    {
     "name": "stderr",
     "output_type": "stream",
     "text": [
      "\r\n",
      "  6%|▌         | 598/10000 [03:46<37:45,  4.15it/s, episode_reward=165, running_reward=243]"
     ]
    },
    {
     "name": "stderr",
     "output_type": "stream",
     "text": [
      "\r\n",
      "  6%|▌         | 598/10000 [03:46<37:45,  4.15it/s, episode_reward=134, running_reward=239]"
     ]
    },
    {
     "name": "stderr",
     "output_type": "stream",
     "text": [
      "\r\n",
      "  6%|▌         | 599/10000 [03:46<37:39,  4.16it/s, episode_reward=134, running_reward=239]"
     ]
    },
    {
     "name": "stderr",
     "output_type": "stream",
     "text": [
      "\r\n",
      "  6%|▌         | 599/10000 [03:47<37:39,  4.16it/s, episode_reward=119, running_reward=235]"
     ]
    },
    {
     "name": "stderr",
     "output_type": "stream",
     "text": [
      "\r\n",
      "  6%|▌         | 600/10000 [03:47<35:18,  4.44it/s, episode_reward=119, running_reward=235]"
     ]
    },
    {
     "name": "stderr",
     "output_type": "stream",
     "text": [
      "\r\n",
      "  6%|▌         | 600/10000 [03:47<35:18,  4.44it/s, episode_reward=151, running_reward=232]"
     ]
    },
    {
     "name": "stderr",
     "output_type": "stream",
     "text": [
      "\r\n",
      "  6%|▌         | 601/10000 [03:47<37:48,  4.14it/s, episode_reward=151, running_reward=232]"
     ]
    },
    {
     "name": "stderr",
     "output_type": "stream",
     "text": [
      "\r\n",
      "  6%|▌         | 601/10000 [03:47<37:48,  4.14it/s, episode_reward=138, running_reward=228]"
     ]
    },
    {
     "name": "stderr",
     "output_type": "stream",
     "text": [
      "\r\n",
      "  6%|▌         | 602/10000 [03:47<38:08,  4.11it/s, episode_reward=138, running_reward=228]"
     ]
    },
    {
     "name": "stderr",
     "output_type": "stream",
     "text": [
      "\r\n",
      "  6%|▌         | 602/10000 [03:47<38:08,  4.11it/s, episode_reward=192, running_reward=225]"
     ]
    },
    {
     "name": "stderr",
     "output_type": "stream",
     "text": [
      "\r\n",
      "  6%|▌         | 603/10000 [03:47<41:41,  3.76it/s, episode_reward=192, running_reward=225]"
     ]
    },
    {
     "name": "stderr",
     "output_type": "stream",
     "text": [
      "\r\n",
      "  6%|▌         | 603/10000 [03:48<41:41,  3.76it/s, episode_reward=154, running_reward=222]"
     ]
    },
    {
     "name": "stderr",
     "output_type": "stream",
     "text": [
      "\r\n",
      "  6%|▌         | 604/10000 [03:48<40:35,  3.86it/s, episode_reward=154, running_reward=222]"
     ]
    },
    {
     "name": "stderr",
     "output_type": "stream",
     "text": [
      "\r\n",
      "  6%|▌         | 604/10000 [03:48<40:35,  3.86it/s, episode_reward=144, running_reward=221]"
     ]
    },
    {
     "name": "stderr",
     "output_type": "stream",
     "text": [
      "\r\n",
      "  6%|▌         | 605/10000 [03:48<39:04,  4.01it/s, episode_reward=144, running_reward=221]"
     ]
    },
    {
     "name": "stderr",
     "output_type": "stream",
     "text": [
      "\r\n",
      "  6%|▌         | 605/10000 [03:49<39:04,  4.01it/s, episode_reward=364, running_reward=223]"
     ]
    },
    {
     "name": "stderr",
     "output_type": "stream",
     "text": [
      "\r\n",
      "  6%|▌         | 606/10000 [03:49<53:23,  2.93it/s, episode_reward=364, running_reward=223]"
     ]
    },
    {
     "name": "stderr",
     "output_type": "stream",
     "text": [
      "\r\n",
      "  6%|▌         | 606/10000 [03:49<53:23,  2.93it/s, episode_reward=221, running_reward=220]"
     ]
    },
    {
     "name": "stderr",
     "output_type": "stream",
     "text": [
      "\r\n",
      "  6%|▌         | 607/10000 [03:49<53:35,  2.92it/s, episode_reward=221, running_reward=220]"
     ]
    },
    {
     "name": "stderr",
     "output_type": "stream",
     "text": [
      "\r\n",
      "  6%|▌         | 607/10000 [03:49<53:35,  2.92it/s, episode_reward=222, running_reward=218]"
     ]
    },
    {
     "name": "stderr",
     "output_type": "stream",
     "text": [
      "\r\n",
      "  6%|▌         | 608/10000 [03:49<55:12,  2.84it/s, episode_reward=222, running_reward=218]"
     ]
    },
    {
     "name": "stderr",
     "output_type": "stream",
     "text": [
      "\r\n",
      "  6%|▌         | 608/10000 [03:50<55:12,  2.84it/s, episode_reward=276, running_reward=216]"
     ]
    },
    {
     "name": "stderr",
     "output_type": "stream",
     "text": [
      "\r\n",
      "  6%|▌         | 609/10000 [03:50<58:41,  2.67it/s, episode_reward=276, running_reward=216]"
     ]
    },
    {
     "name": "stderr",
     "output_type": "stream",
     "text": [
      "\r\n",
      "  6%|▌         | 609/10000 [03:50<58:41,  2.67it/s, episode_reward=176, running_reward=214]"
     ]
    },
    {
     "name": "stderr",
     "output_type": "stream",
     "text": [
      "\r\n",
      "  6%|▌         | 610/10000 [03:50<53:54,  2.90it/s, episode_reward=176, running_reward=214]"
     ]
    },
    {
     "name": "stderr",
     "output_type": "stream",
     "text": [
      "\r\n",
      "  6%|▌         | 610/10000 [03:51<53:54,  2.90it/s, episode_reward=500, running_reward=214]"
     ]
    },
    {
     "name": "stderr",
     "output_type": "stream",
     "text": [
      "\r\n",
      "  6%|▌         | 611/10000 [03:51<1:12:52,  2.15it/s, episode_reward=500, running_reward=214]"
     ]
    },
    {
     "name": "stderr",
     "output_type": "stream",
     "text": [
      "\r\n",
      "  6%|▌         | 611/10000 [03:51<1:12:52,  2.15it/s, episode_reward=500, running_reward=214]"
     ]
    },
    {
     "name": "stderr",
     "output_type": "stream",
     "text": [
      "\r\n",
      "  6%|▌         | 612/10000 [03:51<1:26:22,  1.81it/s, episode_reward=500, running_reward=214]"
     ]
    },
    {
     "name": "stderr",
     "output_type": "stream",
     "text": [
      "\r\n",
      "  6%|▌         | 612/10000 [03:52<1:26:22,  1.81it/s, episode_reward=500, running_reward=217]"
     ]
    },
    {
     "name": "stderr",
     "output_type": "stream",
     "text": [
      "\r\n",
      "  6%|▌         | 613/10000 [03:52<1:36:04,  1.63it/s, episode_reward=500, running_reward=217]"
     ]
    },
    {
     "name": "stderr",
     "output_type": "stream",
     "text": [
      "\r\n",
      "  6%|▌         | 613/10000 [03:53<1:36:04,  1.63it/s, episode_reward=500, running_reward=217]"
     ]
    },
    {
     "name": "stderr",
     "output_type": "stream",
     "text": [
      "\r\n",
      "  6%|▌         | 614/10000 [03:53<1:43:15,  1.51it/s, episode_reward=500, running_reward=217]"
     ]
    },
    {
     "name": "stderr",
     "output_type": "stream",
     "text": [
      "\r\n",
      "  6%|▌         | 614/10000 [03:54<1:43:15,  1.51it/s, episode_reward=500, running_reward=218]"
     ]
    },
    {
     "name": "stderr",
     "output_type": "stream",
     "text": [
      "\r\n",
      "  6%|▌         | 615/10000 [03:54<1:49:27,  1.43it/s, episode_reward=500, running_reward=218]"
     ]
    },
    {
     "name": "stderr",
     "output_type": "stream",
     "text": [
      "\r\n",
      "  6%|▌         | 615/10000 [03:55<1:49:27,  1.43it/s, episode_reward=500, running_reward=219]"
     ]
    },
    {
     "name": "stderr",
     "output_type": "stream",
     "text": [
      "\r\n",
      "  6%|▌         | 616/10000 [03:55<1:54:59,  1.36it/s, episode_reward=500, running_reward=219]"
     ]
    },
    {
     "name": "stderr",
     "output_type": "stream",
     "text": [
      "\r\n",
      "  6%|▌         | 616/10000 [03:55<1:54:59,  1.36it/s, episode_reward=500, running_reward=219]"
     ]
    },
    {
     "name": "stderr",
     "output_type": "stream",
     "text": [
      "\r\n",
      "  6%|▌         | 617/10000 [03:55<1:55:57,  1.35it/s, episode_reward=500, running_reward=219]"
     ]
    },
    {
     "name": "stderr",
     "output_type": "stream",
     "text": [
      "\r\n",
      "  6%|▌         | 617/10000 [03:56<1:55:57,  1.35it/s, episode_reward=500, running_reward=219]"
     ]
    },
    {
     "name": "stderr",
     "output_type": "stream",
     "text": [
      "\r\n",
      "  6%|▌         | 618/10000 [03:56<1:59:19,  1.31it/s, episode_reward=500, running_reward=219]"
     ]
    },
    {
     "name": "stderr",
     "output_type": "stream",
     "text": [
      "\r\n",
      "  6%|▌         | 618/10000 [03:56<1:59:19,  1.31it/s, episode_reward=190, running_reward=216]"
     ]
    },
    {
     "name": "stderr",
     "output_type": "stream",
     "text": [
      "\r\n",
      "  6%|▌         | 619/10000 [03:56<1:38:50,  1.58it/s, episode_reward=190, running_reward=216]"
     ]
    },
    {
     "name": "stderr",
     "output_type": "stream",
     "text": [
      "\r\n",
      "  6%|▌         | 619/10000 [03:57<1:38:50,  1.58it/s, episode_reward=500, running_reward=217]"
     ]
    },
    {
     "name": "stderr",
     "output_type": "stream",
     "text": [
      "\r\n",
      "  6%|▌         | 620/10000 [03:57<1:48:35,  1.44it/s, episode_reward=500, running_reward=217]"
     ]
    },
    {
     "name": "stderr",
     "output_type": "stream",
     "text": [
      "\r\n",
      "  6%|▌         | 620/10000 [03:58<1:48:35,  1.44it/s, episode_reward=500, running_reward=218]"
     ]
    },
    {
     "name": "stderr",
     "output_type": "stream",
     "text": [
      "\r\n",
      "  6%|▌         | 621/10000 [03:58<1:58:29,  1.32it/s, episode_reward=500, running_reward=218]"
     ]
    },
    {
     "name": "stderr",
     "output_type": "stream",
     "text": [
      "\r\n",
      "  6%|▌         | 621/10000 [03:59<1:58:29,  1.32it/s, episode_reward=500, running_reward=218]"
     ]
    },
    {
     "name": "stderr",
     "output_type": "stream",
     "text": [
      "\r\n",
      "  6%|▌         | 622/10000 [03:59<2:01:35,  1.29it/s, episode_reward=500, running_reward=218]"
     ]
    },
    {
     "name": "stderr",
     "output_type": "stream",
     "text": [
      "\r\n",
      "  6%|▌         | 622/10000 [04:00<2:01:35,  1.29it/s, episode_reward=500, running_reward=218]"
     ]
    },
    {
     "name": "stderr",
     "output_type": "stream",
     "text": [
      "\r\n",
      "  6%|▌         | 623/10000 [04:00<2:02:11,  1.28it/s, episode_reward=500, running_reward=218]"
     ]
    },
    {
     "name": "stderr",
     "output_type": "stream",
     "text": [
      "\r\n",
      "  6%|▌         | 623/10000 [04:01<2:02:11,  1.28it/s, episode_reward=500, running_reward=219]"
     ]
    },
    {
     "name": "stderr",
     "output_type": "stream",
     "text": [
      "\r\n",
      "  6%|▌         | 624/10000 [04:01<2:02:20,  1.28it/s, episode_reward=500, running_reward=219]"
     ]
    },
    {
     "name": "stderr",
     "output_type": "stream",
     "text": [
      "\r\n",
      "  6%|▌         | 624/10000 [04:01<2:02:20,  1.28it/s, episode_reward=500, running_reward=220]"
     ]
    },
    {
     "name": "stderr",
     "output_type": "stream",
     "text": [
      "\r\n",
      "  6%|▋         | 625/10000 [04:01<2:01:07,  1.29it/s, episode_reward=500, running_reward=220]"
     ]
    },
    {
     "name": "stderr",
     "output_type": "stream",
     "text": [
      "\r\n",
      "  6%|▋         | 625/10000 [04:02<2:01:07,  1.29it/s, episode_reward=500, running_reward=221]"
     ]
    },
    {
     "name": "stderr",
     "output_type": "stream",
     "text": [
      "\r\n",
      "  6%|▋         | 626/10000 [04:02<2:01:05,  1.29it/s, episode_reward=500, running_reward=221]"
     ]
    },
    {
     "name": "stderr",
     "output_type": "stream",
     "text": [
      "\r\n",
      "  6%|▋         | 626/10000 [04:03<2:01:05,  1.29it/s, episode_reward=500, running_reward=221]"
     ]
    },
    {
     "name": "stderr",
     "output_type": "stream",
     "text": [
      "\r\n",
      "  6%|▋         | 627/10000 [04:03<2:04:40,  1.25it/s, episode_reward=500, running_reward=221]"
     ]
    },
    {
     "name": "stderr",
     "output_type": "stream",
     "text": [
      "\r\n",
      "  6%|▋         | 627/10000 [04:04<2:04:40,  1.25it/s, episode_reward=500, running_reward=221]"
     ]
    },
    {
     "name": "stderr",
     "output_type": "stream",
     "text": [
      "\r\n",
      "  6%|▋         | 628/10000 [04:04<2:05:03,  1.25it/s, episode_reward=500, running_reward=221]"
     ]
    },
    {
     "name": "stderr",
     "output_type": "stream",
     "text": [
      "\r\n",
      "  6%|▋         | 628/10000 [04:04<2:05:03,  1.25it/s, episode_reward=224, running_reward=219]"
     ]
    },
    {
     "name": "stderr",
     "output_type": "stream",
     "text": [
      "\r\n",
      "  6%|▋         | 629/10000 [04:04<1:45:49,  1.48it/s, episode_reward=224, running_reward=219]"
     ]
    },
    {
     "name": "stderr",
     "output_type": "stream",
     "text": [
      "\r\n",
      "  6%|▋         | 629/10000 [04:05<1:45:49,  1.48it/s, episode_reward=500, running_reward=223]"
     ]
    },
    {
     "name": "stderr",
     "output_type": "stream",
     "text": [
      "\r\n",
      "  6%|▋         | 630/10000 [04:05<1:50:24,  1.41it/s, episode_reward=500, running_reward=223]"
     ]
    },
    {
     "name": "stderr",
     "output_type": "stream",
     "text": [
      "\r\n",
      "  6%|▋         | 630/10000 [04:06<1:50:24,  1.41it/s, episode_reward=500, running_reward=223]"
     ]
    },
    {
     "name": "stderr",
     "output_type": "stream",
     "text": [
      "\r\n",
      "  6%|▋         | 631/10000 [04:06<1:51:55,  1.40it/s, episode_reward=500, running_reward=223]"
     ]
    },
    {
     "name": "stderr",
     "output_type": "stream",
     "text": [
      "\r\n",
      "  6%|▋         | 631/10000 [04:06<1:51:55,  1.40it/s, episode_reward=500, running_reward=223]"
     ]
    },
    {
     "name": "stderr",
     "output_type": "stream",
     "text": [
      "\r\n",
      "  6%|▋         | 632/10000 [04:06<1:53:37,  1.37it/s, episode_reward=500, running_reward=223]"
     ]
    },
    {
     "name": "stderr",
     "output_type": "stream",
     "text": [
      "\r\n",
      "  6%|▋         | 632/10000 [04:07<1:53:37,  1.37it/s, episode_reward=239, running_reward=223]"
     ]
    },
    {
     "name": "stderr",
     "output_type": "stream",
     "text": [
      "\r\n",
      "  6%|▋         | 633/10000 [04:07<1:36:41,  1.61it/s, episode_reward=239, running_reward=223]"
     ]
    },
    {
     "name": "stderr",
     "output_type": "stream",
     "text": [
      "\r\n",
      "  6%|▋         | 633/10000 [04:08<1:36:41,  1.61it/s, episode_reward=500, running_reward=227]"
     ]
    },
    {
     "name": "stderr",
     "output_type": "stream",
     "text": [
      "\r\n",
      "  6%|▋         | 634/10000 [04:08<1:42:29,  1.52it/s, episode_reward=500, running_reward=227]"
     ]
    },
    {
     "name": "stderr",
     "output_type": "stream",
     "text": [
      "\r\n",
      "  6%|▋         | 634/10000 [04:08<1:42:29,  1.52it/s, episode_reward=241, running_reward=228]"
     ]
    },
    {
     "name": "stderr",
     "output_type": "stream",
     "text": [
      "\r\n",
      "  6%|▋         | 635/10000 [04:08<1:28:59,  1.75it/s, episode_reward=241, running_reward=228]"
     ]
    },
    {
     "name": "stderr",
     "output_type": "stream",
     "text": [
      "\r\n",
      "  6%|▋         | 635/10000 [04:08<1:28:59,  1.75it/s, episode_reward=144, running_reward=228]"
     ]
    },
    {
     "name": "stderr",
     "output_type": "stream",
     "text": [
      "\r\n",
      "  6%|▋         | 636/10000 [04:08<1:12:51,  2.14it/s, episode_reward=144, running_reward=228]"
     ]
    },
    {
     "name": "stderr",
     "output_type": "stream",
     "text": [
      "\r\n",
      "  6%|▋         | 636/10000 [04:09<1:12:51,  2.14it/s, episode_reward=500, running_reward=231]"
     ]
    },
    {
     "name": "stderr",
     "output_type": "stream",
     "text": [
      "\r\n",
      "  6%|▋         | 637/10000 [04:09<1:25:54,  1.82it/s, episode_reward=500, running_reward=231]"
     ]
    },
    {
     "name": "stderr",
     "output_type": "stream",
     "text": [
      "\r\n",
      "  6%|▋         | 637/10000 [04:09<1:25:54,  1.82it/s, episode_reward=165, running_reward=231]"
     ]
    },
    {
     "name": "stderr",
     "output_type": "stream",
     "text": [
      "\r\n",
      "  6%|▋         | 638/10000 [04:09<1:12:14,  2.16it/s, episode_reward=165, running_reward=231]"
     ]
    },
    {
     "name": "stderr",
     "output_type": "stream",
     "text": [
      "\r\n",
      "  6%|▋         | 638/10000 [04:09<1:12:14,  2.16it/s, episode_reward=161, running_reward=231]"
     ]
    },
    {
     "name": "stderr",
     "output_type": "stream",
     "text": [
      "\r\n",
      "  6%|▋         | 639/10000 [04:09<1:02:15,  2.51it/s, episode_reward=161, running_reward=231]"
     ]
    },
    {
     "name": "stderr",
     "output_type": "stream",
     "text": [
      "\r\n",
      "  6%|▋         | 639/10000 [04:10<1:02:15,  2.51it/s, episode_reward=196, running_reward=232]"
     ]
    },
    {
     "name": "stderr",
     "output_type": "stream",
     "text": [
      "\r\n",
      "  6%|▋         | 640/10000 [04:10<58:40,  2.66it/s, episode_reward=196, running_reward=232]  "
     ]
    },
    {
     "name": "stderr",
     "output_type": "stream",
     "text": [
      "\r\n",
      "  6%|▋         | 640/10000 [04:10<58:40,  2.66it/s, episode_reward=307, running_reward=234]"
     ]
    },
    {
     "name": "stderr",
     "output_type": "stream",
     "text": [
      "\r\n",
      "  6%|▋         | 641/10000 [04:10<1:04:11,  2.43it/s, episode_reward=307, running_reward=234]"
     ]
    },
    {
     "name": "stderr",
     "output_type": "stream",
     "text": [
      "\r\n",
      "  6%|▋         | 641/10000 [04:11<1:04:11,  2.43it/s, episode_reward=500, running_reward=237]"
     ]
    },
    {
     "name": "stderr",
     "output_type": "stream",
     "text": [
      "\r\n",
      "  6%|▋         | 642/10000 [04:11<1:22:02,  1.90it/s, episode_reward=500, running_reward=237]"
     ]
    },
    {
     "name": "stderr",
     "output_type": "stream",
     "text": [
      "\r\n",
      "  6%|▋         | 642/10000 [04:12<1:22:02,  1.90it/s, episode_reward=500, running_reward=241]"
     ]
    },
    {
     "name": "stderr",
     "output_type": "stream",
     "text": [
      "\r\n",
      "  6%|▋         | 643/10000 [04:12<1:32:35,  1.68it/s, episode_reward=500, running_reward=241]"
     ]
    },
    {
     "name": "stderr",
     "output_type": "stream",
     "text": [
      "\r\n",
      "  6%|▋         | 643/10000 [04:13<1:32:35,  1.68it/s, episode_reward=500, running_reward=244]"
     ]
    },
    {
     "name": "stderr",
     "output_type": "stream",
     "text": [
      "\r\n",
      "  6%|▋         | 644/10000 [04:13<1:43:04,  1.51it/s, episode_reward=500, running_reward=244]"
     ]
    },
    {
     "name": "stderr",
     "output_type": "stream",
     "text": [
      "\r\n",
      "  6%|▋         | 644/10000 [04:13<1:43:04,  1.51it/s, episode_reward=306, running_reward=246]"
     ]
    },
    {
     "name": "stderr",
     "output_type": "stream",
     "text": [
      "\r\n",
      "  6%|▋         | 645/10000 [04:13<1:33:58,  1.66it/s, episode_reward=306, running_reward=246]"
     ]
    },
    {
     "name": "stderr",
     "output_type": "stream",
     "text": [
      "\r\n",
      "  6%|▋         | 645/10000 [04:14<1:33:58,  1.66it/s, episode_reward=471, running_reward=249]"
     ]
    },
    {
     "name": "stderr",
     "output_type": "stream",
     "text": [
      "\r\n",
      "  6%|▋         | 646/10000 [04:14<1:38:36,  1.58it/s, episode_reward=471, running_reward=249]"
     ]
    },
    {
     "name": "stderr",
     "output_type": "stream",
     "text": [
      "\r\n",
      "  6%|▋         | 646/10000 [04:14<1:38:36,  1.58it/s, episode_reward=156, running_reward=250]"
     ]
    },
    {
     "name": "stderr",
     "output_type": "stream",
     "text": [
      "\r\n",
      "  6%|▋         | 647/10000 [04:14<1:20:31,  1.94it/s, episode_reward=156, running_reward=250]"
     ]
    },
    {
     "name": "stderr",
     "output_type": "stream",
     "text": [
      "\r\n",
      "  6%|▋         | 647/10000 [04:14<1:20:31,  1.94it/s, episode_reward=198, running_reward=250]"
     ]
    },
    {
     "name": "stderr",
     "output_type": "stream",
     "text": [
      "\r\n",
      "  6%|▋         | 648/10000 [04:14<1:10:40,  2.21it/s, episode_reward=198, running_reward=250]"
     ]
    },
    {
     "name": "stderr",
     "output_type": "stream",
     "text": [
      "\r\n",
      "  6%|▋         | 648/10000 [04:15<1:10:40,  2.21it/s, episode_reward=458, running_reward=253]"
     ]
    },
    {
     "name": "stderr",
     "output_type": "stream",
     "text": [
      "\r\n",
      "  6%|▋         | 649/10000 [04:15<1:21:38,  1.91it/s, episode_reward=458, running_reward=253]"
     ]
    },
    {
     "name": "stderr",
     "output_type": "stream",
     "text": [
      "\r\n",
      "  6%|▋         | 649/10000 [04:16<1:21:38,  1.91it/s, episode_reward=390, running_reward=256]"
     ]
    },
    {
     "name": "stderr",
     "output_type": "stream",
     "text": [
      "\r\n",
      "  6%|▋         | 650/10000 [04:16<1:24:27,  1.84it/s, episode_reward=390, running_reward=256]"
     ]
    },
    {
     "name": "stderr",
     "output_type": "stream",
     "text": [
      "\r\n",
      "  6%|▋         | 650/10000 [04:16<1:24:27,  1.84it/s, episode_reward=424, running_reward=259]"
     ]
    },
    {
     "name": "stderr",
     "output_type": "stream",
     "text": [
      "\r\n",
      "  7%|▋         | 651/10000 [04:16<1:28:45,  1.76it/s, episode_reward=424, running_reward=259]"
     ]
    },
    {
     "name": "stderr",
     "output_type": "stream",
     "text": [
      "\r\n",
      "  7%|▋         | 651/10000 [04:17<1:28:45,  1.76it/s, episode_reward=500, running_reward=262]"
     ]
    },
    {
     "name": "stderr",
     "output_type": "stream",
     "text": [
      "\r\n",
      "  7%|▋         | 652/10000 [04:17<1:37:00,  1.61it/s, episode_reward=500, running_reward=262]"
     ]
    },
    {
     "name": "stderr",
     "output_type": "stream",
     "text": [
      "\r\n",
      "  7%|▋         | 652/10000 [04:17<1:37:00,  1.61it/s, episode_reward=133, running_reward=262]"
     ]
    },
    {
     "name": "stderr",
     "output_type": "stream",
     "text": [
      "\r\n",
      "  7%|▋         | 653/10000 [04:17<1:17:53,  2.00it/s, episode_reward=133, running_reward=262]"
     ]
    },
    {
     "name": "stderr",
     "output_type": "stream",
     "text": [
      "\r\n",
      "  7%|▋         | 653/10000 [04:18<1:17:53,  2.00it/s, episode_reward=500, running_reward=266]"
     ]
    },
    {
     "name": "stderr",
     "output_type": "stream",
     "text": [
      "\r\n",
      "  7%|▋         | 654/10000 [04:18<1:29:09,  1.75it/s, episode_reward=500, running_reward=266]"
     ]
    },
    {
     "name": "stderr",
     "output_type": "stream",
     "text": [
      "\r\n",
      "  7%|▋         | 654/10000 [04:19<1:29:09,  1.75it/s, episode_reward=500, running_reward=270]"
     ]
    },
    {
     "name": "stderr",
     "output_type": "stream",
     "text": [
      "\r\n",
      "  7%|▋         | 655/10000 [04:19<1:37:24,  1.60it/s, episode_reward=500, running_reward=270]"
     ]
    },
    {
     "name": "stderr",
     "output_type": "stream",
     "text": [
      "\r\n",
      "  7%|▋         | 655/10000 [04:19<1:37:24,  1.60it/s, episode_reward=500, running_reward=273]"
     ]
    },
    {
     "name": "stderr",
     "output_type": "stream",
     "text": [
      "\r\n",
      "  7%|▋         | 656/10000 [04:19<1:42:57,  1.51it/s, episode_reward=500, running_reward=273]"
     ]
    },
    {
     "name": "stderr",
     "output_type": "stream",
     "text": [
      "\r\n",
      "  7%|▋         | 656/10000 [04:20<1:42:57,  1.51it/s, episode_reward=500, running_reward=276]"
     ]
    },
    {
     "name": "stderr",
     "output_type": "stream",
     "text": [
      "\r\n",
      "  7%|▋         | 657/10000 [04:20<1:48:41,  1.43it/s, episode_reward=500, running_reward=276]"
     ]
    },
    {
     "name": "stderr",
     "output_type": "stream",
     "text": [
      "\r\n",
      "  7%|▋         | 657/10000 [04:21<1:48:41,  1.43it/s, episode_reward=500, running_reward=280]"
     ]
    },
    {
     "name": "stderr",
     "output_type": "stream",
     "text": [
      "\r\n",
      "  7%|▋         | 658/10000 [04:21<1:51:06,  1.40it/s, episode_reward=500, running_reward=280]"
     ]
    },
    {
     "name": "stderr",
     "output_type": "stream",
     "text": [
      "\r\n",
      "  7%|▋         | 658/10000 [04:22<1:51:06,  1.40it/s, episode_reward=500, running_reward=284]"
     ]
    },
    {
     "name": "stderr",
     "output_type": "stream",
     "text": [
      "\r\n",
      "  7%|▋         | 659/10000 [04:22<1:52:59,  1.38it/s, episode_reward=500, running_reward=284]"
     ]
    },
    {
     "name": "stderr",
     "output_type": "stream",
     "text": [
      "\r\n",
      "  7%|▋         | 659/10000 [04:23<1:52:59,  1.38it/s, episode_reward=500, running_reward=288]"
     ]
    },
    {
     "name": "stderr",
     "output_type": "stream",
     "text": [
      "\r\n",
      "  7%|▋         | 660/10000 [04:23<1:58:41,  1.31it/s, episode_reward=500, running_reward=288]"
     ]
    },
    {
     "name": "stderr",
     "output_type": "stream",
     "text": [
      "\r\n",
      "  7%|▋         | 660/10000 [04:23<1:58:41,  1.31it/s, episode_reward=500, running_reward=291]"
     ]
    },
    {
     "name": "stderr",
     "output_type": "stream",
     "text": [
      "\r\n",
      "  7%|▋         | 661/10000 [04:23<1:59:40,  1.30it/s, episode_reward=500, running_reward=291]"
     ]
    },
    {
     "name": "stderr",
     "output_type": "stream",
     "text": [
      "\r\n",
      "  7%|▋         | 661/10000 [04:24<1:59:40,  1.30it/s, episode_reward=500, running_reward=295]"
     ]
    },
    {
     "name": "stderr",
     "output_type": "stream",
     "text": [
      "\r\n",
      "  7%|▋         | 662/10000 [04:24<1:58:09,  1.32it/s, episode_reward=500, running_reward=295]"
     ]
    },
    {
     "name": "stderr",
     "output_type": "stream",
     "text": [
      "\r\n",
      "  7%|▋         | 662/10000 [04:25<1:58:09,  1.32it/s, episode_reward=500, running_reward=299]"
     ]
    },
    {
     "name": "stderr",
     "output_type": "stream",
     "text": [
      "\r\n",
      "  7%|▋         | 663/10000 [04:25<1:57:25,  1.33it/s, episode_reward=500, running_reward=299]"
     ]
    },
    {
     "name": "stderr",
     "output_type": "stream",
     "text": [
      "\r\n",
      "  7%|▋         | 663/10000 [04:26<1:57:25,  1.33it/s, episode_reward=500, running_reward=302]"
     ]
    },
    {
     "name": "stderr",
     "output_type": "stream",
     "text": [
      "\r\n",
      "  7%|▋         | 664/10000 [04:26<1:57:20,  1.33it/s, episode_reward=500, running_reward=302]"
     ]
    },
    {
     "name": "stderr",
     "output_type": "stream",
     "text": [
      "\r\n",
      "  7%|▋         | 664/10000 [04:26<1:57:20,  1.33it/s, episode_reward=500, running_reward=306]"
     ]
    },
    {
     "name": "stderr",
     "output_type": "stream",
     "text": [
      "\r\n",
      "  7%|▋         | 665/10000 [04:26<1:56:48,  1.33it/s, episode_reward=500, running_reward=306]"
     ]
    },
    {
     "name": "stderr",
     "output_type": "stream",
     "text": [
      "\r\n",
      "  7%|▋         | 665/10000 [04:27<1:56:48,  1.33it/s, episode_reward=500, running_reward=309]"
     ]
    },
    {
     "name": "stderr",
     "output_type": "stream",
     "text": [
      "\r\n",
      "  7%|▋         | 666/10000 [04:27<1:57:50,  1.32it/s, episode_reward=500, running_reward=309]"
     ]
    },
    {
     "name": "stderr",
     "output_type": "stream",
     "text": [
      "\r\n",
      "  7%|▋         | 666/10000 [04:28<1:57:50,  1.32it/s, episode_reward=500, running_reward=313]"
     ]
    },
    {
     "name": "stderr",
     "output_type": "stream",
     "text": [
      "\r\n",
      "  7%|▋         | 667/10000 [04:28<1:59:00,  1.31it/s, episode_reward=500, running_reward=313]"
     ]
    },
    {
     "name": "stderr",
     "output_type": "stream",
     "text": [
      "\r\n",
      "  7%|▋         | 667/10000 [04:29<1:59:00,  1.31it/s, episode_reward=500, running_reward=316]"
     ]
    },
    {
     "name": "stderr",
     "output_type": "stream",
     "text": [
      "\r\n",
      "  7%|▋         | 668/10000 [04:29<2:00:00,  1.30it/s, episode_reward=500, running_reward=316]"
     ]
    },
    {
     "name": "stderr",
     "output_type": "stream",
     "text": [
      "\r\n",
      "  7%|▋         | 668/10000 [04:29<2:00:00,  1.30it/s, episode_reward=500, running_reward=320]"
     ]
    },
    {
     "name": "stderr",
     "output_type": "stream",
     "text": [
      "\r\n",
      "  7%|▋         | 669/10000 [04:29<2:00:42,  1.29it/s, episode_reward=500, running_reward=320]"
     ]
    },
    {
     "name": "stderr",
     "output_type": "stream",
     "text": [
      "\r\n",
      "  7%|▋         | 669/10000 [04:30<2:00:42,  1.29it/s, episode_reward=500, running_reward=323]"
     ]
    },
    {
     "name": "stderr",
     "output_type": "stream",
     "text": [
      "\r\n",
      "  7%|▋         | 670/10000 [04:30<1:58:58,  1.31it/s, episode_reward=500, running_reward=323]"
     ]
    },
    {
     "name": "stderr",
     "output_type": "stream",
     "text": [
      "\r\n",
      "  7%|▋         | 670/10000 [04:31<1:58:58,  1.31it/s, episode_reward=500, running_reward=327]"
     ]
    },
    {
     "name": "stderr",
     "output_type": "stream",
     "text": [
      "\r\n",
      "  7%|▋         | 671/10000 [04:31<1:57:58,  1.32it/s, episode_reward=500, running_reward=327]"
     ]
    },
    {
     "name": "stderr",
     "output_type": "stream",
     "text": [
      "\r\n",
      "  7%|▋         | 671/10000 [04:32<1:57:58,  1.32it/s, episode_reward=500, running_reward=331]"
     ]
    },
    {
     "name": "stderr",
     "output_type": "stream",
     "text": [
      "\r\n",
      "  7%|▋         | 672/10000 [04:32<1:57:31,  1.32it/s, episode_reward=500, running_reward=331]"
     ]
    },
    {
     "name": "stderr",
     "output_type": "stream",
     "text": [
      "\r\n",
      "  7%|▋         | 672/10000 [04:32<1:57:31,  1.32it/s, episode_reward=500, running_reward=334]"
     ]
    },
    {
     "name": "stderr",
     "output_type": "stream",
     "text": [
      "\r\n",
      "  7%|▋         | 673/10000 [04:32<1:58:48,  1.31it/s, episode_reward=500, running_reward=334]"
     ]
    },
    {
     "name": "stderr",
     "output_type": "stream",
     "text": [
      "\r\n",
      "  7%|▋         | 673/10000 [04:33<1:58:48,  1.31it/s, episode_reward=500, running_reward=338]"
     ]
    },
    {
     "name": "stderr",
     "output_type": "stream",
     "text": [
      "\r\n",
      "  7%|▋         | 674/10000 [04:33<2:00:50,  1.29it/s, episode_reward=500, running_reward=338]"
     ]
    },
    {
     "name": "stderr",
     "output_type": "stream",
     "text": [
      "\r\n",
      "  7%|▋         | 674/10000 [04:34<2:00:50,  1.29it/s, episode_reward=500, running_reward=341]"
     ]
    },
    {
     "name": "stderr",
     "output_type": "stream",
     "text": [
      "\r\n",
      "  7%|▋         | 675/10000 [04:34<1:59:30,  1.30it/s, episode_reward=500, running_reward=341]"
     ]
    },
    {
     "name": "stderr",
     "output_type": "stream",
     "text": [
      "\r\n",
      "  7%|▋         | 675/10000 [04:35<1:59:30,  1.30it/s, episode_reward=500, running_reward=344]"
     ]
    },
    {
     "name": "stderr",
     "output_type": "stream",
     "text": [
      "\r\n",
      "  7%|▋         | 676/10000 [04:35<2:06:05,  1.23it/s, episode_reward=500, running_reward=344]"
     ]
    },
    {
     "name": "stderr",
     "output_type": "stream",
     "text": [
      "\r\n",
      "  7%|▋         | 676/10000 [04:36<2:06:05,  1.23it/s, episode_reward=500, running_reward=348]"
     ]
    },
    {
     "name": "stderr",
     "output_type": "stream",
     "text": [
      "\r\n",
      "  7%|▋         | 677/10000 [04:36<2:02:50,  1.26it/s, episode_reward=500, running_reward=348]"
     ]
    },
    {
     "name": "stderr",
     "output_type": "stream",
     "text": [
      "\r\n",
      "  7%|▋         | 677/10000 [04:36<2:02:50,  1.26it/s, episode_reward=500, running_reward=351]"
     ]
    },
    {
     "name": "stderr",
     "output_type": "stream",
     "text": [
      "\r\n",
      "  7%|▋         | 678/10000 [04:36<2:00:50,  1.29it/s, episode_reward=500, running_reward=351]"
     ]
    },
    {
     "name": "stderr",
     "output_type": "stream",
     "text": [
      "\r\n",
      "  7%|▋         | 678/10000 [04:37<2:00:50,  1.29it/s, episode_reward=500, running_reward=354]"
     ]
    },
    {
     "name": "stderr",
     "output_type": "stream",
     "text": [
      "\r\n",
      "  7%|▋         | 679/10000 [04:37<1:59:49,  1.30it/s, episode_reward=500, running_reward=354]"
     ]
    },
    {
     "name": "stderr",
     "output_type": "stream",
     "text": [
      "\r\n",
      "  7%|▋         | 679/10000 [04:38<1:59:49,  1.30it/s, episode_reward=500, running_reward=358]"
     ]
    },
    {
     "name": "stderr",
     "output_type": "stream",
     "text": [
      "\r\n",
      "  7%|▋         | 680/10000 [04:38<2:02:39,  1.27it/s, episode_reward=500, running_reward=358]"
     ]
    },
    {
     "name": "stderr",
     "output_type": "stream",
     "text": [
      "\r\n",
      "  7%|▋         | 680/10000 [04:39<2:02:39,  1.27it/s, episode_reward=500, running_reward=361]"
     ]
    },
    {
     "name": "stderr",
     "output_type": "stream",
     "text": [
      "\r\n",
      "  7%|▋         | 681/10000 [04:39<2:01:00,  1.28it/s, episode_reward=500, running_reward=361]"
     ]
    },
    {
     "name": "stderr",
     "output_type": "stream",
     "text": [
      "\r\n",
      "  7%|▋         | 681/10000 [04:40<2:01:00,  1.28it/s, episode_reward=500, running_reward=365]"
     ]
    },
    {
     "name": "stderr",
     "output_type": "stream",
     "text": [
      "\r\n",
      "  7%|▋         | 682/10000 [04:40<2:00:54,  1.28it/s, episode_reward=500, running_reward=365]"
     ]
    },
    {
     "name": "stderr",
     "output_type": "stream",
     "text": [
      "\r\n",
      "  7%|▋         | 682/10000 [04:40<2:00:54,  1.28it/s, episode_reward=500, running_reward=368]"
     ]
    },
    {
     "name": "stderr",
     "output_type": "stream",
     "text": [
      "\r\n",
      "  7%|▋         | 683/10000 [04:40<2:04:28,  1.25it/s, episode_reward=500, running_reward=368]"
     ]
    },
    {
     "name": "stderr",
     "output_type": "stream",
     "text": [
      "\r\n",
      "  7%|▋         | 683/10000 [04:41<2:04:28,  1.25it/s, episode_reward=500, running_reward=372]"
     ]
    },
    {
     "name": "stderr",
     "output_type": "stream",
     "text": [
      "\r\n",
      "  7%|▋         | 684/10000 [04:41<2:06:48,  1.22it/s, episode_reward=500, running_reward=372]"
     ]
    },
    {
     "name": "stderr",
     "output_type": "stream",
     "text": [
      "\r\n",
      "  7%|▋         | 684/10000 [04:42<2:06:48,  1.22it/s, episode_reward=446, running_reward=375]"
     ]
    },
    {
     "name": "stderr",
     "output_type": "stream",
     "text": [
      "\r\n",
      "  7%|▋         | 685/10000 [04:42<2:01:02,  1.28it/s, episode_reward=446, running_reward=375]"
     ]
    },
    {
     "name": "stderr",
     "output_type": "stream",
     "text": [
      "\r\n",
      "  7%|▋         | 685/10000 [04:43<2:01:02,  1.28it/s, episode_reward=500, running_reward=378]"
     ]
    },
    {
     "name": "stderr",
     "output_type": "stream",
     "text": [
      "\r\n",
      "  7%|▋         | 686/10000 [04:43<1:59:33,  1.30it/s, episode_reward=500, running_reward=378]"
     ]
    },
    {
     "name": "stderr",
     "output_type": "stream",
     "text": [
      "\r\n",
      "  7%|▋         | 686/10000 [04:43<1:59:33,  1.30it/s, episode_reward=500, running_reward=382]"
     ]
    },
    {
     "name": "stderr",
     "output_type": "stream",
     "text": [
      "\r\n",
      "  7%|▋         | 687/10000 [04:43<1:58:51,  1.31it/s, episode_reward=500, running_reward=382]"
     ]
    },
    {
     "name": "stderr",
     "output_type": "stream",
     "text": [
      "\r\n",
      "  7%|▋         | 687/10000 [04:44<1:58:51,  1.31it/s, episode_reward=500, running_reward=386]"
     ]
    },
    {
     "name": "stderr",
     "output_type": "stream",
     "text": [
      "\r\n",
      "  7%|▋         | 688/10000 [04:44<1:59:18,  1.30it/s, episode_reward=500, running_reward=386]"
     ]
    },
    {
     "name": "stderr",
     "output_type": "stream",
     "text": [
      "\r\n",
      "  7%|▋         | 688/10000 [04:45<1:59:18,  1.30it/s, episode_reward=500, running_reward=389]"
     ]
    },
    {
     "name": "stderr",
     "output_type": "stream",
     "text": [
      "\r\n",
      "  7%|▋         | 689/10000 [04:45<2:01:32,  1.28it/s, episode_reward=500, running_reward=389]"
     ]
    },
    {
     "name": "stderr",
     "output_type": "stream",
     "text": [
      "\r\n",
      "  7%|▋         | 689/10000 [04:46<2:01:32,  1.28it/s, episode_reward=385, running_reward=392]"
     ]
    },
    {
     "name": "stderr",
     "output_type": "stream",
     "text": [
      "\r\n",
      "  7%|▋         | 690/10000 [04:46<1:54:51,  1.35it/s, episode_reward=385, running_reward=392]"
     ]
    },
    {
     "name": "stderr",
     "output_type": "stream",
     "text": [
      "\r\n",
      "  7%|▋         | 690/10000 [04:46<1:54:51,  1.35it/s, episode_reward=339, running_reward=394]"
     ]
    },
    {
     "name": "stderr",
     "output_type": "stream",
     "text": [
      "\r\n",
      "  7%|▋         | 691/10000 [04:46<1:46:13,  1.46it/s, episode_reward=339, running_reward=394]"
     ]
    },
    {
     "name": "stderr",
     "output_type": "stream",
     "text": [
      "\r\n",
      "  7%|▋         | 691/10000 [04:47<1:46:13,  1.46it/s, episode_reward=500, running_reward=397]"
     ]
    },
    {
     "name": "stderr",
     "output_type": "stream",
     "text": [
      "\r\n",
      "  7%|▋         | 692/10000 [04:47<1:49:04,  1.42it/s, episode_reward=500, running_reward=397]"
     ]
    },
    {
     "name": "stderr",
     "output_type": "stream",
     "text": [
      "\r\n",
      "  7%|▋         | 692/10000 [04:48<1:49:04,  1.42it/s, episode_reward=500, running_reward=401]"
     ]
    },
    {
     "name": "stderr",
     "output_type": "stream",
     "text": [
      "\r\n",
      "  7%|▋         | 693/10000 [04:48<1:51:04,  1.40it/s, episode_reward=500, running_reward=401]"
     ]
    },
    {
     "name": "stderr",
     "output_type": "stream",
     "text": [
      "\r\n",
      "  7%|▋         | 693/10000 [04:48<1:51:04,  1.40it/s, episode_reward=500, running_reward=404]"
     ]
    },
    {
     "name": "stderr",
     "output_type": "stream",
     "text": [
      "\r\n",
      "  7%|▋         | 694/10000 [04:48<1:52:50,  1.37it/s, episode_reward=500, running_reward=404]"
     ]
    },
    {
     "name": "stderr",
     "output_type": "stream",
     "text": [
      "\r\n",
      "  7%|▋         | 694/10000 [04:49<1:52:50,  1.37it/s, episode_reward=500, running_reward=408]"
     ]
    },
    {
     "name": "stderr",
     "output_type": "stream",
     "text": [
      "\r\n",
      "  7%|▋         | 695/10000 [04:49<1:53:59,  1.36it/s, episode_reward=500, running_reward=408]"
     ]
    },
    {
     "name": "stderr",
     "output_type": "stream",
     "text": [
      "\r\n",
      "  7%|▋         | 695/10000 [04:50<1:53:59,  1.36it/s, episode_reward=500, running_reward=412]"
     ]
    },
    {
     "name": "stderr",
     "output_type": "stream",
     "text": [
      "\r\n",
      "  7%|▋         | 696/10000 [04:50<2:02:21,  1.27it/s, episode_reward=500, running_reward=412]"
     ]
    },
    {
     "name": "stderr",
     "output_type": "stream",
     "text": [
      "\r\n",
      "  7%|▋         | 696/10000 [04:51<2:02:21,  1.27it/s, episode_reward=500, running_reward=415]"
     ]
    },
    {
     "name": "stderr",
     "output_type": "stream",
     "text": [
      "\r\n",
      "  7%|▋         | 697/10000 [04:51<2:00:45,  1.28it/s, episode_reward=500, running_reward=415]"
     ]
    },
    {
     "name": "stderr",
     "output_type": "stream",
     "text": [
      "\r\n",
      "  7%|▋         | 697/10000 [04:52<2:00:45,  1.28it/s, episode_reward=500, running_reward=419]"
     ]
    },
    {
     "name": "stderr",
     "output_type": "stream",
     "text": [
      "\r\n",
      "  7%|▋         | 698/10000 [04:52<1:59:29,  1.30it/s, episode_reward=500, running_reward=419]"
     ]
    },
    {
     "name": "stderr",
     "output_type": "stream",
     "text": [
      "\r\n",
      "  7%|▋         | 698/10000 [04:52<1:59:29,  1.30it/s, episode_reward=500, running_reward=422]"
     ]
    },
    {
     "name": "stderr",
     "output_type": "stream",
     "text": [
      "\r\n",
      "  7%|▋         | 699/10000 [04:52<2:00:42,  1.28it/s, episode_reward=500, running_reward=422]"
     ]
    },
    {
     "name": "stderr",
     "output_type": "stream",
     "text": [
      "\r\n",
      "  7%|▋         | 699/10000 [04:53<2:00:42,  1.28it/s, episode_reward=500, running_reward=426]"
     ]
    },
    {
     "name": "stderr",
     "output_type": "stream",
     "text": [
      "\r\n",
      "  7%|▋         | 700/10000 [04:53<2:01:26,  1.28it/s, episode_reward=500, running_reward=426]"
     ]
    },
    {
     "name": "stderr",
     "output_type": "stream",
     "text": [
      "\r\n",
      "  7%|▋         | 700/10000 [04:54<2:01:26,  1.28it/s, episode_reward=500, running_reward=430]"
     ]
    },
    {
     "name": "stderr",
     "output_type": "stream",
     "text": [
      "\r\n",
      "  7%|▋         | 701/10000 [04:54<2:00:19,  1.29it/s, episode_reward=500, running_reward=430]"
     ]
    },
    {
     "name": "stderr",
     "output_type": "stream",
     "text": [
      "\r\n",
      "  7%|▋         | 701/10000 [04:55<2:00:19,  1.29it/s, episode_reward=500, running_reward=433]"
     ]
    },
    {
     "name": "stderr",
     "output_type": "stream",
     "text": [
      "\r\n",
      "  7%|▋         | 702/10000 [04:55<2:01:25,  1.28it/s, episode_reward=500, running_reward=433]"
     ]
    },
    {
     "name": "stderr",
     "output_type": "stream",
     "text": [
      "\r\n",
      "  7%|▋         | 702/10000 [04:56<2:01:25,  1.28it/s, episode_reward=500, running_reward=436]"
     ]
    },
    {
     "name": "stderr",
     "output_type": "stream",
     "text": [
      "\r\n",
      "  7%|▋         | 703/10000 [04:56<2:00:27,  1.29it/s, episode_reward=500, running_reward=436]"
     ]
    },
    {
     "name": "stderr",
     "output_type": "stream",
     "text": [
      "\r\n",
      "  7%|▋         | 703/10000 [04:56<2:00:27,  1.29it/s, episode_reward=500, running_reward=440]"
     ]
    },
    {
     "name": "stderr",
     "output_type": "stream",
     "text": [
      "\r\n",
      "  7%|▋         | 704/10000 [04:56<2:03:48,  1.25it/s, episode_reward=500, running_reward=440]"
     ]
    },
    {
     "name": "stderr",
     "output_type": "stream",
     "text": [
      "\r\n",
      "  7%|▋         | 704/10000 [04:57<2:03:48,  1.25it/s, episode_reward=500, running_reward=443]"
     ]
    },
    {
     "name": "stderr",
     "output_type": "stream",
     "text": [
      "\r\n",
      "  7%|▋         | 705/10000 [04:57<2:02:09,  1.27it/s, episode_reward=500, running_reward=443]"
     ]
    },
    {
     "name": "stderr",
     "output_type": "stream",
     "text": [
      "\r\n",
      "  7%|▋         | 705/10000 [04:58<2:02:09,  1.27it/s, episode_reward=500, running_reward=445]"
     ]
    },
    {
     "name": "stderr",
     "output_type": "stream",
     "text": [
      "\r\n",
      "  7%|▋         | 706/10000 [04:58<2:01:07,  1.28it/s, episode_reward=500, running_reward=445]"
     ]
    },
    {
     "name": "stderr",
     "output_type": "stream",
     "text": [
      "\r\n",
      "  7%|▋         | 706/10000 [04:59<2:01:07,  1.28it/s, episode_reward=500, running_reward=447]"
     ]
    },
    {
     "name": "stderr",
     "output_type": "stream",
     "text": [
      "\r\n",
      "  7%|▋         | 707/10000 [04:59<2:02:06,  1.27it/s, episode_reward=500, running_reward=447]"
     ]
    },
    {
     "name": "stderr",
     "output_type": "stream",
     "text": [
      "\r\n",
      "  7%|▋         | 707/10000 [05:00<2:02:06,  1.27it/s, episode_reward=500, running_reward=450]"
     ]
    },
    {
     "name": "stderr",
     "output_type": "stream",
     "text": [
      "\r\n",
      "  7%|▋         | 708/10000 [05:00<2:06:05,  1.23it/s, episode_reward=500, running_reward=450]"
     ]
    },
    {
     "name": "stderr",
     "output_type": "stream",
     "text": [
      "\r\n",
      "  7%|▋         | 708/10000 [05:00<2:06:05,  1.23it/s, episode_reward=500, running_reward=452]"
     ]
    },
    {
     "name": "stderr",
     "output_type": "stream",
     "text": [
      "\r\n",
      "  7%|▋         | 709/10000 [05:00<2:07:44,  1.21it/s, episode_reward=500, running_reward=452]"
     ]
    },
    {
     "name": "stderr",
     "output_type": "stream",
     "text": [
      "\r\n",
      "  7%|▋         | 709/10000 [05:01<2:07:44,  1.21it/s, episode_reward=500, running_reward=456]"
     ]
    },
    {
     "name": "stderr",
     "output_type": "stream",
     "text": [
      "\r\n",
      "  7%|▋         | 710/10000 [05:01<2:05:02,  1.24it/s, episode_reward=500, running_reward=456]"
     ]
    },
    {
     "name": "stderr",
     "output_type": "stream",
     "text": [
      "\r\n",
      "  7%|▋         | 710/10000 [05:02<2:05:02,  1.24it/s, episode_reward=500, running_reward=456]"
     ]
    },
    {
     "name": "stderr",
     "output_type": "stream",
     "text": [
      "\r\n",
      "  7%|▋         | 711/10000 [05:02<2:07:20,  1.22it/s, episode_reward=500, running_reward=456]"
     ]
    },
    {
     "name": "stderr",
     "output_type": "stream",
     "text": [
      "\r\n",
      "  7%|▋         | 711/10000 [05:03<2:07:20,  1.22it/s, episode_reward=500, running_reward=456]"
     ]
    },
    {
     "name": "stderr",
     "output_type": "stream",
     "text": [
      "\r\n",
      "  7%|▋         | 712/10000 [05:03<2:03:45,  1.25it/s, episode_reward=500, running_reward=456]"
     ]
    },
    {
     "name": "stderr",
     "output_type": "stream",
     "text": [
      "\r\n",
      "  7%|▋         | 712/10000 [05:04<2:03:45,  1.25it/s, episode_reward=500, running_reward=456]"
     ]
    },
    {
     "name": "stderr",
     "output_type": "stream",
     "text": [
      "\r\n",
      "  7%|▋         | 713/10000 [05:04<2:01:14,  1.28it/s, episode_reward=500, running_reward=456]"
     ]
    },
    {
     "name": "stderr",
     "output_type": "stream",
     "text": [
      "\r\n",
      "  7%|▋         | 713/10000 [05:04<2:01:14,  1.28it/s, episode_reward=500, running_reward=456]"
     ]
    },
    {
     "name": "stderr",
     "output_type": "stream",
     "text": [
      "\r\n",
      "  7%|▋         | 714/10000 [05:04<1:59:40,  1.29it/s, episode_reward=500, running_reward=456]"
     ]
    },
    {
     "name": "stderr",
     "output_type": "stream",
     "text": [
      "\r\n",
      "  7%|▋         | 714/10000 [05:05<1:59:40,  1.29it/s, episode_reward=500, running_reward=456]"
     ]
    },
    {
     "name": "stderr",
     "output_type": "stream",
     "text": [
      "\r\n",
      "  7%|▋         | 715/10000 [05:05<2:03:22,  1.25it/s, episode_reward=500, running_reward=456]"
     ]
    },
    {
     "name": "stderr",
     "output_type": "stream",
     "text": [
      "\r\n",
      "  7%|▋         | 715/10000 [05:06<2:03:22,  1.25it/s, episode_reward=500, running_reward=456]"
     ]
    },
    {
     "name": "stderr",
     "output_type": "stream",
     "text": [
      "\r\n",
      "  7%|▋         | 716/10000 [05:06<2:05:48,  1.23it/s, episode_reward=500, running_reward=456]"
     ]
    },
    {
     "name": "stderr",
     "output_type": "stream",
     "text": [
      "\r\n",
      "  7%|▋         | 716/10000 [05:07<2:05:48,  1.23it/s, episode_reward=500, running_reward=456]"
     ]
    },
    {
     "name": "stderr",
     "output_type": "stream",
     "text": [
      "\r\n",
      "  7%|▋         | 717/10000 [05:07<2:05:18,  1.23it/s, episode_reward=500, running_reward=456]"
     ]
    },
    {
     "name": "stderr",
     "output_type": "stream",
     "text": [
      "\r\n",
      "  7%|▋         | 717/10000 [05:08<2:05:18,  1.23it/s, episode_reward=500, running_reward=456]"
     ]
    },
    {
     "name": "stderr",
     "output_type": "stream",
     "text": [
      "\r\n",
      "  7%|▋         | 718/10000 [05:08<2:03:08,  1.26it/s, episode_reward=500, running_reward=456]"
     ]
    },
    {
     "name": "stderr",
     "output_type": "stream",
     "text": [
      "\r\n",
      "  7%|▋         | 718/10000 [05:08<2:03:08,  1.26it/s, episode_reward=500, running_reward=459]"
     ]
    },
    {
     "name": "stderr",
     "output_type": "stream",
     "text": [
      "\r\n",
      "  7%|▋         | 719/10000 [05:08<2:03:06,  1.26it/s, episode_reward=500, running_reward=459]"
     ]
    },
    {
     "name": "stderr",
     "output_type": "stream",
     "text": [
      "\r\n",
      "  7%|▋         | 719/10000 [05:09<2:03:06,  1.26it/s, episode_reward=500, running_reward=459]"
     ]
    },
    {
     "name": "stderr",
     "output_type": "stream",
     "text": [
      "\r\n",
      "  7%|▋         | 720/10000 [05:09<2:04:53,  1.24it/s, episode_reward=500, running_reward=459]"
     ]
    },
    {
     "name": "stderr",
     "output_type": "stream",
     "text": [
      "\r\n",
      "  7%|▋         | 720/10000 [05:10<2:04:53,  1.24it/s, episode_reward=500, running_reward=459]"
     ]
    },
    {
     "name": "stderr",
     "output_type": "stream",
     "text": [
      "\r\n",
      "  7%|▋         | 721/10000 [05:10<2:02:40,  1.26it/s, episode_reward=500, running_reward=459]"
     ]
    },
    {
     "name": "stderr",
     "output_type": "stream",
     "text": [
      "\r\n",
      "  7%|▋         | 721/10000 [05:11<2:02:40,  1.26it/s, episode_reward=500, running_reward=459]"
     ]
    },
    {
     "name": "stderr",
     "output_type": "stream",
     "text": [
      "\r\n",
      "  7%|▋         | 722/10000 [05:11<2:01:17,  1.27it/s, episode_reward=500, running_reward=459]"
     ]
    },
    {
     "name": "stderr",
     "output_type": "stream",
     "text": [
      "\r\n",
      "  7%|▋         | 722/10000 [05:12<2:01:17,  1.27it/s, episode_reward=500, running_reward=459]"
     ]
    },
    {
     "name": "stderr",
     "output_type": "stream",
     "text": [
      "\r\n",
      "  7%|▋         | 723/10000 [05:12<2:04:04,  1.25it/s, episode_reward=500, running_reward=459]"
     ]
    },
    {
     "name": "stderr",
     "output_type": "stream",
     "text": [
      "\r\n",
      "  7%|▋         | 723/10000 [05:12<2:04:04,  1.25it/s, episode_reward=500, running_reward=459]"
     ]
    },
    {
     "name": "stderr",
     "output_type": "stream",
     "text": [
      "\r\n",
      "  7%|▋         | 724/10000 [05:12<2:06:25,  1.22it/s, episode_reward=500, running_reward=459]"
     ]
    },
    {
     "name": "stderr",
     "output_type": "stream",
     "text": [
      "\r\n",
      "  7%|▋         | 724/10000 [05:13<2:06:25,  1.22it/s, episode_reward=500, running_reward=459]"
     ]
    },
    {
     "name": "stderr",
     "output_type": "stream",
     "text": [
      "\r\n",
      "  7%|▋         | 725/10000 [05:13<2:08:47,  1.20it/s, episode_reward=500, running_reward=459]"
     ]
    },
    {
     "name": "stderr",
     "output_type": "stream",
     "text": [
      "\r\n",
      "  7%|▋         | 725/10000 [05:14<2:08:47,  1.20it/s, episode_reward=500, running_reward=459]"
     ]
    },
    {
     "name": "stderr",
     "output_type": "stream",
     "text": [
      "\r\n",
      "  7%|▋         | 726/10000 [05:14<2:09:56,  1.19it/s, episode_reward=500, running_reward=459]"
     ]
    },
    {
     "name": "stderr",
     "output_type": "stream",
     "text": [
      "\r\n",
      "  7%|▋         | 726/10000 [05:15<2:09:56,  1.19it/s, episode_reward=500, running_reward=459]"
     ]
    },
    {
     "name": "stderr",
     "output_type": "stream",
     "text": [
      "\r\n",
      "  7%|▋         | 727/10000 [05:15<2:05:35,  1.23it/s, episode_reward=500, running_reward=459]"
     ]
    },
    {
     "name": "stderr",
     "output_type": "stream",
     "text": [
      "\r\n",
      "  7%|▋         | 727/10000 [05:16<2:05:35,  1.23it/s, episode_reward=500, running_reward=459]"
     ]
    },
    {
     "name": "stderr",
     "output_type": "stream",
     "text": [
      "\r\n",
      "  7%|▋         | 728/10000 [05:16<2:02:20,  1.26it/s, episode_reward=500, running_reward=459]"
     ]
    },
    {
     "name": "stderr",
     "output_type": "stream",
     "text": [
      "\r\n",
      "  7%|▋         | 728/10000 [05:16<2:02:20,  1.26it/s, episode_reward=500, running_reward=462]"
     ]
    },
    {
     "name": "stderr",
     "output_type": "stream",
     "text": [
      "\r\n",
      "  7%|▋         | 729/10000 [05:16<2:00:13,  1.29it/s, episode_reward=500, running_reward=462]"
     ]
    },
    {
     "name": "stderr",
     "output_type": "stream",
     "text": [
      "\r\n",
      "  7%|▋         | 729/10000 [05:17<2:00:13,  1.29it/s, episode_reward=500, running_reward=462]"
     ]
    },
    {
     "name": "stderr",
     "output_type": "stream",
     "text": [
      "\r\n",
      "  7%|▋         | 730/10000 [05:17<2:02:58,  1.26it/s, episode_reward=500, running_reward=462]"
     ]
    },
    {
     "name": "stderr",
     "output_type": "stream",
     "text": [
      "\r\n",
      "  7%|▋         | 730/10000 [05:18<2:02:58,  1.26it/s, episode_reward=500, running_reward=462]"
     ]
    },
    {
     "name": "stderr",
     "output_type": "stream",
     "text": [
      "\r\n",
      "  7%|▋         | 731/10000 [05:18<2:01:11,  1.27it/s, episode_reward=500, running_reward=462]"
     ]
    },
    {
     "name": "stderr",
     "output_type": "stream",
     "text": [
      "\r\n",
      "  7%|▋         | 731/10000 [05:19<2:01:11,  1.27it/s, episode_reward=500, running_reward=462]"
     ]
    },
    {
     "name": "stderr",
     "output_type": "stream",
     "text": [
      "\r\n",
      "  7%|▋         | 732/10000 [05:19<2:04:05,  1.24it/s, episode_reward=500, running_reward=462]"
     ]
    },
    {
     "name": "stderr",
     "output_type": "stream",
     "text": [
      "\r\n",
      "  7%|▋         | 732/10000 [05:20<2:04:05,  1.24it/s, episode_reward=500, running_reward=464]"
     ]
    },
    {
     "name": "stderr",
     "output_type": "stream",
     "text": [
      "\r\n",
      "  7%|▋         | 733/10000 [05:20<2:06:35,  1.22it/s, episode_reward=500, running_reward=464]"
     ]
    },
    {
     "name": "stderr",
     "output_type": "stream",
     "text": [
      "\r\n",
      "  7%|▋         | 733/10000 [05:21<2:06:35,  1.22it/s, episode_reward=500, running_reward=464]"
     ]
    },
    {
     "name": "stderr",
     "output_type": "stream",
     "text": [
      "\r\n",
      "  7%|▋         | 734/10000 [05:21<2:03:36,  1.25it/s, episode_reward=500, running_reward=464]"
     ]
    },
    {
     "name": "stderr",
     "output_type": "stream",
     "text": [
      "\r\n",
      "  7%|▋         | 734/10000 [05:21<2:03:36,  1.25it/s, episode_reward=500, running_reward=467]"
     ]
    },
    {
     "name": "stderr",
     "output_type": "stream",
     "text": [
      "\r\n",
      "  7%|▋         | 735/10000 [05:21<2:01:14,  1.27it/s, episode_reward=500, running_reward=467]"
     ]
    },
    {
     "name": "stderr",
     "output_type": "stream",
     "text": [
      "\r\n",
      "  7%|▋         | 735/10000 [05:22<2:01:14,  1.27it/s, episode_reward=500, running_reward=470]"
     ]
    },
    {
     "name": "stderr",
     "output_type": "stream",
     "text": [
      "\r\n",
      "  7%|▋         | 736/10000 [05:22<1:59:54,  1.29it/s, episode_reward=500, running_reward=470]"
     ]
    },
    {
     "name": "stderr",
     "output_type": "stream",
     "text": [
      "\r\n",
      "  7%|▋         | 736/10000 [05:23<1:59:54,  1.29it/s, episode_reward=500, running_reward=470]"
     ]
    },
    {
     "name": "stderr",
     "output_type": "stream",
     "text": [
      "\r\n",
      "  7%|▋         | 737/10000 [05:23<1:59:45,  1.29it/s, episode_reward=500, running_reward=470]"
     ]
    },
    {
     "name": "stderr",
     "output_type": "stream",
     "text": [
      "\r\n",
      "  7%|▋         | 737/10000 [05:24<1:59:45,  1.29it/s, episode_reward=500, running_reward=474]"
     ]
    },
    {
     "name": "stderr",
     "output_type": "stream",
     "text": [
      "\r\n",
      "  7%|▋         | 738/10000 [05:24<1:58:30,  1.30it/s, episode_reward=500, running_reward=474]"
     ]
    },
    {
     "name": "stderr",
     "output_type": "stream",
     "text": [
      "\r\n",
      "  7%|▋         | 738/10000 [05:24<1:58:30,  1.30it/s, episode_reward=500, running_reward=477]"
     ]
    },
    {
     "name": "stderr",
     "output_type": "stream",
     "text": [
      "\r\n",
      "  7%|▋         | 738/10000 [05:24<1:07:56,  2.27it/s, episode_reward=500, running_reward=477]"
     ]
    },
    {
     "name": "stdout",
     "output_type": "stream",
     "text": [
      "\n",
      "Solved at episode 738: average reward: 477.09!\n",
      "CPU times: user 12min 47s, sys: 3min 17s, total: 16min 4s\n",
      "Wall time: 5min 24s\n"
     ]
    },
    {
     "name": "stderr",
     "output_type": "stream",
     "text": [
      "\n"
     ]
    }
   ],
   "source": [
    "%%time\n",
    "\n",
    "min_episodes_criterion = 100\n",
    "max_episodes = 10000\n",
    "max_steps_per_episode = 500\n",
    "\n",
    "# `CartPole-v1` is considered solved if average reward is >= 475 over 500 \n",
    "# consecutive trials\n",
    "reward_threshold = 475\n",
    "running_reward = 0\n",
    "\n",
    "# The discount factor for future rewards\n",
    "gamma = 0.99\n",
    "\n",
    "# Keep the last episodes reward\n",
    "episodes_reward: collections.deque = collections.deque(maxlen=min_episodes_criterion)\n",
    "\n",
    "t = tqdm.trange(max_episodes)\n",
    "for i in t:\n",
    "    initial_state, info = env.reset()\n",
    "    initial_state = tf.constant(initial_state, dtype=tf.float32)\n",
    "    episode_reward = int(train_step(\n",
    "        initial_state, model, optimizer, gamma, max_steps_per_episode))\n",
    "    \n",
    "    episodes_reward.append(episode_reward)\n",
    "    running_reward = statistics.mean(episodes_reward)\n",
    "  \n",
    "\n",
    "    t.set_postfix(\n",
    "        episode_reward=episode_reward, running_reward=running_reward)\n",
    "  \n",
    "    # Show the average episode reward every 10 episodes\n",
    "    if i % 10 == 0:\n",
    "      pass # print(f'Episode {i}: average reward: {avg_reward}')\n",
    "  \n",
    "    if running_reward > reward_threshold and i >= min_episodes_criterion:  \n",
    "        break\n",
    "\n",
    "print(f'\\nSolved at episode {i}: average reward: {running_reward:.2f}!')"
   ]
  },
  {
   "cell_type": "markdown",
   "metadata": {
    "id": "ru8BEwS1EmAv"
   },
   "source": [
    "## Visualization\n",
    "\n",
    "After training, it would be good to visualize how the model performs in the environment. You can run the cells below to generate a GIF animation of one episode run of the model. Note that additional packages need to be installed for Gym to render the environment's images correctly in Colab."
   ]
  },
  {
   "cell_type": "code",
   "execution_count": 13,
   "metadata": {
    "execution": {
     "iopub.execute_input": "2022-11-29T02:32:45.719602Z",
     "iopub.status.busy": "2022-11-29T02:32:45.719214Z",
     "iopub.status.idle": "2022-11-29T02:32:48.959267Z",
     "shell.execute_reply": "2022-11-29T02:32:48.958329Z"
    },
    "id": "qbIMMkfmRHyC"
   },
   "outputs": [],
   "source": [
    "# Render an episode and save as a GIF file\n",
    "\n",
    "from IPython import display as ipythondisplay\n",
    "from PIL import Image\n",
    "\n",
    "render_env = gym.make(\"CartPole-v1\", render_mode='rgb_array')\n",
    "\n",
    "def render_episode(env: gym.Env, model: tf.keras.Model, max_steps: int): \n",
    "  state, info = env.reset()\n",
    "  state = tf.constant(state, dtype=tf.float32)\n",
    "  screen = env.render()\n",
    "  images = [Image.fromarray(screen)]\n",
    " \n",
    "  for i in range(1, max_steps + 1):\n",
    "    state = tf.expand_dims(state, 0)\n",
    "    action_probs, _ = model(state)\n",
    "    action = np.argmax(np.squeeze(action_probs))\n",
    "\n",
    "    state, reward, done, truncated, info = env.step(action)\n",
    "    state = tf.constant(state, dtype=tf.float32)\n",
    "\n",
    "    # Render screen every 10 steps\n",
    "    if i % 10 == 0:\n",
    "      screen = env.render()\n",
    "      images.append(Image.fromarray(screen))\n",
    "  \n",
    "    if done:\n",
    "      break\n",
    "  \n",
    "  return images\n",
    "\n",
    "\n",
    "# Save GIF image\n",
    "images = render_episode(render_env, model, max_steps_per_episode)\n",
    "image_file = 'cartpole-v1.gif'\n",
    "# loop=0: loop forever, duration=1: play each frame for 1ms\n",
    "images[0].save(\n",
    "    image_file, save_all=True, append_images=images[1:], loop=0, duration=1)"
   ]
  },
  {
   "cell_type": "code",
   "execution_count": 14,
   "metadata": {
    "execution": {
     "iopub.execute_input": "2022-11-29T02:32:48.964014Z",
     "iopub.status.busy": "2022-11-29T02:32:48.963710Z",
     "iopub.status.idle": "2022-11-29T02:32:49.045358Z",
     "shell.execute_reply": "2022-11-29T02:32:49.044513Z"
    },
    "id": "TLd720SejKmf"
   },
   "outputs": [
    {
     "data": {
      "text/html": [
       "<img src=\"data:image/gif;base64,R0lGODlhWAKQAYYAAP////7+/v79/f38+/38+v37+fz6+Pz59/v49fv49Pv38/r28vr18fn07/n07vjz7fjy7Pjx6/fw6ffw6Pfv6Pbv5/bu5vbu5fXt5PXs4/Xr4vTq4PTq3/Pp3vPo3fLn3PLm2vLm2fHl2PHk1/Dj1vDi1PDi0+/h0u/g0e7f0O7ezu7eze3dze3dzO3cy+zbyuzbyezayOvZx+vYxerXxOrXw+rWwunVwenUv+jTvujTvejSvOfRu+fQuebPuObPt+XOtuXNteXMs+TMs8qYZZ6MoYiGwIGEyxMOCRINCRAMCA4LBw0KBgsIBQoHBQgGBAcFAwUEAgMCAQIBAQAAAAAAAAAAAAAAAAAAAAAAAAAAAAAAAAAAAAAAAAAAAAAAAAAAAAAAAAAAAAAAAAAAAAAAAAAAAAAAAAAAAAAAAAAAAAAAAAAAAAAAAAAAAAAAAAAAAAAAAAAAAAAAAAAAAAAAAAAAAAAAAAAAAAAAAAAAAAAAAAAAAAAAAAAAAAAAACH/C05FVFNDQVBFMi4wAwEAAAAsAAAAAFgCkAEACP8AAQgcSLCgwYMIEypcyLChw4cQI0qcSLGixYsYM2rcyLGjx48gQ4ocSbKkyZMoU6pcybKly5cwY8qcSbOmzZs4c+rcybOnz59AgwodSrSo0aNIkypdyrSp06dQo0qdSrWq1atYs2rdyrWr169gw4odS7as2bNo06pdy7at27dw48qdS7eu3bt48+rdy7ev37+AAwseTLiw4cOIEytezLix48eQI0ueTLmy5cuYM2vezLmz58+gQ4seTbq06dOoU6tezbq169ewY8ueTbu27du4c+vezbu379/AgwsfTry48ePIkytfzry58+fQo0ufTr269evYs2vfzr279+/gw4v/H0++vPnz6NOrX8++vfv38OPLn0+/vv37+PPr38+/v///AAYo4IAEFmjggQgmqOCCDDbo4IMQRijhhBRWaOGFGGao4YYcdujhhyCGKOKIJJZo4okopqjiiiy26OKLMMYo44w01mjjjTjmqOOOPPbo449ABinkkEQWaeSRSCap5JJMNunkk1BGKeWUVFZp5ZVYZqnlllx26eWXYIYp5phklmnmmWimqeaabLbp5ptwxinnnHTWaeedeOap55589unnn4AGKuighBZq6KGIJqrooow26uijkEYq6aSUVmrppZhmqummnHbq6aeghirqqKSWauqpqKaq6qqsturqq7DG/yrrrLTWauutuOaq66689urrr8AGK+ywxBZrrHVEJKvsskQcaxiz0AbgLGHQMivAtINVu+wA2AqmrbIEdBvYt8kWIC5g5BJhwLl/pXsAu36liwC8faWbAL18pasAvnuluwC/eqXLAMB5pdsAwXil6wDCd6X7AMN2pQsBxHWlGwHFdKUrAcZzpUsBx3KlawHIcaV7AclwpYsBym+lmwHLbqWrAcxtpbsBzWylywHOa6XbAc9qpesB0Gml+wHRaKULAtJnpRsC02alKwLUZaU7AtVkpUsC1mOlWwLXYqVrAthhpXsC2WCliwLaX6WbAttepasC3F2lywLdXKXrAt5bpf/7At9apQsD4FmlGwPhWKUrA+JXpTsD41alSwPkVaVbA+VUpWsD5lOlewPnUqWLA+hRpZsD6VClqwPqT6W7A+tOpcsD7E2l2wPtTKXrA+5LpfsD70qlCwTwSaUbBPFIpTsE8kcJkS7zRgXxPPREATE99UL9cD32QPmwPfc+9fA9+DzxMD75Ou1wPvo46bA++zbl8D78NOEwP/0y3XA//jDZsD//LqnB/wDIEhoMkIAqmcEBEYgSGSyQgSaJwQMhSBIYTJCCInnBBTEIkhZskIMeWcEHQcgRFYyQhBpJwQlRiBEUrJCFFjnBC2FIERPMkIYSKcENcQgREuyQhw4ZwQ//gcgQEQyRiAoJwRGRiBAQLJGJBvnAE6FIEA9MkYoC6cAVsciBLVJxA16EogbCyMQMkBGJGDgjES2gRiBWoI08nAAccSiBOdIwAnaEIQTyyMIH8BGFDvgj9qhAyEIa8pCGREK6EMlIRiKxkZAkZBIWGUlIPrKSjFQCJTGJyEty0pBLUFYRjHAEIxRBWZ/sJBFTaUgmJOsIsIzlEZLFSkN6kpVNIIIsd0mEWhbylql0wi6H6UtCAvOTTxjmLotJhWNyEgrKlCUznYnJKEQzltNcpS+lcE1YZhOIxZyCLqPZy2JSE5OvHCYtzalNX4qSlKZEJTvBycx6WpJB9synPvfJus9++vOfAA2oQAdK0IIa9KAITahCK4mhhUbynA6F6EIlqlCKJtSiCMXoQTVqUI4W1KMEBelARSpQkgbUpABF6T+xyNKWuvSlMI2pTGdK05ra9KY4zalOd8rTnvr0p0ANqlCHStSiGvWoSE2qUpfK1KY69alQjapUp0rVqlr1qljNqla3ytWuevWrYA2rWMdK1rKa9axoTata18rWtrr1rXCNq1znSte62vWueM2rXvfK17769a+AxUlAAAAsFAGsADcAjwCE/////fv5+/fz+PPt9u/n9u7m9Org8uba8OLU7t7O7NrI6tbC6NK85c625c21yphlnoyhiIbAgYTLX0cvV0ErTzsnRzYjPy8fNykbLyMXJx0THhcPFhELDgsHBwUDAAAACP8AAQgcSLCgQYIPEipc+OCgw4cQHwZgSDGixYsHBVBkiLEjxgEbF3ocCbFASIUkUxo0cDKhypcCD7RsCFMlgpk1VSbAmZOkAp49PS4AGhQjA6JFLTpAmhTizAZNMc5kEPXizAVVLc5UkDXizARdnbZEEPbhzANlHc40kPbgTAJtDc4cELfgTAF1EbYMkHcg07YTW/YVqFHwYJCG+5pMnJcl47oyH8e9Kbntzsppf2IuO3Rz2KOeuy4NnfXpYABTT19V3ZLr4K+sT5J93RIt7ZNsb4eEq3sj3d4U8QJnyHe4yMGBT54urPzw37SLm/d1LD1v5Op1KWOPe3l7W83e03b/Dl8WNPmwDZ6XNW1cIdX2CbHCf+C6L+z5s+3Xjh0yt/6TvP0X0m8CbiRcgRQVhyBHyKkXFnMhnYbYeV1FF+Fg1F3Y13Ua5qVdh3V1B2Jc4I3Y1ngmpmVeimWlR1pV7C240HsyKiRfjQnVl9d9OD6Q3477zecfkADy55uRwSFJnJLH9ZUciw862NWEUHZFgJRZZbjRaRxuOdiHXvYlYph5lUhmXSieGdeKao70wZtwximnnBPMNOedcxKE555wzjQBn3vqCSieM1Ew6J2CHiqnQhBEIEEEEChUgaJyJkrpmwlJoOmmEiRkwaVwWnrpA5yW+sAFoL4pKqWltopBqh+seqpoq6VmAKush9LKqQa3DgTrB7puukGvAv0arKYcEAvAr6Tq+kAHyjLbrKkPeBAtrIw6CqlCv+L667eq+gruuOSWC6i35l6KbrqKrsvuoO6+y2e88uJJb715iosvqPfuG6q+/rYLcMDwDkzwvAYfbG/CCudbbMPnDhQQACwTAawANACPAIb////+/v7+/f3+/fz9/Pv9/Pr9+/n8+vj8+ff7+PX7+PT79/P69vL69fH69fD59O/59O748+348uz48ev38On37+j27ub27uX17eT17OP16+L06uD06t/z6d7z6N3y59zy5try5tnx5djx5Nfx5Nbw49bw4tTv4dPv4NHv4NDu38/u3s7t3c3t3Mvs28rs28ns2sjr2cfr2MXq18Tq18Pq1sLp1cHp1cDp1L/o077o073o0rzn0bvn0brn0Lnm0Lnmz7jmz7fmzrblzrblzbXlzbTkzLPfwaPat5PUrYTPonXKmGWejKGIhsCBhMtWQStUPypHNiNGNCM5Kxw3KRsqIBUpHhQcFQ4aEw0NCgYLCAUAAAAAAAAAAAAAAAAAAAAAAAAAAAAAAAAAAAAAAAAAAAAAAAAAAAAAAAAAAAAAAAAAAAAAAAAAAAAAAAAAAAAAAAAAAAAAAAAAAAAAAAAAAAAAAAAAAAAAAAAAAAAAAAAAAAAAAAAAAAAAAAAAAAAI/wABCBxIsKDBgwCWKEmC5IiRGig2OEBIsaLFgQqWaNzIccnFjyABUOhIMqRJih1IdjzJsuAJlRxbygQAA+bGmS112NSIk+VOnj1N/iwSVOhOHEVD/nSRFOTPEk0//twQ9eJPCVUrBviJICvFBT+9UqwQVuxBD2XNFkSRVu3AGG3dAtgR1+1Pj3IH/hSSV+/OGn0F/mQROOFOEYV/Zki8E0JgAT8NBGZQV62FymY/YBabYrNXGZ6z8ghd9S5jmz9Ow5yhWqWK1iRBwO54YTbHBoEJ/BwQuAHpqBd+NwUhPKmK4kVnIA/qY3lP04F/8rC9MQZ1jSiuL/GgvYL2BYELOP/H+WD8TAzmZYZI33IFe5Y03p8EIt+oTSPac2h/od2Edg7aTaBdAoEZUF9IEBwIUgYKfiRCgxexAKFFNUxYURAWUvQTEdrdoF0L2pGgnQbaRaDdAYEdkCFCEax4kAYuGjRCjAW1QCNBNtw40BA6CrYTENoBFt1OK2gXgnYYaPeAdgUEhkCPAEgA5QZQlgClC1DiACURUP7Ug3YyaJeCdh9oZ4F2DGgnQEtbtOnmm3DCqcVPcdYZJwB25ukmFnTqaSeeftppRZ+BwglooXBSoRETTTjRBBMcIWqopHBKsYQTmGbqxEaUunlop1BoKqpGnbb5KaWiprpEqVucKmmqoj5pwaqriMKqaRSzsrqFrZlOkSurvGJaxa+lXmrrElcQ26lGsGqUhbKUbsSoo5CSCq2u2E6a7bbcdvunt93SCm6n4o4rabnmFopuun6uy26e7r5bZ7zyalvvufdSSm++rfKL6L75AnwvAAEBACwTAawANwCPAIb////+/v7+/f39/Pv9/Pr8+vj8+ff7+PX7+PT79/P69vL69fH69fD59O/59O748+348uz48uv38On37+j27ub27uX17eT17OP16+L06uD06t/z6d7z6N3y5try5tnx5djx5Nfw49bw4tTw4tPv4dPv4dLv4NHv4NDu39Du3s7t3Mvs28rs28ns2sjr2cfr2MXq18Tq18Pq1sLp1cHp1L/o073o0rzn0bvn0brn0Lnmz7jmz7flzbXlzbTkzLPfwaPat5PUrYTPonXKmGWejKGIhsCBhMtgSDBNOiY5KxwzJhktIhYlHBIfFw8aEw0SDQkLCAUHBQMAAAAAAAAAAAAAAAAAAAAAAAAAAAAAAAAAAAAAAAAAAAAAAAAAAAAAAAAAAAAAAAAAAAAAAAAAAAAAAAAAAAAAAAAAAAAAAAAAAAAAAAAAAAAAAAAAAAAAAAAAAAAAAAAAAAAAAAAAAAAAAAAAAAAAAAAAAAAAAAAAAAAAAAAAAAAAAAAAAAAAAAAI/wABCBxIsKDBgwiHCAkC5IcPGSYyMEBIsaJFgwuGaNzIccjFjyAJYuhIMqTJiyNIdjzJEiEMlRxbyiTIA+bGmTht3sQpU+cQGjx76kwRtKVPDkVZ+oSQ1KQBnwSahpzgU2pID1WtflyRVatFG129UvTpUWxFnzjMntXJQu1YnR/cJtRJQa5BAT4P2C3oIOxeABr87j0h2K6MwnJ9IHbrk8dfgj5hPB7ok8RkgT4xXAbgc8FlBIvVVghtFgRpsS1Oe82hWivZzT6BXvZJdLZOpLZtMp1MAOplCK2tcgguNQXxpjSOJ32dG2ba5irbQicJAjZd6zb1TlagvOiF7kFFgP/n+WI8zh3mZzbGDlPy9I6W33PULH+j58kF0suUoL9lh/4sqQDgSTUMaBJzk8XGnkq1JXjbgiTt9lgAvk3WgIEhZYAhSCVs+FEMHl7UQ4gWoQVhR9I5aFN19WlUV4tDaPfYASRWREGNFH2AI0Is7HjQDT4atB6M7qkIU3xGqkRfkiTd99gAQRb0QJQEbUDlQChcKdAMWnLWpYIwNvjYUSdyFEGZG0U1WQJdWtBlCF260KUOX+r0HJMo4iTFnnz26eefPinx56B+EkTooX361ASihBrK6KE+QfHon45O6mcUGhFRhBFFEMGRpYUOBKqfTgxhxKmoGrHRqHxWyuoSqcaEqhGre7o6aqy4DkGrFLaCiqusu/Zq6a+pHhGsqLsSiyoSxwq0qxTKnppEswA8ayqxQzBBrbXXyjrEE9vuupGmnHo6a7jPpqvuurQKy+6z7r7bLrLyrhtvvaDei++k+u7LaL/+HgpwwIMOTHCozh7MqsEK10pvw/w+DPG/Ek8scMUWDxoQACwXAawAPgCPAIb////+/v7+/f3+/fz9/Pv9/Pr9+/n8+vj8+ff7+PX7+PT79/P69vL69fH69fD59O/59O748+348uz48ev38On38Oj27+f27ub27uX17eT17OP16+L06uD06t/z6d7z6N3y59zy5try5tnx5djx5Nfw49bw4tTw4tPv4dPv4NHv4NDu39Du38/u3s7u3s3t3c3t3Mvs28rs28ns2sjr2cfr2MXq18Tq18Pq1sLp1cHp1cDp1L/o077o073o0rzn0bvn0brn0Lnm0Lnmz7jmzrblzrblzbXlzbTkzLPfwaPat5PUrYTPonXKmGWejKGIhsCBhMtYQixGNCM6Kx00JxopHhQiGhEdFg4WEQsQDAgLCAUFBAIAAAAAAAAAAAAAAAAAAAAAAAAAAAAAAAAAAAAAAAAAAAAAAAAAAAAAAAAAAAAAAAAAAAAAAAAAAAAAAAAAAAAAAAAAAAAAAAAAAAAAAAAAAAAAAAAAAAAAAAAAAAAAAAAAAAAAAAAAAAAAAAAI/wABCBxIsKDBgwgNNmGyREkSJDhScHCQsKLFiwkZNNnIsWMTjCBDIszgsaTIkydJlPSIsiVGGSs7upyZ0EdMjjRzFryJU6dPnk2G+PzJs8ZQnUBRHM0JlMNSmkAhPHWJAOiAqS0pAMXaEsRWridbfAUbMsdYshiRnEVrEegRtiCB4oCLESgLuheBfsDblucEvgkJAD0AGCGEtYUHckCcGMAJxolrQC48ZDJgoB8b7+TJQ/PmmzA8EwQqQvRAoBdMCwSqQPUCy3wxwMY7YjbdGLbh9sjNFrNqAECB/AY6YzjPEsZvakges4HqA7zRTohO9gN1sCuuc8WhHauR7lOBEv9hvtIG+ZIpznvsoL5jBNUCgBZQ/QD80w32l5rIf5QG/6FB/EfUTUi0x5EOBm7UQoJNgMAgBQwioJoCAupkQYU5iYAhTTBsOBMPHrrkm2pA+cBgDAyOwCAGDC6gmgEhtiRBjCh5QONJKdwo0g06hlREj3HxJASDNDBoAoMbMPiAagEAJYBqDQCJkQZSXlRClRbNgGVFP2yZEFBGMDgXiTypwKAHDErAoAGqJeAlQhW8eVAIchrkQp0F7YDnaHuextMODL7AYAhPcWHooYgmqihQVyjqaKIWPSopokBpMemjkV766BZAaepopp4misVGTjwBxRNOdBQqpBWtmmgVTUCUIeusUHDk6qGg3joFrbxudKuhubrK67BN/MpFsKsO26uxyIaqLK1RMNuqsc/OKoW0CRnLRbWyUoEtQtrG+mwTVnx7ULji9tpEFuYahG4TpZ6aqq/tFqTtvfjmqy+u0+6rb7P+/gpwwK4OTHCoBh+sacIKT8pww5j2C3HBEk+McMUWL4xxxg5vzHHE2X7s6cMik/xxQAAsIgGsAEMAjwCG/////v7+/v39/fz7/fz6/fv5/Pr4/Pn3+/j1+/j0+/fz+vby+vXx+vXw+fTv+fTu+PPt+PLs+PLr+PHr9/Dp9+/o9u7m9e3k9ezj9evi9Org9Orf8+ne8+jd8uba8ubZ8eXY8eTX8OPW8OLU8OLT7+HT7+DR7t/Q7t7O7d3N7dzL7NvK7NvJ69nH69jF6tfE6tfD6tbC6dXB6dS/6NO96NK859G759G659C55s+45s+35c625c215Myz38Gj2reT1K2Ez6J1yphlnoyhiIbAgYTLYUkwWUMsVD8qTTomRzYjPzAfOisdMyYZLSIWJRwSIRgQGRMMCwgFAAAAAAAAAAAAAAAAAAAAAAAAAAAAAAAAAAAAAAAAAAAAAAAAAAAAAAAAAAAAAAAAAAAAAAAAAAAAAAAAAAAAAAAAAAAAAAAAAAAAAAAAAAAAAAAAAAAAAAAAAAAAAAAAAAAAAAAAAAAAAAAAAAAAAAAAAAAAAAAAAAAAAAAAAAAAAAAAAAAACP8AAQgcSLCgwYMIEQoJAuSHjx4xTGhokLCixYsYASAQwrGjRyEZQ4qsGOGjyZEoUwLIYPKjypcZQbT0CLNmRRQzO9rcafBFTo48gwq08ROkUJ5FjR61WZTH0p1FZzxl+pPF1JpFS1yFWbTD1pdFLXxVWZTBWJQDihI4O3JBUbYjK7yFG5LDXLoYR9zFa3HFXr4JZfwFfFDHYMIFkyKuWPTG4oRFXzxW+BPF5INFQ1w2WDTD5sQ/I3wmWBTBaIEGDk9+oPrxhdaLPcBGbGI24Ra2AdPIzbcHb7xNTwuMKhxAUavCsxbvuvyn2OQ/zZ4OoFZ4gt90J2CHq2E72xDez6b/CD8WBvmvOM5vVQw9p+P2MyXDb2l5vknN9j96zu9RQvOcpp1GgHpXMUDgVBYc+FQHCi5FQoNHsQChUDNMGNQOFiL1k1P8dSRVhxwhd5pyIArhVYnPjRjdfzOtddoBGe4EQYw2YUBjTR/cCNMJOr7kQo8q1QBkSuyp6B6LLcln5Ez1LdkSfk6atF+UH/lXYoCjCTAkSgpsORIFXoq0QZghiUBmRiqciVEMal6UQ5sWBVfih1R6JOJoJNbZ0Yl6cpQiniuW6OJoBcBZkQM9TqHooow22igURTkqqaMiTWrpok5EeumklW46KROaetpop6I2qgRHQxBRBBFDeFTqqCG9mdooEkIUYeutRXQk66Kk7moErsBytKuivcoK7LFHDDtFsa8eC2wSyjJbqrO4LhFtrMpSe2sT12ak7BTa2vpEtxh9Wyu1QkRB7kXmnhusEFKsa1G7QqS6aqvCylvRt/z26++/nGIL8L/SDjxswQbLinDCpS7MsKcOP3xpxBIH7G3FBwuM8asUb8xoxx4Tq3HIm4Icsskeo7xxQAAsMgGsAEgAjwCG/////v7+/v79/v39/fz7/fz6/fv6/fv5/Pr4/Pn3+/j1+/j0+/fz+vby+vXx+fTv+fTu+PLs+PLr+PHr9/Dp9/Do9+/o9u/n9u7m9u7l9u3l9e3k9ezj9evi9Org9Orf8+ne8+jd8ufc8uba8ubZ8eXY8eTX8OPW8OLU7+HT7+HS7+DR7t/P7t7O7t7N7d3N7d3M7dzL7NvK7NvJ7NrI69nH69nG69jF6tfE6tfD6tbC6dXB6dS/6NO+6NO96NK859G759C55tC55s+45s+35c625c215c205cyz5MyzyphlnoyhiIbAgYTLPS4eOCocNCcaLyMXKiAVJRwSIBgQGxQNFhELEg0JDQoGCAYEAwIBAAAAAAAAAAAAAAAAAAAAAAAAAAAAAAAAAAAAAAAAAAAAAAAAAAAAAAAAAAAAAAAAAAAAAAAAAAAAAAAAAAAAAAAAAAAAAAAAAAAAAAAAAAAAAAAAAAAAAAAAAAAAAAAAAAAAAAAAAAAAAAAAAAAACP8AAQgcSLCgwYMIESpZyLChkoQQI0qcWJCAw4sUM2rMiOCiw40gQxpc4LGhyJMhHZRkiLJlxggrF7qcGZFCzIc0cxrMcFOnz4Edev70CULo0JwjjB6daULp0pYpnD49yULq1JAxrF7dSEPr1ow4vH6duEPs2Ig+zJ5NKETt2oNG3L4teBPJ3I03idzVeBPI3ow3e/yleFPH4Ik3bRyWeFPG4og3XTyGeHPF5IQ3UVxWGLPE5oM3RXw2eNPDaLoxOZwmePPC6oE3J7wWeBPCbAA3G9y+qWB3TAO+VwqYHUDu3wLG9yZIfpcB87kPnr+VIH2thepnN2Af62H71xDet5L/CH/1BPmpK84/baF+qYz2R2vAH5pj/k8e9n3+yK9zCP+cR/xH001GBFfSEAZ69EOCF/HAoEM5PNhQDRIyFEOFC7WAoRIqbHjChiRsGMKGps12kwYbVrBhBBs+sCEDGyawYQEb3jaAgDMdgKNLCuzYUgM+ogRBkCdNQKRIGBwZEgdKgvRBkxuJAKVGJUyZEQpWUpReTLe9kOVEM3wp0Q1iRqRDmRD1gGZCQKyJEBFuHpREnKTFVMSGQWzow4Y7bIjDhjRsCMNZWxRq6KGIInqTE4k2muhJjkZq6E1PSBoppJY6ehMUmTaKaaeKLrQEE00wsQRDUYCK6KeqFrpQE7DGmNrEQlK0aiirrSoh665KTGFrobiquuuwVPy6RbCgDrtrFcYi26myslrRrEjGbgFtrFdMG1K118KKhbYgVasrtEpkAe5G4o7LqxJanKtRukqMWuqpC1XrbLX45qvvvqtSyy+/9/7basACg0pwwZkejLCkCi/saMMOP+pvxLZCTPGtE19scMYaJ8xxxwx/DPLDIo8s8bYmWxoQACxHAawASACPAIL////KmGWejKGIhsCBhMsAAAAAAAAAAAAI/wABCBxIsKDBgwgLBljIsGGAhBAjSpxo0KFFihgzZrToUKPHjwc5NgRJEqRIhiVTbjz5UKXLiCxbvpxZkSXNmwRj4typc+fNnj5nAg3qcijRlEaPkkyq9CPTphqfQsUoderEqlZh2szqdCvXqF6/Ug0r9irZslpPoh2rdq3Ztm7TiowrEStdu3HxutW7li9av2UBixX8lTBXw1kRW1U8lTFUx00hK5V8lDJRy0Ex+9TM8yxdhZ4/D+SMk/TP0KIBmKa5Wihq0a1fxi76+vNslbeR1r67O2/vvb/7Bv87PHDxwccLJz+8PHHzxc8bR388PXL1ydcrZ7+8PXP3zd87w/9NDXo8+dHhS6c/bf686vWs4btufz53SftL5cvWT5s+efwm8YebgLr5lxqAXRkIG4H3MZifgrY5GCCEvFHom4XAYSichsRxaJyHyIGYUgEklmjiiSfGhOKKK5LE4oslqgjjiy7OyKKMNqJYY44pLiTAAAQMIABDPOoIUpE9EqDkkgQshKSJOz4ZAJNUBvBkiVEiSeWWV5KYZZFbUtllAV/yGCaTY5aZ45lLpnlkl2wq6eZHY055ppVdqmnjQmE6meebVzL0Y5BD+nmlnmMmquiijEIJaKOLIgppkZJOmmOlls6IaaY0Psrpk5t+aiSdoh7qaamXnoqqpqqu2imprqYNCmusrM5K66se3WpjQAAsXAGsAEcAjwCG/////v7+/v39/fz7/fz6/fv5/Pr4/Pn3+/j1+/j0+/fz+vby+vXx+fTv+fTu+PPt+PLr+PHr9/Dp9/Do9+/o9u7m9u7l9e3k9ezj9evi9Org9Orf8+ne8+jd8ufc8uba8ubZ8eXY8eTX8OPW8OLU8OLT7+HS7+DR7+DQ7t/Q7t7O7t7N7d3N7d3M7dzL7NvK7NvJ7NrI69nH69jF6tfE6tfD6tbC6dXB6dS/6NO+6NO96NK859G759C55s+45s+35c625c215cyz5MyzyphlnoyhiIbAgYTLKR4UJRwSIhoRHhcPGxQNGBIMFRAKEg0JDgsHCwgFCAYEBQQCAgEBAAAAAAAAAAAAAAAAAAAAAAAAAAAAAAAAAAAAAAAAAAAAAAAAAAAAAAAAAAAAAAAAAAAAAAAAAAAAAAAAAAAAAAAAAAAAAAAAAAAAAAAAAAAAAAAAAAAAAAAAAAAAAAAAAAAAAAAAAAAAAAAAAAAAAAAAAAAAAAAAAAAAAAAAAAAACP8AAQgcSLCgwYMIBRJZyLAhkYQQI0qcWNChRQEUM2qkaNEhgY0gQ1bsyNCAyJMgSTJEgLIlR5VEFLicCREmEQY0cxq06UCnT4UwIfz0aVPCUJ02KxzNafPCUpo2MzydaXPDVJc2O1xtafPDVpQ2Q3w9aXPEWJE2S5wNaRPF2pQwVbzdaNPFXI02YdzNaFPG3pcqafydaNPGYIk2cRyOaFPH4poweTxOaNPHZIQ2g1w+aHPIZoNBbH4u+EP06IE9TJ8GsEP16RyuR9+I/bkG7c0zbl+OoXuyi96PVwBfnGL4YRPGB5NI/lcE870gnt/1IH0uh+pvNWBfi2H72Qrex07/CP81AvmtD85fbaB+6oL2TxPAX3pg/tEC9ocOyD+U/0+bAawGlEoDCAiATQUYaNMBCsKUQIMqLQAhSQ1M2NEDFloUQYYOUcBhQxZ8yBAGIi6kQYlEcICiByiCgKIIKJKAogkopoAiCyi+gGIMKM6AYg0o3oBiDijugGIPKP6AomYCCuGfTkA8mZMPUtLEQ5Uz6YClSzhs2ZINXqJEQ5gnyUCmSDCcGVILaoKkQpsbnQCnRiXMmdEIdlIUQp4TfcCnRB2cWcWghBZqaKFI2HTooouKxOijgyahKKSPOkrpokpMeumhlm5a6BIMFWHEEUYUwZCnnIaEaqFMLHTEq7Aek7HQqoV2umoTRMSqKxG0Emorqk7oKmyvg/7q6RPC6kpsFcZuCkWysS7b7KVRQAurtKr2KoW1r2ILErFT5Aotr8ROSykVrgo7a7nZ9hrqqKWeyu63y9Zr7734UmpuvrTuyy+q/v67acAC69tuwfNuhHC9BC/c6MEOAwxxxANPTLHB9F7sacMaM2txxw9nDDKkHGscEAAscAGsAEgAjwCG/////v7+/v79/v39/v38/fz7/fz6/fv6/fv5/Pr4/Pn3+/j1+/j0+/fz+vby+vXx+fTv+fTu+PPt+PLs+PHr9/Dp9/Do9+/o9u/n9u7m9u7l9u3l9e3k9ezj9evi9Org9Orf8+ne8+jd8ufc8uba8ubZ8eXY8eTX8OPW8OLU7+HT7+HS7+DR7+DQ7t/Q7t/P7t7O7t7N7d3N7dzL7NvK7NvJ7NrI69nH69nG6tfE6tfD6tbC6dXB6dS/6NO+6NO96NK859G759C55s+45s+35c215c205cyz5MyzyphlnoyhiIbAgYTLX0cvXUYuVkArVD8qTDkmSjglQjEhOCocLyMXJRwSGxQNEg0JCAYEAAAAAAAAAAAAAAAAAAAAAAAAAAAAAAAAAAAAAAAAAAAAAAAAAAAAAAAAAAAAAAAAAAAAAAAAAAAAAAAAAAAAAAAAAAAAAAAAAAAAAAAAAAAAAAAAAAAAAAAAAAAAAAAAAAAAAAAAAAAAAAAAAAAAAAAACP8AAQgcSLCgwYMHkyhcyDAJwocQI0qM2LBigokYM2oUWLHhg40gQxrsyLCCyJMhSS70gLJlRpUKSbicSRGmCpo4E8KckbPnQJhJcvj0CfTH0J5AixzNSQToUpw+nD6diUPq1JYxrF49mULr1pAjvH7d2EHs2IwUzJ6d6EDt2ogH3L6FCDTA3I1AFdzVCBTC3pcwL/zFCPTD4IlASxyWCJTF4poqaTymC1PH5IdAgVxGCNTI5oND5D7uIXrxjdKHYaAejGL1XxGu926IfXcC7bkNbr8toPst0AGfR8JcELwg0AjFCQLNkPwnTBDNOcI0ER0A0BbVgdbIDnMHd5VBvpP/RFJdSO+zPM6PtaH+q4v2W0/Avxpi/tQM9p9KyL+UAf+jBPx3FFAFiNcRAwZWJEGCDWnAIEMhPLjQCRIq9EKFSdiAIQ8YClHdEQL6FESIPe1AYk40nIgTCyrSZEKLM4EAo0sYzNhSBDaitECOJwnA40lAGYBhAxhOgCEHGIqAIQoYwoDhDRj2gOEQ1RXxY0hAXAmSDlpuNEOXGq0AZkYljInRB2ZOZEGaEkHAZkQKvAkZSdVZBxMCGDqAIQUYdoDhCBimgKEMa2lh6KGIJoooUFIo6qijJz0qqaFAQTHppJFe6ihQTmj6aKaeItrEQkoswcQSSiwUqqKgrqrFEwoxmCHrrEwo5Cqira4aRRK09prErYfmGuoUvRYLrKHCekpFsb0eq0WymlbBLK3OQnupFdPOWq1Ix16RrazbhnQsFrxO++ux1k6aRazF2oout8eSaiqqqr4rrrP45qvvvpqmy6+r/v4basAC9wtvwfgSjLCkCi8M6cEO39pwxLhCTPHAFl9s8L0aY8xxxxuDBLLHIo8c8kYmaxoQACyFAawARQCPAIb////+/f3+/fz9/Pr9+/n8+vj8+ff7+PT79/P69fH69fD59O/59O748+348uz48ev38On27ub27uX17OP16+L06uD06t/z6d7z6N3y59zy5try5tnx5djw49bw4tTv4dPv4NHv4NDu38/u3s7t3c3t3Mvs28rs2sjr2cfr2MXq18Tq1sLp1cDp1L/o077o0rzn0bvn0brm0Lnmz7jmzrblzrblzbXlzbTkzLPfwaPat5PUrYTPonXKmGWejKGIhsCBhMtHNiM3KRsnHRMiGhEdFg4WEQsQDAgLCAUHBQMAAAAAAAAAAAAAAAAAAAAAAAAAAAAAAAAAAAAAAAAAAAAAAAAAAAAAAAAAAAAAAAAAAAAAAAAAAAAAAAAAAAAAAAAAAAAAAAAAAAAAAAAAAAAAAAAAAAAAAAAAAAAAAAAAAAAAAAAAAAAAAAAAAAAAAAAAAAAAAAAAAAAAAAAAAAAAAAAAAAAAAAAAAAAAAAAAAAAAAAAAAAAAAAAAAAAAAAAI/wABCBxIsKDBgwAUVACxAkcOHTt49EBIsaLFiwh7aNzIsQcCjCBDhuxIMoLIkygNkuyoIaVLlCs5jnhJE2TMjStq6qx4U6ONnUANzug5MahRACmIHjX6QelSoBWcPtXJQOpUmgKsXn1JlMDWmkQdfKVJtMJYrj09nHVJ9MTalDd6wniLcoVWuhdF3MVbEcNevggf/AVssMBgwgUPIx6oeDEAoh8dUyRqUnLGni0tHyQ6U7NBFz1zei5YoufP0QQ3NEYcYTXhA64JxwY8m29tvF1REwyrm3FPs70BxEgbHMCJnm6Dd+j5oviE228TQH87fW31s9fHZv+6fSvk4jR6Vv/urQJzcRA9O/e2ELp4A9PFB3S/On9q/af3l+Y/ut8ojp5eBcdCTw0UN8JvxWVAXHAQIFecAcwV91hPEvYXlIVAYbiThjpxWNMLFBZnQk+R9caBeMVJYF5wCKRX4U2iBQdfcR6SFaKMN/ZW40sy5KgbCj6i5gGAxVFAYHELIBhcAAviGFNyTq7UHI1BjrYjW1V6ZkOWmtl1k4QhcGnZBWJK5gCJxRGAIpUxZRYlSerpCOOLMdVAZ0x3riRhC2U6RkKfi2kAKFBKFGrooYgeWkRPiTbqKEqORlooEj0lIamkkF7qaE9GaProSZ42upEPPwDxgw8aDRFqopmuaqhGQMSJKisQPQjh6qGt3trDrLwGcauhubrK67C/FhrsqsPyWqwSx4aa7KzLNuvps7JGC2qx1MZqrUjLEkFtD9uGtOwRuw6rUbggLauERqSaiuq5xUqr7rz01juvvPbeim++q+7Lr6f+/ntpwAJHSnDBjR6MMKIKLwzstQ672nDEEztc8cIXI5xxwRsLHBAALJcBrABBAI8Ahv////7+/v7+/f79/f38+/38+v37+fz6+Pz59/v49fv49Pv38/r28vr18fr18Pn07/n07vjz7fjy7Pjy6/jx6/fx6vfw6ffv6Pbv5/bu5fXt5PXs4/Xr4vTq4PTp3/Pp3vPo3fLn3PLn2/Lm2vLm2fHl2fHk1/Dj1vDj1fDi1O/h0+/g0e/g0O7fz+7ezu3dze3cy+zbyuzbyezayOvZx+vYxerXxOrXw+rWwunVwenVwOnUv+jTvujSvOfRu+fRuubQuebPuObPt+bOtuXNteXNtOXMs+TMs+TLst/Bo9q3k9SthM+idcqYZZ6MobSHWoiGwIGEy39/u3t8uYV5lKB4UGRghFM+KUc2Iz4uHzQnGjMmGSkeFCcdEx8XDx0WDhMOCRIOCQoHBQgGBAAAAAAAAAAAAAAAAAAAAAAAAAAAAAAAAAAAAAAAAAAAAAAAAAAAAAAAAAAAAAAAAAAAAAAAAAAAAAAAAAAAAAAAAAAAAAAAAAAAAAAAAAAAAAAAAAj/AAEIHEiwoEEADjqswHEkiZIlTJocnEixokWKTTJq3NjkwcWPIEFyHOkhpMmTBUdybIGypUmVG3e4nHkR5kaaOCcOsZkxp0+CNHhK/PnThFCiPzEcRZoTgdADTHMKvRAVp1ATVWkKpZF1plAhXV0KHRr2JI+lZU26QJsW5Ae2bS9CgBvXolAHdUXy7JD3o1AWfWvy1BHYLt3CBIkcRiywxmLGJx4jziC5cAKhBhhPFGpB80GhJTwbFDpDdEqeQEwTHKt6YI/KgV/A7gtidt4ItusKEMqgtUChHHwDELpCuNAcxnPHLaK8rY3maVNAL6thelgFQgskt1lhO8wR3lXG/wg/8gf5kcJ9WO8KY33WEO6rSogflYDQBec3bsivUQX/jDj81wQSwh1BH1M3HIiUCgoStUGDPy0gFAECTiCgCALCIKAPApKl2g8Q+hRDiDmNQCJOFJxIUwFCKSCgBgKmIKANAhrRoXA5qDjTCjq6xEGPLTEg1AACSiAgCAK+IGAPN/oGBJAoyQDlSSRMaZIFVoZkgFAJCJiBgCgIWIOARDTZmg5ZgsRCmh91wOZFDQgVgIAQCPiBgC4IyIOZqgUBJBmABirooIFiIRShiCYKUqKMkrHFoY02umikhH4BKaWIToppoGNs5AQUUUDhREZibEqopqaSoVEUrLYaRRNepJgqKKqmZuTqrVrIGiitmzZx66+6Asorpr7+6mqwZAxLabHGsoqsspFe0Wyrz34UbBbTOhsstI1yweyvTVR7UbBg2ApuuNtaG2wTT1RBhRRRTGFFF2Egm6y69uar7777cstvqv7+u2nAAlNKcMGS4otwuuMuLK5FDj9cUcQMQ0yxrAdfvKvCGhvMcccJNwyyxyKPHLLFJjcaEAAspQGsADoAjwCG/////v7+/v39/fz7/fv5/Pr4/Pn3+/j1+/j0+/fz+vbx+vXx+vXw+fTv+fPu+PPt+PLs+PLr9/Hq9/Dp9u/n9u7m9u7l9e3k9ezj9evi9Org9Onf8+ne8+jd8ufb8uba8eXZ8eTX8eTW8OLU7+HT7+DR7+DQ7t/P7t7O7d3N7dzL7NvK7NrI69nH69nG69jF6tfE6tbC6dXB6dXA6dS/6NO+6NK859G759G65tC55s+45c625c215cyz5Myz5Muy38Gj2reT1K2Ez6J1yphlnoyhiIbAgYTLjX+ZoHhQd1o7V0ErTzsnTjsnRzYjPy8fNigbLyMXJx0THRYOFhELDgsHBQQCAAAAAAAAAAAAAAAAAAAAAAAAAAAAAAAAAAAAAAAAAAAAAAAAAAAAAAAAAAAAAAAAAAAAAAAAAAAAAAAAAAAAAAAAAAAAAAAAAAAAAAAAAAAAAAAAAAAAAAAAAAAAAAAAAAAAAAAAAAAAAAAAAAAAAAAAAAAAAAAAAAAACP8AAQgcSJAgAw0lYvgAEkTIECIFI0qcSLGiQCIYM2okAsGix48VN4r8ALKkSQAiN7Y4ydJiSo08WsqU+FLjzJsDY9TEiBPniJ0Qe86kAFToTAJAFRiVCXTD0pZAUzxlCRTH1JNAg14FaaPoVpAovH71qEHs2IoJgBo46xHoBbYud5aAG3InDboUs+KduMPs3oEs/P4F8EHw3wdABwwuCHTCYoJARTweCBTG5IuG9+q9rHPnZQA/PV8mKnoy0p0OPgP1oHoni9Y1d8Cu+blr6cdhby8uq3tw2p0JZqfUIFwkiuIbbyDf+Llv77+Bn+8tLB0v4p0Flme0oB0jie5EZoD/1/p48+TOtC+HTj+ZdE0Bl0/XlAA+BPgX4H+Mr50Zb272j/EG4GK/1dQAeB2AtwJ4Oux3mXMDDhZdhH9RR+Fe19WEAHgZgHcCeDY4OJl5j6H30mfrnTgaUATEB1QF4I0AngwiltcfXbZd6N+NcAn4UgCXFfhSBOCBAJ4L4PVQ42IQqjjZhE4+ZmGUi2X40gLgcQCeCuDlsORgJC5mYkoo8siWey8d4OJOGIBnAng1LHXFnHTWaWedWd2pp54S7ennnHn+6Wefguq5BFCF7kloonU+kVERRhxhRBEZMXrnopZeIQVGR3Tq6REYWZEpnZhaWgURn6ZKxBSjzlmqpanGiQpFq1e8ymisqTZBq62J4vopEbtGROsVvnoKbKu8Flpsp8eOmqygThSLUbAFDRsFqrFWiqywtFKBEaSSIqEEE1IM+6ygRCQxbrnDtusutQS9K2+d585rab32JopvvoLuy++g3P5rbsACb1ttwfAOhHDCAi1scLwOZ+pvxLUSTHG/Fl8M8MEaCxoQACysAawANACPAIb////+/f39/Pr9+/n8+vj7+PX79/P69fH69fD59O758+748+348uv38On27+f27ub17eT16+L06uD06t/z6N3y5trx5Nfw49Xw4tTv4dPv4NHv4NDu3s7t3Mvs28ns2sjr2cbq18Tq1sLp1cHp1L/o0rzn0brmz7jlzrblzbXkzLPky7LfwaPat5PUrYTPonXKmGWejKGIhsCGhL6BhMucdU6Cd5NvUzdYQixXQStHNiNCMSE/Lx8vIxcrIBUpHhQnHRMWEQsVEAoSDQkOCwcAAAAAAAAAAAAAAAAAAAAAAAAAAAAAAAAAAAAAAAAAAAAAAAAAAAAAAAAAAAAAAAAAAAAAAAAAAAAAAAAAAAAAAAAAAAAAAAAAAAAAAAAAAAAAAAAAAAAAAAAAAAAAAAAAAAAAAAAAAAAAAAAAAAAAAAAAAAAAAAAAAAAAAAAAAAAAAAAAAAAAAAAAAAAAAAAAAAAAAAAAAAAAAAAAAAAAAAAAAAAAAAAAAAAAAAAAAAAI/wABCBwoEIEEDSJUsGjh4gUMghAjSpxIUSCMixgzwlBQsaNHiRpDUvhI8mNIjR1KqqR4MqOJlTAhtswYsyYAETMv2oyJIefDnSsd+AS6coDPAERV+mSQtKTPCk1J+vQQ1WTOE1U9lhiatSIHrl0nSgAbNqIBsmVl5hSQFmTOBm0j+rQQV+1MEHUJosiZIu/AD2jjVgjcdgHhtofT+iTg12LOB40B+LwQ2WeIyDhnrojcM2dkoZ4bGw3dOHFZnwUq54SgemaGyFtnjoj8lXTesbbrns1d13RY3119GmjdMkLkvTM3RAY8k0TkwbwLA886vWr1qNeb+jxA/OQEzDk5cP/OWeJzdqKjZ0aWHB1xe8XvT+dMADvnyMa1W6ZsjLvly8a7qdddSOudR5SBQB11XE5MNcZcS1A1Bl1LVDVm2ExYDahRgfH91mFwH1K3FngzwdVYZy3R1RhoLeElGl8cClhaiNbRiJ2NTcXWEmP4PRZZfydRBmBOl2mI0WZGYhRjS0uetB5yTC6XU2oSrhbZhS29liQMs23504wy+oXgTmPalFmUJ+Y03Io5Gfdick1q5JyXOxVh55145omnT3r26ScAfgZqJ5+CCgpooX3mkBOigR7KKJ48YBSDDDTIEMNFj/bpaKZFAHERDaCGSgMMQ3CK56aZEgGDqKz+YOqdqGZ4yuqsr9oZ66OzslprEbcymquou/aK6K+hBrsrsaAaW6sOxMKg7Ks9rDorprUKW2gQF01Kwww24ODDrryCC0MNN+wgBLjopluoteqaym67mb4LL6PyzruuvenWi++f+4Krb795/gswrAO/KnDBBw+cMMAL99vwvgEBACyoAawAOACPAIb////+/f39/Pv9/Pr9+/n8+vj8+ff7+PX7+PT79/P69vL69fH69fD59O/59O758+748uz48uv48ev38On38Oj27+f27ub27uX17eT17OP16+L06uD06t/z6d7z6N3y5try5tnx5djx5Nfw49bw49Xw4tTw4tPv4dPv4dLv4NHv4NDu39Du3s7u3s3t3Mvs28ns2sjr2cfr2cbr2MXq18Tq18Pq1sLp1cHp1L/o077o073o0rzn0brmz7jmz7flzrblzbXlzLPkzLPky7LfwaPat5PUrYTPonXKmGWejKGIhsCBhMuNf5mgeFB3WjtaRC1WQStPOydEMyJDMiE/MB8tIhYsIRYpHhQnHRMWEQsVEAoSDQkAAAAAAAAAAAAAAAAAAAAAAAAAAAAAAAAAAAAAAAAAAAAAAAAAAAAAAAAAAAAAAAAAAAAAAAAAAAAAAAAAAAAAAAAAAAAAAAAAAAAAAAAAAAAAAAAAAAAAAAAAAAAAAAAAAAAAAAAAAAAAAAAI/wABCBwokMGGFDaEECli5AgSghAjSpxIMSKSixgzInlQsaPHjhpDevhIsqTAkBpdmFwJEiVGHixjSnSZUabNgTtoXrx5s4XOhzxldvgZVGaDnwGKxvwZQSnLnx+crvz5QqrJnz2slvwJVKtHHUS9emQRVmxFDmXNTlzwc4Daij8nvKX4U8TciT9l3J2pE8hei2n/AsgR+O+Kwns3IL6r4GcBwQR/WoA88CcJyid10sAM4OcQzlw541g8NwXptxpOq03w8wBonRhe0zwh2+WN2i5xo+R8Q7VZFL7FZgjuFcHPBLo1akieUQVzjDieY5S+E7MN4lpNYLeKYbvUAz8XUP/nQJ0F9R3Uu0IOjbmGd6cl3iu9IL+ogZ8OqI/E/FMlf50w/acTZ0HUFxQNBvI0QoI3VYAUZgUwRV1UArpUVYUoZYXhbpgBwaBNM3wokwgixkRBW5gREBd1dm2okV4uZuRXjDVh9kOJLMWA40oh7GjSBI5hNoBk1F1G40WbHYnEZ0qqJ5gPPpYEQ5QkgUDlRxK0hpkAP8WmJG1K3tZkepz1cKVHL5zZ0QdqVgTBcZgF8NNySjqnZHRjBsXFnnz26WefXP0pqKAQDWronk/8dOihhS4qqBSKOkooQZL+WQVGSSixhBJJYFTpn41+umcWFy1h6qlLXLSFqHyGyioSqMaSisQVrO7pqqix5kpFrVzc+mmusULBq6+VAosqEsNSyquxpyJbK7GSMmuqs6xC6+gUzF6U7EC8cmEFrLl6+qyytWpxUaabMuFEFFh0a62jSDSxbrvd9vluvfjmq++k3O67773+VgpwwI4OTDCj5B68rUAK12tww6AmDPGnD0/cqsQWF4xxxgj3y7GkFWccssUQBQQALJwBrAA/AI8Ahf////79/f38+v37+fz6+Pv49fv38/r18fr18Pn07vjz7fjy7Pjy6/fw6fbu5vXt5PXr4vTq4PTq3/Po3fLm2vHk1/Dj1fDi1O/h0+/g0e/g0O7ezu3cy+zbyezayOvZx+rXxOrWwunVwenUv+jSvOfRu+fRuubPuOXOtuXNteTMs9/Bo9q3k9SthM+idcqYZZ6MoYiGwIGEy2BIMFA8KEc2Iz8wHzcpGy8jFycdEx8XDxYRCw4LBwgGBAcFAwAAAAj/AAEIHEgQAIIIGUKoWMGihYsXBSNKnEixosQXGDNqfGHAosePIAFsHOkgpMmTA0dupICyJUiVGje4nFkRZsYQNHNGtIkxhc6fAnliBPqThFCiOjscRUrTwlKmLiE8hYoywVSqJgUIHYC1pdAFXVEKjRD2pNALZU0K9ZA2pNASbV9ejTvxxFy6EUHcxUtQw16+Aif8BdxgMN8ChvkK7Qh4otCSjS/yZBl5J0+ZlQsKxZmZoFCfnQeqSEx3BOm4HE63raA67YPWZQ/ADhtga+iUPMHeFsmT7O6zu3nbZPubJ4ngQiHuNjG764fmWDFApyphOtQF1pkSyM50MXKekG8L/6Us/vJ3m5zL2wR9OwV3oiLeA90g/yeF+jod4M9pYH9O28XZpMB5MPmmHkxoBQgTcQeqdJyCMAVnFE/BKUXhbk5deJtUGoZmVYedaQViZ95BSBKBKpEXmlCYNThSeivyxF5odo1YmV42RuZXjo0JxiNh/s2E2I+AAejiRgOauJGBMdqU4JEaMdgkTA/eNhqReJmGJV2pbRkXa1629VqYaclGZlm1nVlWiVBmFN6UKaI4UotwvijnRigEx5yazgXpknR8YlVdoFQx4CcAPySq6KKMKtqDUI1GKqlHklaaqFA+WGoppZpGKtQOnU5qUaiNagRDDDLEAANGOZDaKKeuXp2KkQy01irDCzfEuiissc5qq6016Koor66+8OuxwiZKLKkzHPtrsj8sGyoNztoKrbSd2lBtrdeOKiwO29LabUXJ6mBstS+MS1GyPPj6K0bqTgRtRqemuiq8yWIL7b7KesvvvwAHLKy+AsdKcMGkHoxwpwovvKm/Dg8MccQGT0xxwhZfzHDGGj9MbseuNgxyvx+PvHHJJnu8bsqaehQQACyMAawAQwCPAIb////+/v7+/f3+/fz9/Pv9/Pr9+/n8+vj8+ff7+PX7+PT79/P69vL69fH69fD59O/59O748+348uz48ev38On38Oj27+f27ub27uX17eT17OP16+L06uD06t/z6d7z6N3y59zy5try5tnx5djx5Nfw49Xw4tTw4tPv4dPv4dLv4NHv4NDu39Du38/u3s7t3c3t3Mvs28rs28ns2sjr2cfr2MXq18Tq18Pq1sLp1cHp1cDp1L/o077o073o0rzn0bvn0Lnm0Lnmz7jmz7fmzrblzrblzbXlzbTkzLPfwaPat5PUrYTPonXKmGWejKGIhsCBhMtiSjFZQyxXQStOOydMOSZDMiFAMCA4Khw1KBosIRYhGBAVEAoKBwUAAAAAAAAAAAAAAAAAAAAAAAAAAAAAAAAAAAAAAAAAAAAAAAAAAAAAAAAAAAAAAAAAAAAAAAAAAAAAAAAAAAAAAAAAAAAAAAAAAAAAAAAAAAAAAAAAAAAAAAAAAAAAAAAAAAAAAAAI/wABCBxIkKADDipwIEmiZAmTJgUjSpxIsaLFJhgzamyCwKLHjyALbhwJIaTJkxJHbsSAsiVKlRo/uJwJEmZGEzRzVrSJEYbOnxF5NrkBtKhAoT+MFhUKUenPI0Kd/vQRVWrOGlWtznSRVWtLEl29nuwQVmzICmXNfmyQVq1FA0IDuD0pNMFck0Ij3A0pNMPemjxB/P0o9MRgj0JjHL7IE8finTyBPKbIdPJEIm0n78j8eAbnxSs+HxYhevCG0n8noN67YPXdAUIFWE7JU8HsoDwl3BbJU8NugkJD/B4oNMXwozxlHAcgNMdyoUKeu54bZLrbHNbVxshuFgV3sSC+e//NIF5rhPJWE6C3KpSAdJsL3sOcIF/lhvojReDfqGK/xhn+ZbRDgBgNsRwS6zn1Q4JK2cCgUS88WFQJEgLlQYU/XYChTg9smNMBHuYkVAEENsFAiRSUyEGJI5TIQok0lMhDiUUsZ0SIM/GAo0s07NhSCz6iNEKQJ3FApEkUHBkSA0qCVECTgNlkQIkNlFhBiR2USEKJLpRYQ4k9lGjEckJA6ZEOZlokQ5oVqcAmRSG8OZEGckokQZ0RKYBnQQLsyZtNB5T4QIkWlOiBWV4kquiijC4qVBaNRhqpSZJWmqhQV1hqKaWaRipUFZ1KymmojmbkxBNQPOEERlOQ2uiornqckREUtNYKRRNRxLoorK5K0YStwDahq6K8kkoFsMgOm2ixoVqBLLDKesFsp1g8a2u002qqhbW1YhuSsltwS6u3ICnLxa/WCqtstpZ2gdGzGJH7UbSmoqpqRvJ6FO2+m37L778AB/wvuwK7SnDBoR6MsKYKL1xpww5P6m/Ew0JM8a4TX2xwxhonzHHHDH8M8sMijyxxuSZ3anHHJgUEACx3AawASACPAIb////+/v7+/f39/Pv9/Pr9+/n8+vj8+ff7+PX7+PT79/P69vL69fH59O/59O748+348uz48ev38On38Oj37+j27+f27ub27uX17eT17OP16+L06uD06t/z6d7z6N3y59zy5try5tnx5djx5Nfw49bw4tTw4tPv4dLv4NHu39Du3s7u3s3t3c3t3czt3Mvs28rs28ns2sjr2cfr2MXq18Tq18Pq1sLp1cHp1L/o077o073o0rzn0bvn0Lnmz7jmz7flzrblzbXlzLPkzLPKmGWejKGIhsCBhMsTDgkSDQkQDAgOCwcNCgYLCAUKBwUIBgQHBQMFBAIDAgECAQEAAAAAAAAAAAAAAAAAAAAAAAAAAAAAAAAAAAAAAAAAAAAAAAAAAAAAAAAAAAAAAAAAAAAAAAAAAAAAAAAAAAAAAAAAAAAAAAAAAAAAAAAAAAAAAAAAAAAAAAAAAAAAAAAAAAAAAAAAAAAAAAAAAAAAAAAAAAAAAAAAAAAAAAAAAAAAAAAI/wABCBxIsCBBIggTKiRisKHDhxAjQlxIMYDEixgzGqS4UIDGjyAfclQ4IKTJkyMTEjjJ8mNKhAVayrz4koiBmThFvjyQs2fBmgh8CgVQM8FQnzUVHO1Zc8HSnDUZPMVZs8HUmTUdXJVZ88HWljUhfGVZM8JYlC8lnDVZk8LakDUtvAVZ88Jcly8x3NVYM8PejDU1/MVYc8Ngmi85HJZYs8PiiDU9PJ748sNknSlBXHZYM8TmhjVFfN74csTony9JnD74ssTqgTVNvBZY88Rsoi9R3K6ZYvdLFb5Tsgg+0gVxji+OU4ShfGGM5gplQE84YzpCGtaJ1MhuI/uN7Diy5//IriP7juw8svfI7iP7j+xAsgfJPuS2kJq3g+CfDWT/6x/+reZDgKf1QOBoPBz42Q4KbqZDg5flAOFkOEz42A0WLmZDhofVwOFgNHz41wwi7iVDiXfFgOJcMKz41gsurtVCjGetQONYKtz4VQo6boVCj1edAORUJgz5VAlGLkVCkkeNwORQIjwpVAhS+gRClT19gGVOHmyJUwdezsRBmDJtQGZLGpzJUgZqnoRBmyZZAGdIFcwJ0gR2fiRBnhpFwGdGEPyJ0QOCXuQAnFQkquiijC6KRE2NRhrpSZJWmmgSkFpaKaWaRqpEpp02ymmoiy6RUBFGHGFEEQmRKqpJri6WygRCR9Rq6xEIxbroqLE2QcStwBKhq6K8uuoEsMgOm2ixpD6BLLDKUsFsqFA8e2u003YahbW2YgvrsFJwW6u3ISk7xa/WCqtstp3Simyu63477KmprtpqvOVGq++m8u7r778AB8xuwLEOTDCpBh/cacIKW8pww5I+DPGr+U6sq8QWE9tvxqFizLHHGYNsscgTkwzxSQEBACxjAawARwCPAIb////+/v7+/v3+/f39/Pv9/Pr9+/r9+/n8+vj8+ff7+PX7+PT79/P69vL69fH59O/59O748uz48uv48ev38On38Oj37+j27+f27ub27uX27eX17eT17OP16+L06uD06t/z6d7z6N3y59zy5try5tnx5djx5Nfw49bw4tTv4dPv4dLv4NHu38/u3s7u3s3t3c3t3czt3Mvs28rs28ns2sjr2cfr2cbr2MXq18Tq18Pq1sLp1cHp1L/o077o073o0rzn0bvn0Lnm0Lnmz7jmz7flzrblzbXlzbTlzLPkzLPKmGWejKGIhsCBhMs9Lh44Khw0JxovIxcqIBUlHBIIBgQDAgEAAAAAAAAAAAAAAAAAAAAAAAAAAAAAAAAAAAAAAAAAAAAAAAAAAAAAAAAAAAAAAAAAAAAAAAAAAAAAAAAAAAAAAAAAAAAAAAAAAAAAAAAAAAAAAAAAAAAAAAAAAAAAAAAAAAAAAAAAAAAAAAAAAAAAAAAAAAAAAAAAAAAAAAAI/wABCBxIsKBBAEoSKlyo5KDDhxAjShRIgKHFiRgzagSAwCLDjSBDFlzgcaHIkyAdlFSIsiXGCCsTupwJkULMhjRzFsxwU6dPgR16/tQJQuhQmiOMHnVpQulSlCmcPhXJQupUkDGsXtVIQ+tWjDi8fpW4Q+xYiD7MnnUoRO1ag0bcviV4E8lcjTeJ3M14E8hejDd7/J14U8dgiTdtHI54U8ZiiDddPH54c8VkhzdRXD54s8RmgzdFfC5408NoujE5nB5488JqgTcnvEYYE8Lsmw1ux1Sge6WB3iUFvA4gd2+B4ncTIJ/LYPnbB87XSoh+1gL1sRuuf/WgfWuI7ldJgP+femL80xXml7ZIf1QG+6E13v/MId8nj/o6f+DPOWQ/zSP+zXSTEcB5NESBFv2AIEM8LLhQDg4qVEOECcVAoRItXKjChSdcSMKFIVxo2ms3aXBhBRdGcOEDFzJwYQIXFnDhbAME6NIBNrakQI4oNcDjSRD8KNIEQoaEQZEgcYDkRh8sqZEITmZUQpQYoUDlROjFNNsLV0o0Q5cR3QAmRDqM+VAPZjoERJoHEcGmQUm8SVpMRVwYxIU+XLjDhThcSMOFMJxlxaCEFmpooTc5ceiii4rE6KOD3vQEpJA6SumiN0FxKaOWboqoQksw0QQTSyQUhaeHdoqqFQo14eqrTSiSIcWqhaqKakKw5joFrYTa6qkSuQbL66C+bgpssLAOa0Wxlx6LrKvKMkups89GG9Kw1CJrLUjYZgsrFdtu1K23sVYRrkbjKhHqqKUqoeyy174rb6PxzmvvvfjKK22+qO7L76b+/ktpwAI/SnDB9HKLMK8HL1xrvQ572nDE8CpMMcAQX1xpxhpzynHHqX4M8sMgBQQALE4BrABIAI8Ahv////7+/v79/f38+/38+v37+fz6+Pz59/v49fv49Pv38/r28vr18fr18Pn07/n07vjz7fjy7Pjy6/jx6/fw6ffv6Pbu5vXt5PXs4/Xr4vTq4PTq3/Pp3vPo3fLm2vLm2fHl2PHk1/Dj1vDi1PDi0+/h0+/g0e7f0O7ezu3dze3cy+zbyuzbyevZx+vYxerXxOrXw+rWwunVwenUv+jTvejSvOfRu+fRuufQuebPuObPt+XOtuXNteTMs9/Bo9q3k9SthM+idcqYZZ6MoYiGwIGEy2FJMFlDLFQ/Kk06Jkc2Iz8wHzorHTMmGS0iFiUcEiEYEBkTDAsIBQAAAAAAAAAAAAAAAAAAAAAAAAAAAAAAAAAAAAAAAAAAAAAAAAAAAAAAAAAAAAAAAAAAAAAAAAAAAAAAAAAAAAAAAAAAAAAAAAAAAAAAAAAAAAAAAAAAAAAAAAAAAAAAAAAAAAAAAAAAAAAAAAAAAAAAAAAAAAAAAAAAAAAAAAAAAAAAAAAAAAj/AAEIHEiwoMGDQoIA+eGjRwwTGhocnEixosWLBBEI2cixoxCMIEOKFBjBo8mRKFMazGDSo8qXKUG07AizZkgUMzna3GnxRc6NPIMetPHzo9CjAosaRSq0KA+mR4vOgNr0JwuqQYuWwMqzaAeuO4taAGuzKAOyMAcUJYD25YKibV9WgBs3JQe6dUeOwJs35Aq+fTHKABzYog7ChSkqTQyy6A3GGIu+gHyxKArKFouGwFyxaAbOin9GAD2xKALSBg0gJv1gNegLrjl7iI3ZBG3KLW5DpqGbcY/eiZ2iNih1eMGiV40P1Kp8+c+vzQGIjS7959nmAdZGTwC88ITugTWA/+8bYnzeFObrwkgfFwf7toujO6Yumf7Py/J/bs6f8zP/mRLYl9NpzRHwHloMHEiWBQqC1UGDXJEAIVYsTEjVDBZCtUOGTAn3X0tTfWhScs0xJ6JH0JX401gndnSdijmx1dwBHCIFQY1HYYCjUB/sGNQJPvLkQpA71UBkWUfWNF+LHE3G5Eb4wTjTflK25F+VJgX4pBAEKidAkjApAOZLFIyp0gZmpiRCmiipwOZIMbwpUg5yhuQhlh6FiGdHJCpn4p4cpejnigLO9OKgMUZXQJ0gOTDmFJBGKumkk0JRFKWYUvpSppxG6sSlnWa6aaiZMgEqqZOOiuqkSmw0BBFFEKYxREerpqpSrZMiIUQRvPZaBEe4RqpqsEb4auxGwUI6LK7GNntEslMsW2uzxiYBrbSrUuvrEtfeCq22vTbRbUrQTgEur0+Mi1K5u2orRBTqjsRuu8cKIUW8Is0rxKuxzoosviGVK3Cn2A5s8MEID1xwwsEuzHCtDj+MasQSh0pxxZxejDGmGm9sK7keN+xtyBCPTPLEJp9sccoqZ8xyyxy/DPPHKAUEACw+AawAQwCPAIb////+/v7+/f3+/fz9/Pv9/Pr9+/n8+vj8+ff7+PX7+PT79/P69vL69fH69fD59O/59O748+348uz48ev38On38Oj27+f27ub27uX17eT17OP16+L06uD06t/z6d7z6N3y59zy5try5tnx5djx5Nfw49bw4tTw4tPv4dPv4NHv4NDu39Du38/u3s7u3s3t3c3t3Mvs28rs28ns2sjr2cfr2MXq18Tq18Pq1sLp1cHp1cDp1L/o077o073o0rzn0bvn0brn0Lnm0Lnmz7jmzrblzrblzbXlzbTkzLPfwaPat5PUrYTPonXKmGWejKGIhsCBhMtYQixGNCM6Kx00JxopHhQiGhEdFg4WEQsQDAgLCAUFBAIAAAAAAAAAAAAAAAAAAAAAAAAAAAAAAAAAAAAAAAAAAAAAAAAAAAAAAAAAAAAAAAAAAAAAAAAAAAAAAAAAAAAAAAAAAAAAAAAAAAAAAAAAAAAAAAAAAAAAAAAAAAAAAAAAAAAAAAAAAAAAAAAI/wABCBxIsKDBgwObMFmiJAkSHCk4OEBIsaLFiwYZNNnIsWMTjCBDYszgsaTIkygJkijpMaVLkTJYdnxJ86IPmRxr6kSIM+fOnwl7DgFKtGeTGkSBGkWR9KdRDk13GoUQtSYCowOq0qRgVCtNEF29umwRVizKHGXNikSSVi1Io0fcnjSKQ65IoyzshjT6Qe/bnhP8XiRg9IBgixDaHjbIQfFigiccPxZYQ/LkIZYfG/04+aBRHp0994QR2qBREaULGr2QmqBRBa0FLsi8GAPtwyNuC46h22+P3no3xxZoFMhwAEZnHDdaYnlPDc5xNhh+ALjdCdblfsjudgV3tTi+m/81Il6sUSLRZdpIzzIF+5Id3nuMMFyA0QLDH5T3umG/VhP+VUVDgFEFQWBTRiEhX0c6LMhRCw5uBEKETVBAIQLDKXBgUhZsSJQIHgIFQ4g/8UCiVCfqZJQPFMZA4QgUYkDhAsMZkGJNEtxIkwc6vpRCjy7dAGRKRQyJklFCUEgDhSZQuAGFDwwXgFECDNeAkSdpgKVIJWwZ0gxegvRDmBgZZQSFdQ1nlAoUekChBBQaMFwCZF5UQZ0WhYBnRS7sSdEOfvIUqGg47UDhCxSG4BUXjDbq6KOQGnUFpJQ+KlKlmDpqlBaZVnppp5VuYRSolH5K6qNYbOTEE1A84URHp1qcGlKsj1bRBBS45goFR7Q2amqvU+gq7Ea9MvorrcIm20SxXBwba7LDMuvsqdDqGoW0szJbba5SYAsSs1xsiysV3mIE7q3VNmFFuRedi+6wTWTBrkXuNrFqq68SO29F4Pab6bT+BizwwL0CTHDB2R7sr8EKn8pww6A+DPG/CU+M8LcWFytxxpBuzLGjHn9sbMUidxqyyCd/nDLHIgUEACwzAawAPgCPAIb////+/f39/Pv9/Pr9+/n8+vj8+ff7+PX7+PT79/P69vL69fH69fD59O/59O758+748uz48uv48ev38On38Oj27+f27ub27uX17eT17OP16+L06uD06t/z6d7z6N3y5try5tnx5djx5Nfw49bw49Xw4tTw4tPv4dPv4dLv4NHv4NDu39Du3s7u3s3t3Mvs28ns2sjr2cfr2cbr2MXq18Tq18Pq1sLp1cHp1L/o077o073o0rzn0brmz7jmz7flzrblzbXlzLPkzLPky7LfwaPat5PUrYTPonXKmGWejKGIhsCBhMuNf5mgeFB3WjtaRC1WQStPOydEMyJDMiE/MB8tIhYsIRYpHhQnHRMWEQsVEAoSDQkAAAAAAAAAAAAAAAAAAAAAAAAAAAAAAAAAAAAAAAAAAAAAAAAAAAAAAAAAAAAAAAAAAAAAAAAAAAAAAAAAAAAAAAAAAAAAAAAAAAAAAAAAAAAAAAAAAAAAAAAAAAAAAAAAAAAAAAAAAAAAAAAI/wABCBxIsKDBgwWRHDFShIgQGyk2MEBIsaLFiwAeINnIsSMSjCBDIvTgsaTIkyddlPSIsiVGHis7upxJMaZMmjgJ2ty4I6dPADuRtPiZM2gHojQDBG2AdGaEoE1nfoAateULqlVP9sCaNWTQj11FBtURVuxOFmW97uSQFuOAoAvaXpzAVS5CEXXtGpSRVy9BIH39CvwqGGHQHIUPBl2R2GDQDY0JFgiqIPJAC4EFk8jslwZnvUM+2yVsefBOHKVN20yRGuhODakPBE2QGoNouSdut72hOy3p0r8tB73ROiiK4jszpE4QFEFqDb3LqogeFgf1rsEjZ28c1AZymya+x//EkHpB0AOpOVzPymJ91R3uo25PPL9w0BriV5bIX/JCagdBGZAaSTu1plKBqcGEIHDxNRVUEPx5REOEHY2QmlI7VZDaUzsVkNpUC1p2VYiRbUUidw0iFRQQFHI0Q4sbiZDaWztRkBpdOxGQGl4nJsZXj4UBBqRg9RG50w8wIhFDkiGkNtlOE6SG2U4DpLbZkJ2lSFRoWOpVpF9B+ZAkDEmCEFtQEtQWlACp5dalXby9KdeXXmr5U1A9JPlCkh8sFxQEzwUVQGrTydmWdYb6ZmdBXDTq6KOQQvpVpJRGalGlmDoa1BOZYnppp5UGJQWolH5KqqQbJaHEEkokwVEVp0KqamqsXGyx0RK45rrERlnQ6uissV6BhK7EIuHrrxUdywUVxDarLBfAngpFs8Q+Gy2pw1Kbq7XJHputtktwS5Gy32orLkLklkvsFOcelK66uCJhRbsGPYtFFE4wsWqrG2lBL6PPPnqvE00Y+y9BASes8MIKX8uwsg4/7GvEEsdKccWkXoxxpxpv7Gm3Hh/bcciWgkyyxSafnHHKKnPMcssfjwvzyjLP7DJFAQEALC4BrAA4AI8Ahv////7+/f38+/38+v37+fz6+Pz59/v49fv49Pv38/r18fn07/n07vjy7Pjy6/jx6/fw6ffw6Pbu5vbu5fXt5PXs4/Xr4vTq4PPp3vPo3fLn3PLm2fHl2PHk1/Hk1vDj1vDi1O/h0+/g0e/g0O7fz+7ezu3dzO3cy+zbyuzbyevZx+vYxerXxOrXw+rWwunVwOnUv+jTvujSvOfRu+fRuubQuebPuObOtuXNteXNtOTMs+HGqty7mdavh9Ckd8qYZZ6MoYiGwIGEy41/maB4UHdaO2BIMFlDLE87J0c2I0Y0I0ExIC8jFywhFikeFCcdExYRCxINCRAMCAAAAAAAAAAAAAAAAAAAAAAAAAAAAAAAAAAAAAAAAAAAAAAAAAAAAAAAAAAAAAAAAAAAAAAAAAAAAAAAAAAAAAAAAAAAAAAAAAAAAAAAAAAAAAAAAAAAAAAAAAAAAAAAAAAAAAAAAAAAAAAAAAAAAAAAAAAAAAAAAAAAAAAAAAAAAAAAAAAAAAj/AAEIHEiwoMGDB3/02GGCAcKHECNKdPCjYkUfPGZkkMix48EOFkNa9EiyIwuRIkuqhIgy5cqXBVuGhElToMyRNWHe/NEi58sBOz/4XClhZ4ShKkPsFIC0JIydTUvu/BGV5NSqHq9i5bgzxlaJB3aO+BrRws4KZCGW2Hkg7UMaUN0i1CrXIN26BO/itXmzxl6CCnae+Dsww04MhAWm2KkgMQAccRPr3TsZb+W6O3M4pnhThWOQNzc4PnmzgePLclG7VZ2W9Vegkf8WvenCsdKbIBw/vSnh9E4Cvm86BuD6a3GsYWPvNXtThuO1N0k4hnvTQnCZCK63HH4ca/eogZXj/zV804bjxTdROIZ8c6PknQu0o+Qu3nJ9uZyFJwYtU8fonSvIJxIHAob0QIEWBYBgRY7Bph9hsz34120S7rWbTC8s+EMIGk6gYQEaOpZchXgxR2Jd0J0oF3UyzaBhCRpeoGECISYWnopukYdjWujtSBZ7Mt2gYQoaaqChQ+/5+FV+Mn32XVOkKbnVVFQlKRMLGnqgIQSJOSgTUxA+iRSFTSZ2YZmEUakhDBqKoCEFiY0okwGJmYjmXyne+dIUfPbp559/HjEVoIQCWlChiPZJZaKIHspooVMd8Sihjk76p0VABCFEEEBYtISlf1YKKp8VCWHqqUJU5MSofYoKahQ/oJIq6w9SsMqnq5Y2Ieuutt5KUK9K7Cprr1PgOqkRwqJKrLGPxpqsqcv+aquzz0Y7UK+lJpuEtQJhm+2sTHALALFPIFHEEJpyWhEU4hL7Z7lFEPGDu8y6a++9+DYqbb741svvqP7+a2nAAj9KcMGJHoxwoQovbOi+DgMMccQDT0yxwRZfnHDGGjPMcccPXwsyxgMFBAAsLgGsADYAjwCG/////v7+/v39/fz7/fz6/fv5/Pr4/Pn3+/j1+/j0+/fz+vby+vXx+vXw+fTv+fTu+PLs+PLr+PHr9/Hq9/Dp9/Do9+/o9u/n9u7l9e3k9ezj9evi9Org9Orf9Onf8+ne8+jd8ufb8uba8ubZ8eXZ8eXY8eTX8OPW8OPV8OLU8OLT7+HT7+HS7+DR7+DQ7t/Q7t/P7t7O7t7N7d3N7dzL7NvK7NvJ7NrI69nH69jF6tfE6tfD6tbC6dXB6dXA6dS/6NO+6NO96NK859G759G65tC55s+45s+35c625c215cyz5Myz5Muy38Gj2reT1K2Ez6J1yphlnoyhiIbAhoS+gYTLnHVOgneTb1M3WkQtWEIsRDMiQzIhQjEhNCcaLSIWLCEWKyAVHxcPFhELFRAKCgcFAAAAAAAAAAAAAAAAAAAAAAAAAAAAAAAAAAAAAAAAAAAAAAAAAAAAAAAAAAAAAAAAAAAAAAAAAAAAAAAAAAAAAAAAAAAAAAAAAAAAAAAACP8AAQgcSLCgwYMIo0B54qTJEh4tODRASLGixYIOomjcyDHKxY8gB3roSDKkSYswSHY8yfLgD5UcW8ocCDPmTJk1NQq5iTOnDJ4tc0b5AJSlUAdFTRoQmtSkBaZNQZqAGvUiDqpVKx7BmjVhziBdLQqNEbai0A5lKQplkNZrzbYHG3CFC4DDXLgu7rb1oTetUCB0Cwp9EZigUA6FaeZckFhg37IFHoelILkricpZb2CuWiTnj8YAhLYALXQD6ZwKTr9VDRP0gs1RN8Bu2mJ20h45e7BWyWI3SQ2+OyYIbrOx7aIEjgOdoJyniOY3a+TkAZpIThXEN2bIrhEBd4/fQYf/zglaAfSZGs7LXJFzB2geOVOAZpITw/cD4fMbJ994gPqWEeSkBGgh5KQDaDTkdAJoQ+R0wXcG6JfYf0Hxt99qiSWQUxKgZZBTDqClkJMJoOmQUwWgKZFTARIWRqFRFk4YY2AC5IQEaBDkhANoIORUAmgz5EQBaELkRECLgb14kpImMRlSTkeAhkBON4CGQU4jgIZCThKAlkNOA4CWxIxJkkmXkyCh+VFORoAWQE42gPZATiKA9kFOEIAWQ04CgAaEmXCpedF5ZhRq6KGIJipUoowmOlCjkB6aUxaRQvpopZDmtAWmjF7KKaJlaCTFFFVMIcVGX3yKqKeqFipGFFXElCprFRqN0aqhrLbqxay8RnErrgL9WiivxAprRq6qEsursch+quyszAYr7LOyRguAsdTGaq2xsD7LxbbCaqRsFGCAK2wYWlxBRamnRkGGucYWSkYXWFjha7z45ttos/rC2y++/P57a8ACq0pwwZwejHClCi9sqbQO/9pwxI5CTLHBFl+ccMYaM8xxxw9fC/LGIo9caUAALDEBrAA8AI8Ahv////7+/v79/f79/P38+/38+v37+fz6+Pz59/v49fv49Pv38/r28vr18fr18Pn07/n07vjz7fjy7Pjx6/fw6ffw6Pbv5/bu5vbu5fXt5PXs4/Xr4vTq4PTq3/Pp3vPo3fLn3PLm2vLm2fHl2PHk1/Dj1vDi1PDi0+/h0+/g0e/g0O7f0O7fz+7ezu7eze3dze3cy+zbyuzbyezayOvZx+vYxerXxOrXw+rWwunVwenVwOnUv+jTvujTvejSvOfRu+fRuufQuebQuebPuObOtuXOtuXNteXNtOTMs9/Bo9q3k9SthM+idcqYZZ6MoYiGwIGEy11GLkw5JjorHSkeFCIaER0WDhYRCxAMCAsIBQUEAgAAAAAAAAAAAAAAAAAAAAAAAAAAAAAAAAAAAAAAAAAAAAAAAAAAAAAAAAAAAAAAAAAAAAAAAAAAAAAAAAAAAAAAAAAAAAAAAAAAAAAAAAAAAAAAAAAAAAAAAAAAAAAAAAAAAAAAAAAAAAAAAAAAAAj/AAEIHEiwoMGDCAc2YbJESRIkOFJwcJCwosWLBxk02cixYxOMIEMazOCxpMiTIUmU9IiypUUZKzu6nHnQR0yONHMqvLlRp06eTYb4zAm0xlCaQFEcnQmUw1KXQCE8RYkA6ICpJykAxXoSxFauIVt8BYsxx1iyFpGcRZsQ6BG2F4HigGsRKAu6FYF+wNuW5wS+BwkAPQDYIIS1hQFwQFz4BGPANR7zHSIZL9CPiQkC5ZFZM08YnXfeFBFaINALpQEAVVB6QWW6GF7DHSGbbYzaaHvgJns5NVAgvnnOCH6zBPGYGo6vbFD6wG6wE55z/SAd64rqU3Fgf2pk+1KgRJSX/7Qh3mOK8h07oOcYobQAoAVKP/B+dAP9oSbu+6ShX2eQ/kTxhMR6G+lAYBMtHAjCgRQciEBpCgBIkwUSziRChS7BgGFLPGyIUm+lAeXDgTEcOMKBGBy4QGkGeHiSBC6K5EGMIaVAI0g33IhRETrGxZMQB9JwoAkHbnDgA6UFAJQApTXQo0UaPFlRCVImNEOVCP2A5UFAGXHgXCHypMKBHhwowYEGlJbAlgZVwGZBIbxJkAtyDrRDnabhqRpPOxz4woEhLLXFoIQWaqihQFlx6KKHJsToo4QClQWkjzpK6aJaAHUpo5ZuWugVHDnxBBRPOMGRp40ihGqhVGwExauwQpKx0aqFdrrqFE3EqmsTtBJqK6pS6Cpsr4P+6mkUwupK7BbGbpprsrAu2+ylz0ILhbSq9lottNgeRKyr0FbRrUHfgrsrFuMWVO5GopJqKq/pErTsvPTWay+z2d5r77T60spvv6j+C/CmAg9MacEGV5pvwv4uzHDADj9McMQSH0xxxQp7i7GnCG+Mr8YeWwxyyI8GBAAsOgGsAEEAjwCG/////v7+/v39/fz7/fz6/fv5/Pr4/Pn3+/j1+/j0+/fz+vby+vXx+fTv+fTu+PPt+PLs+PHr9/Dp9/Do9u/n9u7l9e3k9ezj9evi9Org9Orf8+ne8+jd8ufc8uba8ubZ8eXY8eTX8OPW8OLU8OLT7+HS7+DR7t/Q7t7O7t7N7dzL7NvK7NvJ7NrI69nH69jF6tfE6tfD6tbC6dXB6dS/6NO+6NO96NK859G759C55s+45s+35c625c215cyzyphlnoyhiIbAgYTLYkoxWUMsV0ErTjonTDkmQzIhQDAgNykbNSgaLCEWIRgQFRAKCgcFAAAAAAAAAAAAAAAAAAAAAAAAAAAAAAAAAAAAAAAAAAAAAAAAAAAAAAAAAAAAAAAAAAAAAAAAAAAAAAAAAAAAAAAAAAAAAAAAAAAAAAAAAAAAAAAAAAAAAAAAAAAAAAAAAAAAAAAAAAAAAAAAAAAAAAAAAAAAAAAAAAAAAAAAAAAAAAAAAAAAAAAAAAAAAAAACP8AAQgcSLCgwYMIC/5YyLDhj4QQI0qMeMChxYkYM0Z0YNGhxo8gBVbo2DCkSYwcSDI8yRLiCJULW8o0qALmw5k4AcSwmRMnDp49Zdr0EVQozBtFW9qEkZSlzRRNT9oUEdWkzQ1VQ9qkkBWkzQZdP9o0EDZjAKBlJyJAmzbiA7ZtE1qAG/dgB7p1C5LAm3fgCr59AcgA3DcH4bw2ewRGaNPG4oM2Xzw2aBPFZIUwQ1wmaFPD5oE2J3wWaJPBaAA2C4wWcLhugtZxIcBue2F2Wg+2y5bIHZYF764zfmfVIbyqTR6nbdZIDtMFc5UnnpMEIb1jhuoWJWB3uGB7QwKjBxT/j6pgfNMI5pNiSF/0A/ugJt73bCE/J436OHfgn2lzh3eGNPy3UAsC/mBCgR8UiEGBERSoQIEDjEbAfjItQGFLElzIUgYangRChyadAGJILowIUg0mfsRDihrZpEOBMxTIQoElFOhBgRcUCEGBCRQowGgFsJgRA0JiNEGRE2mApEQhLBkRCk5C9EKUCdlAJUI9XAkZTDkUKEOBKxRIQoEdFGhBgQ8UiECBAYxmgJYGNQBnQRTMSdAGHUKh55589tnnEjb5KaifGA1q6J5JBHrooIUuOugRijraZ6OS9lnEQkAEIUQQQDRU6aQTfdrnED8IYeqpQjAk6p6Urloqqqj+hUDEqnq2KiqsuBpBKxS2foorrEjs2mulv6KqhLCh7lrsqUwgK9GuUCxrahPORgTtq7/+4ES1EF2Lbaw/PMFtQt7+kOmmnS4E7bDQtuvuu++yC++4CM1rr7z2iopvvpXuy6+j/v57aMACM5pswbQSjDCozy68qsIO13pwxJJCHLHFDmO8cEAALEgBrABDAI8Ahv////7+/v79/f38+/38+v37+fz6+Pz59/v49fv49Pv38/r28vr18fn07/n07vjz7fjy7Pjx6/fw6ffw6Pbu5vbu5fXt5PXs4/Xr4vTq4PTq3/Pp3vPo3fLn3PLm2vLm2fHl2PHk1/Dj1vDi1PDi0+/h0u/g0e7f0O7ezu7eze3dzO3cy+zbyuzbyezayOvZx+vYxerXxOrXw+rWwunVwenUv+jTvujTvejSvOfRu+fQuebPuObPt+XOtuXNteXMs+TMs8qYZZ6MoYiGwIGEy1I+KUw5JkY0Iz8vHzgqHDImGSwhFiUcEh4XDxgSDBINCQsIBQUEAgAAAAAAAAAAAAAAAAAAAAAAAAAAAAAAAAAAAAAAAAAAAAAAAAAAAAAAAAAAAAAAAAAAAAAAAAAAAAAAAAAAAAAAAAAAAAAAAAAAAAAAAAAAAAAAAAAAAAAAAAAAAAAAAAAAAAAAAAAAAAAAAAAAAAAAAAAAAAAAAAAAAAAAAAAAAAAAAAAAAAAAAAj/AAEIHEiwoMGDCAkGWciwYZCEECNKnEjAocWJGDNORGDRocaPIAky6NgwpEmNEEgyPMlSIgWVC1vKRIgB5sOZOAdysJmzJwiePXGSABpUJgqiRVm2QJrUZAymTUHWgBpVYw6qVTH2wJpVok0fXUPa1BEWpE0bZT/alJFWo00XbTPaTBEXo80SdSfaDJHXK8wOfSPazBAYok0KhRPajJAYoc0GjQ/aTBDZoM0ClQtyLTxgc+ADnvsuCJ33Aem6E07HvaC67YbWaT/ALjtidtgTtruyyJ0VBu+qNH5HxSG8KY/iSW3+yKwQ5g7mA23egC7Q5gzqAGy+wG5TBXeYJr6r/xQhnqSH8h01oLdoYb1DCe4bOojPUAH9hQbuBxFAXQDyogb8F5QCAvbkQIE5SYAgThYsOJMGDsrkQYQtiUAhSyZceNIKGpr0QochzQAiSDeM+NEOJmoERIpywcSDfjjoR4N+MOjHgn4n6DeCfh/ot4F+F+g3gX4P6LeAfgfoNwB1AbCIUQFOTpRAlBI1QGVEEVwJUQVaJpRBlwh1AOZBIYxpUAlmFpRCmgS5wOZAMrwpkA1yAqBDnT7UaVMP+uWQlRSABirooIPaVAShiBKqUaKMBmqTEY0yumikidp0BKWIToppoQsJMQQRQwjBEBKbDqppqYAuRMSqrBKxUBKoBox6KqpBtGprEErECuispdrq6xK6SsHrpr7aykSww2JabKtNIJtRsFIsy6oTzmIErbSrPlHtRNDWumwQUGwrUbfe3hpEFOJGRG4QnoIq6kLQJgvtvPTWa6+89uqKb76o7svvpv7+S2nAAjdKcMGJHoywos8unC5EDj+cUMT6NkxxqQpfnDHFG0fcscMBAQAsWAGsAEcAjwCG/////v7+/v39/fz7/fz6/fv5/Pr4/Pn3+/j1+/j0+/fz+vby+vXx+fTv+fTu+PPt+PLr+PHr9/Dp9/Do9+/o9u7m9u7l9e3k9ezj9evi9Org9Orf8+ne8+jd8ufc8uba8ubZ8eXY8eTX8OPW8OLU8OLT7+HS7+DR7+DQ7t/Q7t7O7t7N7d3N7d3M7dzL7NvK7NvJ7NrI69nH69jF6tfE6tfD6tbC6dXB6dS/6NO+6NO96NK859G759C55s+45s+35c625c215cyz5MyzyphlnoyhiIbAgYTLKR4UJRwSIhoRHhcPGxQNGBIMFRAKEg0JDgsHCwgFCAYEBQQCAgEBAAAAAAAAAAAAAAAAAAAAAAAAAAAAAAAAAAAAAAAAAAAAAAAAAAAAAAAAAAAAAAAAAAAAAAAAAAAAAAAAAAAAAAAAAAAAAAAAAAAAAAAAAAAAAAAAAAAAAAAAAAAAAAAAAAAAAAAAAAAAAAAAAAAAAAAAAAAAAAAAAAAAAAAAAAAACP8AAQgcSLCgwYMIBRJZyLAhkYQQI0qcWNChRQEUM2qkaNEhgY0gQ1bsyNCAyJMgSTJEgLIlR5VEFLicCREmEQY0cxq06UCnT4UwIfz0aVPCUJ02KxzNafPCUpo2MzydaXPDVJc2O1xtafPDVpQ2Q3w9aXPEWJE2S5wNaRPF2pQwVbzdaNPFXI02YdzNaFPG3pcqafydaNPGYIk2cRyOaFPH4poweTxOaNPHZIQ2g1w+aHPIZoNBbH4u+EP06IE9TJ8GsEP16RyuR9+I/bkG7c0zbl+OoXuyi96PVwBfnGL4YRPGB5NI/lcE870gnt/1IH0uh+pvNWBfi2H72Qrex07/CP81AvmtD85fbaB+6oL2TxPAX3pg/tEC9ocOyD+U/0+bAawGlEoDCAiATQUYaNMBCsKUQIMqLQAhSQ1M2NEDFloUQYYOUcBhQxZ8yBAGIi6kQYlEcICiByiCgKIIKJKAogkopoAiCyi+gGIMKM6AYg0o3oBiDijugGIPKP6AomYCCuGfTkA8mZMPUtLEQ5Uz6YClSzhs2ZINXqJEQ5gnyUCmSDCcGVILaoKkQpsbnQCnRiXMmdEIdlIUQp4TfcCnRB2cWcWghBZqaKFI2HTooouKxOijgyahKKSPOkrpokpMeumhlm5a6BIMFWHEEUYUwZCnnIaEaqFMLHTEq7Aek7HQqoV2umoTRMSqKxG0Emorqk7oKmyvg/7q6RPC6kpsFcZuCkWysS7b7KVRQAurtKr2KoW1r2ILErFT5Aotr8ROSykVrgo7a7nZ9hrqqKWeyu63y9Zr7734UmpuvrTuyy+q/v67acAC69tuwfNuhHC9BC/c6MEOAwxxxANPTLHB9F7sacMaM2txxw9nDDKkHGscEAAsbAGsAEMAjwCG/////v7+/v79/v39/fz7/fz6/fv6/fv5/Pr4/Pn3+/j1+/j0+/fz+vby+vXx+fTv+fTu+PLs+PLr+PHr9/Dp9/Do9+/o9u/n9u7m9u7l9u3l9e3k9ezj9evi9Org9Orf8+ne8+jd8ufc8uba8ubZ8eXY8eTX8OPW8OLU7+HT7+HS7+DR7t/P7t7O7t7N7d3N7d3M7dzL7NvK7NvJ7NrI69nH69nG69jF6tfE6tfD6tbC6dXB6dS/6NO+6NO96NK859G759C55tC55s+45s+35c625c215c205cyz5MyzyphlnoyhiIbAgYTLPS4eOCocNCcaLyMXKiAVJRwSIBgQGxQNFhELEg0JDQoGCAYEAwIBAAAAAAAAAAAAAAAAAAAAAAAAAAAAAAAAAAAAAAAAAAAAAAAAAAAAAAAAAAAAAAAAAAAAAAAAAAAAAAAAAAAAAAAAAAAAAAAAAAAAAAAAAAAAAAAAAAAAAAAAAAAAAAAAAAAAAAAAAAAAAAAAAAAACP8AAQgcSLCgwYMFlShcyFAJwocQI0o02LAigYkYM06s2BCBxo8gCXJkuCCkSY0jFzo4yVJiSoURWspE+FIJhZk4Rb7MkLNnzQ49c9YEERRnzRFFZ9Y0kVRmzRRNW9ZkEZVlzRhVT9akkdVkTRxdQ9bcERZkTR9lP9YUkhblSyNtMyKpGRcjEbp1JQLBmxdiD759EeoAHNigDcKFCcpAnFigC8aNV0BOjGJy4RKWA4vI3NcD57wcPte9IDruhNJtIaBO22B1WQWuwxqI3VUA7a41AzQ+WLPAboovE/xO+JLBcJ0pHxwfWFPCcoE1LTwHUHPD9Joerr8MoT0lie4jT4D/57hifMUW5hvKSM+wBvuFOd4r5CFfyY/6Q+ofmW7kdtUh/kX1Q4BN8UBgUjkcWFQNCgYVQ4M9tQBhTipMiNMJFs5EQoYyhcBhS569NJ0GH7JUQYknRYCiSQ+sGBIDLoKUQIwfFUCjWiLWN0B9B9SnQH0N1AdBfRPUh0F9HNT3QX0i1FdCfSjUV95zNb1Q3wz13VCfDvX1UB8Q9RFRXxLTFXFjRkGciZEPak60Q5sS4QBnRDTMCREMK26h55589smnEzX5KaigGg1qqJ5PBHqooYUuKigUijrqZ6OS8hnFQksw0QQTSyxU6aQZfcqnFAo1YeqpTSgkKp+UijqFEqjGg6rEqnu2+ikVseZKq562VlpFrrHuukWvkloBLKrCEuvoFceemmyotGLRrKnPYrRrFrAeO+uuyi6qRam5qsottLRiqimnno5rrbDstuvuu4SSC6+73c4rar32Vopvvo7uy++h/v47aMACg7puwasSjHCt8i4sqcIOQ7ywxAhTXLDFAgcEACx8AawARACPAIb////+/v7+/f39/Pv9/Pr9+/n8+vj8+ff7+PX7+PT79/P69vL69fH59O/59O748+348uz48ev38On38Oj27+f27uX17eT17OP16+L06uD06t/z6d7z6N3y59zy5try5tnx5djx5Nfw49bw4tTw4tPv4dLv4NHu39Du3s7u3s3t3Mvs28rs28ns2sjr2cfr2MXq18Tq18Pq1sLp1cHp1L/o077o073o0rzn0bvn0Lnmz7jmz7flzrblzbXlzLPKmGWejKGIhsCBhMtiSjFZQyxXQStOOidMOSZDMiFAMCA3KRs1KBosIRYhGBAVEAoKBwUAAAAAAAAAAAAAAAAAAAAAAAAAAAAAAAAAAAAAAAAAAAAAAAAAAAAAAAAAAAAAAAAAAAAAAAAAAAAAAAAAAAAAAAAAAAAAAAAAAAAAAAAAAAAAAAAAAAAAAAAAAAAAAAAAAAAAAAAAAAAAAAAAAAAAAAAAAAAAAAAAAAAAAAAAAAAAAAAAAAAAAAAAAAAAAAAI/wABCBxIsKDBgwJ/KFzI8AfChxAjSjzYsOKBiRgzYqzY0IHGjyALcmRYIaTJjyMXcjjJcmJKhSNaynz48oeKmThFvoyRsyeAmjh85vRRUyjOG0WNyoSRVCnLFE2dmhQRVSrIDVWtaqSQVSvGBl29SjQQVmzEmgHMonyJQK3Gmg/cZqxpQe7Glx3sunxJQq/Emiv8nn0pQzDEmjkMP+xR1rCNxoJfQPaLYrLeEJbtasgsdwJntww+qy0gWm1NAYoR1kyQmuJLCK0N1rwQW2dKD7UJ1iyRe2BNFr0TvpwR/OdLHcV5lBZbY7lXF861nohuFQR1qRmuO5WgXemC7kYJgP83WnNA8ZoKzr+MoD4lhvYjP8DnaGJ+xRb2G9LIz3BH8R3j+URDgD21QGBOJhyI0wcKzoRBgzJFAGFLCkzI0gAWslQTAfwttECHCkkA4g8ZjAjCiCeM6MKINYzIQ3E6ZGjSDDKGxEKNIJWA40ce7KjRBT5mBEGQGCVA5EQCHLlXSgWMyMCIE4yowYghjIjCiC+MaMOIPRSXg5IRyQAmRCuM+RAJZiLUQZoHWcCmQQ+8WRACchIUQJ26vWTAiA2MSMGIG3gFxaCEFmpooTUtceiii37E6KOD1pQEpJA6SumiNR1xKaOWboroQkAEIUQQQChUhKeHdooqFAsJ4eqrQvySMMSqhaqKKhE/wKrrD7QSaqunRugqbK+D/ropEsLqSiwUxl6qRLKwLtsspUxA+6q0GhHbhLWuYpsRsU7kCi2vxE4L6RMKJauQtxgtC6qopC7E7kTL1mvvvfg+am6+q+7Lr6f+/ntpwAJXmm3B9RKMcKMHL9yrwg7X2nDEqEJMMbMTXzxwxhob/G3Hm1pMscgRBwQALI0BrABAAI8Ahf////79/f38+v37+fz6+Pv49fv38/r18fr18Pn07vjz7fjy7Pjy6/fw6fbu5vXt5PXr4vTq4PTq3/Po3fLm2vHk1/Dj1fDi1O/h0+/g0e/g0O7ezu3cy+zbyezayOvZx+rXxOrWwunVwenUv+jSvOfRu+fRuubPuOXOtuXNteTMs9/Bo9q3k9SthM+idcqYZZ6MoYiGwIGEy2BIMFA8KEc2Iz8wHzcpGy8jFycdEx8XDxYRCw4LBwgGBAcFAwAAAAj/AAEIHEiwoMGBCCJkCKFiBYsWLl4cnEixosWJLzJq3PjCwMWPID9yHOkgpMmTBEdypICyZUiVGze4nGkRpsYQNHMetJkxhc6fA3lmBAqUhFCiPzscRZrTwlKmMyE8hdoywVSqJwUIHYDVpdAFXVsKjRAWpdALZU8K9ZDWpNASbV9ejUvxxFy6B0HcxVtQw16+Ayf8BQygwWDABQ4DFuqRMEaeJR3v5MlSskGhMi0XFIpTc0qePj0PVKEY74jSdDmgjlthddsHrtMeiF02wFbRQXmCxQ1gLO/ePNHyXvtbKInitMOaSN71A3OsGJ5TlSAd6oLqTAlgZ8oYuc3IuIVW/w7PMzN5m53PwwyNO8V2oiLeA90g/yeF+jod4M9pYH/O28PxpIB3MJEVoE3CqacSWwfCdFyDMP1mFE+/KUUhb05diJtUGopmVYeeaQWiZ91BSBKBKo0nGmYojpTeiqD9ZteIlulFo2R+3eiYYDoSZliPiPlHE4AKjjSgiRwZWCRHCcJoE4NLbvQgbqQByddpVuKlWpZ0tcZlXLB92dZsYqZlW5lplRilRuA5CZOKJJbXIkcvxmkTCr8th2ZYzu3ZVXR+YkVdoFQxIKRAPySq6KKMKtqDUI1GKulHklaaqFA+WGoppZpGKtQOnU56UaiNbgRDDDLEAENGOZDaKKeuXpaakQy01irDCzfEuiissc5qq6016Koor66+8OuxwiZKLKkzHPtrsj8sGyoNztoKrbSd2lBtrdeOKiwO29LarUXJ6mBstS+MW1GyPPj6a0bqUgStRqemuiq8yWIL7b789ruvvv4KC3DAsQ5MMKkGH9xpwgpv6m3D8U4E8b8PT6wrwxYzinHGw1bMcagbfxwyxyNnXLLFAQEALJoBrAA8AI8Ahf////38+vv49fr18fr18Pjy7Pjy6/bu5vXr4vTq4PPo3fHl2PHk1+/h0+/g0e7ezuzbyerXxOrWwunUv+fRuuXNteTMs9/Bo9q3k9SthM+idcqYZZ6MobSHWoiGwIGEy39/u3t8uYV5lKB4UGRghGBIME06Jj8wHzkrHDMmGSwhFicdEyUcEh8XDxkTDBIOCRINCQsIBQUEAgAAAAAAAAAAAAAAAAAAAAAAAAAAAAAAAAAAAAAAAAAAAAAAAAAAAAj/AAEIHEiw4EACCRxIsHABQwYNGwxKnEixIsUNGDNq3DDAosePHjeKRACypMmBIjc2OMnyY0qNEVrKvPgSY4WZOAvWzJizJ4AJOyP6xPkg6FCcCowelVlA6VKWAYIKeNoy6AGqLIMywHoyKASuJoNSAFsyqFCyHik4RVsRwlq2Exe8hWvwwFy6BAUEDYCXZk0DfScGVRBYYtAHhQ0GnZBY593AFR73jSAZb4PKdBFghjtgM9ygHRuj3ElStMCgK00DCBpTddCbrj2jBbpTNYCitVUnzW26KW/RUXdOjV3zKvGXW4+n/Kpc5NjmIm2r/d3YLfXEDGSTtXu9sN6dfKFr/wQsPiPh8hgRo9/AeP1Z0ZG7B6Ysv+/l+ng146fbeT9d0LYFVZppqAW4U2sE7gRbgv6xRVtNtuEGoW7ageXbhKYFV9NwDL5kXIcpJQeiSMyNuNFzJm4kXYVcWYehaNk1iBZ3Lzb2XU3hpZgReTpidF6PG6gHZHtAvtdYfDUmRl+Shd3HZGD6PdlXf1L2BeB6A4pW4HoIaqmggTKS9eBLEbKI1W5V0mWAmVRp+BKHXhYHJnJzLlenc3dGp9p0acLlIplPzSDooIQWOmgKQRmq6KIULeroDC0k+uijjU5qaAxByWApoxNtaqhGHHjwgQccYOSCp4ZWiqqgGX3g6qsfbJugwqqEqroqRrDmegKtg9qK6ga5BsuroL56CmywsA47Q7GbloBsssMya6kJz76qrLSTolCtq9d2yisLxyK7QbcSDQsDrsFiRK5Bym7QwQgigPBBCCSs8IKyy3qL77789hutvv7yi23Aqw5MsKcGH2xpwgpTCnDDtDIMsaIST1xoxRb3+nDGC2/MscPlfoywxyJTTHLJF5+M8qABAQAsowGsADUAjwCG/////v7+/v79/v39/fz7/fz6/fv5/Pr4/Pn3+/j1+/j0+/fz+vby+vXx+vXw+fTv+fTu+PPt+PLs+PLr+PHr9/Hq9/Dp9+/o9u/n9u7l9e3k9ezj9evi9Org9Onf8+ne8+jd8ufc8ufb8uba8ubZ8eXZ8eTX8OPW8OPV8OLU7+HT7+DR7+DQ7t/P7t7O7d3N7dzL7NvK7NvJ7NrI69nH69jF6tfE6tfD6tbC6dXB6dXA6dS/6NO+6NK859G759G65tC55s+45s+35s625c215c205cyz5Myz5Muy38Gj2reT1K2Ez6J1yphlnoyhtIdaiIbAgYTLgoG8jX+ZfX26bGaIXkcvSTckRzYjOywdNCcaMyYZKR4UJx0THxcPHRYOEw4JEg4JCgcFCAYEAAAAAAAAAAAAAAAAAAAAAAAAAAAAAAAAAAAAAAAAAAAAAAAAAAAAAAAAAAAAAAAAAAAAAAAAAAAAAAAAAAAAAAAAAAAAAAAAAAAAAAAAAAAAAAAACP8AAQgcSBCAgw4rcBxJomQJkyYFI0qcSFFik4sYMzZ5ULGjx4kaQ3r4SJJkSI0tSqqseDLjjpUwI7bMGLOmwCEzL9qsSSMnxJ0wTfgEChPDUKIqEfg8gFSlzwtNS/o0EdVkThpVP/oUktWjz59dKfI4GnaiC7JlI35Am5YgBLZtB/p0EFdmzg51C/pkkZegTx195cKNS2Rw2xqG055IXDYD47AJfBoILNCnBcoAfJbA7HMG55xAPufE3ONx1xems4JIXTUC66gCfDIQ3ZID7ZMrbofMoTsk5iKvm9oIjjQFcaIajgNV4LNA74wVnmMcIf1ijOpNfmAH29eH8p0wvtv/DCG+poTyMQn4XIB9A3YV2HFgR4L5CHqYN+6vVKFf5Yb+JS3gEwHYTYCdCNjBgJ0P22H2A4AkxQDhRyNM6BEFFnZUgE8KYKcBdilgZwN2RjRIWQ4ZVrRCihRxwOJEDPg0AHYSYAcCdi9g14OJgQHxokQy/BgRCUIWZEGRBBngUwLYZYAdCtjVgB0RPPalA5IDsYClQB1sCUADPgWAHQTYfYCdC9jxUGVeQZRHxptwxilnnFj4NOeddwqE555vbmEnn3vqCeidX/w56JyCHhrnGBg5AUUUUDiBkRiKyplopW9eFMWmnEZxkReYwnkppk10amoTWoT65qiVmurqFaqSfcGqoq6aakWssx5aa6dN4ApArGTsymmvquY6qLCbEhuqsYByIexFvgILRqmuYhQtsE08MYUUUVBRRRZdhAEss8CWa+65eJKLLqbqrqtou+4OCm+8fM5Lb7q/3luuvfpamm+/xf4LMLsCD/xuwQbLi3DC9S7MML4PHxzxoQEBACyiAawANgCPAIb////+/v7+/f39/Pv9/Pr9+/n8+vj8+ff7+PX7+PT79/P69vL69fH69fD59O/59O748uz48uv48ev38On38Oj27+f27ub27uX17eT17OP16+L06uDz6d7z6N3y59zy5try5tnx5djx5Nfw49bw4tTw4tPv4dPv4NHu39Du3s7u3s3t3Mvs28rs28ns2sjr2cfr2MXq18Tq18Pq1sLp1cHp1L/o077o073o0rzn0bvn0brn0Lnmz7jlzrblzbXkzLPfwaPat5PUrYTPonXKmGWejKGIhsCBhMs6Kx0zJhkpHhQlHBIfFw8WEQsSDQkLCAUFBAIAAAAAAAAAAAAAAAAAAAAAAAAAAAAAAAAAAAAAAAAAAAAAAAAAAAAAAAAAAAAAAAAAAAAAAAAAAAAAAAAAAAAAAAAAAAAAAAAAAAAAAAAAAAAAAAAAAAAAAAAAAAAAAAAAAAAAAAAAAAAAAAAAAAAAAAAAAAAAAAAAAAAAAAAAAAAAAAAAAAAAAAAAAAAI/wABCBxIsMGGEzN+AAkiZAgRghAjSpxIkSCRixgzEllQsaNHihpDYvhIsmRIjSJKqux4MmOLlTAltsSII6bNgTMx3rxZI+fDnTFT+AQas8NQoishHEVaksBSpiR9HoBqMucEqlFzesD60WcKrh590gDbUUfOH2QrtniaFmIItm0HWoAbFwACunXxxvU5oG5Enw/8QvS5QbDFnCUMD/SRE4ZigTFy8ngMwITetBouk2WgmWxnsJ+5hsbqUwFlnxdO5wxBuedMFpSFzrxB2WhOykpvP3aq+/Foqr+hBmfq04DqmRIom53ZgfLamSgoi8g5g/LcmT4o3+2teDhS70TBA/8Vv9OnAMqMZzqgHHmmBsqWZ5KgnHnmC8qcZ+6gDID8Tf82ARiTgDARuJKBKrnWUgKx5VRBbTmBgFtOK1DGW0s28IdgVTNpyJ1hG2bVoXIfCvZcSwVIlxME1uXEgXY5neBhSzLMeFIPNp6UY0g7asRfei3x116Q8OUUAH05MYBfThn0iNEITl7kQpRE5EDlT76V6FeIHymoY4MjPmYbkY9FkBMCFuZEAZUfUKkClTVcKSeJYSp24pc7RaHnnnz2yWcSOfkp6KADDWqonkwEeuihhS4q6BM5QeEooQJNKihGRRhxhBFFXNSEpX42CuqeFx1h6qlHEKHEqHyKyioRqMZ7igSre7o6aqy40qqnraDiGquuUfBqqa+oAivspMSeamyluiZr6rIAALtEskRAC6wTsOJ6kbXAXpTppp1uq+uxwJa7K7PmpqvuuoaSy+6o7r5rabzyOkpvvYyiiy+t9+4raL/+9glwwLXqS/CkAx+cMMELB9ywvw/vO1BAACyZAawAPACPAIb////+/v7+/f3+/fz9/Pv9/Pr9+/n8+vj8+ff7+PX7+PT79/P69vL69fH69fD59O/59O748+348uz48ev38On37+j27ub27uX17eT17OP16+L06uD06t/z6d7z6N3y59zy5try5tnx5djx5Nfx5Nbw49bw4tTv4dPv4NHv4NDu38/u3s7t3c3t3Mvs28rs28ns2sjr2cfr2MXq18Tq18Pq1sLp1cHp1cDp1L/o077o073o0rzn0bvn0brn0Lnm0Lnmz7jmz7fmzrblzrblzbXlzbTkzLPfwaPat5PUrYTPonXKmGWejKGIhsCBhMtiSjFUPypGNCM3KRspHhQcFQ4aEw0NCgYLCAUAAAAAAAAAAAAAAAAAAAAAAAAAAAAAAAAAAAAAAAAAAAAAAAAAAAAAAAAAAAAAAAAAAAAAAAAAAAAAAAAAAAAAAAAAAAAAAAAAAAAAAAAAAAAAAAAAAAAAAAAAAAAAAAAAAAAAAAAAAAAAAAAAAAAAAAAAAAAAAAAI/wABCBxIcKCDDShqGDmCJImSJQUjSpxIsSLBJRgzalyiwKLHjx43iqQAsqTJgSI3djjJ8mNKjSdayqT4MiOMmTgL1sSoI6dPADsx/sxZJOhQnDiMHpXpQulSliWcPjW5QepUkBKsXvWIIGiArSaDLgBbMmgFsiCDekDrcicKtiF3xoBrMegOuhWDQsQ7UYhWvgJr/AXMYjBfEYbxZkhMFwJjuAaCCgAsMSgDyhGDWsCsc+cHzhd3pgCNcqcM0gKD8kAN9DHbH67RzohNVgVtsCBub72g+2qD3lMHBCXAOmiD4jsvIK8JYvlLFc5Tzogu0gd1kax5AH8aY/tSFN6Pev8IP7QC+Z8Lzv8MWuC6xgfuM2KIjzEE/SUr7tO4D4S1EfU55QAgTi8MOJMJBsrEQYItTcAgSwk8yFJQBtwHwX0Z3CfCfSzcV8N9QbBGhIQm3UBiSS2cCBIJKn6kQYseRQCjRQfMWNdOB9wXwX0a3DfCfS3cZ8N9Q7AGhI0UCbYTaysgOVEITkqEQZQRPUBlQQVc2VlNCNwnwX0b3FfCfS7ch8N9RLDWg5YDycCmQCm8CcAHclogJwNyCpAgFnz26eeffwZ1BaCEAkpRoYj2GVQViSJ6aKOFBjUFpIQ+SmmgGDHRhBNNMJGRFJf+aWmofGLkxKmoOoFRFKT2OSqpS6SMKusSULTK56uhyqrrE7Zigeulus7a66+UBpvqEsNO1CsWxqKKrK3EQtrsqc+2Gm2jVDSLUbISLWtFrLpmxG1Ey2KR6aadajRuQeW2W+i17sYr77yuKkuvu/DeC2m++ibKb7/v2gswtAIPTOq/BvuJcMK3Fszwvg4/7G/EEgfcbcUQX4zxxBpvbHFEAQEALI0BrAA/AI8Ahv////7+/v7+/f79/f79/P38+/38+v37+v37+fz6+Pz59/v49fv49Pv38/r28vr18fn07/n07vjz7fjy7Pjx6/fw6ffw6Pfv6Pbv5/bu5vbu5fbt5fXt5PXs4/Xr4vTq4PTq3/Pp3vPo3fLn3PLm2vLm2fHl2PHk1/Dj1vDi1O/h0+/h0u/g0e/g0O7f0O7fz+7ezu7eze3dze3cy+zbyuzbyezayOvZx+vZxurXxOrXw+rWwunVwenUv+jTvujTvejSvOfRu+fQuebPuObPt+XNteXNtOXMs+TMs8qYZZ6MoYiGwIGEy19HL11GLlZAK1Q/Kkw5Jko4JUIxITgqHC8jFyUcEhsUDRINCQgGBAAAAAAAAAAAAAAAAAAAAAAAAAAAAAAAAAAAAAAAAAAAAAAAAAAAAAAAAAAAAAAAAAAAAAAAAAAAAAAAAAAAAAAAAAAAAAAAAAAAAAAAAAAAAAAAAAAAAAAAAAAAAAAAAAAAAAAAAAAAAAAAAAAAAAAAAAj/AAEIHEiQYJKDCBMmKciwocOHEBsqnJggosWLGAFMVPggo8ePAzcmrACyJEaRCD2YXAkR5UESLGMydJlEhcybAmnOwHmTZg6eMmn+ABqTZhGiLInQRLrSx1KmJXE8hfoxxlSqGVNcxXpxxFauETt8BfuQwliyDR2cRVvwwFq2Bl0GgBuRpgK6LV1CwPuQ5gW+Dml+ACzRZQnCM12yQFyQJg3GcVHqgBzSJRDKOV0awQxgyFu6PT7DvSGaLYzSaFGgJitiNdgNrrlOiI21AW2qBW5TpTmAM80Fvl1GCI4yA3GRII5vNKF8YovmCmtAT7hjOsIg1g8i4SxEN1Me3pHa/whP1AV5oCfO8wyhHmeG9jclwJfJYH5MAvaLuiyQPQmD/hL0p0F/IfR3Qn8v9GdDfzz0JwRnR+S3UhASmrRDhSXRgCFILGz4kQkeegRCiBlhQCJGEZx40QIqWiRAixbRZEB/DfQ3QX8c9CdCfyj0B0N/N/TXQ39DcFYEjBABgeRDOizp0AxONrRClAyVQGVBH1xJkAVaDgRBlwIpAGZmKHGmkUsI9OdAfxT010F/I/SXQn8yQKXFnXjmqWeeNEmx559/WgTooHfSBAWhhAqK6J80ObEooIo+mmcTCCmxBBNLKIGQpHtGyqkWTxzExKikMnHQp3l6ymkUSZTqahKo4oCpqqRTuGprrHfO+igVtrqKqxa6LlpFr6X+GiyiVhBLqrER4XqFsqMyCxGuWLRKLKy4HktoFqLaemq2zeJa6aWZbgrutL+mO6i26rbr7ruJhgtvu+zO+2i99iKKb77rystvrPv+26m/AnMacMGyEozwogcv3DDCDxccscAT/2tRQAAsfQGsAEMAjwCG/////v7+/v39/fz7/fz6/fv5/Pr4/Pn3+/j1+/j0+/fz+vby+vXx+fTv+fTu+PPt+PLr+PHr9/Dp9/Do9+/o9u7m9u7l9e3k9ezj9evi9Org9Orf8+ne8+jd8ufc8uba8ubZ8eXY8eTX8OPW8OLU8OLT7+HS7+DR7+DQ7t/Q7t7O7t7N7d3N7d3M7dzL7NvK7NvJ7NrI69nH69jF6tfE6tfD6tbC6dXB6dS/6NO+6NO96NK859G759C55s+45s+35c625c215cyz5MyzyphlnoyhiIbAgYTLKR4UJRwSIhoRHhcPGxQNGBIMFRAKEg0JDgsHCwgFCAYEBQQCAgEBAAAAAAAAAAAAAAAAAAAAAAAAAAAAAAAAAAAAAAAAAAAAAAAAAAAAAAAAAAAAAAAAAAAAAAAAAAAAAAAAAAAAAAAAAAAAAAAAAAAAAAAAAAAAAAAAAAAAAAAAAAAAAAAAAAAAAAAAAAAAAAAAAAAAAAAAAAAAAAAAAAAAAAAAAAAACP8AAQgcSLDgQCIIEyokYrChw4cQIxZcSFGAxIsYMwKguJCAxo8gCXJUaCCkSY0jEyI4yVJiSoQKWsp0+JIIg5k4Rb50kLNnTQg9c9aUEBRnzQpFZ9a8kFRmzQxNW9bcEJVlzQ5VT9b8kNVkzRBdQ9YcERZkzRJlP9ZEkRblSxVtM9Z0ERdjTRh1L9aUkdflSxp9I9a0ERhiTRyFH9bUkZjmSx6NG9b0EdlgzSCVJ74ckplgkJqdB/4AHRpAD9Khd6DunGN15huuK9eIHXkG7cYxbid2obvwit6BUwDva2J4XhLG64pIHhcE87YenqflIL2shuphMWDvWmF71gneq0b/CB/1AfmmDc4nXaC+aIL2QQ/A71lgfs4B9oW+LC2wZgD+NQ0A4EsFDJjSAQaOlECCHC3AIEUNPLjQAxIqFEGFCVGAIUIWbEgEBh5q4CEHHnrgIQgeiuAhCR6a4GEKHrLg4QsexuDhDB7W4OENHubg4Q4e9uDhDx5iVpoQ+c0ERJIy+cBkSzw8yZIOUp6EQ5Um2YBlSDRsCZIMXn4EQ5gatUBmRiqcidEJal5UQpsSjQBnRCHMCdEHdj7UAZZV9Onnn4D+iURNgRZaqEaGJtpnEoQqmiiijhaqRKORBgpppX8ukVARRhxhRBEJYWppRqL+yQRCR6Sq6hEIlfrnpaU2iEHEqrQS4aqfsIrqBK283tpnrpg+wSutvlYBbKVQDLtqscdGGoWyqjJL6q1SQJuqtBj5OsWsytrqa7OOUoEqr61+O+2tm3b6aajmZlvsu4+eC++89Nb7Lrj2lopvvpjuy2+k/v6raMACG0pwwaO6i7CrBy+Mq7wOV9pwxBM7XPHCFyOcccEaBQQALG0BrABDAI8Agv///8qYZZ6MoYiGwIGEywAAAAAAAAAAAAj/AAEIHEiwYMEACBMqDGCwocOHECMeXLhQosWLGAVSrJixo0eCGxV+HNkxZEKSKC2aRJiy5cOVDF3KBLlypk0AMG/OzKnTJc+eKX8CJSl06MeiRkvWTDoSKdOLTp9KjCoVItWqDq9iNah1K02TXqEuDRuxK1mzYdF6VbuVLVa3VeFKlfuULlO7SfEa1TuUL1C/PQHrFHyTsE3DO8eSfal4cUPEMiH7bOx4ItjKWSlj1qh5s+SWn4N2xhwaZWmioyufbpra8eqjrRe/9jhb6eXNlkPi5hr7bO+0v9cGbzv8bfG4x+cmr7v8bvO8z/dG7zv9b/XA1wdnL7z9cPfEt3dz/w4vvnZG8xjRiyW/W73K75HhT2aP2/1U+aDxi6bvWb9p/6jxRxqArAmoGoGwGegagrQxaJtu4g1kX1kOnldheheuB2GEOGX4noIuFSDiiCSWWCJMJqaYYkYqtjgiii62yGKMKsJIo4kz3ngiQgIMQMAAAiSkI44YDbkjAUgmSQBCRpKYY5MBKCllAE2O+KSRUmZZpYhXDpmllFsW0KWOXyoZ5pg3lpnkmUVuqSaSbF4UZpRlUrklmjQi9CWTd7ZZZUI9/hgkn1XiGeahYvqJ6KKMNnqooY4OCWmkN05KaYyWXiqjopo2mWmnRMoJaqGcjlppqaZiimqqm4rK6qmuvgyqaqyytmpRrTRmFBAALF0BrABDAI8Ahv////7+/v79/f38+/38+v37+fz6+Pz59/v49fv49Pv38/r28vr18fn07/n07vjz7fjy6/jx6/fw6ffw6Pfv6Pbu5vbu5fXt5PXs4/Xr4vTq4PTq3/Pp3vPo3fLn3PLm2vLm2fHl2PHk1/Dj1vDi1PDi0+/h0u/g0e/g0O7f0O7ezu7eze3dze3dzO3cy+zbyuzbyezayOvZx+vYxerXxOrXw+rWwunVwenUv+jTvujTvejSvOfRu+fQuebPuObPt+XOtuXNteXMs+TMs8qYZZ6MoYiGwIGEyykeFCUcEiIaER4XDxsUDRgSDBUQChINCQ4LBwsIBQgGBAUEAgIBAQAAAAAAAAAAAAAAAAAAAAAAAAAAAAAAAAAAAAAAAAAAAAAAAAAAAAAAAAAAAAAAAAAAAAAAAAAAAAAAAAAAAAAAAAAAAAAAAAAAAAAAAAAAAAAAAAAAAAAAAAAAAAAAAAAAAAAAAAAAAAAAAAAAAAAAAAAAAAAAAAAAAAAAAAAAAAj/AAEIHEiwoEEARBIqXEjkoMOHECNCFMCwosSLGDMCIFCRocaPIAka6LgwpEmNCEgqPMlSogKVCVvKdMgAZsOZOAc6sJmzJwSePXFKABpUZgWiRVleQJrUZAamTUFugBpVYweqVTF+wJpVYgiuXSGOABvWYQmyZQ2iQJuWoAq2bQW6gBsXBt22Mu6mpaG3rI2+YXEA7qpjcFYehqv6SBw1COOmQx4ntRkkLkabPyxftNlDs0SbOzxHtJlDNESbN0w/tFlDtUObM1wftBlDtkGbLmwXtLlCN0GbKXwPtGlCuECbJIwjhClCuU0QzmF6iK6SA3WSGq53xKC9YoXuDCeA/18YYbzCB+YTNkhPZAH7BOwPsC/AfgB75QEkFx2gP2iB/j0dAGBOCQyI0wIGztRAgjI9wGBLETzIEgUSnmRBhSZhgGFIGmwIEgcefuRBiBqBQGJGIpyIEQkqXmRCixKlAGNELMwI0Qs2PhRDjg7NwONBNfxo0A1CFpRDkQTtgORAPSwp0A9OAuAYTOwJwR4Q7PnAHg/s6cAeDuzZwB4N7MnAHgzstcCeCuydwF4J7I3AXgjsfcBeB1lVoeeefPbZp01I+CmonxoNauieNiVxqKGFLjqoTUo4Kmijkv6ZUBFGHGFEEQotUWmflH6qZ0JHlGrqEQkxIeqeoYpKxKmwEozRxKp6tvoprLg6QWsVtlaKK6xP7NqrpL+eCoWwGe1aRbGmRoEsRsoyW6oUz16k7KvFEjFFtRJdi22sRFDBbUTeEoGpppwmpOywyrZba7LuxivvvPGyS6+o9t5bab76Ospvv4f+C/CgAg9MKLwGr1pwwqwizPC+Dj/sb8QSB0xxxQRfjPHB0G68qEYBAQAsTQGsAEMAjwCG/////v7+/v79/v39/v38/fz7/fz6/fv6/fv5/Pr4/Pn3+/j1+/j0+/fz+vby+vXx+fTv+fTu+PPt+PLs+PHr9/Dp9/Do9+/o9u/n9u7m9u7l9u3l9e3k9ezj9evi9Org9Orf8+ne8+jd8ufc8uba8ubZ8eXY8eTX8OPW8OLU7+HT7+HS7+DR7+DQ7t/Q7t/P7t7O7t7N7d3N7dzL7NvK7NvJ7NrI69nH69nG6tfE6tfD6tbC6dXB6dS/6NO+6NO96NK859G759C55s+45s+35c215c205cyz5MyzyphlnoyhiIbAgYTLX0cvXUYuVkArVD8qTDkmSjglQjEhOCocLyMXJRwSGxQNEg0JCAYEAAAAAAAAAAAAAAAAAAAAAAAAAAAAAAAAAAAAAAAAAAAAAAAAAAAAAAAAAAAAAAAAAAAAAAAAAAAAAAAAAAAAAAAAAAAAAAAAAAAAAAAAAAAAAAAAAAAAAAAAAAAAAAAAAAAAAAAAAAAAAAAAAAAAAAAACP8AAQgcSLCgwYJJEipcmOSgw4cQI0JMwLCixIsYMwJ4UJGhxo8gCVbouDCkSY0eSCo8yVIiCZUJW8p0qAJmw5k4B86wmbNnDp49cf4AGlRmEaJFWdokklSmTR9NW9rEEVUpzBhVT9pMkdWkzRFdQ9rsEBakTQplP9p0kFajzQNtMQZAGheiArp1HULAm9fgBb59CX4AHFhgCcKFWSAOTGNxXx2O8wKJXNcI5bg2hxR+aLPHZoc2b3w+aBPGaIM2UZxGCFPEaoI2N7weaHPCbIE2G9wGYLPA7QGX2y4InjYC8bIZjocFobyrieZZW0CvWmN61B3WmwbJnhQJ96I2hez/tsljPEwb5lW6SE/yBPuOId5XzCCfoYT6CxngV0jgdoHvQTEAYE8SDJiTBgbiFEKCM53AoEwvPNiSDRKyxEOFJwmBoVcwHbFfQkF8mMQOItIgIgsimiAiCCJiIGIEIi4gogC3GbBhSA3cCNIEOn7EQY8aiQBkRigMiREMRl50Q5IS9cBkREM8CZFNRYgIhIg6iDiDiCuIWIKIH4hogYgQiKiAiLshIOVDDqzpEAVuHtRBnAaNQGdBKdxJkAwYauHnn4AGGqgUNglqqKAaHaron1AUuuihiT56qBOOShpopJYGqpASSzCxhBIKNZHppRmNqmkSTKSqKhMJPWHqn5i+kYrqqqsmEcWrfsZqKq28ToGrFrqOyiutVPwabKbDrlqFsaX+mqyqVjCL0a9aPJvqFdJeRO2swyaBRbYSbcttrUlkAW5E4ibBqaegJkTtsdTGC2uz8tZr773ywovvq/ruO2q//loKcMCPDkywogYfbGjCCpM6bcP80gtxpgxPDKzEFheMccYIb8zxwh5/7PBFAQEALD8BrABBAI8Ahv////7+/v79/f79/P38+/38+v37+fz6+Pz59/v49fv49Pv38/r28vr18fr18Pn07/n07vjz7fjy7Pjx6/fw6ffv6Pbu5vbu5fXt5PXs4/Xr4vTq4PTq3/Pp3vPo3fLn3PLm2vLm2fHl2PHk1/Hk1vDj1vDi1O/h0+/g0e/g0O7fz+7ezu3dze3cy+zbyuzbyezayOvZx+vYxerXxOrXw+rWwunVwenVwOnUv+jTvujTvejSvOfRu+fRuufQuebQuebPuObPt+bOtuXOtuXNteXNtOTMs9/Bo9q3k9SthM+idcqYZZ6MoYiGwIGEy1ZBK1Q/Kkc2I0Y0IzkrHDcpGyogFSkeFBwVDhoTDQ0KBgsIBQAAAAAAAAAAAAAAAAAAAAAAAAAAAAAAAAAAAAAAAAAAAAAAAAAAAAAAAAAAAAAAAAAAAAAAAAAAAAAAAAAAAAAAAAAAAAAAAAAAAAAAAAAAAAAAAAAAAAAAAAAAAAAAAAAAAAAAAAAAAAAAAAAAAAj/AAEIHEiwoMGDAJYoSYLkiJEaKDY4QEixosWLBBUs2cix4xKMIENapOCxpMiTKAV2KOkxpUuQJ1h2fEmzIgyZHGvqNKgD58adQAX6/Bl059AiRY36xJFU51AXTWsOLRGV5tANVV8OlZA1ZYChCLqiXDBULMoKZc2K9JBWLUgUbd1ejBFXbsUdde0iHPpRr8WhQvz+9VlDcMWhLAxTHCpC8V6fGRwfHApBckEBQw1YJsggr2QLnh1/CK04BWnDMk4L5qHaL9/NBIf+gD1w6AzaQn2qwJ3QJwjeQy8A99kAN4GhA3A3aK33AnO7IJ7LVSHd7Yzqan1gN/sa91Aew3HG/wgvEwV5lh7Ol6yg3uMC3AW2i30gvyuG+llD4K+6Yn9UGv41BUSASQ1lRHsd5YAgRy8suJEJDi7BQYQTRJgAbgYQWBQEGgaVQYdAiQDiTiyMqFMNJtYURIpW+UREhDdE2EKEJESoQYQRRHgAbgew+FIEPrqkQZApjUAkSi0ceZINSoo0RJMhDQVEhIV559MKEYYQIQYRPhBhAbghACVIEoyJ0QZmXlRCmha5wGZFOLxJERFyPoZTDxHKEGEKEX4QoQURMhChAFVtYeihiCaaqBZDKeqooiA9KumhWDQ66aORXvqoFZZqmmimniZKxUZMNOFEE0x0FOqnGK2aqBRLOJkh66xOcOTqoaDeCgWtvG50q6G5usrrsEv8ukWwqw7L6xPGIhuqsrRG0WyrxkI76xTTXmTsFtbKWkW2Fm0bK7RLXAFuReKO2+sSWZxLUbpLlHpqqr66i9C2+E7qbL789uvvqvv+e2vAAgNMbcH4EoywpgovrO/BDg8MccQGa0uxxBZfXHG4Gm+MbsehNgwysBOPjGnJJkOKUUAALDYBrAA8AI8Ahv////7+/v79/f38+/38+vz6+Pz59/v49fv49Pv38/r28vr18fr18Pn07/n07vjz7fjy7Pjy6/fw6ffv6Pbu5vbu5fXt5PXs4/Xr4vTq4PTq3/Pp3vPo3fLm2vLm2fHl2PHk1/Dj1vDi1PDi0+/h0+/h0u/g0e/g0O7f0O7ezu3cy+zbyuzbyezayOvZx+vYxerXxOrXw+rWwunVwenUv+jTvejSvOfRu+fRuufQuebPuObPt+XNteXNtOTMs9/Bo9q3k9SthM+idcqYZZ6MoYiGwIGEy1Q/KkAwIDMmGS0iFiUcEh8XDxoTDRINCQsIBQcFAwAAAAAAAAAAAAAAAAAAAAAAAAAAAAAAAAAAAAAAAAAAAAAAAAAAAAAAAAAAAAAAAAAAAAAAAAAAAAAAAAAAAAAAAAAAAAAAAAAAAAAAAAAAAAAAAAAAAAAAAAAAAAAAAAAAAAAAAAAAAAAAAAAAAAAAAAAAAAAAAAAAAAAAAAAAAAAAAAAAAAAAAAAAAAj/AAEIHEiwoMGDA4cICQLkhw8ZJjIwQEixokWLC4Zo3MhxyMWPICli6EgypMmTI0h2PMnyIwyVHFvKpMgD5saZOAvavJmz584hNHr63JlCaM6fHIzi/AlBqUwDPwk4bTnh59SWHqxePblC69aQNrx+/fjT41iQP3GcRbuTxVqyOz+8vfiTwtyKAn4euEvRgVi+BTX8BTzwxGDCAGQcJuxjMeCfPBAb/AlDss6dJCwT/IlBc8KdCzwDQOCYb4XSd0Ggntti9dscrteWFQ3gZ1DRP4vi3pl0t82mnglEFQ0h9lkOxsemSP6VBvOts33DVCtdpdvqJEHQrrt9517PCp5f/70gfqqI8k5foFe6Y71RyN1tVsbeMTN9jp3vbwztuYB7oRL811MHAuakQoE41YDgTNF5Zlt8MOnmIG8QqgScZgEM51kDC8qUQYctlQAiSzGMeFIPJpqUVoUkXTehTdrpp5FdMg7xnWYHpBgSBTqC9EGPH7EA5EU3DGkRfDXO9yJM9i2pUn5OksSfZgMYWdEDVlK0QZYIocDlQTN8OZmYl9l0W5QdSagZUix2FEGbHEnlWQJkEmRBnQOFgKdALuwJgA5+rliji0JFYeihiCaa6E9JKOqoohQ9KumhPzExqaSRXvroT09o6mimniIKxUZEFGFEEURsFCqkCK2KaBMaGZYh66xGaOQqoqC6qsQQtPY6xK2H5roqEr0WC6yhwoZ6RLG9HhtFsp7yyuyszkKrqbTTGlFtq8BiO+22Bx0b67RLgGuQuOP66oS5BaGrUamnpvoruwQ5a++k1t6r7778Ysptv/rmC/CqAg/sacEGX4pwwv6Gy/CxCz/MqsMSuxpxxcH+i/HBGm+scMceN3xuyJpevDFFAQEALDIBrAA3AI8Ahv////7+/v7+/f79/f38+/38+v37+fz6+Pz59/v49fv49Pv38/r28vr18fr18Pn07/n07vjz7fjy7Pjy6/jx6/fx6vfw6ffv6Pbv5/bu5fXt5PXs4/Xr4vTq4PTp3/Pp3vPo3fLn3PLn2/Lm2vLm2fHl2fHk1/Dj1vDj1fDi1O/h0+/g0e/g0O7fz+7ezu3dze3cy+zbyuzbyezayOvZx+vYxerXxOrXw+rWwunVwenVwOnUv+jTvujSvOfRu+fRuubQuebPuObPt+bOtuXNteXNtOXMs+TMs+TLst/Bo9q3k9SthM+idcqYZZ6MobSHWoiGwIGEy4KBvI1/mX19umxmiF5HL0k3JEc2IzssHTQnGjMmGSkeFCcdEx8XDx0WDhMOCRIOCQoHBQgGBAAAAAAAAAAAAAAAAAAAAAAAAAAAAAAAAAAAAAAAAAAAAAAAAAAAAAAAAAAAAAAAAAAAAAAAAAAAAAAAAAAAAAAAAAAAAAAAAAAAAAAAAAAAAAAAAAj/AAEIHEiwoMGDBJswWaIkyREcKzo4QEixokWDD5po3MixycWPIAl66EgypMmLLUh2PMkS4Q6VHFvKTAhz48ybNTUOuTkzZxMaPGX6NBG0pU8MRU8e8IkgqckLPp2aNBFVKkgaVa1eFJJVa0WfHr1a9MlD7NicLsx+zflBLUWfENwedNBV7sAOde0CYJHXro6+csHqLeiTyGCaNWscHujzxGKBPjM8NuAzwWMLgN2WyKx2BmezQD6LFfzYZ4/HAHy+QO0TBOucER4z8CngMQfRXlfg1ppjt1XSi30WeV3TBnGYKY6r1PC4gE8Fjyv4ljpiutMY1pP+yF4U+GGfPpST/4QhvmOI8hwlPF7gk8DjDdyDqojPEwf9m0ju98x5BP3GG/5ppEKATWzwGAE+LfDYBPrJJEKDLcEAIUs+THiSd4P59AOBMRA4AoEUPKaATwU8poGFJqWAYkg2rAiSES5+hKFePuVA4AoEcvDYAD4x8JgEMV4EQpAWvUBkRT0c+ZaSCPkEBIEyEEgCgRY8loBPBjyWAZMHocClQTV8WRARYiJWE4E6EMgCgR08FoBPDTwGQZkDfUCnQC7cCQAPes5ol09B8ETGoIQWaqihPmFx6KKHEsToo4T6tAWkjzpKKaM+fXHpopZuWqgYGzkBRRRQOLHRGJ4a2mmqZHihURSwxpkahUasFrpqqlo0IeuuTdRK6K2eXrHrsL4OCuymVgy7a7FkHHuprsrGyqyzlEIbbRTTDlSstdFmK9C23O7KhbcAgBsurE2AQS6zYXSRRRVURCHFFE/0ui6z+Faqbb789usvpdT+y2rAAntKcMGXHowwpAovzGjDDje6b8S1QkzxrxNfbHDGGifMcccMfwzywyKPLPG3JgM8UEAALDIBrAA0AI8Ahv////79/f38+vz6+Pv49fv38/r18fr18Pn07vnz7vjy7Pjy6/fw6fbu5vXt5PXr4vTq4PTq3/Po3fLm2vHl2PHk1/Dj1e/h0+/g0e/g0O7ezu3cy+zbyevZx+vZxurXxOrWwunVwenUv+jSvOfRuubPuOXNteTMs+TLst/Bo9q3k9SthM+idcqYZZ6MobSHWoiGwIGEy4KBvI1/mX19umxmiF1GLlZBK0Y0Iz8wHzssHS8jFywhFikeFCcdExkTDBUQChIOCRINCQIBAQAAAAAAAAAAAAAAAAAAAAAAAAAAAAAAAAAAAAAAAAAAAAAAAAAAAAAAAAAAAAAAAAAAAAAAAAAAAAAAAAAAAAAAAAAAAAAAAAAAAAAAAAAAAAAAAAAAAAAAAAAAAAAAAAAAAAAAAAAAAAAAAAAAAAAAAAAAAAAAAAAAAAAAAAAAAAAAAAAAAAAAAAAAAAAAAAAAAAAAAAAAAAAAAAAAAAAAAAAAAAAAAAAAAAAAAAAAAAAAAAj/AAEIHEiwoMGDBluwWKEixQkQGCAcQEixosWBCVpo3MixxcWPIAFI6EgypEmKG0h2PMmyIAmVHFvKBAAz5kyWNTWOuIkzpwaeJ3O2iAA0ZAChBoqCXCBUKcgJTZ1e5BBVasUSVa0iFOpRK0WhIrx+zZlB7NacD8waFCC0gNqCDLK+BVBB7lsPdtWayGuW61yCQkP8HSj0wmCBQh0cHiCUwOEGfMVaiOz1A2WtKC5bFXriMM2cHzwLtSA6Z4PDBIQOOOxAs9QLrp2GiK3U72GhJkrX7KAbJoXeKhkcLiBUwOEHtItmSA5UBHOetgcLLQGcJIfqHSdg56jgsAGhAQ5H/3h+UwP5mSPOy4z+VyiJ7Rs3wNcoYX4LBIcRqG85MqfnlP4d9lKA0u3XU0073eaTfUQNdlROSQ3GFIF/QUXhXFRd+BZWGqrF3lxg2VeWgjWlNRhbObk1WFwdmlVXi2LhBaNXe82o1YdvBWafYSTCpNhgjOXk2GCQ2WjVZEZKZVmSTmXGZG05ddajSqFNSRJpVnZ02mCp5bTaYK09WRRsYgI1W5nQGRhUTrllyRFvbm5UgX3CDUZcTsYNhhyaNy3H50zO/bneeUQUauihiCIqlA2JNpooAI5GaqhQOEgaKaSWOirUDpk2immnimrkAgwxwODCRj+AiuinqhIhhEYxxIkqawwaDdGqoayq2kMLs/bawq24AktEDr0WKywRuYJ6Q7G9Hptsp7wyK6uzwkYrbQzUAmuttNneCqu0PHTb6kbMtgCEuK0G4YMONdAQgwwzvPArusfWa++9mT6LL7378tsvsPr+22rAAoNKcMH5IlzvwQpf2rCwDD/8qMS3RkxxsBcbnLHGG2caEAAsMwGsADwAjwCF/////v39/fz6/fv5/Pr4+/j1+/fz+vXx+vXw+fTu+PPt+PLs+PLr9/Dp9u7m9e3k9evi9Org9Orf8+jd8uba8eTX8OPV8OLU7+HT7+DR7+DQ7t7O7dzL7NvJ7NrI69nH6tfE6tbC6dXB6dS/6NK859G759G65s+45c625c215Myz38Gj2reT1K2Ez6J1yphlnoyhiIbAgYTLV0ErRzYjNykbJx0THxcPFhELDgsHCAYEBwUDAAAAAAAAAAAAAAAACP8AAQgcSLCgwYMIBb5w0YLFChUhMkRAkLCixYsHDbzYyLHjC4wgQxp04LGkyJMhKZT0iLKlxQ0rO7qceTBETI40cw5McXOjTp09ff6kGZTEUKI9OxydGdTCUpdBITxtGTTB1JMDggq4KnJBUK4iI3wFC/LCWLIXPZxFW7HEWrYIg36EWzHoCbp1e4LAmzCoBr5xe04AfDBoA8IGgxZATFBjT8YEST6GLFDlZMowL0O2qZkxz86Ig6qgrLDnCNIAgnJAHbQC654PXt88QDprzwCkvYImLHY3YLO++aoNjpfE29DHCQc1ITvmh+YrMUAvKWG6xwXWOxIg7fgmasneSVv/Do85OWDO5CF/Ts84aIrsHEXA37hh/gsK9h3YN1DbPF8F/uHVG3uIAUcgYcMdCJhxxNEll31GkRaUUhL25FSFN0mFYUxWbbjSVpR1F9N3AdI13oikZaYgX+ihSNl6LkJml317eVjSXzZ6NFiOHR3GI0eLUWbbingB2CBcA8bImIFKIpZgk4QxSKSDPY3240anXfnCalq6pmVsWtKmJW4hlggXeFACduJKqKmYJotmsoVCnGgtZ99zWkqnZXVaMrAUD4AGKuiggwalA6GIEppQoowCukNQjTa6aKSI4gAppYhOiqmgNnAEQwwyxAADR5sqilCpgtawkQystirDRqgKjKopqjS84OqtL8Qa6KylznDrr7oCyuumtv7qarA8DItpscayiqyylDLb7LOn6iqtsdQeFOyqzd6QrUHbcotrDt8WFO5Gn4Y6aq7lEoTsu/DGK2+y1c4rL7T2xopvvqXuyy+m/v4bacACM0pwwZnWizCqBy8sq8IOAwxxxANPTLHBFl+csLYaU9owxQEBACw8AawAPwCPAIb////+/v7+/f39/Pv9/Pr9+/n8+vj8+ff7+PX7+PT79/P69vL69fH69fD59O/59O748+348uz48uv48ev38On37+j27ub17eT17OP16+L06uD06t/z6d7z6N3y5try5tnx5djx5Nfw49bw4tTw4tPv4dPv4NHu39Du3s7t3c3t3Mvs28rs28nr2cfr2MXq18Tq18Pq1sLp1cHp1L/o073o0rzn0bvn0brn0Lnmz7jmz7flzrblzbXkzLPfwaPat5PUrYTPonXKmGWejKGIhsCBhMthSTBZQyxUPypNOiZHNiM/MB86Kx0zJhktIhYlHBIhGBAZEwwLCAUAAAAAAAAAAAAAAAAAAAAAAAAAAAAAAAAAAAAAAAAAAAAAAAAAAAAAAAAAAAAAAAAAAAAAAAAAAAAAAAAAAAAAAAAAAAAAAAAAAAAAAAAAAAAAAAAAAAAAAAAAAAAAAAAAAAAAAAAAAAAAAAAAAAAAAAAAAAAAAAAAAAAAAAAAAAAAAAAAAAAI/wABCBxIsKDBgwgJCgkC5IePHjFMaGiQsKLFixURCNnIsaMQjCBDJozgsaTIkygzlPSIsiVIECs7upxZEUVMjjRzGnxxc6POnwJt9PwIVOdQokVpDuWRNOfQGU2V9mQRdebQElVdDu2QteVQC11RDmUQVuSAoQTKhlwwVG3ICm3dYuQQV67FEXXtJlyRV+9BGX39FtQRWPDAo4YRDr2R+ODQF40NDkURueDQEJUV9syQ+XDPCJ0FDkUQ2kDhxA9OG76gWrCH1n5NwNbbYrZdGrbl9sjtdmloAE9/D6Ua+qrwnlyL9wSr/CbZzgHQhk7AW+2E6mU1YA8bYnvXFN6zwv8IXxUH+aiIm8dkrH4l5PYlKcP3iHl+R872OUo4fpN0ZwLnNcVAgElZQGBRHRwIFAkK/sRCgzrNAGFOO0wo1U1M5bcRVBoKQVxnxnWYHIjL8RfTcyTelFZnB1g4EwQuuoRBjC19QCNKJ9x4kgs6ilRDjyGll+J6JrpXZHxH0pfkfUvq1+RG/mUmAJAgKUAlRhRcedEGWlokQpcVqQBmQjGMiVAOZjrWU4ZDrsRhmyV9mFmIcHo04pwldoginiqGVkCaBjng4hSEFmrooYdCMRSijCJ6UaOQFurEopE2+miljTJBKaaHXsrpoUpsNAQRRRAxREefdmpRqociIUQRsMaWWgRHrBbqaa1GyKrrRrUSeiurugZ7RK9T/JpqsLomQayxnyIr6xLLrkqss7E2EW1FxE5BLaxPXJtQtq86K0QU3iIEbri7CiFFuQedK8SopZ7KK7sGZWvvvfjmayiz+tJbUL/68gswqwIP/GnBBmOKcMKRLsywpdI+XKvDEquKbcUER4wxpxRvXKzGHjcMcsgQX0xypAEBACxIAawAQwCPAIb////+/v7+/f39/Pv9/Pr9+/n8+vj8+ff7+PX7+PT79/P69vL69fH59O/59O748+348uz48ev38On38Oj27ub27uX17eT17OP16+L06uD06t/z6d7z6N3y59zy5try5tnx5djx5Nfw49bw4tTw4tPv4dLv4NHu39Du3s7u3s3t3czt3Mvs28rs28ns2sjr2cfr2MXq18Tq18Pq1sLp1cHp1L/o077o073o0rzn0bvn0Lnmz7jmz7flzrblzbXlzLPkzLPKmGWejKGIhsCBhMtSPilMOSZGNCM/Lx84KhwyJhksIRYlHBIeFw8YEgwSDQkLCAUFBAIAAAAAAAAAAAAAAAAAAAAAAAAAAAAAAAAAAAAAAAAAAAAAAAAAAAAAAAAAAAAAAAAAAAAAAAAAAAAAAAAAAAAAAAAAAAAAAAAAAAAAAAAAAAAAAAAAAAAAAAAAAAAAAAAAAAAAAAAAAAAAAAAAAAAAAAAAAAAAAAAAAAAAAAAAAAAAAAAAAAAAAAAI/wABCBxIsKDBgwgJBlnIsGGQhBAjSpxIwKHFiRgzTkRg0aHGjyAJMujYMKRJjRBIMjzJUiIFlQtbykSIAebDmTgHcrCZsycInj1xkgAaVCYKokVZtkCa1GQMpk1B1oAaVWMOqlUx9sCaVaJNH11D2tQRFqRNG2U/2pSRVqNNF20z2kwRF6PNEnUn2gyR1yvMDn0j2swQGKJNCoUT2oyQGKHNBo0P2kwQ2aDNApULci08YHPgA577Lgid9wHpuhNOx72guu2G1mk/wC47YnbYE7a7ssidFQbvqjR+R8UhvCmP4klt/sisEOYO5gNt3oAu0OYM6gBsvsBuUwV3mCa+q/8UIZ6kh/IdNaC3aGG9QwnuGzqIz1AB/YUG7gcRQF0A8qIG/BeUAgL25ECBOUmAIE4WLDiTBg7K5EGELYlAIUsmXHjSChqa9EKHIc0AIkg3jPjRDiZqBESKcsHEg3446EeDfjDox4J+J+g3gn4f6LeBfhfoN4F+D+i3gH4H6DcAdQGwiFEBTk6UQJQSNUBlRBFcCVEFWiaUQZcIdQDmQSGMaVAJZhaUQpoEucDmQDK8KZANcgKgQ50+1GlTD/rlkJUUgAYq6KCD2lQEoYgSqlGijAZqkxGNMrpopInadASliE6KaaELCTEEEUMIwRASmw6qaamALkTEqqwSsVASqAaMeiqqQbRqaxBKxArorKXa6usSukrB66a+2spEsMNiWmyrTSCbUbBSLMuqE85iBK20qz5R7UTQ1rpsEFBsK1G33t4aRBTiRkRuEJ6CKupC0CYL7bz01muvvPbqim++qO7L76b+/ktpwAI3SnDBiR6MsKLPLpwuRA4/nFDE+jZMcakKX5wxxRtH3LHDAQEALFgBrABGAI8Ahv////7+/v79/f38+/38+v37+fz6+Pz59/v49fv49Pv38/r28vr18fn07/n07vjz7fjy6/jx6/fw6ffw6Pfv6Pbu5vbu5fXt5PXs4/Xr4vTq4PTq3/Pp3vPo3fLn3PLm2vLm2fHl2PHk1/Dj1vDi1PDi0+/h0u/g0e/g0O7f0O7ezu7eze3dze3dzO3cy+zbyuzbyezayOvZx+vYxerXxOrXw+rWwunVwenUv+jTvujTvejSvOfRu+fQuebPuObPt+XOtuXNteXMs+TMs8qYZZ6MoYiGwIGEyykeFCUcEiIaER4XDxsUDRgSDAUEAgIBAQAAAAAAAAAAAAAAAAAAAAAAAAAAAAAAAAAAAAAAAAAAAAAAAAAAAAAAAAAAAAAAAAAAAAAAAAAAAAAAAAAAAAAAAAAAAAAAAAAAAAAAAAAAAAAAAAAAAAAAAAAAAAAAAAAAAAAAAAAAAAAAAAAAAAAAAAAAAAAAAAAAAAAAAAAAAAAAAAAAAAAAAAAAAAAAAAj/AAEIHEiwoMGDCAUSWciwIZGEECNKnEjQoUUBFDNqnGjRIYGNIENW7MjQgMiTG0kyRICyJUeVRBS4nJkQJhEGNHMWtOlAp08ANiH81GlTwtCcNiscpWnzwtKZNjM8dWlzw9SWNjtcRWnzw9aTNkN8FWlzxNiQNkucBWkTxdqUMFW81WjTxdyMNmHcpWhTxt6XKmn8lWjTxuCINnEchmhTx+KaMHk8RmjTx+SDNoNcNmhzyOaCQWx+JvhD9GiBPUyf3qF6dI7Wn2/A3lxj9uUZtifHyP3YBe/FK34fTiF8sInif0kg3yti+V0Qzud6iP6WA/W1Gq6fxaB9bIXuXyeA/98aYfzVB+anNkj/dAH7pQneHz0gf2iB+j8H4P+536fNAKcpBNMAAQIFUwEF2nRAgjAlwKBKCzxIUgMSdvRAhRZFgKFDFGzYkAUeMoRBiAtpQCIRHJzowYkgnCjCiSScaMKJKZzIwokvnBjDiTOcWMOJN5yYw4k7nNjDiT+cqFmAQvSXExBO0uRDlDPxQKVLOlzZEg5aomRDlyfRAKZIMowZEgxmgtRCmhupwKZGJ7yZUQlyUjRCnROFgKdEH+wZUQdgQiHooIQWWigSNhmqqKEhLerooEkk+uiijU66qBKSWlpopZoWusRCRRhxhBFFNNTppiCdWigTRBzh6qtHMIqk6qCcztoErLguNKugtaqK669E7ApFr6f+mquwxHZqLKzB7pqspsu+2uysz1oaravTqlrtpE5Eq6uzqQr7RKvAfkttuMKCKiqppoK7kbDwxivvvNqiSy+9295b77v64mtvv/DmC7ClAg/8aMEGU/pvwqcizDCq/D68r0YSnxtxxZo6jLHGFXMscUAALGsBrABEAI8Ahv////7+/v7+/f79/f38+/38+v37+v37+fz6+Pz59/v49fv49Pv38/r28vr18fn07/n07vjy7Pjy6/jx6/fw6ffw6Pfv6Pbv5/bu5vbu5fbt5fXt5PXs4/Xr4vTq4PTq3/Pp3vPo3fLn3PLm2vLm2fHl2PHk1/Dj1vDi1O/h0+/h0u/g0e7fz+7ezu7eze3dze3dzO3cy+zbyuzbyezayOvZx+vZxuvYxerXxOrXw+rWwunVwenUv+jTvujTvejSvOfRu+fQuebQuebPuObPt+XOtuXNteXNtOXMs+TMs8qYZZ6MoYiGwIGEyz0uHjgqHDQnGi8jFyogFSUcEiAYEBsUDRYRCxINCQ0KBggGBAMCAQAAAAAAAAAAAAAAAAAAAAAAAAAAAAAAAAAAAAAAAAAAAAAAAAAAAAAAAAAAAAAAAAAAAAAAAAAAAAAAAAAAAAAAAAAAAAAAAAAAAAAAAAAAAAAAAAAAAAAAAAAAAAAAAAAAAAAAAAAAAAAAAAAAAAj/AAEIHEiwoMGDBpUoXMhQCcKHECNKPNiwIoGJGDNirNgQgcaPIAtyZLggpMmPIxc6OMlyYkqFEVrKfPhSCYWZOEW+zJCzJ4CaHXzmrAlCKM6aI4zOrGlCqcyaKZy2rMlCKsuaMayerElDq8maOLyGrLlDLMiaPsyifClErcaaRtxmRFJTLkYide1KBJJXL8Qeff0i1BFYsEEbhQ0TlJFYsUAXjR2viKwYBWXDJS4LFqHZr4fOejmAtnthtNwJpt1CSK22AWuzCl6LNSDbq4DaXmsGcEzxZQHeCV8mAK4zJQPiBGs+QD6wpgTmAmtagP7z5QbqNT1gfxlie0oS3kee/wjPcQX5ii3ON5ShnmGN9gtzwFfIY76SH/aH2D9C3Qhuq0P8J9UPAjrFQ4FK5YCgUTUsKFQMDvrUQoQ9qUBhTidciBMJGs4UQocyffYSdRqA2FIFJrIUQYonPcCiSQy8GFICMoJUQI1njWjfAPYdYJ8C9jVgHwT2TWAfBvZxYN8H9olgXwn2oWCfedDV9IJ9M9h3g3062NeDfUDYR4R9SVBXBI4aBYFmRj6sidEObk6EQ5wS0UBnRDC8uMWefPbpZ59O1PTnoIN+ROihez4hKKKHGsrooFAs+uifjk7aZxQLLcFEE0wssZCllGoEap9SKNTEqag2odCofVY66hRKpIoqqxKs8ukqqFTIqmute95qaRW6ysrrFr5OakWwqQ5b7KNXIIuqsqLWioWzp0KbEa9ZxIosrbwuy6gWpuq6arfR1prppp1+Su61w7br7rvwEuptvKzOSy+o9t47ab76Mspvv42WC3Ct/w4cKrsG1ytwwpYWzHCvCz/sb8QSB4xwxRNfjLHFGG38aEAALHwBrABDAI8AhP////37+fv38/jz7fbv5/bu5vTq4PLm2vDi1O7ezuzayOrWwujSvOXOtuXNtcqYZZ6MoYiGwIGEy19HL1dBK087J0c2Iz8vHzcpGy8jFycdEx4XDxYRCw4LBwcFAwAAAAj/AAEIHEiwoMGDAx8oXMjwAcKHECNKNNiwYoCJGDNOrNhQgMaPIAlyZDggpEmNIxcWOMlSYkqFBlrKRPjywYGZOEW+RJCzZ80EPXPWVBAUZ80FRWfWZJBUZk0HTVs2qBmVJQOqVU0uwJoVpAKuXTUmABsWIwKyZSUeQJsWogG2bRESgBvX4AC6dQkKwJtXYAC+fQEA7lvzYuCHNT0epvmy5OKDNVc+pvgy5uSCNW9e1pmS5+aEL4F+Fjh0NOmXSE0vNS34JVTTU1+yvirb9Nbao7/i/jx29+azvi+vDT75LfHHc48vvqv88N7mgf9CDzw4b2HWibE31p5S8uialr+//9QsvjP3kaLLjySqGvV5jkzbp2zAOnbK2dXj3r5vWjf/0b399xlwAm42XIGXGYfgZMkt+BhzDi72XISHSUfhYfnFdZ18IymmHkeOfViRd5+B915F5JW404kNpadiSuyJ2FBqMjIUX40L0QdbhmnRdmFf+43Emn9CmhZgkaMRiORnBy65mYJOXtZglJNBSOVjE165mIVaLsZjWhviqJCHL44UYpkcEcAiQ+GhieKaC3km5gMublYahxzR6GZDN0b1wZ+ABipooDVNMOihh2qE6KJ/TlATo4wqCumhFDw6aaIZXTpoBQtBEIEEEUCwkKaDSkrqnxYoJMGqrEqg0KmBmo166gUPtGrrA7ACKiupGNjqa65/7qppBr7aCuwHwl6qQbGtHpvspBswy6qzmebKgbSrUosRsB3UyiyuwD4LqQeq+vpquNXm2umnoY6K7rbHxivvvPRiCm+99IqL76n67qtpv/5OCnDAkaZLcK4DH2zvRAq/y3DDsCYMsa4GTyxwxRYXfG/GkEpssccTBwQALIwBrABCAI8Ahv////7+/v79/f79/P38+/38+v37+fz6+Pz59/v49fv49Pv38/r28vr18fr18Pn07/n07vjz7fjy7Pjx6/fw6ffv6Pbu5vbu5fXt5PXs4/Xr4vTq4PTq3/Pp3vPo3fLn3PLm2vLm2fHl2PHk1/Hk1vDj1vDi1O/h0+/g0e/g0O7fz+7ezu3dze3cy+zbyuzbyezayOvZx+vYxerXxOrXw+rWwunVwenVwOnUv+jTvujTvejSvOfRu+fRuufQuebQuebPuObPt+bOtuXOtuXNteXNtOTMs9/Bo9q3k9SthM+idcqYZZ6MoYiGwIGEy1ZBK1Q/Kkc2I0Y0IzkrHDcpGyogFSkeFBwVDhoTDQ0KBgsIBQAAAAAAAAAAAAAAAAAAAAAAAAAAAAAAAAAAAAAAAAAAAAAAAAAAAAAAAAAAAAAAAAAAAAAAAAAAAAAAAAAAAAAAAAAAAAAAAAAAAAAAAAAAAAAAAAAAAAAAAAAAAAAAAAAAAAAAAAAAAAAAAAAAAAj/AAEIHEiwoEGDDjagqGHkCJIkSpYcnEixosWKSzJq3LhEwcWPIENyHEkhpMmTBkdy7ICy5UmVG0+4nPkRpkYYNHNStJlRh86fBXlmBEoUQBGhRYHiQJpUpwumTWmWgBrV5QaqVVFKwJrVJAKhAbq6FLpAbEuhFcyiFOpB7UueKNyaFBpDrkieO+yCFCpR70UhXP0arBFYMEEWhQ0LFJFYcYbGhiFAFmxAqADFO3kywDxRqAXOB4V+AJ2SZwrSQXnKQE1QKA/WA/nCFvhjst8ZtvWqyG0XBG+5F367bSBc7QChBGYDENpAudALznmCiG5TBXWYM66r9KFdpXIexc3G/wgvFgX5rh7OZ62gvuqC9lWFFujO8QH9jRjuawyhP+OK/kvQACAQyhkBX1M5HJjUCwoWZUKDRHEAIVATTPhTAhb+JJQBAEIAYAYAigAgCwDWAGAQyhGRYU43rEhTCy7OREKMLmlAY0sR3IjSATquxdMBAEYAoAYAjgBgCwDaAOAQygHRo0mE8aTcCk+GFEKVIGGA5UcPbHlRAV5eJBQCAEoA4AYAlgCgCwDiACARyvUQZkUyzElRCnZO9EGeB1nAp0EM/FmQADduYeihiCaKqFBaKOqooyE9KqmhQmEx6aSRXuqoUFZo+mimni6qERNNONEEExlREaqioK66hUZOxJcqqxNLSOEqoq2umtGsvEJx66G5hroEr8T+amiwnj5BLK/GboGsplEsO2uzz146hbSyUguSsVVgG6u2Hxl7xbDSLgHuRcZmsSuxGZ1rUbOjlnqqRu5W1Oy9+OarL6Tb7rtvtf66CnDAoQ5MsKYGH4xpvwobm3DD/IYL8a8PT4wrwxYXjHHGCG/M8cISf9xxyCKDjG7JlwYEADs=\"/>"
      ],
      "text/plain": [
       "<IPython.core.display.HTML object>"
      ]
     },
     "execution_count": 14,
     "metadata": {},
     "output_type": "execute_result"
    }
   ],
   "source": [
    "import tensorflow_docs.vis.embed as embed\n",
    "embed.embed_file(image_file)"
   ]
  },
  {
   "cell_type": "markdown",
   "metadata": {
    "id": "lnq9Hzo1Po6X"
   },
   "source": [
    "## Next steps\n",
    "\n",
    "This tutorial demonstrated how to implement the Actor-Critic method using Tensorflow.\n",
    "\n",
    "As a next step, you could try training a model on a different environment in Gym. \n",
    "\n",
    "For additional information regarding Actor-Critic methods and the Cartpole-v0 problem, you may refer to the following resources:\n",
    "\n",
    "- [The Actor-Critic method](https://hal.inria.fr/hal-00840470/document)\n",
    "- [The Actor-Critic lecture (CAL)](https://www.youtube.com/watch?v=EKqxumCuAAY&list=PLkFD6_40KJIwhWJpGazJ9VSj9CFMkb79A&index=7&t=0s)\n",
    "- [Cart Pole learning control problem \\[Barto, et al. 1983\\]](http://www.derongliu.org/adp/adp-cdrom/Barto1983.pdf) \n",
    "\n",
    "For more reinforcement learning examples in TensorFlow, you can check the following resources:\n",
    "- [Reinforcement learning code examples (keras.io)](https://keras.io/examples/rl/)\n",
    "- [TF-Agents reinforcement learning library](https://www.tensorflow.org/agents)\n"
   ]
  }
 ],
 "metadata": {
  "colab": {
   "collapsed_sections": [
    "_jQ1tEQCxwRx"
   ],
   "name": "actor_critic.ipynb",
   "toc_visible": true
  },
  "kernelspec": {
   "display_name": "base",
   "language": "python",
   "name": "python3"
  },
  "language_info": {
   "codemirror_mode": {
    "name": "ipython",
    "version": 3
   },
   "file_extension": ".py",
   "mimetype": "text/x-python",
   "name": "python",
   "nbconvert_exporter": "python",
   "pygments_lexer": "ipython3",
   "version": "3.9.12 (main, Apr  5 2022, 01:52:34) \n[Clang 12.0.0 ]"
  },
  "vscode": {
   "interpreter": {
    "hash": "e16221a4eb17baf9466ce4a420d555d4f823b6f2a8fb052febf7fbe0aa0c5465"
   }
  }
 },
 "nbformat": 4,
 "nbformat_minor": 0
}
