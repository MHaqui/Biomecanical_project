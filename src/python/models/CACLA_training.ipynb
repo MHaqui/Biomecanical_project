{
 "cells": [
  {
   "cell_type": "code",
   "execution_count": 40,
   "id": "5654b353",
   "metadata": {},
   "outputs": [
    {
     "name": "stdout",
     "output_type": "stream",
     "text": [
      "The autoreload extension is already loaded. To reload it, use:\n",
      "  %reload_ext autoreload\n"
     ]
    }
   ],
   "source": [
    "import sys\n",
    "from pathlib import Path\n",
    "sys.path.append(Path(sys.path[0]).parent.as_posix())\n",
    "\n",
    "import tensorflow as tf\n",
    "import numpy as np\n",
    "from environments.acrobot_cont_actions import AcrobotContActions\n",
    "from CACLA import CACLA, training_step\n",
    "from collections import deque\n",
    "from tqdm.notebook import trange\n",
    "import matplotlib.pyplot as plt\n",
    "\n",
    "%matplotlib inline\n",
    "%load_ext autoreload\n",
    "%autoreload 2"
   ]
  },
  {
   "cell_type": "code",
   "execution_count": 41,
   "id": "9dd4b9a2",
   "metadata": {},
   "outputs": [],
   "source": [
    "env = AcrobotContActions()\n",
    "reset_args = {\n",
    "    \"seed\": 42,\n",
    "    \"options\": {\n",
    "        \"low\": -np.pi / 2,\n",
    "        \"high\": np.pi / 2\n",
    "    },\n",
    "}\n",
    "observation, info = env.reset(**reset_args)\n",
    "\n",
    "model = CACLA(env.observation_space.shape, [1/np.pi, 1/np.pi, 1/env.MAX_VEL_1, 1/env.MAX_VEL_2], 12)\n",
    "\n",
    "stddev = .3\n",
    "discount_factor = 0.95\n",
    "optimizer = tf.keras.optimizers.Adam(learning_rate=1e-2)\n",
    "loss_fn = tf.keras.losses.mean_squared_error"
   ]
  },
  {
   "cell_type": "code",
   "execution_count": 42,
   "id": "bfcb8645",
   "metadata": {},
   "outputs": [
    {
     "name": "stdout",
     "output_type": "stream",
     "text": [
      "Action: [[0.5704232]]\n",
      "Critic: [[0.82551926]]\n"
     ]
    }
   ],
   "source": [
    "ex = np.array([.5, .5, .5, .5])[np.newaxis]\n",
    "action, critic = model(ex)\n",
    "print(f'Action: {action}')\n",
    "print(f'Critic: {critic}')"
   ]
  },
  {
   "cell_type": "code",
   "execution_count": 43,
   "id": "8a366714",
   "metadata": {},
   "outputs": [
    {
     "data": {
      "application/json": {
       "ascii": false,
       "bar_format": null,
       "colour": null,
       "elapsed": 0.007467985153198242,
       "initial": 0,
       "n": 0,
       "ncols": null,
       "nrows": 24,
       "postfix": null,
       "prefix": "",
       "rate": null,
       "total": 5000,
       "unit": "it",
       "unit_divisor": 1000,
       "unit_scale": false
      },
      "application/vnd.jupyter.widget-view+json": {
       "model_id": "658c4ec15eb14f69beb784e9fb14dcdf",
       "version_major": 2,
       "version_minor": 0
      },
      "text/plain": [
       "  0%|          | 0/5000 [00:00<?, ?it/s]"
      ]
     },
     "metadata": {},
     "output_type": "display_data"
    },
    {
     "data": {
      "text/plain": [
       "[<matplotlib.lines.Line2D at 0x2a03b4b80>]"
      ]
     },
     "execution_count": 43,
     "metadata": {},
     "output_type": "execute_result"
    },
    {
     "data": {
      "image/png": "[encoded data removed]",
      "text/plain": [
       "<Figure size 640x480 with 1 Axes>"
      ]
     },
     "metadata": {},
     "output_type": "display_data"
    }
   ],
   "source": [
    "reward_sum_per_episode = []\n",
    "n_episodes = 5000\n",
    "\n",
    "for episode in trange(n_episodes):\n",
    "    reward_sum = 0\n",
    "    obs, _ = env.reset(**reset_args)\n",
    "    for step in range(200):\n",
    "        reward, done = training_step(env, model, stddev, discount_factor, optimizer, loss_fn)\n",
    "        reward_sum += reward\n",
    "        if done:\n",
    "            break\n",
    "    reward_sum_per_episode.append(reward_sum)\n",
    "\n",
    "plt.plot(reward_sum_per_episode)"
   ]
  },
  {
   "cell_type": "code",
   "execution_count": 44,
   "id": "633e1841",
   "metadata": {},
   "outputs": [],
   "source": [
    "model.save_weights('CACLA_weights')"
   ]
  }
 ],
 "metadata": {
  "kernelspec": {
   "display_name": "Python 3 (ipykernel)",
   "language": "python",
   "name": "python3"
  },
  "language_info": {
   "codemirror_mode": {
    "name": "ipython",
    "version": 3
   },
   "file_extension": ".py",
   "mimetype": "text/x-python",
   "name": "python",
   "nbconvert_exporter": "python",
   "pygments_lexer": "ipython3",
   "version": "3.9.12"
  }
 },
 "nbformat": 4,
 "nbformat_minor": 5
}
