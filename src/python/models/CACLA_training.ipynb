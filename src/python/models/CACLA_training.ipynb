{
  "cells": [
    {
      "cell_type": "code",
      "execution_count": 6,
      "id": "5654b353",
      "metadata": {},
      "outputs": [
        {
          "name": "stdout",
          "output_type": "stream",
          "text": [
            "The autoreload extension is already loaded. To reload it, use:\n",
            "  %reload_ext autoreload\n"
          ]
        }
      ],
      "source": [
        "import sys\n",
        "from pathlib import Path\n",
        "sys.path.append(Path(sys.path[0]).parent.as_posix())\n",
        "\n",
        "import tensorflow as tf\n",
        "import numpy as np\n",
        "from environments.acrobot_cont_actions import AcrobotModified\n",
        "from CACLA import CACLA, training_step\n",
        "from collections import deque\n",
        "from tqdm.notebook import trange\n",
        "import matplotlib.pyplot as plt\n",
        "\n",
        "%matplotlib inline\n",
        "%load_ext autoreload\n",
        "%autoreload 2"
      ]
    },
    {
      "cell_type": "code",
      "execution_count": 7,
      "id": "9dd4b9a2",
      "metadata": {},
      "outputs": [],
      "source": [
        "env = AcrobotModified()\n",
        "options = {\n",
        "        \"low\": 1,\n",
        "        \"high\": 5\n",
        "    }\n",
        "observation, info = env.reset(options=options)\n",
        "\n",
        "model = CACLA(env.observation_space.shape, [1/np.pi, 1/np.pi, 1/env.MAX_VEL_1, 1/env.MAX_VEL_2], 12)\n",
        "\n",
        "stddev = .3\n",
        "discount_factor = 0.95\n",
        "optimizer = tf.keras.optimizers.Adam(learning_rate=1e-2)\n",
        "loss_fn = tf.keras.losses.mean_squared_error"
      ]
    },
    {
      "cell_type": "code",
      "execution_count": 8,
      "id": "8a366714",
      "metadata": {},
      "outputs": [
        {
          "name": "stdout",
          "output_type": "stream",
          "text": [
            "10 [4.824007  1.8307272 4.3137794 1.5971285]\n"
          ]
        },
        {
          "data": {
            "application/json": {
              "ascii": false,
              "bar_format": null,
              "colour": null,
              "elapsed": 0.007227897644042969,
              "initial": 0,
              "n": 0,
              "ncols": null,
              "nrows": 24,
              "postfix": null,
              "prefix": "",
              "rate": null,
              "total": 100,
              "unit": "it",
              "unit_divisor": 1000,
              "unit_scale": false
            },
            "application/vnd.jupyter.widget-view+json": {
              "model_id": "f49fc84fa47b4c16bc6541b9175051e1",
              "version_major": 2,
              "version_minor": 0
            },
            "text/plain": [
              "  0%|          | 0/100 [00:00<?, ?it/s]"
            ]
          },
          "metadata": {},
          "output_type": "display_data"
        },
        {
          "name": "stdout",
          "output_type": "stream",
          "text": [
            "20 [2.1203039 2.8445868 1.4868788 3.0904334]\n"
          ]
        },
        {
          "data": {
            "application/json": {
              "ascii": false,
              "bar_format": null,
              "colour": null,
              "elapsed": 0.007244110107421875,
              "initial": 0,
              "n": 0,
              "ncols": null,
              "nrows": 24,
              "postfix": null,
              "prefix": "",
              "rate": null,
              "total": 100,
              "unit": "it",
              "unit_divisor": 1000,
              "unit_scale": false
            },
            "application/vnd.jupyter.widget-view+json": {
              "model_id": "083bdbd037c94734b6e1f301be971e3b",
              "version_major": 2,
              "version_minor": 0
            },
            "text/plain": [
              "  0%|          | 0/100 [00:00<?, ?it/s]"
            ]
          },
          "metadata": {},
          "output_type": "display_data"
        },
        {
          "name": "stdout",
          "output_type": "stream",
          "text": [
            "30 [1.9431952 2.716428  1.3690921 3.370411 ]\n"
          ]
        },
        {
          "data": {
            "application/json": {
              "ascii": false,
              "bar_format": null,
              "colour": null,
              "elapsed": 0.007030010223388672,
              "initial": 0,
              "n": 0,
              "ncols": null,
              "nrows": 24,
              "postfix": null,
              "prefix": "",
              "rate": null,
              "total": 100,
              "unit": "it",
              "unit_divisor": 1000,
              "unit_scale": false
            },
            "application/vnd.jupyter.widget-view+json": {
              "model_id": "9bc2927fbb5d439d9e45ec5cf981fe14",
              "version_major": 2,
              "version_minor": 0
            },
            "text/plain": [
              "  0%|          | 0/100 [00:00<?, ?it/s]"
            ]
          },
          "metadata": {},
          "output_type": "display_data"
        },
        {
          "name": "stdout",
          "output_type": "stream",
          "text": [
            "40 [3.919594  3.77366   4.767684  1.2386082]\n"
          ]
        },
        {
          "data": {
            "application/json": {
              "ascii": false,
              "bar_format": null,
              "colour": null,
              "elapsed": 0.006970882415771484,
              "initial": 0,
              "n": 0,
              "ncols": null,
              "nrows": 24,
              "postfix": null,
              "prefix": "",
              "rate": null,
              "total": 100,
              "unit": "it",
              "unit_divisor": 1000,
              "unit_scale": false
            },
            "application/vnd.jupyter.widget-view+json": {
              "model_id": "3722c6f4325145b883bd1273c97c78a4",
              "version_major": 2,
              "version_minor": 0
            },
            "text/plain": [
              "  0%|          | 0/100 [00:00<?, ?it/s]"
            ]
          },
          "metadata": {},
          "output_type": "display_data"
        },
        {
          "name": "stdout",
          "output_type": "stream",
          "text": [
            "50 [4.1496906 4.334677  3.1916177 4.8937964]\n"
          ]
        },
        {
          "data": {
            "application/json": {
              "ascii": false,
              "bar_format": null,
              "colour": null,
              "elapsed": 0.00919198989868164,
              "initial": 0,
              "n": 0,
              "ncols": null,
              "nrows": 24,
              "postfix": null,
              "prefix": "",
              "rate": null,
              "total": 100,
              "unit": "it",
              "unit_divisor": 1000,
              "unit_scale": false
            },
            "application/vnd.jupyter.widget-view+json": {
              "model_id": "1886dcb078924c1ab6df2dd2c3c60896",
              "version_major": 2,
              "version_minor": 0
            },
            "text/plain": [
              "  0%|          | 0/100 [00:00<?, ?it/s]"
            ]
          },
          "metadata": {},
          "output_type": "display_data"
        },
        {
          "name": "stdout",
          "output_type": "stream",
          "text": [
            "60 [2.2971354 1.1085856 1.2188835 4.961966 ]\n"
          ]
        },
        {
          "data": {
            "application/json": {
              "ascii": false,
              "bar_format": null,
              "colour": null,
              "elapsed": 0.007213115692138672,
              "initial": 0,
              "n": 0,
              "ncols": null,
              "nrows": 24,
              "postfix": null,
              "prefix": "",
              "rate": null,
              "total": 100,
              "unit": "it",
              "unit_divisor": 1000,
              "unit_scale": false
            },
            "application/vnd.jupyter.widget-view+json": {
              "model_id": "3122814ef9e149f4bc988f1f10b1c456",
              "version_major": 2,
              "version_minor": 0
            },
            "text/plain": [
              "  0%|          | 0/100 [00:00<?, ?it/s]"
            ]
          },
          "metadata": {},
          "output_type": "display_data"
        },
        {
          "name": "stdout",
          "output_type": "stream",
          "text": [
            "70 [2.5229394 3.8952234 2.2887573 4.8608956]\n"
          ]
        },
        {
          "data": {
            "application/json": {
              "ascii": false,
              "bar_format": null,
              "colour": null,
              "elapsed": 0.0070819854736328125,
              "initial": 0,
              "n": 0,
              "ncols": null,
              "nrows": 24,
              "postfix": null,
              "prefix": "",
              "rate": null,
              "total": 100,
              "unit": "it",
              "unit_divisor": 1000,
              "unit_scale": false
            },
            "application/vnd.jupyter.widget-view+json": {
              "model_id": "8aef35a039cc4817bd2b5ffd722b1998",
              "version_major": 2,
              "version_minor": 0
            },
            "text/plain": [
              "  0%|          | 0/100 [00:00<?, ?it/s]"
            ]
          },
          "metadata": {},
          "output_type": "display_data"
        },
        {
          "name": "stdout",
          "output_type": "stream",
          "text": [
            "80 [3.9459653 1.0736752 1.1465348 3.378829 ]\n"
          ]
        },
        {
          "data": {
            "application/json": {
              "ascii": false,
              "bar_format": null,
              "colour": null,
              "elapsed": 0.0072329044342041016,
              "initial": 0,
              "n": 0,
              "ncols": null,
              "nrows": 24,
              "postfix": null,
              "prefix": "",
              "rate": null,
              "total": 100,
              "unit": "it",
              "unit_divisor": 1000,
              "unit_scale": false
            },
            "application/vnd.jupyter.widget-view+json": {
              "model_id": "cea1af09069647e096fd6f9ea8fd2160",
              "version_major": 2,
              "version_minor": 0
            },
            "text/plain": [
              "  0%|          | 0/100 [00:00<?, ?it/s]"
            ]
          },
          "metadata": {},
          "output_type": "display_data"
        },
        {
          "name": "stdout",
          "output_type": "stream",
          "text": [
            "90 [2.489331  3.7275884 3.074107  2.6734009]\n"
          ]
        },
        {
          "data": {
            "application/json": {
              "ascii": false,
              "bar_format": null,
              "colour": null,
              "elapsed": 0.00704193115234375,
              "initial": 0,
              "n": 0,
              "ncols": null,
              "nrows": 24,
              "postfix": null,
              "prefix": "",
              "rate": null,
              "total": 100,
              "unit": "it",
              "unit_divisor": 1000,
              "unit_scale": false
            },
            "application/vnd.jupyter.widget-view+json": {
              "model_id": "6e77f0f07d1f425789caa834b4165fe3",
              "version_major": 2,
              "version_minor": 0
            },
            "text/plain": [
              "  0%|          | 0/100 [00:00<?, ?it/s]"
            ]
          },
          "metadata": {},
          "output_type": "display_data"
        },
        {
          "data": {
            "text/plain": [
              "[<matplotlib.lines.Line2D at 0x16e1bb730>]"
            ]
          },
          "execution_count": 8,
          "metadata": {},
          "output_type": "execute_result"
        },
        {
          "data": {
            "image/png": "[encoded data removed]",
            "text/plain": [
              "<Figure size 640x480 with 1 Axes>"
            ]
          },
          "metadata": {},
          "output_type": "display_data"
        }
      ],
      "source": [
        "reward_sum_per_episode = []\n",
        "n_episodes = 100\n",
        "\n",
        "for seed in range(10, 100, 10):\n",
        "    obs, _ = env.reset(seed=seed, options=options)\n",
        "    print(seed, obs)\n",
        "    for episode in trange(n_episodes):\n",
        "        reward_sum = 0\n",
        "        obs, _ = env.reset(seed=seed, options=options)\n",
        "        for step in range(200):\n",
        "            reward, done = training_step(env, model, stddev, discount_factor, optimizer, loss_fn)\n",
        "            reward_sum += reward\n",
        "            if done:\n",
        "                break\n",
        "        reward_sum_per_episode.append(reward_sum)\n",
        "\n",
        "plt.plot(reward_sum_per_episode)"
      ]
    },
    {
      "cell_type": "code",
      "execution_count": 9,
      "id": "bfcb8645",
      "metadata": {},
      "outputs": [
        {
          "name": "stdout",
          "output_type": "stream",
          "text": [
            "Action: [[0.62816274]]\n",
            "Critic: [[1.3028394]]\n"
          ]
        }
      ],
      "source": [
        "ex = np.array([.5, .5, .5, .5])[np.newaxis]\n",
        "action, critic = model(ex)\n",
        "print(f'Action: {action}')\n",
        "print(f'Critic: {critic}')"
      ]
    },
    {
      "cell_type": "code",
      "execution_count": 10,
      "id": "633e1841",
      "metadata": {},
      "outputs": [],
      "source": [
        "model.save_weights('CACLA_weights')"
      ]
    }
  ],
  "metadata": {
    "kernelspec": {
      "display_name": "Python 3 (ipykernel)",
      "language": "python",
      "name": "python3"
    },
    "language_info": {
      "codemirror_mode": {
        "name": "ipython",
        "version": 3
      },
      "file_extension": ".py",
      "mimetype": "text/x-python",
      "name": "python",
      "nbconvert_exporter": "python",
      "pygments_lexer": "ipython3",
      "version": "3.9.12"
    }
  },
  "nbformat": 4,
  "nbformat_minor": 5
}
