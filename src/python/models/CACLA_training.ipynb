{
 "cells": [
  {
   "cell_type": "code",
   "execution_count": 15,
   "id": "5654b353",
   "metadata": {},
   "outputs": [
    {
     "name": "stdout",
     "output_type": "stream",
     "text": [
      "The autoreload extension is already loaded. To reload it, use:\n",
      "  %reload_ext autoreload\n"
     ]
    }
   ],
   "source": [
    "import sys\n",
    "from pathlib import Path\n",
    "sys.path.append(Path(sys.path[0]).parent.as_posix())\n",
    "\n",
    "import tensorflow as tf\n",
    "import numpy as np\n",
    "from environments.acrobot_cont_actions import AcrobotContActions\n",
    "from CACLA import CACLA, training_step\n",
    "from collections import deque\n",
    "from tqdm.notebook import trange\n",
    "import matplotlib.pyplot as plt\n",
    "\n",
    "%matplotlib inline\n",
    "%load_ext autoreload\n",
    "%autoreload 2"
   ]
  },
  {
   "cell_type": "code",
   "execution_count": 16,
   "id": "9dd4b9a2",
   "metadata": {},
   "outputs": [],
   "source": [
    "env = AcrobotContActions()\n",
    "reset_args = {\n",
    "    \"seed\": 42,\n",
    "    \"options\": {\n",
    "        \"low\": -np.pi / 2,\n",
    "        \"high\": np.pi / 2\n",
    "    },\n",
    "}\n",
    "observation, info = env.reset(**reset_args)\n",
    "\n",
    "model = CACLA(env.observation_space.shape, [1/np.pi, 1/np.pi, 1/env.MAX_VEL_1, 1/env.MAX_VEL_2], 12)\n",
    "\n",
    "stddev = .3\n",
    "discount_factor = 0.95\n",
    "optimizer = tf.keras.optimizers.Adam(learning_rate=1e-2)\n",
    "loss_fn = tf.keras.losses.mean_squared_error"
   ]
  },
  {
   "cell_type": "code",
   "execution_count": 17,
   "id": "bfcb8645",
   "metadata": {},
   "outputs": [
    {
     "name": "stdout",
     "output_type": "stream",
     "text": [
      "Action: [[0.49811742]]\n",
      "Critic: [[1.0068098]]\n"
     ]
    }
   ],
   "source": [
    "ex = np.array([.5, .5, .5, .5])[np.newaxis]\n",
    "action, critic = model(ex)"
   ]
  },
  {
   "cell_type": "code",
   "execution_count": 18,
   "id": "8a366714",
   "metadata": {},
   "outputs": [
    {
     "data": {
      "text/plain": [
       "[<matplotlib.lines.Line2D at 0x249d112ee20>]"
      ]
     },
     "execution_count": 18,
     "metadata": {},
     "output_type": "execute_result"
    },
    {
     "data": {
      "image/png": "[encoded data removed]",
      "text/plain": [
       "<Figure size 640x480 with 1 Axes>"
      ]
     },
     "metadata": {},
     "output_type": "display_data"
    }
   ],
   "source": [
    "reward_sum_per_episode = []\n",
    "n_episodes = 50\n",
    "\n",
    "for episode in range(n_episodes):\n",
    "    reward_sum = 0\n",
    "    obs, _ = env.reset(**reset_args)\n",
    "    for step in range(200):\n",
    "        reward, done = training_step(env, model, stddev, discount_factor, optimizer, loss_fn)\n",
    "        reward_sum += reward\n",
    "        if done:\n",
    "            break\n",
    "    reward_sum_per_episode.append(reward_sum)\n",
    "\n",
    "plt.plot(reward_sum_per_episode)"
   ]
  },
  {
   "cell_type": "code",
   "execution_count": 20,
   "id": "633e1841",
   "metadata": {},
   "outputs": [
    {
     "name": "stdout",
     "output_type": "stream",
     "text": [
      "<CACLA.CACLA object at 0x00000249D1168B20>\n"
     ]
    }
   ],
   "source": [
    "model.save_weights('CACLA_weights')\n",
    "print(model)"
   ]
  }
 ],
 "metadata": {
  "kernelspec": {
   "display_name": ".venv",
   "language": "python",
   "name": "python3"
  },
  "language_info": {
   "codemirror_mode": {
    "name": "ipython",
    "version": 3
   },
   "file_extension": ".py",
   "mimetype": "text/x-python",
   "name": "python",
   "nbconvert_exporter": "python",
   "pygments_lexer": "ipython3",
   "version": "3.9.5"
  },
  "vscode": {
   "interpreter": {
    "hash": "5a096973c008b96736be209f1c62e14581e8949af5bbb6a585b8e23680a0184a"
   }
  }
 },
 "nbformat": 4,
 "nbformat_minor": 5
}
